{
 "cells": [
  {
   "cell_type": "markdown",
   "metadata": {},
   "source": [
    "# AD Model Inference"
   ]
  },
  {
   "cell_type": "markdown",
   "metadata": {},
   "source": [
    "## Create Project"
   ]
  },
  {
   "cell_type": "code",
   "execution_count": 146,
   "metadata": {},
   "outputs": [],
   "source": [
    "#pip install mlrun==1.0.2"
   ]
  },
  {
   "cell_type": "code",
   "execution_count": 147,
   "metadata": {},
   "outputs": [],
   "source": [
    "#pip install plotly"
   ]
  },
  {
   "cell_type": "code",
   "execution_count": 148,
   "metadata": {},
   "outputs": [],
   "source": [
    "import mlrun"
   ]
  },
  {
   "cell_type": "code",
   "execution_count": 150,
   "metadata": {},
   "outputs": [
    {
     "name": "stdout",
     "output_type": "stream",
     "text": [
      "> 2022-06-20 17:28:08,690 [info] created and saved project inference-test\n"
     ]
    }
   ],
   "source": [
    "# Set the project name:\n",
    "project_name = \"inference-test\"\n",
    "\n",
    "# Create the project:\n",
    "project = mlrun.get_or_create_project(name=project_name, context=\"./\")"
   ]
  },
  {
   "cell_type": "code",
   "execution_count": 151,
   "metadata": {},
   "outputs": [],
   "source": [
    "framework = \"tf-keras\""
   ]
  },
  {
   "cell_type": "code",
   "execution_count": 152,
   "metadata": {},
   "outputs": [],
   "source": [
    "no_of_models=2"
   ]
  },
  {
   "cell_type": "markdown",
   "metadata": {},
   "source": [
    "## Train the model"
   ]
  },
  {
   "cell_type": "code",
   "execution_count": 153,
   "metadata": {},
   "outputs": [],
   "source": [
    "# mlrun:start-code"
   ]
  },
  {
   "cell_type": "code",
   "execution_count": 154,
   "metadata": {},
   "outputs": [],
   "source": [
    "# mlrun:end-code"
   ]
  },
  {
   "cell_type": "code",
   "execution_count": 169,
   "metadata": {},
   "outputs": [
    {
     "data": {
      "text/plain": [
       "<mlrun.runtimes.kubejob.KubejobRuntime at 0x7f70ec04f7d0>"
      ]
     },
     "execution_count": 169,
     "metadata": {},
     "output_type": "execute_result"
    }
   ],
   "source": [
    "train_ad_model = mlrun.code_to_function(\n",
    "    name=\"train_model\",\n",
    "    kind=\"job\", \n",
    "    filename='training.py',\n",
    "    image=\"mlrun/ml-models\",\n",
    "    project=project.name\n",
    ")\n",
    "train_model.apply(mlrun.platforms.auto_mount())"
   ]
  },
  {
   "cell_type": "code",
   "execution_count": 170,
   "metadata": {},
   "outputs": [
    {
     "name": "stdout",
     "output_type": "stream",
     "text": [
      "> 2022-06-20 17:38:54,698 [info] function spec saved to path: train_ad_model.yaml\n"
     ]
    },
    {
     "data": {
      "text/plain": [
       "<mlrun.runtimes.kubejob.KubejobRuntime at 0x7f70ec04f7d0>"
      ]
     },
     "execution_count": 170,
     "metadata": {},
     "output_type": "execute_result"
    }
   ],
   "source": [
    "train_model.export(\"train_ad_model.yaml\")"
   ]
  },
  {
   "cell_type": "code",
   "execution_count": 174,
   "metadata": {},
   "outputs": [],
   "source": [
    "project.set_function(\"train_ad_model.yaml\", name=\"train_ad_model\")\n",
    "project.save()"
   ]
  },
  {
   "cell_type": "code",
   "execution_count": 156,
   "metadata": {},
   "outputs": [
    {
     "name": "stdout",
     "output_type": "stream",
     "text": [
      "> 2022-06-20 17:28:31,094 [info] starting run train_model uid=ea546e0bd8874ff191815c66c8d43b83 DB=http://mlrun-api:8080\n",
      "Epoch 1/2\n",
      "4/4 [==============================] - 0s 20ms/step - loss: 1.2193 - accuracy: 0.3644\n",
      "Epoch 2/2\n",
      "4/4 [==============================] - 0s 2ms/step - loss: 1.2106 - accuracy: 0.2542\n",
      "INFO:tensorflow:Assets written to: ./model/ad_model/assets\n"
     ]
    },
    {
     "data": {
      "text/html": [
       "<style>\n",
       ".dictlist {\n",
       "  background-color: #4EC64B;\n",
       "  text-align: center;\n",
       "  margin: 4px;\n",
       "  border-radius: 3px; padding: 0px 3px 1px 3px; display: inline-block;}\n",
       ".artifact {\n",
       "  cursor: pointer;\n",
       "  background-color: #4EC64B;\n",
       "  text-align: left;\n",
       "  margin: 4px; border-radius: 3px; padding: 0px 3px 1px 3px; display: inline-block;\n",
       "}\n",
       "div.block.hidden {\n",
       "  display: none;\n",
       "}\n",
       ".clickable {\n",
       "  cursor: pointer;\n",
       "}\n",
       ".ellipsis {\n",
       "  display: inline-block;\n",
       "  max-width: 60px;\n",
       "  white-space: nowrap;\n",
       "  overflow: hidden;\n",
       "  text-overflow: ellipsis;\n",
       "}\n",
       ".master-wrapper {\n",
       "  display: flex;\n",
       "  flex-flow: row nowrap;\n",
       "  justify-content: flex-start;\n",
       "  align-items: stretch;\n",
       "}\n",
       ".master-tbl {\n",
       "  flex: 3\n",
       "}\n",
       ".master-wrapper > div {\n",
       "  margin: 4px;\n",
       "  padding: 10px;\n",
       "}\n",
       "iframe.fileview {\n",
       "  border: 0 none;\n",
       "  height: 100%;\n",
       "  width: 100%;\n",
       "  white-space: pre-wrap;\n",
       "}\n",
       ".pane-header-title {\n",
       "  width: 80%;\n",
       "  font-weight: 500;\n",
       "}\n",
       ".pane-header {\n",
       "  line-height: 1;\n",
       "  background-color: #4EC64B;\n",
       "  padding: 3px;\n",
       "}\n",
       ".pane-header .close {\n",
       "  font-size: 20px;\n",
       "  font-weight: 700;\n",
       "  float: right;\n",
       "  margin-top: -5px;\n",
       "}\n",
       ".master-wrapper .right-pane {\n",
       "  border: 1px inset silver;\n",
       "  width: 40%;\n",
       "  min-height: 300px;\n",
       "  flex: 3\n",
       "  min-width: 500px;\n",
       "}\n",
       ".master-wrapper * {\n",
       "  box-sizing: border-box;\n",
       "}\n",
       "</style><script>\n",
       "function copyToClipboard(fld) {\n",
       "    if (document.queryCommandSupported && document.queryCommandSupported('copy')) {\n",
       "        var textarea = document.createElement('textarea');\n",
       "        textarea.textContent = fld.innerHTML;\n",
       "        textarea.style.position = 'fixed';\n",
       "        document.body.appendChild(textarea);\n",
       "        textarea.select();\n",
       "\n",
       "        try {\n",
       "            return document.execCommand('copy'); // Security exception may be thrown by some browsers.\n",
       "        } catch (ex) {\n",
       "\n",
       "        } finally {\n",
       "            document.body.removeChild(textarea);\n",
       "        }\n",
       "    }\n",
       "}\n",
       "function expandPanel(el) {\n",
       "  const panelName = \"#\" + el.getAttribute('paneName');\n",
       "  console.log(el.title);\n",
       "\n",
       "  document.querySelector(panelName + \"-title\").innerHTML = el.title\n",
       "  iframe = document.querySelector(panelName + \"-body\");\n",
       "\n",
       "  const tblcss = `<style> body { font-family: Arial, Helvetica, sans-serif;}\n",
       "    #csv { margin-bottom: 15px; }\n",
       "    #csv table { border-collapse: collapse;}\n",
       "    #csv table td { padding: 4px 8px; border: 1px solid silver;} </style>`;\n",
       "\n",
       "  function csvToHtmlTable(str) {\n",
       "    return '<div id=\"csv\"><table><tr><td>' +  str.replace(/[\\n\\r]+$/g, '').replace(/[\\n\\r]+/g, '</td></tr><tr><td>')\n",
       "      .replace(/,/g, '</td><td>') + '</td></tr></table></div>';\n",
       "  }\n",
       "\n",
       "  function reqListener () {\n",
       "    if (el.title.endsWith(\".csv\")) {\n",
       "      iframe.setAttribute(\"srcdoc\", tblcss + csvToHtmlTable(this.responseText));\n",
       "    } else {\n",
       "      iframe.setAttribute(\"srcdoc\", this.responseText);\n",
       "    }\n",
       "    console.log(this.responseText);\n",
       "  }\n",
       "\n",
       "  const oReq = new XMLHttpRequest();\n",
       "  oReq.addEventListener(\"load\", reqListener);\n",
       "  oReq.open(\"GET\", el.title);\n",
       "  oReq.send();\n",
       "\n",
       "\n",
       "  //iframe.src = el.title;\n",
       "  const resultPane = document.querySelector(panelName + \"-pane\");\n",
       "  if (resultPane.classList.contains(\"hidden\")) {\n",
       "    resultPane.classList.remove(\"hidden\");\n",
       "  }\n",
       "}\n",
       "function closePanel(el) {\n",
       "  const panelName = \"#\" + el.getAttribute('paneName')\n",
       "  const resultPane = document.querySelector(panelName + \"-pane\");\n",
       "  if (!resultPane.classList.contains(\"hidden\")) {\n",
       "    resultPane.classList.add(\"hidden\");\n",
       "  }\n",
       "}\n",
       "\n",
       "</script>\n",
       "<div class=\"master-wrapper\">\n",
       "  <div class=\"block master-tbl\"><div>\n",
       "<style scoped>\n",
       "    .dataframe tbody tr th:only-of-type {\n",
       "        vertical-align: middle;\n",
       "    }\n",
       "\n",
       "    .dataframe tbody tr th {\n",
       "        vertical-align: top;\n",
       "    }\n",
       "\n",
       "    .dataframe thead th {\n",
       "        text-align: right;\n",
       "    }\n",
       "</style>\n",
       "<table border=\"1\" class=\"dataframe\">\n",
       "  <thead>\n",
       "    <tr style=\"text-align: right;\">\n",
       "      <th>project</th>\n",
       "      <th>uid</th>\n",
       "      <th>iter</th>\n",
       "      <th>start</th>\n",
       "      <th>state</th>\n",
       "      <th>name</th>\n",
       "      <th>labels</th>\n",
       "      <th>inputs</th>\n",
       "      <th>parameters</th>\n",
       "      <th>results</th>\n",
       "      <th>artifacts</th>\n",
       "    </tr>\n",
       "  </thead>\n",
       "  <tbody>\n",
       "    <tr>\n",
       "      <td>inference-test</td>\n",
       "      <td><div title=\"ea546e0bd8874ff191815c66c8d43b83\"><a href=\"https://dashboard.default-tenant.app.bh-eks-demo4.aws.bentlyconnect.com/mlprojects/inference-test/jobs/monitor/ea546e0bd8874ff191815c66c8d43b83/overview\" target=\"_blank\" >...c8d43b83</a></div></td>\n",
       "      <td>0</td>\n",
       "      <td>Jun 20 17:28:31</td>\n",
       "      <td>completed</td>\n",
       "      <td>train_model</td>\n",
       "      <td><div class=\"dictlist\">v3io_user=vivek</div><div class=\"dictlist\">kind=</div><div class=\"dictlist\">owner=vivek</div><div class=\"dictlist\">host=jupyter-vivek-86d5944f5b-qxvpt</div></td>\n",
       "      <td></td>\n",
       "      <td><div class=\"dictlist\">insightpak_name=ad_model</div><div class=\"dictlist\">instance_id=676766fa-f0be-11ec-af21-15bc7adf6b76</div></td>\n",
       "      <td></td>\n",
       "      <td><div title=\"v3io:///projects/inference-test/artifacts/\">ad_model_676766fa-f0be-11ec-af21-15bc7adf6b76</div><div title=\"v3io:///projects/inference-test/artifacts/model/\">ad_model_state_676766fa-f0be-11ec-af21-15bc7adf6b76</div></td>\n",
       "    </tr>\n",
       "  </tbody>\n",
       "</table>\n",
       "</div></div>\n",
       "  <div id=\"result2f855314-pane\" class=\"right-pane block hidden\">\n",
       "    <div class=\"pane-header\">\n",
       "      <span id=\"result2f855314-title\" class=\"pane-header-title\">Title</span>\n",
       "      <span onclick=\"closePanel(this)\" paneName=\"result2f855314\" class=\"close clickable\">&times;</span>\n",
       "    </div>\n",
       "    <iframe class=\"fileview\" id=\"result2f855314-body\"></iframe>\n",
       "  </div>\n",
       "</div>\n"
      ],
      "text/plain": [
       "<IPython.core.display.HTML object>"
      ]
     },
     "metadata": {},
     "output_type": "display_data"
    },
    {
     "name": "stdout",
     "output_type": "stream",
     "text": [
      "\n"
     ]
    },
    {
     "data": {
      "text/html": [
       "<b> > to track results use the .show() or .logs() methods  or <a href=\"https://dashboard.default-tenant.app.bh-eks-demo4.aws.bentlyconnect.com/mlprojects/inference-test/jobs/monitor/ea546e0bd8874ff191815c66c8d43b83/overview\" target=\"_blank\">click here</a> to open in UI</b>"
      ],
      "text/plain": [
       "<IPython.core.display.HTML object>"
      ]
     },
     "metadata": {},
     "output_type": "display_data"
    },
    {
     "name": "stdout",
     "output_type": "stream",
     "text": [
      "> 2022-06-20 17:28:32,689 [info] run executed, status=completed\n"
     ]
    }
   ],
   "source": [
    "import json\n",
    "import uuid\n",
    "runs=[]\n",
    "\n",
    "instanceId=str(uuid.uuid1())\n",
    "\n",
    "# for x in range(no_of_models):\n",
    "train_model_run = train_model.run(name='train_model',\n",
    "                                      project=project.name,\n",
    "                                       handler='train_ad_model',\n",
    "                                        params={'insightpak_name': 'ad_model','instance_id':instanceId}\n",
    "                                 ,local=True)\n",
    "    \n",
    "#     print(\"run id :\",train_model_run.uid())\n",
    "#     runs.append(train_model_run)"
   ]
  },
  {
   "cell_type": "code",
   "execution_count": 157,
   "metadata": {},
   "outputs": [],
   "source": [
    "# # print(runs[0].uid())\n",
    "# from mlrun import get_run_db\n",
    "# db = get_run_db()\n",
    "# db.watch_log(uid='df374ae3596f452ea5796eb2d84f268f', project=project.name)"
   ]
  },
  {
   "cell_type": "code",
   "execution_count": 158,
   "metadata": {},
   "outputs": [
    {
     "name": "stdout",
     "output_type": "stream",
     "text": [
      "{'ad_model_676766fa-f0be-11ec-af21-15bc7adf6b76': 'store://artifacts/inference-test/train_model_ad_model_676766fa-f0be-11ec-af21-15bc7adf6b76:ea546e0bd8874ff191815c66c8d43b83', 'ad_model_state_676766fa-f0be-11ec-af21-15bc7adf6b76': 'store://artifacts/inference-test/train_model_ad_model_state_676766fa-f0be-11ec-af21-15bc7adf6b76:ea546e0bd8874ff191815c66c8d43b83'}\n"
     ]
    }
   ],
   "source": [
    "models=train_model_run.outputs\n",
    "print(models)"
   ]
  },
  {
   "cell_type": "markdown",
   "metadata": {},
   "source": [
    "## Create Serving Function"
   ]
  },
  {
   "cell_type": "code",
   "execution_count": 159,
   "metadata": {},
   "outputs": [
    {
     "data": {
      "image/svg+xml": [
       "<?xml version=\"1.0\" encoding=\"UTF-8\" standalone=\"no\"?>\n",
       "<!DOCTYPE svg PUBLIC \"-//W3C//DTD SVG 1.1//EN\"\n",
       " \"http://www.w3.org/Graphics/SVG/1.1/DTD/svg11.dtd\">\n",
       "<!-- Generated by graphviz version 2.40.1 (20161225.0304)\n",
       " -->\n",
       "<!-- Title: mlrun&#45;flow Pages: 1 -->\n",
       "<svg width=\"709pt\" height=\"44pt\"\n",
       " viewBox=\"0.00 0.00 709.15 44.00\" xmlns=\"http://www.w3.org/2000/svg\" xmlns:xlink=\"http://www.w3.org/1999/xlink\">\n",
       "<g id=\"graph0\" class=\"graph\" transform=\"scale(1 1) rotate(0) translate(4 40)\">\n",
       "<title>mlrun&#45;flow</title>\n",
       "<polygon fill=\"#ffffff\" stroke=\"transparent\" points=\"-4,4 -4,-40 705.1527,-40 705.1527,4 -4,4\"/>\n",
       "<!-- _start -->\n",
       "<g id=\"node1\" class=\"node\">\n",
       "<title>_start</title>\n",
       "<polygon fill=\"#d3d3d3\" stroke=\"#000000\" points=\"38.5476,-.0493 40.698,-.1479 42.8263,-.2953 44.9236,-.4913 46.9815,-.7353 48.9917,-1.0266 50.9463,-1.3645 52.8377,-1.7479 54.6587,-2.1759 56.4025,-2.6472 58.0628,-3.1606 59.634,-3.7147 61.1107,-4.308 62.4882,-4.9388 63.7625,-5.6054 64.9302,-6.3059 65.9882,-7.0385 66.9343,-7.8012 67.7669,-8.5918 68.4849,-9.4082 69.0878,-10.2481 69.5758,-11.1093 69.9496,-11.9894 70.2102,-12.886 70.3595,-13.7965 70.3997,-14.7186 70.3334,-15.6497 70.1636,-16.5873 69.8937,-17.5287 69.5276,-18.4713 69.0691,-19.4127 68.5225,-20.3503 67.8923,-21.2814 67.1831,-22.2035 66.3996,-23.114 65.5464,-24.0106 64.6285,-24.8907 63.6504,-25.7519 62.617,-26.5918 61.5329,-27.4082 60.4024,-28.1988 59.2299,-28.9615 58.0197,-29.6941 56.7755,-30.3946 55.5012,-31.0612 54.2002,-31.692 52.8757,-32.2853 51.5309,-32.8394 50.1684,-33.3528 48.7908,-33.8241 47.4003,-34.2521 45.9989,-34.6355 44.5886,-34.9734 43.1708,-35.2647 41.7472,-35.5087 40.3189,-35.7047 38.8872,-35.8521 37.4531,-35.9507 36.0175,-36 34.5815,-36 33.146,-35.9507 31.7119,-35.8521 30.2801,-35.7047 28.8519,-35.5087 27.4282,-35.2647 26.0105,-34.9734 24.6001,-34.6355 23.1988,-34.2521 21.8083,-33.8241 20.4306,-33.3528 19.0681,-32.8394 17.7233,-32.2853 16.3989,-31.692 15.0979,-31.0612 13.8236,-30.3946 12.5794,-29.6941 11.3691,-28.9615 10.1967,-28.1988 9.0662,-27.4082 7.982,-26.5918 6.9486,-25.7519 5.9706,-24.8907 5.0526,-24.0106 4.1995,-23.114 3.4159,-22.2035 2.7067,-21.2814 2.0765,-20.3503 1.53,-19.4127 1.0715,-18.4713 .7053,-17.5287 .4355,-16.5873 .2657,-15.6497 .1993,-14.7186 .2395,-13.7965 .3888,-12.886 .6495,-11.9894 1.0232,-11.1093 1.5112,-10.2481 2.1141,-9.4082 2.8321,-8.5918 3.6647,-7.8012 4.6109,-7.0385 5.6689,-6.3059 6.8365,-5.6054 8.1108,-4.9388 9.4884,-4.308 10.9651,-3.7147 12.5362,-3.1606 14.1966,-2.6472 15.9404,-2.1759 17.7614,-1.7479 19.6528,-1.3645 21.6074,-1.0266 23.6176,-.7353 25.6755,-.4913 27.7728,-.2953 29.901,-.1479 32.0515,-.0493 34.2154,0 36.3837,0 38.5476,-.0493\"/>\n",
       "<text text-anchor=\"middle\" x=\"35.2995\" y=\"-14.3\" font-family=\"Times,serif\" font-size=\"14.00\" fill=\"#000000\">start</text>\n",
       "</g>\n",
       "<!-- preprocess -->\n",
       "<g id=\"node2\" class=\"node\">\n",
       "<title>preprocess</title>\n",
       "<ellipse fill=\"none\" stroke=\"#000000\" cx=\"168.9935\" cy=\"-18\" rx=\"62.2891\" ry=\"18\"/>\n",
       "<text text-anchor=\"middle\" x=\"168.9935\" y=\"-14.3\" font-family=\"Times,serif\" font-size=\"14.00\" fill=\"#000000\">preprocess</text>\n",
       "</g>\n",
       "<!-- _start&#45;&gt;preprocess -->\n",
       "<g id=\"edge1\" class=\"edge\">\n",
       "<title>_start&#45;&gt;preprocess</title>\n",
       "<path fill=\"none\" stroke=\"#000000\" d=\"M69.729,-18C77.9676,-18 87.0729,-18 96.3281,-18\"/>\n",
       "<polygon fill=\"#000000\" stroke=\"#000000\" points=\"96.3959,-21.5001 106.3959,-18 96.3958,-14.5001 96.3959,-21.5001\"/>\n",
       "</g>\n",
       "<!-- model_on_demand_server -->\n",
       "<g id=\"node3\" class=\"node\">\n",
       "<title>model_on_demand_server</title>\n",
       "<ellipse fill=\"none\" stroke=\"#000000\" cx=\"399.3263\" cy=\"-18\" rx=\"131.8766\" ry=\"18\"/>\n",
       "<text text-anchor=\"middle\" x=\"399.3263\" y=\"-14.3\" font-family=\"Times,serif\" font-size=\"14.00\" fill=\"#000000\">model_on_demand_server</text>\n",
       "</g>\n",
       "<!-- preprocess&#45;&gt;model_on_demand_server -->\n",
       "<g id=\"edge2\" class=\"edge\">\n",
       "<title>preprocess&#45;&gt;model_on_demand_server</title>\n",
       "<path fill=\"none\" stroke=\"#000000\" d=\"M231.6287,-18C239.759,-18 248.3338,-18 257.1316,-18\"/>\n",
       "<polygon fill=\"#000000\" stroke=\"#000000\" points=\"257.1477,-21.5001 267.1477,-18 257.1476,-14.5001 257.1477,-21.5001\"/>\n",
       "</g>\n",
       "<!-- postprocess -->\n",
       "<g id=\"node4\" class=\"node\">\n",
       "<title>postprocess</title>\n",
       "<ellipse fill=\"none\" stroke=\"#000000\" cx=\"634.2086\" cy=\"-18\" rx=\"66.8882\" ry=\"18\"/>\n",
       "<text text-anchor=\"middle\" x=\"634.2086\" y=\"-14.3\" font-family=\"Times,serif\" font-size=\"14.00\" fill=\"#000000\">postprocess</text>\n",
       "</g>\n",
       "<!-- model_on_demand_server&#45;&gt;postprocess -->\n",
       "<g id=\"edge3\" class=\"edge\">\n",
       "<title>model_on_demand_server&#45;&gt;postprocess</title>\n",
       "<path fill=\"none\" stroke=\"#000000\" d=\"M531.5275,-18C540.1824,-18 548.7287,-18 556.9743,-18\"/>\n",
       "<polygon fill=\"#000000\" stroke=\"#000000\" points=\"557.2434,-21.5001 567.2433,-18 557.2433,-14.5001 557.2434,-21.5001\"/>\n",
       "</g>\n",
       "</g>\n",
       "</svg>\n"
      ],
      "text/plain": [
       "<graphviz.dot.Digraph at 0x7f70ec0c3990>"
      ]
     },
     "execution_count": 159,
     "metadata": {},
     "output_type": "execute_result"
    }
   ],
   "source": [
    "# Create the function:\n",
    "serving_function = mlrun.code_to_function(\n",
    "    name=\"model-on-demand-serving\", \n",
    "    kind=\"serving\", \n",
    "    filename='serving.py',\n",
    "    image=\"mlrun/mlrun\",\n",
    ")\n",
    "\n",
    "# Set the topology and get the graph object:\n",
    "graph = serving_function.set_topology(\"flow\", engine=\"async\")\n",
    "\n",
    "# Build the serving graph:\n",
    "graph.to(handler=\"preprocess\", name=\"preprocess\")\\\n",
    "     .to(class_name=\"ModelOnDemandServer\", name=\"model_on_demand_server\")\\\n",
    "     .to(handler=\"postprocess\", name=\"postprocess\").respond()\n",
    "\n",
    "# Plot to graph:\n",
    "graph.plot(rankdir='LR')"
   ]
  },
  {
   "cell_type": "code",
   "execution_count": 175,
   "metadata": {},
   "outputs": [
    {
     "name": "stdout",
     "output_type": "stream",
     "text": [
      "> 2022-06-20 17:43:30,203 [info] function spec saved to path: serving_ad_model.yaml\n"
     ]
    },
    {
     "data": {
      "text/plain": [
       "<mlrun.runtimes.serving.ServingRuntime at 0x7f71542e82d0>"
      ]
     },
     "execution_count": 175,
     "metadata": {},
     "output_type": "execute_result"
    }
   ],
   "source": [
    "serving_function.export(\"serving_ad_model.yaml\")"
   ]
  },
  {
   "cell_type": "code",
   "execution_count": 176,
   "metadata": {},
   "outputs": [],
   "source": [
    "project.set_function(\"serving_ad_model.yaml\", name=\"serving_ad_model\")\n",
    "project.save()"
   ]
  },
  {
   "cell_type": "code",
   "execution_count": null,
   "metadata": {},
   "outputs": [],
   "source": [
    "project.export(./ad_model_project.zip)"
   ]
  },
  {
   "cell_type": "markdown",
   "metadata": {},
   "source": [
    "## Test Via Mock Server"
   ]
  },
  {
   "cell_type": "code",
   "execution_count": 160,
   "metadata": {},
   "outputs": [],
   "source": [
    "# Create our server:\n",
    "server = serving_function.to_mock_server()"
   ]
  },
  {
   "cell_type": "code",
   "execution_count": 161,
   "metadata": {},
   "outputs": [
    {
     "name": "stdout",
     "output_type": "stream",
     "text": [
      "Loading model...\n",
      "<class 'tensorflow.python.keras.engine.sequential.Sequential'>\n",
      "prediction :  {\"A\": {\"data\": [{\"ts\": 1577842800.0, \"val\": 1.386595368385315}, {\"ts\": 1577843100.0, \"val\": 6.803717613220215}, {\"ts\": 1577843400.0, \"val\": 15.214542388916016}, {\"ts\": 1577843700.0, \"val\": -0.005008584354072809}, {\"ts\": 1577844000.0, \"val\": 2.05069899559021}, {\"ts\": 1577844300.0, \"val\": 8.158592224121094}, {\"ts\": 1577844600.0, \"val\": 9.036051750183105}, {\"ts\": 1577844900.0, \"val\": 16.19264793395996}, {\"ts\": 1577845200.0, \"val\": 9.757941246032715}, {\"ts\": 1577845500.0, \"val\": -0.005008584354072809}, {\"ts\": 1577845800.0, \"val\": 11.840332984924316}, {\"ts\": 1577846100.0, \"val\": 0.07871103286743164}, {\"ts\": 1577846400.0, \"val\": 13.874504089355469}, {\"ts\": 1577846700.0, \"val\": 10.424994468688965}, {\"ts\": 1577847000.0, \"val\": 9.616156578063965}, {\"ts\": 1577847300.0, \"val\": 7.447088241577148}, {\"ts\": 1577847600.0, \"val\": -0.005008584354072809}, {\"ts\": 1577847900.0, \"val\": 6.6113972663879395}, {\"ts\": 1577848200.0, \"val\": 3.8974008560180664}, {\"ts\": 1577848500.0, \"val\": 7.0870890617370605}, {\"ts\": 1577848800.0, \"val\": 3.5825791358947754}, {\"ts\": 1577849100.0, \"val\": -0.005008584354072809}, {\"ts\": 1577849400.0, \"val\": -0.005008584354072809}, {\"ts\": 1577849700.0, \"val\": -0.005008584354072809}, {\"ts\": 1577850000.0, \"val\": 5.684028148651123}, {\"ts\": 1577850300.0, \"val\": 8.316408157348633}, {\"ts\": 1577850600.0, \"val\": 5.134817123413086}, {\"ts\": 1577850900.0, \"val\": 15.82099723815918}, {\"ts\": 1577851200.0, \"val\": -0.005008584354072809}, {\"ts\": 1577851500.0, \"val\": 6.376770973205566}, {\"ts\": 1577851800.0, \"val\": 14.216619491577148}, {\"ts\": 1577852100.0, \"val\": -0.005008584354072809}, {\"ts\": 1577852400.0, \"val\": -0.005008584354072809}, {\"ts\": 1577852700.0, \"val\": -0.005008584354072809}, {\"ts\": 1577853000.0, \"val\": 1.9795761108398438}, {\"ts\": 1577853300.0, \"val\": 6.009762287139893}, {\"ts\": 1577853600.0, \"val\": 0.2871554493904114}, {\"ts\": 1577853900.0, \"val\": 4.713916301727295}, {\"ts\": 1577854200.0, \"val\": -0.005008584354072809}, {\"ts\": 1577854500.0, \"val\": 8.797966003417969}, {\"ts\": 1577854800.0, \"val\": 3.0468273162841797}, {\"ts\": 1577855100.0, \"val\": -0.005008584354072809}, {\"ts\": 1577855400.0, \"val\": 2.251478910446167}, {\"ts\": 1577855700.0, \"val\": 0.8973396420478821}, {\"ts\": 1577856000.0, \"val\": 0.1787729114294052}, {\"ts\": 1577856300.0, \"val\": -0.005008584354072809}, {\"ts\": 1577856600.0, \"val\": -0.005008584354072809}, {\"ts\": 1577856900.0, \"val\": -0.005008584354072809}, {\"ts\": 1577857200.0, \"val\": -0.005008584354072809}, {\"ts\": 1577857500.0, \"val\": -0.005008584354072809}, {\"ts\": 1577857800.0, \"val\": -0.005008584354072809}, {\"ts\": 1577858100.0, \"val\": 2.847111701965332}, {\"ts\": 1577858400.0, \"val\": 9.23284912109375}, {\"ts\": 1577858700.0, \"val\": 15.296804428100586}, {\"ts\": 1577859000.0, \"val\": -0.005008584354072809}, {\"ts\": 1577859300.0, \"val\": 14.953536987304688}, {\"ts\": 1577859600.0, \"val\": -0.005008584354072809}, {\"ts\": 1577859900.0, \"val\": -0.005008584354072809}, {\"ts\": 1577860200.0, \"val\": 1.2994980812072754}, {\"ts\": 1577860500.0, \"val\": 2.0682737827301025}, {\"ts\": 1577860800.0, \"val\": -0.005008584354072809}, {\"ts\": 1577861100.0, \"val\": 4.576236248016357}, {\"ts\": 1577861400.0, \"val\": 15.879680633544922}, {\"ts\": 1577861700.0, \"val\": 1.462327241897583}, {\"ts\": 1577862000.0, \"val\": -0.005008584354072809}, {\"ts\": 1577862300.0, \"val\": -0.005008584354072809}, {\"ts\": 1577862600.0, \"val\": -0.005008584354072809}, {\"ts\": 1577862900.0, \"val\": 1.8270012140274048}, {\"ts\": 1577863200.0, \"val\": 3.8744070529937744}, {\"ts\": 1577863500.0, \"val\": 4.348898887634277}, {\"ts\": 1577863800.0, \"val\": -0.005008584354072809}, {\"ts\": 1577864100.0, \"val\": -0.005008584354072809}, {\"ts\": 1577864400.0, \"val\": -0.005008584354072809}, {\"ts\": 1577864700.0, \"val\": 1.3959639072418213}, {\"ts\": 1577865000.0, \"val\": -0.005008584354072809}, {\"ts\": 1577865300.0, \"val\": 2.7362864017486572}, {\"ts\": 1577865600.0, \"val\": 12.550695419311523}, {\"ts\": 1577865900.0, \"val\": 10.738516807556152}, {\"ts\": 1577866200.0, \"val\": 11.516962051391602}, {\"ts\": 1577866500.0, \"val\": 5.597665309906006}, {\"ts\": 1577866800.0, \"val\": -0.005008584354072809}, {\"ts\": 1577867100.0, \"val\": -0.005008584354072809}, {\"ts\": 1577867400.0, \"val\": -0.005008584354072809}, {\"ts\": 1577867700.0, \"val\": 2.2960598468780518}, {\"ts\": 1577868000.0, \"val\": -0.005008584354072809}, {\"ts\": 1577868300.0, \"val\": 3.839766025543213}, {\"ts\": 1577868600.0, \"val\": 10.934399604797363}, {\"ts\": 1577868900.0, \"val\": 3.5400331020355225}, {\"ts\": 1577869200.0, \"val\": 9.141157150268555}, {\"ts\": 1577869800.0, \"val\": -0.005008584354072809}, {\"ts\": 1577870100.0, \"val\": 8.664551734924316}, {\"ts\": 1577870400.0, \"val\": 9.808076858520508}, {\"ts\": 1577870700.0, \"val\": 14.806831359863281}, {\"ts\": 1577871000.0, \"val\": 15.976778030395508}, {\"ts\": 1577871300.0, \"val\": -0.005008584354072809}, {\"ts\": 1577871600.0, \"val\": -0.005008584354072809}, {\"ts\": 1577871900.0, \"val\": -0.005008584354072809}, {\"ts\": 1577872200.0, \"val\": 4.5170578956604}, {\"ts\": 1577872500.0, \"val\": 10.562451362609863}, {\"ts\": 1577872800.0, \"val\": 3.2029812335968018}, {\"ts\": 1577873100.0, \"val\": 2.1119871139526367}, {\"ts\": 1577873400.0, \"val\": -0.005008584354072809}, {\"ts\": 1577873700.0, \"val\": 6.950351715087891}, {\"ts\": 1577874000.0, \"val\": 2.6579930782318115}, {\"ts\": 1577874300.0, \"val\": 4.825293064117432}, {\"ts\": 1577874600.0, \"val\": 3.41296648979187}, {\"ts\": 1577874900.0, \"val\": 8.273306846618652}, {\"ts\": 1577875200.0, \"val\": 12.073267936706543}, {\"ts\": 1577875500.0, \"val\": 6.482324123382568}, {\"ts\": 1577875800.0, \"val\": 8.900482177734375}, {\"ts\": 1577876100.0, \"val\": -0.005008584354072809}, {\"ts\": 1577876400.0, \"val\": 5.2898030281066895}, {\"ts\": 1577876700.0, \"val\": 7.752959251403809}, {\"ts\": 1577877000.0, \"val\": 1.3221158981323242}, {\"ts\": 1577877300.0, \"val\": 6.638283729553223}, {\"ts\": 1577877600.0, \"val\": 11.828310012817383}, {\"ts\": 1577877900.0, \"val\": 13.929879188537598}, {\"ts\": 1577878200.0, \"val\": 4.570308685302734}, {\"ts\": 1577878500.0, \"val\": 15.558212280273438}, {\"ts\": 1577878800.0, \"val\": -0.005008584354072809}, {\"ts\": 1577879100.0, \"val\": 3.0932347774505615}, {\"ts\": 1577879400.0, \"val\": 9.394375801086426}, {\"ts\": 1577879700.0, \"val\": 5.696796417236328}, {\"ts\": 1577880000.0, \"val\": -0.005008584354072809}, {\"ts\": 1577880300.0, \"val\": 9.907881736755371}, {\"ts\": 1577880600.0, \"val\": 13.184667587280273}, {\"ts\": 1577880900.0, \"val\": 12.949396133422852}, {\"ts\": 1577881200.0, \"val\": 4.745218753814697}, {\"ts\": 1577881500.0, \"val\": 0.6827877759933472}]}, \"B\": {\"data\": [{\"ts\": 1577842800.0, \"val\": -2.897120714187622}, {\"ts\": 1577843100.0, \"val\": -14.199853897094727}, {\"ts\": 1577843400.0, \"val\": -31.7488956451416}, {\"ts\": 1577843700.0, \"val\": 0.006437244825065136}, {\"ts\": 1577844000.0, \"val\": -4.282761573791504}, {\"ts\": 1577844300.0, \"val\": -17.026775360107422}, {\"ts\": 1577844600.0, \"val\": -18.857580184936523}, {\"ts\": 1577844900.0, \"val\": -33.78969955444336}, {\"ts\": 1577845200.0, \"val\": -20.363792419433594}, {\"ts\": 1577845500.0, \"val\": 0.006437244825065136}, {\"ts\": 1577845800.0, \"val\": -24.70866584777832}, {\"ts\": 1577846100.0, \"val\": -0.16824232041835785}, {\"ts\": 1577846400.0, \"val\": -28.952930450439453}, {\"ts\": 1577846700.0, \"val\": -21.755586624145508}, {\"ts\": 1577847000.0, \"val\": -20.067960739135742}, {\"ts\": 1577847300.0, \"val\": -15.542235374450684}, {\"ts\": 1577847600.0, \"val\": 0.006437244825065136}, {\"ts\": 1577847900.0, \"val\": -13.798580169677734}, {\"ts\": 1577848200.0, \"val\": -8.135873794555664}, {\"ts\": 1577848500.0, \"val\": -14.79110336303711}, {\"ts\": 1577848800.0, \"val\": -7.479003429412842}, {\"ts\": 1577849100.0, \"val\": 0.006437244825065136}, {\"ts\": 1577849400.0, \"val\": 0.006437244825065136}, {\"ts\": 1577849700.0, \"val\": 0.006437244825065136}, {\"ts\": 1577850000.0, \"val\": -11.863640785217285}, {\"ts\": 1577850300.0, \"val\": -17.356056213378906}, {\"ts\": 1577850600.0, \"val\": -10.717720985412598}, {\"ts\": 1577850900.0, \"val\": -33.01425552368164}, {\"ts\": 1577851200.0, \"val\": 0.006437244825065136}, {\"ts\": 1577851500.0, \"val\": -13.309037208557129}, {\"ts\": 1577851800.0, \"val\": -29.666746139526367}, {\"ts\": 1577852100.0, \"val\": 0.006437244825065136}, {\"ts\": 1577852400.0, \"val\": 0.006437244825065136}, {\"ts\": 1577852700.0, \"val\": 0.006437244825065136}, {\"ts\": 1577853000.0, \"val\": -4.134364604949951}, {\"ts\": 1577853300.0, \"val\": -12.543279647827148}, {\"ts\": 1577853600.0, \"val\": -0.6031579971313477}, {\"ts\": 1577853900.0, \"val\": -9.839519500732422}, {\"ts\": 1577854200.0, \"val\": 0.006437244825065136}, {\"ts\": 1577854500.0, \"val\": -18.36081886291504}, {\"ts\": 1577854800.0, \"val\": -6.361166477203369}, {\"ts\": 1577855100.0, \"val\": 0.006437244825065136}, {\"ts\": 1577855400.0, \"val\": -4.701685905456543}, {\"ts\": 1577855700.0, \"val\": -1.876296877861023}, {\"ts\": 1577856000.0, \"val\": -0.3770196735858917}, {\"ts\": 1577856300.0, \"val\": 0.006437244825065136}, {\"ts\": 1577856600.0, \"val\": 0.006437244825065136}, {\"ts\": 1577856900.0, \"val\": 0.006437244825065136}, {\"ts\": 1577857200.0, \"val\": 0.006437244825065136}, {\"ts\": 1577857500.0, \"val\": 0.006437244825065136}, {\"ts\": 1577857800.0, \"val\": 0.006437244825065136}, {\"ts\": 1577858100.0, \"val\": -5.94446325302124}, {\"ts\": 1577858400.0, \"val\": -19.2681941986084}, {\"ts\": 1577858700.0, \"val\": -31.920534133911133}, {\"ts\": 1577859000.0, \"val\": 0.006437244825065136}, {\"ts\": 1577859300.0, \"val\": -31.20431137084961}, {\"ts\": 1577859600.0, \"val\": 0.006437244825065136}, {\"ts\": 1577859900.0, \"val\": 0.006437244825065136}, {\"ts\": 1577860200.0, \"val\": -2.715393543243408}, {\"ts\": 1577860500.0, \"val\": -4.319431304931641}, {\"ts\": 1577860800.0, \"val\": 0.006437244825065136}, {\"ts\": 1577861100.0, \"val\": -9.552251815795898}, {\"ts\": 1577861400.0, \"val\": -33.136695861816406}, {\"ts\": 1577861700.0, \"val\": -3.055133819580078}, {\"ts\": 1577862000.0, \"val\": 0.006437244825065136}, {\"ts\": 1577862300.0, \"val\": 0.006437244825065136}, {\"ts\": 1577862600.0, \"val\": 0.006437244825065136}, {\"ts\": 1577862900.0, \"val\": -3.8160200119018555}, {\"ts\": 1577863200.0, \"val\": -8.087897300720215}, {\"ts\": 1577863500.0, \"val\": -9.077917098999023}, {\"ts\": 1577863800.0, \"val\": 0.006437244825065136}, {\"ts\": 1577864100.0, \"val\": 0.006437244825065136}, {\"ts\": 1577864400.0, \"val\": 0.006437244825065136}, {\"ts\": 1577864700.0, \"val\": -2.916667938232422}, {\"ts\": 1577865000.0, \"val\": 0.006437244825065136}, {\"ts\": 1577865300.0, \"val\": -5.71322774887085}, {\"ts\": 1577865600.0, \"val\": -26.190824508666992}, {\"ts\": 1577865900.0, \"val\": -22.409744262695312}, {\"ts\": 1577866200.0, \"val\": -24.033958435058594}, {\"ts\": 1577866500.0, \"val\": -11.683445930480957}, {\"ts\": 1577866800.0, \"val\": 0.006437244825065136}, {\"ts\": 1577867100.0, \"val\": 0.006437244825065136}, {\"ts\": 1577867400.0, \"val\": 0.006437244825065136}, {\"ts\": 1577867700.0, \"val\": -4.794703006744385}, {\"ts\": 1577868000.0, \"val\": 0.006437244825065136}, {\"ts\": 1577868300.0, \"val\": -8.015619277954102}, {\"ts\": 1577868600.0, \"val\": -22.818450927734375}, {\"ts\": 1577868900.0, \"val\": -7.390231609344482}, {\"ts\": 1577869200.0, \"val\": -19.076881408691406}, {\"ts\": 1577869800.0, \"val\": 0.006437244825065136}, {\"ts\": 1577870100.0, \"val\": -18.08245086669922}, {\"ts\": 1577870400.0, \"val\": -20.46839714050293}, {\"ts\": 1577870700.0, \"val\": -30.89821434020996}, {\"ts\": 1577871000.0, \"val\": -33.339290618896484}, {\"ts\": 1577871300.0, \"val\": 0.006437244825065136}, {\"ts\": 1577871600.0, \"val\": 0.006437244825065136}, {\"ts\": 1577871900.0, \"val\": 0.006437244825065136}, {\"ts\": 1577872200.0, \"val\": -9.428777694702148}, {\"ts\": 1577872500.0, \"val\": -22.042387008666992}, {\"ts\": 1577872800.0, \"val\": -6.686978816986084}, {\"ts\": 1577873100.0, \"val\": -4.410637855529785}, {\"ts\": 1577873400.0, \"val\": 0.006437244825065136}, {\"ts\": 1577873700.0, \"val\": -14.505803108215332}, {\"ts\": 1577874000.0, \"val\": -5.549870491027832}, {\"ts\": 1577874300.0, \"val\": -10.071905136108398}, {\"ts\": 1577874600.0, \"val\": -7.1251091957092285}, {\"ts\": 1577874900.0, \"val\": -17.26612663269043}, {\"ts\": 1577875200.0, \"val\": -25.19468116760254}, {\"ts\": 1577875500.0, \"val\": -13.529272079467773}, {\"ts\": 1577875800.0, \"val\": -18.574716567993164}, {\"ts\": 1577876100.0, \"val\": 0.006437244825065136}, {\"ts\": 1577876400.0, \"val\": -11.041096687316895}, {\"ts\": 1577876700.0, \"val\": -16.180431365966797}, {\"ts\": 1577877000.0, \"val\": -2.762585163116455}, {\"ts\": 1577877300.0, \"val\": -13.854679107666016}, {\"ts\": 1577877600.0, \"val\": -24.68358039855957}, {\"ts\": 1577877900.0, \"val\": -29.06846809387207}, {\"ts\": 1577878200.0, \"val\": -9.539883613586426}, {\"ts\": 1577878500.0, \"val\": -32.46595764160156}, {\"ts\": 1577878800.0, \"val\": 0.006437244825065136}, {\"ts\": 1577879100.0, \"val\": -6.4579949378967285}, {\"ts\": 1577879400.0, \"val\": -19.60521697998047}, {\"ts\": 1577879700.0, \"val\": -11.890281677246094}, {\"ts\": 1577880000.0, \"val\": 0.006437244825065136}, {\"ts\": 1577880300.0, \"val\": -20.676639556884766}, {\"ts\": 1577880600.0, \"val\": -27.51359748840332}, {\"ts\": 1577880900.0, \"val\": -27.022706985473633}, {\"ts\": 1577881200.0, \"val\": -9.904830932617188}, {\"ts\": 1577881500.0, \"val\": -1.4286381006240845}]}, \"C\": {\"data\": [{\"ts\": 1577842800.0, \"val\": 2.9710853099823}, {\"ts\": 1577843100.0, \"val\": 14.565014839172363}, {\"ts\": 1577843400.0, \"val\": 32.56617736816406}, {\"ts\": 1577843700.0, \"val\": -0.007277837023139}, {\"ts\": 1577844000.0, \"val\": 4.392424583435059}, {\"ts\": 1577844300.0, \"val\": 17.464765548706055}, {\"ts\": 1577844600.0, \"val\": 19.34273910522461}, {\"ts\": 1577844900.0, \"val\": 34.65955352783203}, {\"ts\": 1577845200.0, \"val\": 20.887754440307617}, {\"ts\": 1577845500.0, \"val\": -0.007277837023139}, {\"ts\": 1577845800.0, \"val\": 25.344568252563477}, {\"ts\": 1577846100.0, \"val\": 0.17190204560756683}, {\"ts\": 1577846400.0, \"val\": 29.698177337646484}, {\"ts\": 1577846700.0, \"val\": 22.315406799316406}, {\"ts\": 1577847000.0, \"val\": 20.584300994873047}, {\"ts\": 1577847300.0, \"val\": 15.941980361938477}, {\"ts\": 1577847600.0, \"val\": -0.007277837023139}, {\"ts\": 1577847900.0, \"val\": 14.153402328491211}, {\"ts\": 1577848200.0, \"val\": 8.344806671142578}, {\"ts\": 1577848500.0, \"val\": 15.171496391296387}, {\"ts\": 1577848800.0, \"val\": 7.6710124015808105}, {\"ts\": 1577849100.0, \"val\": -0.007277837023139}, {\"ts\": 1577849400.0, \"val\": -0.007277837023139}, {\"ts\": 1577849700.0, \"val\": -0.007277837023139}, {\"ts\": 1577850000.0, \"val\": 12.16861343383789}, {\"ts\": 1577850300.0, \"val\": 17.80253028869629}, {\"ts\": 1577850600.0, \"val\": 10.993170738220215}, {\"ts\": 1577850900.0, \"val\": 33.864131927490234}, {\"ts\": 1577851200.0, \"val\": -0.007277837023139}, {\"ts\": 1577851500.0, \"val\": 13.65124797821045}, {\"ts\": 1577851800.0, \"val\": 30.430383682250977}, {\"ts\": 1577852100.0, \"val\": -0.007277837023139}, {\"ts\": 1577852400.0, \"val\": -0.007277837023139}, {\"ts\": 1577852700.0, \"val\": -0.007277837023139}, {\"ts\": 1577853000.0, \"val\": 4.240204811096191}, {\"ts\": 1577853300.0, \"val\": 12.865761756896973}, {\"ts\": 1577853600.0, \"val\": 0.6180225610733032}, {\"ts\": 1577853900.0, \"val\": 10.0923433303833}, {\"ts\": 1577854200.0, \"val\": -0.007277837023139}, {\"ts\": 1577854500.0, \"val\": 18.833179473876953}, {\"ts\": 1577854800.0, \"val\": 6.524376392364502}, {\"ts\": 1577855100.0, \"val\": -0.007277837023139}, {\"ts\": 1577855400.0, \"val\": 4.822141647338867}, {\"ts\": 1577855700.0, \"val\": 1.9239617586135864}, {\"ts\": 1577856000.0, \"val\": 0.38605818152427673}, {\"ts\": 1577856300.0, \"val\": -0.007277837023139}, {\"ts\": 1577856600.0, \"val\": -0.007277837023139}, {\"ts\": 1577856900.0, \"val\": -0.007277837023139}, {\"ts\": 1577857200.0, \"val\": -0.007277837023139}, {\"ts\": 1577857500.0, \"val\": -0.007277837023139}, {\"ts\": 1577857800.0, \"val\": -0.007277837023139}, {\"ts\": 1577858100.0, \"val\": 6.09693717956543}, {\"ts\": 1577858400.0, \"val\": 19.763931274414062}, {\"ts\": 1577858700.0, \"val\": 32.74223709106445}, {\"ts\": 1577859000.0, \"val\": -0.007277837023139}, {\"ts\": 1577859300.0, \"val\": 32.007564544677734}, {\"ts\": 1577859600.0, \"val\": -0.007277837023139}, {\"ts\": 1577859900.0, \"val\": -0.007277837023139}, {\"ts\": 1577860200.0, \"val\": 2.7846765518188477}, {\"ts\": 1577860500.0, \"val\": 4.430038928985596}, {\"ts\": 1577860800.0, \"val\": -0.007277837023139}, {\"ts\": 1577861100.0, \"val\": 9.797675132751465}, {\"ts\": 1577861400.0, \"val\": 33.98973083496094}, {\"ts\": 1577861700.0, \"val\": 3.133169412612915}, {\"ts\": 1577862000.0, \"val\": -0.007277837023139}, {\"ts\": 1577862300.0, \"val\": -0.007277837023139}, {\"ts\": 1577862600.0, \"val\": -0.007277837023139}, {\"ts\": 1577862900.0, \"val\": 3.913658618927002}, {\"ts\": 1577863200.0, \"val\": 8.295594215393066}, {\"ts\": 1577863500.0, \"val\": 9.311119079589844}, {\"ts\": 1577863800.0, \"val\": -0.007277837023139}, {\"ts\": 1577864100.0, \"val\": -0.007277837023139}, {\"ts\": 1577864400.0, \"val\": -0.007277837023139}, {\"ts\": 1577864700.0, \"val\": 2.991136312484741}, {\"ts\": 1577865000.0, \"val\": -0.007277837023139}, {\"ts\": 1577865300.0, \"val\": 5.859744548797607}, {\"ts\": 1577865600.0, \"val\": 26.864912033081055}, {\"ts\": 1577865900.0, \"val\": 22.986417770385742}, {\"ts\": 1577866200.0, \"val\": 24.652477264404297}, {\"ts\": 1577866500.0, \"val\": 11.983776092529297}, {\"ts\": 1577866800.0, \"val\": -0.007277837023139}, {\"ts\": 1577867100.0, \"val\": -0.007277837023139}, {\"ts\": 1577867400.0, \"val\": -0.007277837023139}, {\"ts\": 1577867700.0, \"val\": 4.917555332183838}, {\"ts\": 1577868000.0, \"val\": -0.007277837023139}, {\"ts\": 1577868300.0, \"val\": 8.221453666687012}, {\"ts\": 1577868600.0, \"val\": 23.405654907226562}, {\"ts\": 1577868900.0, \"val\": 7.579953670501709}, {\"ts\": 1577869200.0, \"val\": 19.567689895629883}, {\"ts\": 1577869800.0, \"val\": -0.007277837023139}, {\"ts\": 1577870100.0, \"val\": 18.547639846801758}, {\"ts\": 1577870400.0, \"val\": 20.99505615234375}, {\"ts\": 1577870700.0, \"val\": 31.693578720092773}, {\"ts\": 1577871000.0, \"val\": 34.197540283203125}, {\"ts\": 1577871300.0, \"val\": -0.007277837023139}, {\"ts\": 1577871600.0, \"val\": -0.007277837023139}, {\"ts\": 1577871900.0, \"val\": -0.007277837023139}, {\"ts\": 1577872200.0, \"val\": 9.671019554138184}, {\"ts\": 1577872500.0, \"val\": 22.609596252441406}, {\"ts\": 1577872800.0, \"val\": 6.858582496643066}, {\"ts\": 1577873100.0, \"val\": 4.523595809936523}, {\"ts\": 1577873400.0, \"val\": -0.007277837023139}, {\"ts\": 1577873700.0, \"val\": 14.878846168518066}, {\"ts\": 1577874000.0, \"val\": 5.692178726196289}, {\"ts\": 1577874300.0, \"val\": 10.330716133117676}, {\"ts\": 1577874600.0, \"val\": 7.308000564575195}, {\"ts\": 1577874900.0, \"val\": 17.710283279418945}, {\"ts\": 1577875200.0, \"val\": 25.843103408813477}, {\"ts\": 1577875500.0, \"val\": 13.877156257629395}, {\"ts\": 1577875800.0, \"val\": 19.052587509155273}, {\"ts\": 1577876100.0, \"val\": -0.007277837023139}, {\"ts\": 1577876400.0, \"val\": 11.324877738952637}, {\"ts\": 1577876700.0, \"val\": 16.596616744995117}, {\"ts\": 1577877000.0, \"val\": 2.8330838680267334}, {\"ts\": 1577877300.0, \"val\": 14.210947036743164}, {\"ts\": 1577877600.0, \"val\": 25.318836212158203}, {\"ts\": 1577877900.0, \"val\": 29.816692352294922}, {\"ts\": 1577878200.0, \"val\": 9.784988403320312}, {\"ts\": 1577878500.0, \"val\": 33.30171203613281}, {\"ts\": 1577878800.0, \"val\": -0.007277837023139}, {\"ts\": 1577879100.0, \"val\": 6.623699188232422}, {\"ts\": 1577879400.0, \"val\": 20.109636306762695}, {\"ts\": 1577879700.0, \"val\": 12.195940017700195}, {\"ts\": 1577880000.0, \"val\": -0.007277837023139}, {\"ts\": 1577880300.0, \"val\": 21.208662033081055}, {\"ts\": 1577880600.0, \"val\": 28.22176170349121}, {\"ts\": 1577880900.0, \"val\": 27.718225479125977}, {\"ts\": 1577881200.0, \"val\": 10.159337997436523}, {\"ts\": 1577881500.0, \"val\": 1.4647698402404785}]}}\n",
      "Releasing model from memory...\n",
      "Post processing ......\n",
      "Response: {'id': '1f29c26d53a44036ba174dd5c6153e3e', 'model_name': 'model_on_demand_server', 'outputs': '{\"A\": {\"data\": [{\"ts\": 1577842800.0, \"val\": 1.386595368385315}, {\"ts\": 1577843100.0, \"val\": 6.803717613220215}, {\"ts\": 1577843400.0, \"val\": 15.214542388916016}, {\"ts\": 1577843700.0, \"val\": -0.005008584354072809}, {\"ts\": 1577844000.0, \"val\": 2.05069899559021}, {\"ts\": 1577844300.0, \"val\": 8.158592224121094}, {\"ts\": 1577844600.0, \"val\": 9.036051750183105}, {\"ts\": 1577844900.0, \"val\": 16.19264793395996}, {\"ts\": 1577845200.0, \"val\": 9.757941246032715}, {\"ts\": 1577845500.0, \"val\": -0.005008584354072809}, {\"ts\": 1577845800.0, \"val\": 11.840332984924316}, {\"ts\": 1577846100.0, \"val\": 0.07871103286743164}, {\"ts\": 1577846400.0, \"val\": 13.874504089355469}, {\"ts\": 1577846700.0, \"val\": 10.424994468688965}, {\"ts\": 1577847000.0, \"val\": 9.616156578063965}, {\"ts\": 1577847300.0, \"val\": 7.447088241577148}, {\"ts\": 1577847600.0, \"val\": -0.005008584354072809}, {\"ts\": 1577847900.0, \"val\": 6.6113972663879395}, {\"ts\": 1577848200.0, \"val\": 3.8974008560180664}, {\"ts\": 1577848500.0, \"val\": 7.0870890617370605}, {\"ts\": 1577848800.0, \"val\": 3.5825791358947754}, {\"ts\": 1577849100.0, \"val\": -0.005008584354072809}, {\"ts\": 1577849400.0, \"val\": -0.005008584354072809}, {\"ts\": 1577849700.0, \"val\": -0.005008584354072809}, {\"ts\": 1577850000.0, \"val\": 5.684028148651123}, {\"ts\": 1577850300.0, \"val\": 8.316408157348633}, {\"ts\": 1577850600.0, \"val\": 5.134817123413086}, {\"ts\": 1577850900.0, \"val\": 15.82099723815918}, {\"ts\": 1577851200.0, \"val\": -0.005008584354072809}, {\"ts\": 1577851500.0, \"val\": 6.376770973205566}, {\"ts\": 1577851800.0, \"val\": 14.216619491577148}, {\"ts\": 1577852100.0, \"val\": -0.005008584354072809}, {\"ts\": 1577852400.0, \"val\": -0.005008584354072809}, {\"ts\": 1577852700.0, \"val\": -0.005008584354072809}, {\"ts\": 1577853000.0, \"val\": 1.9795761108398438}, {\"ts\": 1577853300.0, \"val\": 6.009762287139893}, {\"ts\": 1577853600.0, \"val\": 0.2871554493904114}, {\"ts\": 1577853900.0, \"val\": 4.713916301727295}, {\"ts\": 1577854200.0, \"val\": -0.005008584354072809}, {\"ts\": 1577854500.0, \"val\": 8.797966003417969}, {\"ts\": 1577854800.0, \"val\": 3.0468273162841797}, {\"ts\": 1577855100.0, \"val\": -0.005008584354072809}, {\"ts\": 1577855400.0, \"val\": 2.251478910446167}, {\"ts\": 1577855700.0, \"val\": 0.8973396420478821}, {\"ts\": 1577856000.0, \"val\": 0.1787729114294052}, {\"ts\": 1577856300.0, \"val\": -0.005008584354072809}, {\"ts\": 1577856600.0, \"val\": -0.005008584354072809}, {\"ts\": 1577856900.0, \"val\": -0.005008584354072809}, {\"ts\": 1577857200.0, \"val\": -0.005008584354072809}, {\"ts\": 1577857500.0, \"val\": -0.005008584354072809}, {\"ts\": 1577857800.0, \"val\": -0.005008584354072809}, {\"ts\": 1577858100.0, \"val\": 2.847111701965332}, {\"ts\": 1577858400.0, \"val\": 9.23284912109375}, {\"ts\": 1577858700.0, \"val\": 15.296804428100586}, {\"ts\": 1577859000.0, \"val\": -0.005008584354072809}, {\"ts\": 1577859300.0, \"val\": 14.953536987304688}, {\"ts\": 1577859600.0, \"val\": -0.005008584354072809}, {\"ts\": 1577859900.0, \"val\": -0.005008584354072809}, {\"ts\": 1577860200.0, \"val\": 1.2994980812072754}, {\"ts\": 1577860500.0, \"val\": 2.0682737827301025}, {\"ts\": 1577860800.0, \"val\": -0.005008584354072809}, {\"ts\": 1577861100.0, \"val\": 4.576236248016357}, {\"ts\": 1577861400.0, \"val\": 15.879680633544922}, {\"ts\": 1577861700.0, \"val\": 1.462327241897583}, {\"ts\": 1577862000.0, \"val\": -0.005008584354072809}, {\"ts\": 1577862300.0, \"val\": -0.005008584354072809}, {\"ts\": 1577862600.0, \"val\": -0.005008584354072809}, {\"ts\": 1577862900.0, \"val\": 1.8270012140274048}, {\"ts\": 1577863200.0, \"val\": 3.8744070529937744}, {\"ts\": 1577863500.0, \"val\": 4.348898887634277}, {\"ts\": 1577863800.0, \"val\": -0.005008584354072809}, {\"ts\": 1577864100.0, \"val\": -0.005008584354072809}, {\"ts\": 1577864400.0, \"val\": -0.005008584354072809}, {\"ts\": 1577864700.0, \"val\": 1.3959639072418213}, {\"ts\": 1577865000.0, \"val\": -0.005008584354072809}, {\"ts\": 1577865300.0, \"val\": 2.7362864017486572}, {\"ts\": 1577865600.0, \"val\": 12.550695419311523}, {\"ts\": 1577865900.0, \"val\": 10.738516807556152}, {\"ts\": 1577866200.0, \"val\": 11.516962051391602}, {\"ts\": 1577866500.0, \"val\": 5.597665309906006}, {\"ts\": 1577866800.0, \"val\": -0.005008584354072809}, {\"ts\": 1577867100.0, \"val\": -0.005008584354072809}, {\"ts\": 1577867400.0, \"val\": -0.005008584354072809}, {\"ts\": 1577867700.0, \"val\": 2.2960598468780518}, {\"ts\": 1577868000.0, \"val\": -0.005008584354072809}, {\"ts\": 1577868300.0, \"val\": 3.839766025543213}, {\"ts\": 1577868600.0, \"val\": 10.934399604797363}, {\"ts\": 1577868900.0, \"val\": 3.5400331020355225}, {\"ts\": 1577869200.0, \"val\": 9.141157150268555}, {\"ts\": 1577869800.0, \"val\": -0.005008584354072809}, {\"ts\": 1577870100.0, \"val\": 8.664551734924316}, {\"ts\": 1577870400.0, \"val\": 9.808076858520508}, {\"ts\": 1577870700.0, \"val\": 14.806831359863281}, {\"ts\": 1577871000.0, \"val\": 15.976778030395508}, {\"ts\": 1577871300.0, \"val\": -0.005008584354072809}, {\"ts\": 1577871600.0, \"val\": -0.005008584354072809}, {\"ts\": 1577871900.0, \"val\": -0.005008584354072809}, {\"ts\": 1577872200.0, \"val\": 4.5170578956604}, {\"ts\": 1577872500.0, \"val\": 10.562451362609863}, {\"ts\": 1577872800.0, \"val\": 3.2029812335968018}, {\"ts\": 1577873100.0, \"val\": 2.1119871139526367}, {\"ts\": 1577873400.0, \"val\": -0.005008584354072809}, {\"ts\": 1577873700.0, \"val\": 6.950351715087891}, {\"ts\": 1577874000.0, \"val\": 2.6579930782318115}, {\"ts\": 1577874300.0, \"val\": 4.825293064117432}, {\"ts\": 1577874600.0, \"val\": 3.41296648979187}, {\"ts\": 1577874900.0, \"val\": 8.273306846618652}, {\"ts\": 1577875200.0, \"val\": 12.073267936706543}, {\"ts\": 1577875500.0, \"val\": 6.482324123382568}, {\"ts\": 1577875800.0, \"val\": 8.900482177734375}, {\"ts\": 1577876100.0, \"val\": -0.005008584354072809}, {\"ts\": 1577876400.0, \"val\": 5.2898030281066895}, {\"ts\": 1577876700.0, \"val\": 7.752959251403809}, {\"ts\": 1577877000.0, \"val\": 1.3221158981323242}, {\"ts\": 1577877300.0, \"val\": 6.638283729553223}, {\"ts\": 1577877600.0, \"val\": 11.828310012817383}, {\"ts\": 1577877900.0, \"val\": 13.929879188537598}, {\"ts\": 1577878200.0, \"val\": 4.570308685302734}, {\"ts\": 1577878500.0, \"val\": 15.558212280273438}, {\"ts\": 1577878800.0, \"val\": -0.005008584354072809}, {\"ts\": 1577879100.0, \"val\": 3.0932347774505615}, {\"ts\": 1577879400.0, \"val\": 9.394375801086426}, {\"ts\": 1577879700.0, \"val\": 5.696796417236328}, {\"ts\": 1577880000.0, \"val\": -0.005008584354072809}, {\"ts\": 1577880300.0, \"val\": 9.907881736755371}, {\"ts\": 1577880600.0, \"val\": 13.184667587280273}, {\"ts\": 1577880900.0, \"val\": 12.949396133422852}, {\"ts\": 1577881200.0, \"val\": 4.745218753814697}, {\"ts\": 1577881500.0, \"val\": 0.6827877759933472}]}, \"B\": {\"data\": [{\"ts\": 1577842800.0, \"val\": -2.897120714187622}, {\"ts\": 1577843100.0, \"val\": -14.199853897094727}, {\"ts\": 1577843400.0, \"val\": -31.7488956451416}, {\"ts\": 1577843700.0, \"val\": 0.006437244825065136}, {\"ts\": 1577844000.0, \"val\": -4.282761573791504}, {\"ts\": 1577844300.0, \"val\": -17.026775360107422}, {\"ts\": 1577844600.0, \"val\": -18.857580184936523}, {\"ts\": 1577844900.0, \"val\": -33.78969955444336}, {\"ts\": 1577845200.0, \"val\": -20.363792419433594}, {\"ts\": 1577845500.0, \"val\": 0.006437244825065136}, {\"ts\": 1577845800.0, \"val\": -24.70866584777832}, {\"ts\": 1577846100.0, \"val\": -0.16824232041835785}, {\"ts\": 1577846400.0, \"val\": -28.952930450439453}, {\"ts\": 1577846700.0, \"val\": -21.755586624145508}, {\"ts\": 1577847000.0, \"val\": -20.067960739135742}, {\"ts\": 1577847300.0, \"val\": -15.542235374450684}, {\"ts\": 1577847600.0, \"val\": 0.006437244825065136}, {\"ts\": 1577847900.0, \"val\": -13.798580169677734}, {\"ts\": 1577848200.0, \"val\": -8.135873794555664}, {\"ts\": 1577848500.0, \"val\": -14.79110336303711}, {\"ts\": 1577848800.0, \"val\": -7.479003429412842}, {\"ts\": 1577849100.0, \"val\": 0.006437244825065136}, {\"ts\": 1577849400.0, \"val\": 0.006437244825065136}, {\"ts\": 1577849700.0, \"val\": 0.006437244825065136}, {\"ts\": 1577850000.0, \"val\": -11.863640785217285}, {\"ts\": 1577850300.0, \"val\": -17.356056213378906}, {\"ts\": 1577850600.0, \"val\": -10.717720985412598}, {\"ts\": 1577850900.0, \"val\": -33.01425552368164}, {\"ts\": 1577851200.0, \"val\": 0.006437244825065136}, {\"ts\": 1577851500.0, \"val\": -13.309037208557129}, {\"ts\": 1577851800.0, \"val\": -29.666746139526367}, {\"ts\": 1577852100.0, \"val\": 0.006437244825065136}, {\"ts\": 1577852400.0, \"val\": 0.006437244825065136}, {\"ts\": 1577852700.0, \"val\": 0.006437244825065136}, {\"ts\": 1577853000.0, \"val\": -4.134364604949951}, {\"ts\": 1577853300.0, \"val\": -12.543279647827148}, {\"ts\": 1577853600.0, \"val\": -0.6031579971313477}, {\"ts\": 1577853900.0, \"val\": -9.839519500732422}, {\"ts\": 1577854200.0, \"val\": 0.006437244825065136}, {\"ts\": 1577854500.0, \"val\": -18.36081886291504}, {\"ts\": 1577854800.0, \"val\": -6.361166477203369}, {\"ts\": 1577855100.0, \"val\": 0.006437244825065136}, {\"ts\": 1577855400.0, \"val\": -4.701685905456543}, {\"ts\": 1577855700.0, \"val\": -1.876296877861023}, {\"ts\": 1577856000.0, \"val\": -0.3770196735858917}, {\"ts\": 1577856300.0, \"val\": 0.006437244825065136}, {\"ts\": 1577856600.0, \"val\": 0.006437244825065136}, {\"ts\": 1577856900.0, \"val\": 0.006437244825065136}, {\"ts\": 1577857200.0, \"val\": 0.006437244825065136}, {\"ts\": 1577857500.0, \"val\": 0.006437244825065136}, {\"ts\": 1577857800.0, \"val\": 0.006437244825065136}, {\"ts\": 1577858100.0, \"val\": -5.94446325302124}, {\"ts\": 1577858400.0, \"val\": -19.2681941986084}, {\"ts\": 1577858700.0, \"val\": -31.920534133911133}, {\"ts\": 1577859000.0, \"val\": 0.006437244825065136}, {\"ts\": 1577859300.0, \"val\": -31.20431137084961}, {\"ts\": 1577859600.0, \"val\": 0.006437244825065136}, {\"ts\": 1577859900.0, \"val\": 0.006437244825065136}, {\"ts\": 1577860200.0, \"val\": -2.715393543243408}, {\"ts\": 1577860500.0, \"val\": -4.319431304931641}, {\"ts\": 1577860800.0, \"val\": 0.006437244825065136}, {\"ts\": 1577861100.0, \"val\": -9.552251815795898}, {\"ts\": 1577861400.0, \"val\": -33.136695861816406}, {\"ts\": 1577861700.0, \"val\": -3.055133819580078}, {\"ts\": 1577862000.0, \"val\": 0.006437244825065136}, {\"ts\": 1577862300.0, \"val\": 0.006437244825065136}, {\"ts\": 1577862600.0, \"val\": 0.006437244825065136}, {\"ts\": 1577862900.0, \"val\": -3.8160200119018555}, {\"ts\": 1577863200.0, \"val\": -8.087897300720215}, {\"ts\": 1577863500.0, \"val\": -9.077917098999023}, {\"ts\": 1577863800.0, \"val\": 0.006437244825065136}, {\"ts\": 1577864100.0, \"val\": 0.006437244825065136}, {\"ts\": 1577864400.0, \"val\": 0.006437244825065136}, {\"ts\": 1577864700.0, \"val\": -2.916667938232422}, {\"ts\": 1577865000.0, \"val\": 0.006437244825065136}, {\"ts\": 1577865300.0, \"val\": -5.71322774887085}, {\"ts\": 1577865600.0, \"val\": -26.190824508666992}, {\"ts\": 1577865900.0, \"val\": -22.409744262695312}, {\"ts\": 1577866200.0, \"val\": -24.033958435058594}, {\"ts\": 1577866500.0, \"val\": -11.683445930480957}, {\"ts\": 1577866800.0, \"val\": 0.006437244825065136}, {\"ts\": 1577867100.0, \"val\": 0.006437244825065136}, {\"ts\": 1577867400.0, \"val\": 0.006437244825065136}, {\"ts\": 1577867700.0, \"val\": -4.794703006744385}, {\"ts\": 1577868000.0, \"val\": 0.006437244825065136}, {\"ts\": 1577868300.0, \"val\": -8.015619277954102}, {\"ts\": 1577868600.0, \"val\": -22.818450927734375}, {\"ts\": 1577868900.0, \"val\": -7.390231609344482}, {\"ts\": 1577869200.0, \"val\": -19.076881408691406}, {\"ts\": 1577869800.0, \"val\": 0.006437244825065136}, {\"ts\": 1577870100.0, \"val\": -18.08245086669922}, {\"ts\": 1577870400.0, \"val\": -20.46839714050293}, {\"ts\": 1577870700.0, \"val\": -30.89821434020996}, {\"ts\": 1577871000.0, \"val\": -33.339290618896484}, {\"ts\": 1577871300.0, \"val\": 0.006437244825065136}, {\"ts\": 1577871600.0, \"val\": 0.006437244825065136}, {\"ts\": 1577871900.0, \"val\": 0.006437244825065136}, {\"ts\": 1577872200.0, \"val\": -9.428777694702148}, {\"ts\": 1577872500.0, \"val\": -22.042387008666992}, {\"ts\": 1577872800.0, \"val\": -6.686978816986084}, {\"ts\": 1577873100.0, \"val\": -4.410637855529785}, {\"ts\": 1577873400.0, \"val\": 0.006437244825065136}, {\"ts\": 1577873700.0, \"val\": -14.505803108215332}, {\"ts\": 1577874000.0, \"val\": -5.549870491027832}, {\"ts\": 1577874300.0, \"val\": -10.071905136108398}, {\"ts\": 1577874600.0, \"val\": -7.1251091957092285}, {\"ts\": 1577874900.0, \"val\": -17.26612663269043}, {\"ts\": 1577875200.0, \"val\": -25.19468116760254}, {\"ts\": 1577875500.0, \"val\": -13.529272079467773}, {\"ts\": 1577875800.0, \"val\": -18.574716567993164}, {\"ts\": 1577876100.0, \"val\": 0.006437244825065136}, {\"ts\": 1577876400.0, \"val\": -11.041096687316895}, {\"ts\": 1577876700.0, \"val\": -16.180431365966797}, {\"ts\": 1577877000.0, \"val\": -2.762585163116455}, {\"ts\": 1577877300.0, \"val\": -13.854679107666016}, {\"ts\": 1577877600.0, \"val\": -24.68358039855957}, {\"ts\": 1577877900.0, \"val\": -29.06846809387207}, {\"ts\": 1577878200.0, \"val\": -9.539883613586426}, {\"ts\": 1577878500.0, \"val\": -32.46595764160156}, {\"ts\": 1577878800.0, \"val\": 0.006437244825065136}, {\"ts\": 1577879100.0, \"val\": -6.4579949378967285}, {\"ts\": 1577879400.0, \"val\": -19.60521697998047}, {\"ts\": 1577879700.0, \"val\": -11.890281677246094}, {\"ts\": 1577880000.0, \"val\": 0.006437244825065136}, {\"ts\": 1577880300.0, \"val\": -20.676639556884766}, {\"ts\": 1577880600.0, \"val\": -27.51359748840332}, {\"ts\": 1577880900.0, \"val\": -27.022706985473633}, {\"ts\": 1577881200.0, \"val\": -9.904830932617188}, {\"ts\": 1577881500.0, \"val\": -1.4286381006240845}]}, \"C\": {\"data\": [{\"ts\": 1577842800.0, \"val\": 2.9710853099823}, {\"ts\": 1577843100.0, \"val\": 14.565014839172363}, {\"ts\": 1577843400.0, \"val\": 32.56617736816406}, {\"ts\": 1577843700.0, \"val\": -0.007277837023139}, {\"ts\": 1577844000.0, \"val\": 4.392424583435059}, {\"ts\": 1577844300.0, \"val\": 17.464765548706055}, {\"ts\": 1577844600.0, \"val\": 19.34273910522461}, {\"ts\": 1577844900.0, \"val\": 34.65955352783203}, {\"ts\": 1577845200.0, \"val\": 20.887754440307617}, {\"ts\": 1577845500.0, \"val\": -0.007277837023139}, {\"ts\": 1577845800.0, \"val\": 25.344568252563477}, {\"ts\": 1577846100.0, \"val\": 0.17190204560756683}, {\"ts\": 1577846400.0, \"val\": 29.698177337646484}, {\"ts\": 1577846700.0, \"val\": 22.315406799316406}, {\"ts\": 1577847000.0, \"val\": 20.584300994873047}, {\"ts\": 1577847300.0, \"val\": 15.941980361938477}, {\"ts\": 1577847600.0, \"val\": -0.007277837023139}, {\"ts\": 1577847900.0, \"val\": 14.153402328491211}, {\"ts\": 1577848200.0, \"val\": 8.344806671142578}, {\"ts\": 1577848500.0, \"val\": 15.171496391296387}, {\"ts\": 1577848800.0, \"val\": 7.6710124015808105}, {\"ts\": 1577849100.0, \"val\": -0.007277837023139}, {\"ts\": 1577849400.0, \"val\": -0.007277837023139}, {\"ts\": 1577849700.0, \"val\": -0.007277837023139}, {\"ts\": 1577850000.0, \"val\": 12.16861343383789}, {\"ts\": 1577850300.0, \"val\": 17.80253028869629}, {\"ts\": 1577850600.0, \"val\": 10.993170738220215}, {\"ts\": 1577850900.0, \"val\": 33.864131927490234}, {\"ts\": 1577851200.0, \"val\": -0.007277837023139}, {\"ts\": 1577851500.0, \"val\": 13.65124797821045}, {\"ts\": 1577851800.0, \"val\": 30.430383682250977}, {\"ts\": 1577852100.0, \"val\": -0.007277837023139}, {\"ts\": 1577852400.0, \"val\": -0.007277837023139}, {\"ts\": 1577852700.0, \"val\": -0.007277837023139}, {\"ts\": 1577853000.0, \"val\": 4.240204811096191}, {\"ts\": 1577853300.0, \"val\": 12.865761756896973}, {\"ts\": 1577853600.0, \"val\": 0.6180225610733032}, {\"ts\": 1577853900.0, \"val\": 10.0923433303833}, {\"ts\": 1577854200.0, \"val\": -0.007277837023139}, {\"ts\": 1577854500.0, \"val\": 18.833179473876953}, {\"ts\": 1577854800.0, \"val\": 6.524376392364502}, {\"ts\": 1577855100.0, \"val\": -0.007277837023139}, {\"ts\": 1577855400.0, \"val\": 4.822141647338867}, {\"ts\": 1577855700.0, \"val\": 1.9239617586135864}, {\"ts\": 1577856000.0, \"val\": 0.38605818152427673}, {\"ts\": 1577856300.0, \"val\": -0.007277837023139}, {\"ts\": 1577856600.0, \"val\": -0.007277837023139}, {\"ts\": 1577856900.0, \"val\": -0.007277837023139}, {\"ts\": 1577857200.0, \"val\": -0.007277837023139}, {\"ts\": 1577857500.0, \"val\": -0.007277837023139}, {\"ts\": 1577857800.0, \"val\": -0.007277837023139}, {\"ts\": 1577858100.0, \"val\": 6.09693717956543}, {\"ts\": 1577858400.0, \"val\": 19.763931274414062}, {\"ts\": 1577858700.0, \"val\": 32.74223709106445}, {\"ts\": 1577859000.0, \"val\": -0.007277837023139}, {\"ts\": 1577859300.0, \"val\": 32.007564544677734}, {\"ts\": 1577859600.0, \"val\": -0.007277837023139}, {\"ts\": 1577859900.0, \"val\": -0.007277837023139}, {\"ts\": 1577860200.0, \"val\": 2.7846765518188477}, {\"ts\": 1577860500.0, \"val\": 4.430038928985596}, {\"ts\": 1577860800.0, \"val\": -0.007277837023139}, {\"ts\": 1577861100.0, \"val\": 9.797675132751465}, {\"ts\": 1577861400.0, \"val\": 33.98973083496094}, {\"ts\": 1577861700.0, \"val\": 3.133169412612915}, {\"ts\": 1577862000.0, \"val\": -0.007277837023139}, {\"ts\": 1577862300.0, \"val\": -0.007277837023139}, {\"ts\": 1577862600.0, \"val\": -0.007277837023139}, {\"ts\": 1577862900.0, \"val\": 3.913658618927002}, {\"ts\": 1577863200.0, \"val\": 8.295594215393066}, {\"ts\": 1577863500.0, \"val\": 9.311119079589844}, {\"ts\": 1577863800.0, \"val\": -0.007277837023139}, {\"ts\": 1577864100.0, \"val\": -0.007277837023139}, {\"ts\": 1577864400.0, \"val\": -0.007277837023139}, {\"ts\": 1577864700.0, \"val\": 2.991136312484741}, {\"ts\": 1577865000.0, \"val\": -0.007277837023139}, {\"ts\": 1577865300.0, \"val\": 5.859744548797607}, {\"ts\": 1577865600.0, \"val\": 26.864912033081055}, {\"ts\": 1577865900.0, \"val\": 22.986417770385742}, {\"ts\": 1577866200.0, \"val\": 24.652477264404297}, {\"ts\": 1577866500.0, \"val\": 11.983776092529297}, {\"ts\": 1577866800.0, \"val\": -0.007277837023139}, {\"ts\": 1577867100.0, \"val\": -0.007277837023139}, {\"ts\": 1577867400.0, \"val\": -0.007277837023139}, {\"ts\": 1577867700.0, \"val\": 4.917555332183838}, {\"ts\": 1577868000.0, \"val\": -0.007277837023139}, {\"ts\": 1577868300.0, \"val\": 8.221453666687012}, {\"ts\": 1577868600.0, \"val\": 23.405654907226562}, {\"ts\": 1577868900.0, \"val\": 7.579953670501709}, {\"ts\": 1577869200.0, \"val\": 19.567689895629883}, {\"ts\": 1577869800.0, \"val\": -0.007277837023139}, {\"ts\": 1577870100.0, \"val\": 18.547639846801758}, {\"ts\": 1577870400.0, \"val\": 20.99505615234375}, {\"ts\": 1577870700.0, \"val\": 31.693578720092773}, {\"ts\": 1577871000.0, \"val\": 34.197540283203125}, {\"ts\": 1577871300.0, \"val\": -0.007277837023139}, {\"ts\": 1577871600.0, \"val\": -0.007277837023139}, {\"ts\": 1577871900.0, \"val\": -0.007277837023139}, {\"ts\": 1577872200.0, \"val\": 9.671019554138184}, {\"ts\": 1577872500.0, \"val\": 22.609596252441406}, {\"ts\": 1577872800.0, \"val\": 6.858582496643066}, {\"ts\": 1577873100.0, \"val\": 4.523595809936523}, {\"ts\": 1577873400.0, \"val\": -0.007277837023139}, {\"ts\": 1577873700.0, \"val\": 14.878846168518066}, {\"ts\": 1577874000.0, \"val\": 5.692178726196289}, {\"ts\": 1577874300.0, \"val\": 10.330716133117676}, {\"ts\": 1577874600.0, \"val\": 7.308000564575195}, {\"ts\": 1577874900.0, \"val\": 17.710283279418945}, {\"ts\": 1577875200.0, \"val\": 25.843103408813477}, {\"ts\": 1577875500.0, \"val\": 13.877156257629395}, {\"ts\": 1577875800.0, \"val\": 19.052587509155273}, {\"ts\": 1577876100.0, \"val\": -0.007277837023139}, {\"ts\": 1577876400.0, \"val\": 11.324877738952637}, {\"ts\": 1577876700.0, \"val\": 16.596616744995117}, {\"ts\": 1577877000.0, \"val\": 2.8330838680267334}, {\"ts\": 1577877300.0, \"val\": 14.210947036743164}, {\"ts\": 1577877600.0, \"val\": 25.318836212158203}, {\"ts\": 1577877900.0, \"val\": 29.816692352294922}, {\"ts\": 1577878200.0, \"val\": 9.784988403320312}, {\"ts\": 1577878500.0, \"val\": 33.30171203613281}, {\"ts\": 1577878800.0, \"val\": -0.007277837023139}, {\"ts\": 1577879100.0, \"val\": 6.623699188232422}, {\"ts\": 1577879400.0, \"val\": 20.109636306762695}, {\"ts\": 1577879700.0, \"val\": 12.195940017700195}, {\"ts\": 1577880000.0, \"val\": -0.007277837023139}, {\"ts\": 1577880300.0, \"val\": 21.208662033081055}, {\"ts\": 1577880600.0, \"val\": 28.22176170349121}, {\"ts\": 1577880900.0, \"val\": 27.718225479125977}, {\"ts\": 1577881200.0, \"val\": 10.159337997436523}, {\"ts\": 1577881500.0, \"val\": 1.4647698402404785}]}}'}\n",
      "\n"
     ]
    }
   ],
   "source": [
    "# Setup the events:\n",
    "tests = 5  # Amount of events to test\n",
    "events =[{'models':models,'instanceId':instanceId,'inputs': {\"A\": {\"data\": [{\"ts\": 1577836800.0, \"val\": 61.0}, {\"ts\": 1577837100.0, \"val\": 16.0}, {\"ts\": 1577837400.0, \"val\": 12.0}, {\"ts\": 1577837700.0, \"val\": 26.0}, {\"ts\": 1577838000.0, \"val\": 47.0}, {\"ts\": 1577838300.0, \"val\": 54.0}, {\"ts\": 1577838600.0, \"val\": 18.0}, {\"ts\": 1577838900.0, \"val\": 87.0}, {\"ts\": 1577839200.0, \"val\": 93.0}, {\"ts\": 1577839800.0, \"val\": 72.0}, {\"ts\": 1577840100.0, \"val\": 73.0}, {\"ts\": 1577840400.0, \"val\": 54.0}, {\"ts\": 1577840700.0, \"val\": 64.0}, {\"ts\": 1577841000.0, \"val\": 17.0}, {\"ts\": 1577841600.0, \"val\": 2.0}, {\"ts\": 1577841900.0, \"val\": 41.0}, {\"ts\": 1577842200.0, \"val\": 82.0}, {\"ts\": 1577842800.0, \"val\": 99.0}, {\"ts\": 1577843100.0, \"val\": 56.0}, {\"ts\": 1577843400.0, \"val\": 8.0}, {\"ts\": 1577843700.0, \"val\": 49.0}, {\"ts\": 1577844000.0, \"val\": 83.0}, {\"ts\": 1577844300.0, \"val\": 58.0}, {\"ts\": 1577844900.0, \"val\": 23.0}, {\"ts\": 1577845500.0, \"val\": 97.0}, {\"ts\": 1577845800.0, \"val\": 3.0}, {\"ts\": 1577846100.0, \"val\": 39.0}, {\"ts\": 1577846400.0, \"val\": 6.0}, {\"ts\": 1577846700.0, \"val\": 4.0}, {\"ts\": 1577847000.0, \"val\": 42.0}, {\"ts\": 1577847300.0, \"val\": 46.0}, {\"ts\": 1577847600.0, \"val\": 44.0}, {\"ts\": 1577848200.0, \"val\": 67.0}, {\"ts\": 1577848500.0, \"val\": 67.0}, {\"ts\": 1577848800.0, \"val\": 87.0}, {\"ts\": 1577849100.0, \"val\": 61.0}, {\"ts\": 1577849400.0, \"val\": 61.0}, {\"ts\": 1577849700.0, \"val\": 89.0}, {\"ts\": 1577850000.0, \"val\": 28.0}, {\"ts\": 1577850900.0, \"val\": 10.0}, {\"ts\": 1577851200.0, \"val\": 72.0}, {\"ts\": 1577851800.0, \"val\": 35.0}, {\"ts\": 1577852100.0, \"val\": 79.0}, {\"ts\": 1577852400.0, \"val\": 63.0}, {\"ts\": 1577852700.0, \"val\": 57.0}, {\"ts\": 1577853000.0, \"val\": 46.0}, {\"ts\": 1577853300.0, \"val\": 23.0}, {\"ts\": 1577853600.0, \"val\": 21.0}, {\"ts\": 1577853900.0, \"val\": 43.0}, {\"ts\": 1577854200.0, \"val\": 86.0}, {\"ts\": 1577854500.0, \"val\": 33.0}, {\"ts\": 1577854800.0, \"val\": 47.0}, {\"ts\": 1577855100.0, \"val\": 32.0}, {\"ts\": 1577855400.0, \"val\": 57.0}, {\"ts\": 1577856300.0, \"val\": 77.0}, {\"ts\": 1577856900.0, \"val\": 90.0}, {\"ts\": 1577857200.0, \"val\": 86.0}, {\"ts\": 1577857500.0, \"val\": 70.0}, {\"ts\": 1577857800.0, \"val\": 97.0}, {\"ts\": 1577858400.0, \"val\": 23.0}, {\"ts\": 1577859000.0, \"val\": 69.0}, {\"ts\": 1577859300.0, \"val\": 6.0}, {\"ts\": 1577859600.0, \"val\": 70.0}, {\"ts\": 1577860200.0, \"val\": 97.0}, {\"ts\": 1577860500.0, \"val\": 34.0}, {\"ts\": 1577860800.0, \"val\": 95.0}, {\"ts\": 1577861100.0, \"val\": 64.0}, {\"ts\": 1577861400.0, \"val\": 4.0}, {\"ts\": 1577861700.0, \"val\": 71.0}, {\"ts\": 1577862000.0, \"val\": 77.0}, {\"ts\": 1577862600.0, \"val\": 78.0}, {\"ts\": 1577862900.0, \"val\": 43.0}, {\"ts\": 1577863800.0, \"val\": 95.0}, {\"ts\": 1577864100.0, \"val\": 79.0}, {\"ts\": 1577864400.0, \"val\": 63.0}, {\"ts\": 1577865000.0, \"val\": 72.0}, {\"ts\": 1577865300.0, \"val\": 69.0}, {\"ts\": 1577865600.0, \"val\": 16.0}, {\"ts\": 1577865900.0, \"val\": 8.0}, {\"ts\": 1577866500.0, \"val\": 28.0}, {\"ts\": 1577866800.0, \"val\": 93.0}, {\"ts\": 1577867100.0, \"val\": 58.0}, {\"ts\": 1577867400.0, \"val\": 53.0}, {\"ts\": 1577868000.0, \"val\": 96.0}, {\"ts\": 1577868300.0, \"val\": 91.0}, {\"ts\": 1577868600.0, \"val\": 43.0}, {\"ts\": 1577868900.0, \"val\": 69.0}, {\"ts\": 1577869200.0, \"val\": 3.0}, {\"ts\": 1577869800.0, \"val\": 90.0}, {\"ts\": 1577870100.0, \"val\": 50.0}, {\"ts\": 1577870400.0, \"val\": 2.0}, {\"ts\": 1577871300.0, \"val\": 74.0}, {\"ts\": 1577871600.0, \"val\": 41.0}, {\"ts\": 1577871900.0, \"val\": 81.0}, {\"ts\": 1577872200.0, \"val\": 37.0}, {\"ts\": 1577872800.0, \"val\": 79.0}, {\"ts\": 1577873100.0, \"val\": 46.0}, {\"ts\": 1577873400.0, \"val\": 80.0}, {\"ts\": 1577873700.0, \"val\": 30.0}, {\"ts\": 1577874000.0, \"val\": 57.0}, {\"ts\": 1577874300.0, \"val\": 39.0}, {\"ts\": 1577874600.0, \"val\": 6.0}, {\"ts\": 1577874900.0, \"val\": 25.0}, {\"ts\": 1577875500.0, \"val\": 15.0}, {\"ts\": 1577876100.0, \"val\": 66.0}, {\"ts\": 1577876700.0, \"val\": 48.0}, {\"ts\": 1577877000.0, \"val\": 64.0}, {\"ts\": 1577877300.0, \"val\": 24.0}, {\"ts\": 1577877600.0, \"val\": 18.0}, {\"ts\": 1577877900.0, \"val\": 41.0}, {\"ts\": 1577878500.0, \"val\": 5.0}, {\"ts\": 1577878800.0, \"val\": 85.0}, {\"ts\": 1577879100.0, \"val\": 81.0}, {\"ts\": 1577879400.0, \"val\": 4.0}, {\"ts\": 1577880000.0, \"val\": 31.0}, {\"ts\": 1577880300.0, \"val\": 28.0}, {\"ts\": 1577880600.0, \"val\": 30.0}, {\"ts\": 1577880900.0, \"val\": 20.0}, {\"ts\": 1577881200.0, \"val\": 24.0}, {\"ts\": 1577881500.0, \"val\": 35.0}]}, \"B\": {\"data\": [{\"ts\": 1577837100.0, \"val\": 36.0}, {\"ts\": 1577837400.0, \"val\": 5.0}, {\"ts\": 1577837700.0, \"val\": 2.0}, {\"ts\": 1577838000.0, \"val\": 22.0}, {\"ts\": 1577838300.0, \"val\": 83.0}, {\"ts\": 1577838600.0, \"val\": 4.0}, {\"ts\": 1577838900.0, \"val\": 92.0}, {\"ts\": 1577839200.0, \"val\": 6.0}, {\"ts\": 1577839500.0, \"val\": 7.0}, {\"ts\": 1577839800.0, \"val\": 76.0}, {\"ts\": 1577840400.0, \"val\": 6.0}, {\"ts\": 1577840700.0, \"val\": 30.0}, {\"ts\": 1577841000.0, \"val\": 15.0}, {\"ts\": 1577841300.0, \"val\": 21.0}, {\"ts\": 1577841600.0, \"val\": 51.0}, {\"ts\": 1577841900.0, \"val\": 69.0}, {\"ts\": 1577842200.0, \"val\": 19.0}, {\"ts\": 1577842500.0, \"val\": 94.0}, {\"ts\": 1577842800.0, \"val\": 75.0}, {\"ts\": 1577843100.0, \"val\": 93.0}, {\"ts\": 1577843700.0, \"val\": 1.0}, {\"ts\": 1577844000.0, \"val\": 71.0}, {\"ts\": 1577844600.0, \"val\": 77.0}, {\"ts\": 1577844900.0, \"val\": 84.0}, {\"ts\": 1577845200.0, \"val\": 40.0}, {\"ts\": 1577845500.0, \"val\": 51.0}, {\"ts\": 1577845800.0, \"val\": 35.0}, {\"ts\": 1577846100.0, \"val\": 42.0}, {\"ts\": 1577846400.0, \"val\": 59.0}, {\"ts\": 1577847000.0, \"val\": 99.0}, {\"ts\": 1577847600.0, \"val\": 23.0}, {\"ts\": 1577847900.0, \"val\": 59.0}, {\"ts\": 1577848200.0, \"val\": 68.0}, {\"ts\": 1577848500.0, \"val\": 78.0}, {\"ts\": 1577849100.0, \"val\": 43.0}, {\"ts\": 1577849400.0, \"val\": 13.0}, {\"ts\": 1577850000.0, \"val\": 14.0}, {\"ts\": 1577850300.0, \"val\": 32.0}, {\"ts\": 1577850600.0, \"val\": 38.0}, {\"ts\": 1577850900.0, \"val\": 96.0}, {\"ts\": 1577851200.0, \"val\": 75.0}, {\"ts\": 1577851800.0, \"val\": 89.0}, {\"ts\": 1577852100.0, \"val\": 73.0}, {\"ts\": 1577852400.0, \"val\": 12.0}, {\"ts\": 1577852700.0, \"val\": 6.0}, {\"ts\": 1577853000.0, \"val\": 25.0}, {\"ts\": 1577853600.0, \"val\": 13.0}, {\"ts\": 1577853900.0, \"val\": 59.0}, {\"ts\": 1577854800.0, \"val\": 27.0}, {\"ts\": 1577855100.0, \"val\": 30.0}, {\"ts\": 1577855700.0, \"val\": 42.0}, {\"ts\": 1577856000.0, \"val\": 30.0}, {\"ts\": 1577856300.0, \"val\": 28.0}, {\"ts\": 1577856600.0, \"val\": 37.0}, {\"ts\": 1577857800.0, \"val\": 20.0}, {\"ts\": 1577858100.0, \"val\": 82.0}, {\"ts\": 1577858400.0, \"val\": 37.0}, {\"ts\": 1577858700.0, \"val\": 95.0}, {\"ts\": 1577859000.0, \"val\": 27.0}, {\"ts\": 1577859300.0, \"val\": 90.0}, {\"ts\": 1577859600.0, \"val\": 43.0}, {\"ts\": 1577859900.0, \"val\": 11.0}, {\"ts\": 1577860200.0, \"val\": 85.0}, {\"ts\": 1577860500.0, \"val\": 13.0}, {\"ts\": 1577861100.0, \"val\": 72.0}, {\"ts\": 1577861400.0, \"val\": 65.0}, {\"ts\": 1577861700.0, \"val\": 65.0}, {\"ts\": 1577862000.0, \"val\": 27.0}, {\"ts\": 1577862300.0, \"val\": 55.0}, {\"ts\": 1577862600.0, \"val\": 18.0}, {\"ts\": 1577863200.0, \"val\": 32.0}, {\"ts\": 1577863500.0, \"val\": 63.0}, {\"ts\": 1577863800.0, \"val\": 10.0}, {\"ts\": 1577864100.0, \"val\": 20.0}, {\"ts\": 1577864400.0, \"val\": 17.0}, {\"ts\": 1577864700.0, \"val\": 65.0}, {\"ts\": 1577865000.0, \"val\": 21.0}, {\"ts\": 1577865300.0, \"val\": 66.0}, {\"ts\": 1577865600.0, \"val\": 95.0}, {\"ts\": 1577865900.0, \"val\": 37.0}, {\"ts\": 1577866200.0, \"val\": 50.0}, {\"ts\": 1577866500.0, \"val\": 14.0}, {\"ts\": 1577867100.0, \"val\": 1.0}, {\"ts\": 1577867400.0, \"val\": 26.0}, {\"ts\": 1577867700.0, \"val\": 45.0}, {\"ts\": 1577868000.0, \"val\": 29.0}, {\"ts\": 1577868300.0, \"val\": 94.0}, {\"ts\": 1577868600.0, \"val\": 85.0}, {\"ts\": 1577868900.0, \"val\": 65.0}, {\"ts\": 1577869200.0, \"val\": 13.0}, {\"ts\": 1577869800.0, \"val\": 53.0}, {\"ts\": 1577870100.0, \"val\": 82.0}, {\"ts\": 1577870400.0, \"val\": 14.0}, {\"ts\": 1577870700.0, \"val\": 47.0}, {\"ts\": 1577871000.0, \"val\": 55.0}, {\"ts\": 1577871300.0, \"val\": 1.0}, {\"ts\": 1577871600.0, \"val\": 28.0}, {\"ts\": 1577871900.0, \"val\": 67.0}, {\"ts\": 1577873100.0, \"val\": 20.0}, {\"ts\": 1577873400.0, \"val\": 57.0}, {\"ts\": 1577873700.0, \"val\": 41.0}, {\"ts\": 1577874000.0, \"val\": 44.0}, {\"ts\": 1577874300.0, \"val\": 78.0}, {\"ts\": 1577874600.0, \"val\": 4.0}, {\"ts\": 1577874900.0, \"val\": 60.0}, {\"ts\": 1577875500.0, \"val\": 34.0}, {\"ts\": 1577876100.0, \"val\": 32.0}, {\"ts\": 1577876400.0, \"val\": 84.0}, {\"ts\": 1577877300.0, \"val\": 24.0}, {\"ts\": 1577877600.0, \"val\": 96.0}, {\"ts\": 1577878200.0, \"val\": 32.0}, {\"ts\": 1577878500.0, \"val\": 64.0}, {\"ts\": 1577878800.0, \"val\": 56.0}, {\"ts\": 1577879100.0, \"val\": 84.0}, {\"ts\": 1577879400.0, \"val\": 49.0}, {\"ts\": 1577879700.0, \"val\": 6.0}, {\"ts\": 1577880300.0, \"val\": 73.0}, {\"ts\": 1577880900.0, \"val\": 60.0}, {\"ts\": 1577881200.0, \"val\": 27.0}, {\"ts\": 1577881500.0, \"val\": 0.0}]}, \"C\": {\"data\": [{\"ts\": 1577837100.0, \"val\": 53.0}, {\"ts\": 1577837400.0, \"val\": 32.0}, {\"ts\": 1577837700.0, \"val\": 66.0}, {\"ts\": 1577838000.0, \"val\": 63.0}, {\"ts\": 1577838300.0, \"val\": 45.0}, {\"ts\": 1577838600.0, \"val\": 91.0}, {\"ts\": 1577838900.0, \"val\": 40.0}, {\"ts\": 1577839500.0, \"val\": 76.0}, {\"ts\": 1577839800.0, \"val\": 69.0}, {\"ts\": 1577840100.0, \"val\": 66.0}, {\"ts\": 1577840700.0, \"val\": 44.0}, {\"ts\": 1577841000.0, \"val\": 13.0}, {\"ts\": 1577841300.0, \"val\": 23.0}, {\"ts\": 1577841600.0, \"val\": 28.0}, {\"ts\": 1577841900.0, \"val\": 46.0}, {\"ts\": 1577842200.0, \"val\": 54.0}, {\"ts\": 1577842500.0, \"val\": 75.0}, {\"ts\": 1577842800.0, \"val\": 90.0}, {\"ts\": 1577843100.0, \"val\": 35.0}, {\"ts\": 1577843700.0, \"val\": 39.0}, {\"ts\": 1577844000.0, \"val\": 72.0}, {\"ts\": 1577844300.0, \"val\": 92.0}, {\"ts\": 1577845500.0, \"val\": 17.0}, {\"ts\": 1577845800.0, \"val\": 84.0}, {\"ts\": 1577846100.0, \"val\": 9.0}, {\"ts\": 1577846400.0, \"val\": 73.0}, {\"ts\": 1577846700.0, \"val\": 29.0}, {\"ts\": 1577847300.0, \"val\": 12.0}, {\"ts\": 1577847600.0, \"val\": 12.0}, {\"ts\": 1577847900.0, \"val\": 66.0}, {\"ts\": 1577848500.0, \"val\": 86.0}, {\"ts\": 1577849100.0, \"val\": 11.0}, {\"ts\": 1577849400.0, \"val\": 72.0}, {\"ts\": 1577849700.0, \"val\": 6.0}, {\"ts\": 1577850000.0, \"val\": 99.0}, {\"ts\": 1577850600.0, \"val\": 52.0}, {\"ts\": 1577850900.0, \"val\": 41.0}, {\"ts\": 1577851200.0, \"val\": 10.0}, {\"ts\": 1577851500.0, \"val\": 93.0}, {\"ts\": 1577851800.0, \"val\": 85.0}, {\"ts\": 1577852100.0, \"val\": 7.0}, {\"ts\": 1577852700.0, \"val\": 19.0}, {\"ts\": 1577853000.0, \"val\": 74.0}, {\"ts\": 1577853600.0, \"val\": 24.0}, {\"ts\": 1577853900.0, \"val\": 42.0}, {\"ts\": 1577854200.0, \"val\": 28.0}, {\"ts\": 1577854500.0, \"val\": 69.0}, {\"ts\": 1577854800.0, \"val\": 85.0}, {\"ts\": 1577855100.0, \"val\": 1.0}, {\"ts\": 1577855400.0, \"val\": 91.0}, {\"ts\": 1577855700.0, \"val\": 55.0}, {\"ts\": 1577856000.0, \"val\": 67.0}, {\"ts\": 1577856300.0, \"val\": 75.0}, {\"ts\": 1577856600.0, \"val\": 21.0}, {\"ts\": 1577856900.0, \"val\": 33.0}, {\"ts\": 1577857200.0, \"val\": 93.0}, {\"ts\": 1577857500.0, \"val\": 16.0}, {\"ts\": 1577858100.0, \"val\": 91.0}, {\"ts\": 1577858700.0, \"val\": 63.0}, {\"ts\": 1577859000.0, \"val\": 63.0}, {\"ts\": 1577859300.0, \"val\": 33.0}, {\"ts\": 1577859900.0, \"val\": 7.0}, {\"ts\": 1577860200.0, \"val\": 68.0}, {\"ts\": 1577860500.0, \"val\": 71.0}, {\"ts\": 1577860800.0, \"val\": 61.0}, {\"ts\": 1577861400.0, \"val\": 82.0}, {\"ts\": 1577861700.0, \"val\": 51.0}, {\"ts\": 1577862000.0, \"val\": 62.0}, {\"ts\": 1577862300.0, \"val\": 17.0}, {\"ts\": 1577862600.0, \"val\": 14.0}, {\"ts\": 1577862900.0, \"val\": 78.0}, {\"ts\": 1577863500.0, \"val\": 31.0}, {\"ts\": 1577863800.0, \"val\": 30.0}, {\"ts\": 1577864400.0, \"val\": 73.0}, {\"ts\": 1577864700.0, \"val\": 34.0}, {\"ts\": 1577865000.0, \"val\": 22.0}, {\"ts\": 1577865300.0, \"val\": 60.0}, {\"ts\": 1577865600.0, \"val\": 17.0}, {\"ts\": 1577865900.0, \"val\": 78.0}, {\"ts\": 1577866200.0, \"val\": 65.0}, {\"ts\": 1577866500.0, \"val\": 98.0}, {\"ts\": 1577866800.0, \"val\": 10.0}, {\"ts\": 1577867700.0, \"val\": 58.0}, {\"ts\": 1577868000.0, \"val\": 75.0}, {\"ts\": 1577868300.0, \"val\": 70.0}, {\"ts\": 1577868900.0, \"val\": 71.0}, {\"ts\": 1577869200.0, \"val\": 90.0}, {\"ts\": 1577869800.0, \"val\": 32.0}, {\"ts\": 1577870100.0, \"val\": 63.0}, {\"ts\": 1577870400.0, \"val\": 94.0}, {\"ts\": 1577870700.0, \"val\": 96.0}, {\"ts\": 1577871300.0, \"val\": 86.0}, {\"ts\": 1577871600.0, \"val\": 12.0}, {\"ts\": 1577871900.0, \"val\": 13.0}, {\"ts\": 1577872200.0, \"val\": 14.0}, {\"ts\": 1577872500.0, \"val\": 84.0}, {\"ts\": 1577873400.0, \"val\": 4.0}, {\"ts\": 1577873700.0, \"val\": 72.0}, {\"ts\": 1577874300.0, \"val\": 3.0}, {\"ts\": 1577874600.0, \"val\": 45.0}, {\"ts\": 1577875200.0, \"val\": 89.0}, {\"ts\": 1577875500.0, \"val\": 48.0}, {\"ts\": 1577875800.0, \"val\": 76.0}, {\"ts\": 1577876100.0, \"val\": 37.0}, {\"ts\": 1577876400.0, \"val\": 53.0}, {\"ts\": 1577876700.0, \"val\": 45.0}, {\"ts\": 1577877000.0, \"val\": 3.0}, {\"ts\": 1577877300.0, \"val\": 85.0}, {\"ts\": 1577877600.0, \"val\": 11.0}, {\"ts\": 1577877900.0, \"val\": 82.0}, {\"ts\": 1577878800.0, \"val\": 72.0}, {\"ts\": 1577879100.0, \"val\": 58.0}, {\"ts\": 1577879400.0, \"val\": 34.0}, {\"ts\": 1577879700.0, \"val\": 64.0}, {\"ts\": 1577880000.0, \"val\": 45.0}, {\"ts\": 1577880300.0, \"val\": 48.0}, {\"ts\": 1577880600.0, \"val\": 90.0}, {\"ts\": 1577880900.0, \"val\": 89.0}, {\"ts\": 1577881200.0, \"val\": 58.0}, {\"ts\": 1577881500.0, \"val\": 79.0}]}}}]\n",
    "response = server.test(path='/predict', body={'inputs':events})\n",
    "print(f\"Response: {response}\")\n",
    "print()"
   ]
  },
  {
   "cell_type": "markdown",
   "metadata": {},
   "source": [
    "## Deploy"
   ]
  },
  {
   "cell_type": "code",
   "execution_count": 145,
   "metadata": {},
   "outputs": [
    {
     "name": "stdout",
     "output_type": "stream",
     "text": [
      "> 2022-06-20 14:17:18,674 [info] Starting remote function deploy\n",
      "2022-06-20 14:17:18  (info) Deploying function\n",
      "2022-06-20 14:17:18  (info) Building\n",
      "2022-06-20 14:17:18  (info) Staging files and preparing base images\n",
      "2022-06-20 14:17:19  (info) Building processor image\n",
      "2022-06-20 14:17:25  (info) Build complete\n",
      "Failed to deploy. Details:\n",
      "Caught unhandled exception while initializing [err=\"No module named 'tensorflow'\" || traceback=\"Traceback (most recent call last):\n",
      "  File \"/opt/nuclio/_nuclio_wrapper.py\", line 409, in run_wrapper\n",
      "    args.decode_event_strings)\n",
      "  File \"/opt/nuclio/_nuclio_wrapper.py\", line 71, in __init__\n",
      "    self._entrypoint = self._load_entrypoint_from_handler(handler)\n",
      "  File \"/opt/nuclio/_nuclio_wrapper.py\", line 195, in _load_entrypoint_from_handler\n",
      "    module = __import__(module_name)\n",
      "  File \"/opt/nuclio/serving.py\", line 10, in <module>\n",
      "    from tensorflow import keras\n",
      "ModuleNotFoundError: No module named 'tensorflow'\n",
      "\" || worker_id=\"0\"]\n",
      "> 2022-06-20 14:17:41,474 [error] Nuclio function failed to deploy: {'function_state': 'error'}\n"
     ]
    },
    {
     "ename": "RunError",
     "evalue": "function model-on-demand-serving deployment failed",
     "output_type": "error",
     "traceback": [
      "\u001b[0;31m---------------------------------------------------------------------------\u001b[0m",
      "\u001b[0;31mRunError\u001b[0m                                  Traceback (most recent call last)",
      "\u001b[0;32m<ipython-input-145-de4b060a1382>\u001b[0m in \u001b[0;36m<module>\u001b[0;34m\u001b[0m\n\u001b[1;32m      3\u001b[0m \u001b[0;34m\u001b[0m\u001b[0m\n\u001b[1;32m      4\u001b[0m \u001b[0;31m# Deploy it:\u001b[0m\u001b[0;34m\u001b[0m\u001b[0;34m\u001b[0m\u001b[0;34m\u001b[0m\u001b[0m\n\u001b[0;32m----> 5\u001b[0;31m \u001b[0mserving_function\u001b[0m\u001b[0;34m.\u001b[0m\u001b[0mdeploy\u001b[0m\u001b[0;34m(\u001b[0m\u001b[0;34m)\u001b[0m\u001b[0;34m\u001b[0m\u001b[0;34m\u001b[0m\u001b[0m\n\u001b[0m",
      "\u001b[0;32m~/.pythonlibs/jupyter-vivek/lib/python3.7/site-packages/mlrun/runtimes/serving.py\u001b[0m in \u001b[0;36mdeploy\u001b[0;34m(self, dashboard, project, tag, verbose, auth_info, builder_env)\u001b[0m\n\u001b[1;32m    574\u001b[0m \u001b[0;34m\u001b[0m\u001b[0m\n\u001b[1;32m    575\u001b[0m         return super().deploy(\n\u001b[0;32m--> 576\u001b[0;31m             \u001b[0mdashboard\u001b[0m\u001b[0;34m,\u001b[0m \u001b[0mproject\u001b[0m\u001b[0;34m,\u001b[0m \u001b[0mtag\u001b[0m\u001b[0;34m,\u001b[0m \u001b[0mverbose\u001b[0m\u001b[0;34m,\u001b[0m \u001b[0mauth_info\u001b[0m\u001b[0;34m,\u001b[0m \u001b[0mbuilder_env\u001b[0m\u001b[0;34m=\u001b[0m\u001b[0mbuilder_env\u001b[0m\u001b[0;34m\u001b[0m\u001b[0;34m\u001b[0m\u001b[0m\n\u001b[0m\u001b[1;32m    577\u001b[0m         )\n\u001b[1;32m    578\u001b[0m \u001b[0;34m\u001b[0m\u001b[0m\n",
      "\u001b[0;32m~/.pythonlibs/jupyter-vivek/lib/python3.7/site-packages/mlrun/runtimes/function.py\u001b[0m in \u001b[0;36mdeploy\u001b[0;34m(self, dashboard, project, tag, verbose, auth_info, builder_env)\u001b[0m\n\u001b[1;32m    574\u001b[0m             \u001b[0mdata\u001b[0m \u001b[0;34m=\u001b[0m \u001b[0mdb\u001b[0m\u001b[0;34m.\u001b[0m\u001b[0mremote_builder\u001b[0m\u001b[0;34m(\u001b[0m\u001b[0mself\u001b[0m\u001b[0;34m,\u001b[0m \u001b[0;32mFalse\u001b[0m\u001b[0;34m,\u001b[0m \u001b[0mbuilder_env\u001b[0m\u001b[0;34m=\u001b[0m\u001b[0mbuilder_env\u001b[0m\u001b[0;34m)\u001b[0m\u001b[0;34m\u001b[0m\u001b[0;34m\u001b[0m\u001b[0m\n\u001b[1;32m    575\u001b[0m             \u001b[0mself\u001b[0m\u001b[0;34m.\u001b[0m\u001b[0mstatus\u001b[0m \u001b[0;34m=\u001b[0m \u001b[0mdata\u001b[0m\u001b[0;34m[\u001b[0m\u001b[0;34m\"data\"\u001b[0m\u001b[0;34m]\u001b[0m\u001b[0;34m.\u001b[0m\u001b[0mget\u001b[0m\u001b[0;34m(\u001b[0m\u001b[0;34m\"status\"\u001b[0m\u001b[0;34m)\u001b[0m\u001b[0;34m\u001b[0m\u001b[0;34m\u001b[0m\u001b[0m\n\u001b[0;32m--> 576\u001b[0;31m             \u001b[0mself\u001b[0m\u001b[0;34m.\u001b[0m\u001b[0m_wait_for_function_deployment\u001b[0m\u001b[0;34m(\u001b[0m\u001b[0mdb\u001b[0m\u001b[0;34m,\u001b[0m \u001b[0mverbose\u001b[0m\u001b[0;34m=\u001b[0m\u001b[0mverbose\u001b[0m\u001b[0;34m)\u001b[0m\u001b[0;34m\u001b[0m\u001b[0;34m\u001b[0m\u001b[0m\n\u001b[0m\u001b[1;32m    577\u001b[0m \u001b[0;34m\u001b[0m\u001b[0m\n\u001b[1;32m    578\u001b[0m             \u001b[0;31m# NOTE: on older mlrun versions & nuclio versions, function are exposed via NodePort\u001b[0m\u001b[0;34m\u001b[0m\u001b[0;34m\u001b[0m\u001b[0;34m\u001b[0m\u001b[0m\n",
      "\u001b[0;32m~/.pythonlibs/jupyter-vivek/lib/python3.7/site-packages/mlrun/runtimes/function.py\u001b[0m in \u001b[0;36m_wait_for_function_deployment\u001b[0;34m(self, db, verbose)\u001b[0m\n\u001b[1;32m    644\u001b[0m         \u001b[0;32mif\u001b[0m \u001b[0mstate\u001b[0m \u001b[0;34m!=\u001b[0m \u001b[0;34m\"ready\"\u001b[0m\u001b[0;34m:\u001b[0m\u001b[0;34m\u001b[0m\u001b[0;34m\u001b[0m\u001b[0m\n\u001b[1;32m    645\u001b[0m             \u001b[0mlogger\u001b[0m\u001b[0;34m.\u001b[0m\u001b[0merror\u001b[0m\u001b[0;34m(\u001b[0m\u001b[0;34m\"Nuclio function failed to deploy\"\u001b[0m\u001b[0;34m,\u001b[0m \u001b[0mfunction_state\u001b[0m\u001b[0;34m=\u001b[0m\u001b[0mstate\u001b[0m\u001b[0;34m)\u001b[0m\u001b[0;34m\u001b[0m\u001b[0;34m\u001b[0m\u001b[0m\n\u001b[0;32m--> 646\u001b[0;31m             \u001b[0;32mraise\u001b[0m \u001b[0mRunError\u001b[0m\u001b[0;34m(\u001b[0m\u001b[0;34mf\"function {self.metadata.name} deployment failed\"\u001b[0m\u001b[0;34m)\u001b[0m\u001b[0;34m\u001b[0m\u001b[0;34m\u001b[0m\u001b[0m\n\u001b[0m\u001b[1;32m    647\u001b[0m \u001b[0;34m\u001b[0m\u001b[0m\n\u001b[1;32m    648\u001b[0m     \u001b[0;34m@\u001b[0m\u001b[0mmin_nuclio_versions\u001b[0m\u001b[0;34m(\u001b[0m\u001b[0;34m\"1.5.20\"\u001b[0m\u001b[0;34m,\u001b[0m \u001b[0;34m\"1.6.10\"\u001b[0m\u001b[0;34m)\u001b[0m\u001b[0;34m\u001b[0m\u001b[0;34m\u001b[0m\u001b[0m\n",
      "\u001b[0;31mRunError\u001b[0m: function model-on-demand-serving deployment failed"
     ]
    }
   ],
   "source": [
    "# Mount it:\n",
    "serving_function.apply(mlrun.platforms.auto_mount())\n",
    "\n",
    "# Deploy it:\n",
    "serving_function.deploy()"
   ]
  },
  {
   "cell_type": "code",
   "execution_count": null,
   "metadata": {},
   "outputs": [],
   "source": [
    "# Setup the events:\n",
    "tests = 5  # Amount of events to test\n",
    "events = [\n",
    "    {\n",
    "        EventKeys.MODEL_NAME: list(models.keys())[model],\n",
    "        EventKeys.MODEL_UID: list(models.values())[model],\n",
    "        EventKeys.INPUTS: np.random.random((3,5)).tolist()\n",
    "    } for model in np.random.randint(len(models), size=tests)\n",
    "]\n",
    "\n",
    "# Run the events thorugh the serving graph:\n",
    "for i, event in enumerate(events, 1):\n",
    "    print(f\"Test {i}:\")\n",
    "    response = serving_function.invoke(path='/predict', body=event)\n",
    "    print(f\"Response: {response}\")\n",
    "    print()"
   ]
  },
  {
   "cell_type": "code",
   "execution_count": null,
   "metadata": {},
   "outputs": [],
   "source": []
  },
  {
   "cell_type": "code",
   "execution_count": null,
   "metadata": {},
   "outputs": [],
   "source": []
  }
 ],
 "metadata": {
  "kernelspec": {
   "display_name": "Python 3",
   "language": "python",
   "name": "python3"
  },
  "language_info": {
   "codemirror_mode": {
    "name": "ipython",
    "version": 3
   },
   "file_extension": ".py",
   "mimetype": "text/x-python",
   "name": "python",
   "nbconvert_exporter": "python",
   "pygments_lexer": "ipython3",
   "version": "3.7.6"
  }
 },
 "nbformat": 4,
 "nbformat_minor": 4
}
