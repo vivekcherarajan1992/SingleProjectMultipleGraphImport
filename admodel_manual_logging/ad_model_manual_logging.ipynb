{
 "cells": [
  {
   "cell_type": "markdown",
   "metadata": {},
   "source": [
    "# AD Model Inference"
   ]
  },
  {
   "cell_type": "markdown",
   "metadata": {},
   "source": [
    "## Create Project"
   ]
  },
  {
   "cell_type": "code",
   "execution_count": 54,
   "metadata": {},
   "outputs": [],
   "source": [
    "#pip install mlrun==1.0.2"
   ]
  },
  {
   "cell_type": "code",
   "execution_count": 55,
   "metadata": {},
   "outputs": [],
   "source": [
    "#pip install plotly"
   ]
  },
  {
   "cell_type": "code",
   "execution_count": 56,
   "metadata": {},
   "outputs": [],
   "source": [
    "import mlrun"
   ]
  },
  {
   "cell_type": "code",
   "execution_count": 57,
   "metadata": {},
   "outputs": [
    {
     "name": "stdout",
     "output_type": "stream",
     "text": [
      "> 2022-06-17 17:11:02,711 [info] loaded project inference-pipeline from MLRun DB\n"
     ]
    }
   ],
   "source": [
    "# Set the project name:\n",
    "project_name = \"inference-pipeline\"\n",
    "\n",
    "# Create the project:\n",
    "project = mlrun.get_or_create_project(name=project_name, context=\"./\", user_project=True)"
   ]
  },
  {
   "cell_type": "code",
   "execution_count": 58,
   "metadata": {},
   "outputs": [],
   "source": [
    "framework = \"tf-keras\""
   ]
  },
  {
   "cell_type": "code",
   "execution_count": 77,
   "metadata": {},
   "outputs": [],
   "source": [
    "no_of_models=2"
   ]
  },
  {
   "cell_type": "markdown",
   "metadata": {},
   "source": [
    "## Train the model"
   ]
  },
  {
   "cell_type": "code",
   "execution_count": 78,
   "metadata": {},
   "outputs": [],
   "source": [
    "# mlrun:start-code"
   ]
  },
  {
   "cell_type": "code",
   "execution_count": 80,
   "metadata": {},
   "outputs": [],
   "source": [
    "# mlrun:end-code"
   ]
  },
  {
   "cell_type": "code",
   "execution_count": 89,
   "metadata": {},
   "outputs": [
    {
     "data": {
      "text/plain": [
       "<mlrun.runtimes.kubejob.KubejobRuntime at 0x7f1a2edee5d0>"
      ]
     },
     "execution_count": 89,
     "metadata": {},
     "output_type": "execute_result"
    }
   ],
   "source": [
    "train_model = mlrun.code_to_function(\n",
    "    name=\"train_model\",\n",
    "    kind=\"job\", \n",
    "    filename='training.py',\n",
    "    image=\"mlrun/ml-models\"\n",
    ")\n",
    "train_model.apply(mlrun.platforms.auto_mount())"
   ]
  },
  {
   "cell_type": "code",
   "execution_count": 90,
   "metadata": {},
   "outputs": [
    {
     "name": "stdout",
     "output_type": "stream",
     "text": [
      "7ee9c38e-ee63-11ec-91ac-8fe3a4c74aa2\n"
     ]
    }
   ],
   "source": [
    "import uuid\n",
    "print(str(uuid.uuid1()))"
   ]
  },
  {
   "cell_type": "code",
   "execution_count": 91,
   "metadata": {},
   "outputs": [
    {
     "name": "stdout",
     "output_type": "stream",
     "text": [
      "> 2022-06-17 17:32:44,938 [info] starting run train_model uid=056c53a75cb640b48daa1cf6bc992ec0 DB=http://mlrun-api:8080\n",
      "> 2022-06-17 17:32:45,125 [info] Job is running in the background, pod: train-model-ps2n4\n"
     ]
    },
    {
     "data": {
      "text/html": [
       "<style>\n",
       ".dictlist {\n",
       "  background-color: #4EC64B;\n",
       "  text-align: center;\n",
       "  margin: 4px;\n",
       "  border-radius: 3px; padding: 0px 3px 1px 3px; display: inline-block;}\n",
       ".artifact {\n",
       "  cursor: pointer;\n",
       "  background-color: #4EC64B;\n",
       "  text-align: left;\n",
       "  margin: 4px; border-radius: 3px; padding: 0px 3px 1px 3px; display: inline-block;\n",
       "}\n",
       "div.block.hidden {\n",
       "  display: none;\n",
       "}\n",
       ".clickable {\n",
       "  cursor: pointer;\n",
       "}\n",
       ".ellipsis {\n",
       "  display: inline-block;\n",
       "  max-width: 60px;\n",
       "  white-space: nowrap;\n",
       "  overflow: hidden;\n",
       "  text-overflow: ellipsis;\n",
       "}\n",
       ".master-wrapper {\n",
       "  display: flex;\n",
       "  flex-flow: row nowrap;\n",
       "  justify-content: flex-start;\n",
       "  align-items: stretch;\n",
       "}\n",
       ".master-tbl {\n",
       "  flex: 3\n",
       "}\n",
       ".master-wrapper > div {\n",
       "  margin: 4px;\n",
       "  padding: 10px;\n",
       "}\n",
       "iframe.fileview {\n",
       "  border: 0 none;\n",
       "  height: 100%;\n",
       "  width: 100%;\n",
       "  white-space: pre-wrap;\n",
       "}\n",
       ".pane-header-title {\n",
       "  width: 80%;\n",
       "  font-weight: 500;\n",
       "}\n",
       ".pane-header {\n",
       "  line-height: 1;\n",
       "  background-color: #4EC64B;\n",
       "  padding: 3px;\n",
       "}\n",
       ".pane-header .close {\n",
       "  font-size: 20px;\n",
       "  font-weight: 700;\n",
       "  float: right;\n",
       "  margin-top: -5px;\n",
       "}\n",
       ".master-wrapper .right-pane {\n",
       "  border: 1px inset silver;\n",
       "  width: 40%;\n",
       "  min-height: 300px;\n",
       "  flex: 3\n",
       "  min-width: 500px;\n",
       "}\n",
       ".master-wrapper * {\n",
       "  box-sizing: border-box;\n",
       "}\n",
       "</style><script>\n",
       "function copyToClipboard(fld) {\n",
       "    if (document.queryCommandSupported && document.queryCommandSupported('copy')) {\n",
       "        var textarea = document.createElement('textarea');\n",
       "        textarea.textContent = fld.innerHTML;\n",
       "        textarea.style.position = 'fixed';\n",
       "        document.body.appendChild(textarea);\n",
       "        textarea.select();\n",
       "\n",
       "        try {\n",
       "            return document.execCommand('copy'); // Security exception may be thrown by some browsers.\n",
       "        } catch (ex) {\n",
       "\n",
       "        } finally {\n",
       "            document.body.removeChild(textarea);\n",
       "        }\n",
       "    }\n",
       "}\n",
       "function expandPanel(el) {\n",
       "  const panelName = \"#\" + el.getAttribute('paneName');\n",
       "  console.log(el.title);\n",
       "\n",
       "  document.querySelector(panelName + \"-title\").innerHTML = el.title\n",
       "  iframe = document.querySelector(panelName + \"-body\");\n",
       "\n",
       "  const tblcss = `<style> body { font-family: Arial, Helvetica, sans-serif;}\n",
       "    #csv { margin-bottom: 15px; }\n",
       "    #csv table { border-collapse: collapse;}\n",
       "    #csv table td { padding: 4px 8px; border: 1px solid silver;} </style>`;\n",
       "\n",
       "  function csvToHtmlTable(str) {\n",
       "    return '<div id=\"csv\"><table><tr><td>' +  str.replace(/[\\n\\r]+$/g, '').replace(/[\\n\\r]+/g, '</td></tr><tr><td>')\n",
       "      .replace(/,/g, '</td><td>') + '</td></tr></table></div>';\n",
       "  }\n",
       "\n",
       "  function reqListener () {\n",
       "    if (el.title.endsWith(\".csv\")) {\n",
       "      iframe.setAttribute(\"srcdoc\", tblcss + csvToHtmlTable(this.responseText));\n",
       "    } else {\n",
       "      iframe.setAttribute(\"srcdoc\", this.responseText);\n",
       "    }\n",
       "    console.log(this.responseText);\n",
       "  }\n",
       "\n",
       "  const oReq = new XMLHttpRequest();\n",
       "  oReq.addEventListener(\"load\", reqListener);\n",
       "  oReq.open(\"GET\", el.title);\n",
       "  oReq.send();\n",
       "\n",
       "\n",
       "  //iframe.src = el.title;\n",
       "  const resultPane = document.querySelector(panelName + \"-pane\");\n",
       "  if (resultPane.classList.contains(\"hidden\")) {\n",
       "    resultPane.classList.remove(\"hidden\");\n",
       "  }\n",
       "}\n",
       "function closePanel(el) {\n",
       "  const panelName = \"#\" + el.getAttribute('paneName')\n",
       "  const resultPane = document.querySelector(panelName + \"-pane\");\n",
       "  if (!resultPane.classList.contains(\"hidden\")) {\n",
       "    resultPane.classList.add(\"hidden\");\n",
       "  }\n",
       "}\n",
       "\n",
       "</script>\n",
       "<div class=\"master-wrapper\">\n",
       "  <div class=\"block master-tbl\"><div>\n",
       "<style scoped>\n",
       "    .dataframe tbody tr th:only-of-type {\n",
       "        vertical-align: middle;\n",
       "    }\n",
       "\n",
       "    .dataframe tbody tr th {\n",
       "        vertical-align: top;\n",
       "    }\n",
       "\n",
       "    .dataframe thead th {\n",
       "        text-align: right;\n",
       "    }\n",
       "</style>\n",
       "<table border=\"1\" class=\"dataframe\">\n",
       "  <thead>\n",
       "    <tr style=\"text-align: right;\">\n",
       "      <th>project</th>\n",
       "      <th>uid</th>\n",
       "      <th>iter</th>\n",
       "      <th>start</th>\n",
       "      <th>state</th>\n",
       "      <th>name</th>\n",
       "      <th>labels</th>\n",
       "      <th>inputs</th>\n",
       "      <th>parameters</th>\n",
       "      <th>results</th>\n",
       "      <th>artifacts</th>\n",
       "    </tr>\n",
       "  </thead>\n",
       "  <tbody>\n",
       "    <tr>\n",
       "      <td>inference-pipeline-vivek</td>\n",
       "      <td><div title=\"056c53a75cb640b48daa1cf6bc992ec0\"><a href=\"https://dashboard.default-tenant.app.bh-eks-demo4.aws.bentlyconnect.com/mlprojects/inference-pipeline-vivek/jobs/monitor/056c53a75cb640b48daa1cf6bc992ec0/overview\" target=\"_blank\" >...bc992ec0</a></div></td>\n",
       "      <td>0</td>\n",
       "      <td>Jun 17 17:32:45</td>\n",
       "      <td>running</td>\n",
       "      <td>train_model</td>\n",
       "      <td><div class=\"dictlist\">v3io_user=vivek</div><div class=\"dictlist\">kind=job</div><div class=\"dictlist\">owner=vivek</div><div class=\"dictlist\">mlrun/client_version=1.0.2</div></td>\n",
       "      <td></td>\n",
       "      <td><div class=\"dictlist\">insightpak_name=ad_model</div><div class=\"dictlist\">instance_id=7f77d94e-ee63-11ec-91ac-8fe3a4c74aa2</div></td>\n",
       "      <td></td>\n",
       "      <td></td>\n",
       "    </tr>\n",
       "  </tbody>\n",
       "</table>\n",
       "</div></div>\n",
       "  <div id=\"resultfeeb7f81-pane\" class=\"right-pane block hidden\">\n",
       "    <div class=\"pane-header\">\n",
       "      <span id=\"resultfeeb7f81-title\" class=\"pane-header-title\">Title</span>\n",
       "      <span onclick=\"closePanel(this)\" paneName=\"resultfeeb7f81\" class=\"close clickable\">&times;</span>\n",
       "    </div>\n",
       "    <iframe class=\"fileview\" id=\"resultfeeb7f81-body\"></iframe>\n",
       "  </div>\n",
       "</div>\n"
      ],
      "text/plain": [
       "<IPython.core.display.HTML object>"
      ]
     },
     "metadata": {},
     "output_type": "display_data"
    },
    {
     "name": "stdout",
     "output_type": "stream",
     "text": [
      "\n"
     ]
    },
    {
     "data": {
      "text/html": [
       "<b> > to track results use the .show() or .logs() methods  or <a href=\"https://dashboard.default-tenant.app.bh-eks-demo4.aws.bentlyconnect.com/mlprojects/inference-pipeline-vivek/jobs/monitor/056c53a75cb640b48daa1cf6bc992ec0/overview\" target=\"_blank\">click here</a> to open in UI</b>"
      ],
      "text/plain": [
       "<IPython.core.display.HTML object>"
      ]
     },
     "metadata": {},
     "output_type": "display_data"
    },
    {
     "name": "stdout",
     "output_type": "stream",
     "text": [
      "> 2022-06-17 17:32:45,143 [info] run executed, status=running\n",
      "run id : 056c53a75cb640b48daa1cf6bc992ec0\n",
      "> 2022-06-17 17:32:45,144 [info] starting run train_model uid=b78da1aedb584971a028bd89209b5ec3 DB=http://mlrun-api:8080\n",
      "> 2022-06-17 17:32:45,334 [info] Job is running in the background, pod: train-model-bsnlb\n"
     ]
    },
    {
     "data": {
      "text/html": [
       "<style>\n",
       ".dictlist {\n",
       "  background-color: #4EC64B;\n",
       "  text-align: center;\n",
       "  margin: 4px;\n",
       "  border-radius: 3px; padding: 0px 3px 1px 3px; display: inline-block;}\n",
       ".artifact {\n",
       "  cursor: pointer;\n",
       "  background-color: #4EC64B;\n",
       "  text-align: left;\n",
       "  margin: 4px; border-radius: 3px; padding: 0px 3px 1px 3px; display: inline-block;\n",
       "}\n",
       "div.block.hidden {\n",
       "  display: none;\n",
       "}\n",
       ".clickable {\n",
       "  cursor: pointer;\n",
       "}\n",
       ".ellipsis {\n",
       "  display: inline-block;\n",
       "  max-width: 60px;\n",
       "  white-space: nowrap;\n",
       "  overflow: hidden;\n",
       "  text-overflow: ellipsis;\n",
       "}\n",
       ".master-wrapper {\n",
       "  display: flex;\n",
       "  flex-flow: row nowrap;\n",
       "  justify-content: flex-start;\n",
       "  align-items: stretch;\n",
       "}\n",
       ".master-tbl {\n",
       "  flex: 3\n",
       "}\n",
       ".master-wrapper > div {\n",
       "  margin: 4px;\n",
       "  padding: 10px;\n",
       "}\n",
       "iframe.fileview {\n",
       "  border: 0 none;\n",
       "  height: 100%;\n",
       "  width: 100%;\n",
       "  white-space: pre-wrap;\n",
       "}\n",
       ".pane-header-title {\n",
       "  width: 80%;\n",
       "  font-weight: 500;\n",
       "}\n",
       ".pane-header {\n",
       "  line-height: 1;\n",
       "  background-color: #4EC64B;\n",
       "  padding: 3px;\n",
       "}\n",
       ".pane-header .close {\n",
       "  font-size: 20px;\n",
       "  font-weight: 700;\n",
       "  float: right;\n",
       "  margin-top: -5px;\n",
       "}\n",
       ".master-wrapper .right-pane {\n",
       "  border: 1px inset silver;\n",
       "  width: 40%;\n",
       "  min-height: 300px;\n",
       "  flex: 3\n",
       "  min-width: 500px;\n",
       "}\n",
       ".master-wrapper * {\n",
       "  box-sizing: border-box;\n",
       "}\n",
       "</style><script>\n",
       "function copyToClipboard(fld) {\n",
       "    if (document.queryCommandSupported && document.queryCommandSupported('copy')) {\n",
       "        var textarea = document.createElement('textarea');\n",
       "        textarea.textContent = fld.innerHTML;\n",
       "        textarea.style.position = 'fixed';\n",
       "        document.body.appendChild(textarea);\n",
       "        textarea.select();\n",
       "\n",
       "        try {\n",
       "            return document.execCommand('copy'); // Security exception may be thrown by some browsers.\n",
       "        } catch (ex) {\n",
       "\n",
       "        } finally {\n",
       "            document.body.removeChild(textarea);\n",
       "        }\n",
       "    }\n",
       "}\n",
       "function expandPanel(el) {\n",
       "  const panelName = \"#\" + el.getAttribute('paneName');\n",
       "  console.log(el.title);\n",
       "\n",
       "  document.querySelector(panelName + \"-title\").innerHTML = el.title\n",
       "  iframe = document.querySelector(panelName + \"-body\");\n",
       "\n",
       "  const tblcss = `<style> body { font-family: Arial, Helvetica, sans-serif;}\n",
       "    #csv { margin-bottom: 15px; }\n",
       "    #csv table { border-collapse: collapse;}\n",
       "    #csv table td { padding: 4px 8px; border: 1px solid silver;} </style>`;\n",
       "\n",
       "  function csvToHtmlTable(str) {\n",
       "    return '<div id=\"csv\"><table><tr><td>' +  str.replace(/[\\n\\r]+$/g, '').replace(/[\\n\\r]+/g, '</td></tr><tr><td>')\n",
       "      .replace(/,/g, '</td><td>') + '</td></tr></table></div>';\n",
       "  }\n",
       "\n",
       "  function reqListener () {\n",
       "    if (el.title.endsWith(\".csv\")) {\n",
       "      iframe.setAttribute(\"srcdoc\", tblcss + csvToHtmlTable(this.responseText));\n",
       "    } else {\n",
       "      iframe.setAttribute(\"srcdoc\", this.responseText);\n",
       "    }\n",
       "    console.log(this.responseText);\n",
       "  }\n",
       "\n",
       "  const oReq = new XMLHttpRequest();\n",
       "  oReq.addEventListener(\"load\", reqListener);\n",
       "  oReq.open(\"GET\", el.title);\n",
       "  oReq.send();\n",
       "\n",
       "\n",
       "  //iframe.src = el.title;\n",
       "  const resultPane = document.querySelector(panelName + \"-pane\");\n",
       "  if (resultPane.classList.contains(\"hidden\")) {\n",
       "    resultPane.classList.remove(\"hidden\");\n",
       "  }\n",
       "}\n",
       "function closePanel(el) {\n",
       "  const panelName = \"#\" + el.getAttribute('paneName')\n",
       "  const resultPane = document.querySelector(panelName + \"-pane\");\n",
       "  if (!resultPane.classList.contains(\"hidden\")) {\n",
       "    resultPane.classList.add(\"hidden\");\n",
       "  }\n",
       "}\n",
       "\n",
       "</script>\n",
       "<div class=\"master-wrapper\">\n",
       "  <div class=\"block master-tbl\"><div>\n",
       "<style scoped>\n",
       "    .dataframe tbody tr th:only-of-type {\n",
       "        vertical-align: middle;\n",
       "    }\n",
       "\n",
       "    .dataframe tbody tr th {\n",
       "        vertical-align: top;\n",
       "    }\n",
       "\n",
       "    .dataframe thead th {\n",
       "        text-align: right;\n",
       "    }\n",
       "</style>\n",
       "<table border=\"1\" class=\"dataframe\">\n",
       "  <thead>\n",
       "    <tr style=\"text-align: right;\">\n",
       "      <th>project</th>\n",
       "      <th>uid</th>\n",
       "      <th>iter</th>\n",
       "      <th>start</th>\n",
       "      <th>state</th>\n",
       "      <th>name</th>\n",
       "      <th>labels</th>\n",
       "      <th>inputs</th>\n",
       "      <th>parameters</th>\n",
       "      <th>results</th>\n",
       "      <th>artifacts</th>\n",
       "    </tr>\n",
       "  </thead>\n",
       "  <tbody>\n",
       "    <tr>\n",
       "      <td>inference-pipeline-vivek</td>\n",
       "      <td><div title=\"b78da1aedb584971a028bd89209b5ec3\"><a href=\"https://dashboard.default-tenant.app.bh-eks-demo4.aws.bentlyconnect.com/mlprojects/inference-pipeline-vivek/jobs/monitor/b78da1aedb584971a028bd89209b5ec3/overview\" target=\"_blank\" >...209b5ec3</a></div></td>\n",
       "      <td>0</td>\n",
       "      <td>Jun 17 17:32:45</td>\n",
       "      <td>running</td>\n",
       "      <td>train_model</td>\n",
       "      <td><div class=\"dictlist\">v3io_user=vivek</div><div class=\"dictlist\">kind=job</div><div class=\"dictlist\">owner=vivek</div><div class=\"dictlist\">mlrun/client_version=1.0.2</div></td>\n",
       "      <td></td>\n",
       "      <td><div class=\"dictlist\">insightpak_name=ad_model</div><div class=\"dictlist\">instance_id=7f97563e-ee63-11ec-91ac-8fe3a4c74aa2</div></td>\n",
       "      <td></td>\n",
       "      <td></td>\n",
       "    </tr>\n",
       "  </tbody>\n",
       "</table>\n",
       "</div></div>\n",
       "  <div id=\"result47bc8d7d-pane\" class=\"right-pane block hidden\">\n",
       "    <div class=\"pane-header\">\n",
       "      <span id=\"result47bc8d7d-title\" class=\"pane-header-title\">Title</span>\n",
       "      <span onclick=\"closePanel(this)\" paneName=\"result47bc8d7d\" class=\"close clickable\">&times;</span>\n",
       "    </div>\n",
       "    <iframe class=\"fileview\" id=\"result47bc8d7d-body\"></iframe>\n",
       "  </div>\n",
       "</div>\n"
      ],
      "text/plain": [
       "<IPython.core.display.HTML object>"
      ]
     },
     "metadata": {},
     "output_type": "display_data"
    },
    {
     "name": "stdout",
     "output_type": "stream",
     "text": [
      "\n"
     ]
    },
    {
     "data": {
      "text/html": [
       "<b> > to track results use the .show() or .logs() methods  or <a href=\"https://dashboard.default-tenant.app.bh-eks-demo4.aws.bentlyconnect.com/mlprojects/inference-pipeline-vivek/jobs/monitor/b78da1aedb584971a028bd89209b5ec3/overview\" target=\"_blank\">click here</a> to open in UI</b>"
      ],
      "text/plain": [
       "<IPython.core.display.HTML object>"
      ]
     },
     "metadata": {},
     "output_type": "display_data"
    },
    {
     "name": "stdout",
     "output_type": "stream",
     "text": [
      "> 2022-06-17 17:32:45,349 [info] run executed, status=running\n",
      "run id : b78da1aedb584971a028bd89209b5ec3\n"
     ]
    }
   ],
   "source": [
    "import json\n",
    "import uuid\n",
    "runs=[]\n",
    "\n",
    "for x in range(no_of_models):\n",
    "    train_model_run = train_model.run(name='train_model',\n",
    "                                      project=project.name,\n",
    "                                       handler=train_ad_model,\n",
    "                                        params={'insightpak_name': 'ad_model',\n",
    "                                           'instance_id':str(uuid.uuid1())},\n",
    "                                         watch=False)\n",
    "    \n",
    "    print(\"run id :\",train_model_run.uid())\n",
    "    runs.append(train_model_run)"
   ]
  },
  {
   "cell_type": "code",
   "execution_count": 92,
   "metadata": {},
   "outputs": [
    {
     "name": "stdout",
     "output_type": "stream",
     "text": [
      "056c53a75cb640b48daa1cf6bc992ec0\n",
      "Traceback (most recent call last):\n",
      "  File \"/opt/conda/bin/mlrun\", line 8, in <module>\n",
      "    sys.exit(main())\n",
      "  File \"/opt/conda/lib/python3.7/site-packages/click/core.py\", line 1128, in __call__\n",
      "    return self.main(*args, **kwargs)\n",
      "  File \"/opt/conda/lib/python3.7/site-packages/click/core.py\", line 1053, in main\n",
      "    rv = self.invoke(ctx)\n",
      "  File \"/opt/conda/lib/python3.7/site-packages/click/core.py\", line 1659, in invoke\n",
      "    return _process_result(sub_ctx.command.invoke(sub_ctx))\n",
      "  File \"/opt/conda/lib/python3.7/site-packages/click/core.py\", line 1395, in invoke\n",
      "    return ctx.invoke(self.callback, **ctx.params)\n",
      "  File \"/opt/conda/lib/python3.7/site-packages/click/core.py\", line 754, in invoke\n",
      "    return __callback(*args, **kwargs)\n",
      "  File \"/opt/conda/lib/python3.7/site-packages/mlrun/__main__.py\", line 365, in run\n",
      "    runobj, watch=watch, schedule=schedule, local=local, auto_build=auto_build\n",
      "  File \"/opt/conda/lib/python3.7/site-packages/mlrun/runtimes/base.py\", line 439, in run\n",
      "    resp = self._run(run, execution)\n",
      "  File \"/opt/conda/lib/python3.7/site-packages/mlrun/runtimes/local.py\", line 308, in _run\n",
      "    fn = self._get_handler(handler, context)\n",
      "  File \"/opt/conda/lib/python3.7/site-packages/mlrun/runtimes/local.py\", line 248, in _get_handler\n",
      "    return load_module(command, handler, context)\n",
      "  File \"/opt/conda/lib/python3.7/site-packages/mlrun/runtimes/local.py\", line 379, in load_module\n",
      "    spec.loader.exec_module(module)\n",
      "  File \"<frozen importlib._bootstrap_external>\", line 728, in exec_module\n",
      "  File \"<frozen importlib._bootstrap>\", line 219, in _call_with_frames_removed\n",
      "  File \"training.py\", line 10, in <module>\n",
      "    dummy_ad=mlrun.function_to_module('./dummy_ad.py')\n",
      "  File \"/opt/conda/lib/python3.7/site-packages/mlrun/run.py\", line 240, in function_to_module\n",
      "    spec.loader.exec_module(mod)\n",
      "  File \"<frozen importlib._bootstrap_external>\", line 724, in exec_module\n",
      "  File \"<frozen importlib._bootstrap_external>\", line 859, in get_code\n",
      "  File \"<frozen importlib._bootstrap_external>\", line 916, in get_data\n",
      "FileNotFoundError: [Errno 2] No such file or directory: './dummy_ad.py'\n",
      "\n"
     ]
    },
    {
     "data": {
      "text/plain": [
       "'error'"
      ]
     },
     "execution_count": 92,
     "metadata": {},
     "output_type": "execute_result"
    }
   ],
   "source": [
    "print(runs[0].uid())\n",
    "from mlrun import get_run_db\n",
    "db = get_run_db()\n",
    "db.watch_log(uid='056c53a75cb640b48daa1cf6bc992ec0', project='inference-pipeline-vivek')"
   ]
  },
  {
   "cell_type": "code",
   "execution_count": 50,
   "metadata": {},
   "outputs": [
    {
     "name": "stdout",
     "output_type": "stream",
     "text": [
      "Traceback (most recent call last):\n",
      "  File \"/opt/conda/bin/mlrun\", line 8, in <module>\n",
      "    sys.exit(main())\n",
      "  File \"/opt/conda/lib/python3.7/site-packages/click/core.py\", line 1128, in __call__\n",
      "    return self.main(*args, **kwargs)\n",
      "  File \"/opt/conda/lib/python3.7/site-packages/click/core.py\", line 1053, in main\n",
      "    rv = self.invoke(ctx)\n",
      "  File \"/opt/conda/lib/python3.7/site-packages/click/core.py\", line 1659, in invoke\n",
      "    return _process_result(sub_ctx.command.invoke(sub_ctx))\n",
      "  File \"/opt/conda/lib/python3.7/site-packages/click/core.py\", line 1395, in invoke\n",
      "    return ctx.invoke(self.callback, **ctx.params)\n",
      "  File \"/opt/conda/lib/python3.7/site-packages/click/core.py\", line 754, in invoke\n",
      "    return __callback(*args, **kwargs)\n",
      "  File \"/opt/conda/lib/python3.7/site-packages/mlrun/__main__.py\", line 365, in run\n",
      "    runobj, watch=watch, schedule=schedule, local=local, auto_build=auto_build\n",
      "  File \"/opt/conda/lib/python3.7/site-packages/mlrun/runtimes/base.py\", line 439, in run\n",
      "    resp = self._run(run, execution)\n",
      "  File \"/opt/conda/lib/python3.7/site-packages/mlrun/runtimes/local.py\", line 308, in _run\n",
      "    fn = self._get_handler(handler, context)\n",
      "  File \"/opt/conda/lib/python3.7/site-packages/mlrun/runtimes/local.py\", line 248, in _get_handler\n",
      "    return load_module(command, handler, context)\n",
      "  File \"/opt/conda/lib/python3.7/site-packages/mlrun/runtimes/local.py\", line 379, in load_module\n",
      "    spec.loader.exec_module(module)\n",
      "  File \"<frozen importlib._bootstrap_external>\", line 728, in exec_module\n",
      "  File \"<frozen importlib._bootstrap>\", line 219, in _call_with_frames_removed\n",
      "  File \"train-model.py\", line 6, in <module>\n",
      "    import dummy_ad\n",
      "ModuleNotFoundError: No module named 'dummy_ad'\n",
      "\n",
      "final state: error\n"
     ]
    },
    {
     "ename": "MLRunRuntimeError",
     "evalue": "task train_model did not complete (state=error)",
     "output_type": "error",
     "traceback": [
      "\u001b[0;31m---------------------------------------------------------------------------\u001b[0m",
      "\u001b[0;31mMLRunRuntimeError\u001b[0m                         Traceback (most recent call last)",
      "\u001b[0;32m<ipython-input-50-1e2041b44e48>\u001b[0m in \u001b[0;36m<module>\u001b[0;34m\u001b[0m\n\u001b[0;32m----> 1\u001b[0;31m \u001b[0mmodels\u001b[0m\u001b[0;34m=\u001b[0m\u001b[0mtrain_model_run\u001b[0m\u001b[0;34m.\u001b[0m\u001b[0moutputs\u001b[0m\u001b[0;34m\u001b[0m\u001b[0;34m\u001b[0m\u001b[0m\n\u001b[0m\u001b[1;32m      2\u001b[0m \u001b[0mprint\u001b[0m\u001b[0;34m(\u001b[0m\u001b[0mmodels\u001b[0m\u001b[0;34m)\u001b[0m\u001b[0;34m\u001b[0m\u001b[0;34m\u001b[0m\u001b[0m\n",
      "\u001b[0;32m~/.pythonlibs/jupyter-vivek/lib/python3.7/site-packages/mlrun/model.py\u001b[0m in \u001b[0;36moutputs\u001b[0;34m(self)\u001b[0m\n\u001b[1;32m    770\u001b[0m         \u001b[0moutputs\u001b[0m \u001b[0;34m=\u001b[0m \u001b[0;34m{\u001b[0m\u001b[0;34m}\u001b[0m\u001b[0;34m\u001b[0m\u001b[0;34m\u001b[0m\u001b[0m\n\u001b[1;32m    771\u001b[0m         \u001b[0;32mif\u001b[0m \u001b[0mself\u001b[0m\u001b[0;34m.\u001b[0m\u001b[0moutputs_wait_for_completion\u001b[0m\u001b[0;34m:\u001b[0m\u001b[0;34m\u001b[0m\u001b[0;34m\u001b[0m\u001b[0m\n\u001b[0;32m--> 772\u001b[0;31m             \u001b[0mself\u001b[0m\u001b[0;34m.\u001b[0m\u001b[0mwait_for_completion\u001b[0m\u001b[0;34m(\u001b[0m\u001b[0;34m)\u001b[0m\u001b[0;34m\u001b[0m\u001b[0;34m\u001b[0m\u001b[0m\n\u001b[0m\u001b[1;32m    773\u001b[0m         \u001b[0;32mif\u001b[0m \u001b[0mself\u001b[0m\u001b[0;34m.\u001b[0m\u001b[0mstatus\u001b[0m\u001b[0;34m.\u001b[0m\u001b[0mresults\u001b[0m\u001b[0;34m:\u001b[0m\u001b[0;34m\u001b[0m\u001b[0;34m\u001b[0m\u001b[0m\n\u001b[1;32m    774\u001b[0m             \u001b[0moutputs\u001b[0m \u001b[0;34m=\u001b[0m \u001b[0;34m{\u001b[0m\u001b[0mk\u001b[0m\u001b[0;34m:\u001b[0m \u001b[0mv\u001b[0m \u001b[0;32mfor\u001b[0m \u001b[0mk\u001b[0m\u001b[0;34m,\u001b[0m \u001b[0mv\u001b[0m \u001b[0;32min\u001b[0m \u001b[0mself\u001b[0m\u001b[0;34m.\u001b[0m\u001b[0mstatus\u001b[0m\u001b[0;34m.\u001b[0m\u001b[0mresults\u001b[0m\u001b[0;34m.\u001b[0m\u001b[0mitems\u001b[0m\u001b[0;34m(\u001b[0m\u001b[0;34m)\u001b[0m\u001b[0;34m}\u001b[0m\u001b[0;34m\u001b[0m\u001b[0;34m\u001b[0m\u001b[0m\n",
      "\u001b[0;32m~/.pythonlibs/jupyter-vivek/lib/python3.7/site-packages/mlrun/model.py\u001b[0m in \u001b[0;36mwait_for_completion\u001b[0;34m(self, sleep, timeout, raise_on_failure)\u001b[0m\n\u001b[1;32m    861\u001b[0m             \u001b[0mself\u001b[0m\u001b[0;34m.\u001b[0m\u001b[0mlogs\u001b[0m\u001b[0;34m(\u001b[0m\u001b[0mwatch\u001b[0m\u001b[0;34m=\u001b[0m\u001b[0;32mFalse\u001b[0m\u001b[0;34m)\u001b[0m\u001b[0;34m\u001b[0m\u001b[0;34m\u001b[0m\u001b[0m\n\u001b[1;32m    862\u001b[0m             raise mlrun.errors.MLRunRuntimeError(\n\u001b[0;32m--> 863\u001b[0;31m                 \u001b[0;34mf\"task {self.metadata.name} did not complete (state={state})\"\u001b[0m\u001b[0;34m\u001b[0m\u001b[0;34m\u001b[0m\u001b[0m\n\u001b[0m\u001b[1;32m    864\u001b[0m             )\n\u001b[1;32m    865\u001b[0m         \u001b[0;32mreturn\u001b[0m \u001b[0mstate\u001b[0m\u001b[0;34m\u001b[0m\u001b[0;34m\u001b[0m\u001b[0m\n",
      "\u001b[0;31mMLRunRuntimeError\u001b[0m: task train_model did not complete (state=error)"
     ]
    }
   ],
   "source": [
    "models=train_model_run.outputs\n",
    "print(models)"
   ]
  },
  {
   "cell_type": "markdown",
   "metadata": {},
   "source": [
    "## Serving Code"
   ]
  },
  {
   "cell_type": "code",
   "execution_count": 90,
   "metadata": {},
   "outputs": [],
   "source": [
    "# mlrun: start-code"
   ]
  },
  {
   "cell_type": "code",
   "execution_count": 91,
   "metadata": {},
   "outputs": [],
   "source": [
    "import os\n",
    "import gc\n",
    "import mlrun\n",
    "from mlrun.serving import V2ModelServer\n",
    "import json\n",
    "from zipfile import ZipFile\n",
    "import tempfile\n",
    "from mlrun.artifacts import get_model\n",
    "import dummy_ad\n",
    "from tensorflow import keras\n",
    "\n",
    "def preprocess(event: dict):    \n",
    "    return event\n",
    "    \n",
    "class ModelOnDemandServer(V2ModelServer):\n",
    "    def __init__(\n",
    "        self,\n",
    "        context: mlrun.MLClientCtx=None,\n",
    "        name: str = None,\n",
    "        input_path: str = None,\n",
    "        result_path: str = None,\n",
    "        **kwargs,\n",
    "    ):\n",
    "        # V2ModelServer initialization with no models:\n",
    "        super().__init__(\n",
    "            context=context,\n",
    "            name=name,\n",
    "            model_path=None,\n",
    "            model=None,\n",
    "            protocol=None,\n",
    "            input_path=input_path,\n",
    "            result_path=result_path,\n",
    "            **kwargs\n",
    "        )\n",
    "        \n",
    "        # Mark the server as ready for '_post_init' to not call 'load':\n",
    "        self.ready = True    \n",
    "    \n",
    "    def predict(self, event:dict):\n",
    "        # Unpacking event:\n",
    "        inputsList = event['inputs']\n",
    "        model_inputs=json.dumps(inputsList[0]['inputs'])\n",
    "        models=inputsList[0]['models']    \n",
    "        \n",
    "        # Loading the model:\n",
    "        print(\"Loading model...\")\n",
    "        models_path=models['ad_model']\n",
    "        tmp = tempfile.TemporaryDirectory()\n",
    "        model_file,model_obj, _ = get_model(models_path)\n",
    "        model_file = ZipFile(model_file, 'r')\n",
    "        model_file.extractall(tmp.name)        \n",
    "        model=keras.models.load_model(tmp.name)\n",
    "        \n",
    "        print(type(model))\n",
    "\n",
    "        # Inferring thourgh the model:\n",
    "        dummy_ad_obj = dummy_ad.DummyAD()\n",
    "        outputs=dummy_ad_obj.predict(model,model_inputs)        \n",
    "        \n",
    "        # model response\n",
    "        print(\"prediction : \",outputs)\n",
    "        \n",
    "        # Deleting model:\n",
    "        print(\"Releasing model from memory...\")\n",
    "        del model\n",
    "        gc.collect()\n",
    "        \n",
    "        return outputs\n",
    "\n",
    "\n",
    "def postprocess(event: dict):\n",
    "    print(\"Post processing ......\")\n",
    "    return event\n",
    "    "
   ]
  },
  {
   "cell_type": "code",
   "execution_count": 92,
   "metadata": {},
   "outputs": [],
   "source": [
    "# mlrun: end-code"
   ]
  },
  {
   "cell_type": "markdown",
   "metadata": {},
   "source": [
    "## Create Serving Function"
   ]
  },
  {
   "cell_type": "code",
   "execution_count": 76,
   "metadata": {},
   "outputs": [
    {
     "data": {
      "image/svg+xml": [
       "<?xml version=\"1.0\" encoding=\"UTF-8\" standalone=\"no\"?>\n",
       "<!DOCTYPE svg PUBLIC \"-//W3C//DTD SVG 1.1//EN\"\n",
       " \"http://www.w3.org/Graphics/SVG/1.1/DTD/svg11.dtd\">\n",
       "<!-- Generated by graphviz version 2.40.1 (20161225.0304)\n",
       " -->\n",
       "<!-- Title: mlrun&#45;flow Pages: 1 -->\n",
       "<svg width=\"709pt\" height=\"44pt\"\n",
       " viewBox=\"0.00 0.00 709.15 44.00\" xmlns=\"http://www.w3.org/2000/svg\" xmlns:xlink=\"http://www.w3.org/1999/xlink\">\n",
       "<g id=\"graph0\" class=\"graph\" transform=\"scale(1 1) rotate(0) translate(4 40)\">\n",
       "<title>mlrun&#45;flow</title>\n",
       "<polygon fill=\"#ffffff\" stroke=\"transparent\" points=\"-4,4 -4,-40 705.1527,-40 705.1527,4 -4,4\"/>\n",
       "<!-- _start -->\n",
       "<g id=\"node1\" class=\"node\">\n",
       "<title>_start</title>\n",
       "<polygon fill=\"#d3d3d3\" stroke=\"#000000\" points=\"38.5476,-.0493 40.698,-.1479 42.8263,-.2953 44.9236,-.4913 46.9815,-.7353 48.9917,-1.0266 50.9463,-1.3645 52.8377,-1.7479 54.6587,-2.1759 56.4025,-2.6472 58.0628,-3.1606 59.634,-3.7147 61.1107,-4.308 62.4882,-4.9388 63.7625,-5.6054 64.9302,-6.3059 65.9882,-7.0385 66.9343,-7.8012 67.7669,-8.5918 68.4849,-9.4082 69.0878,-10.2481 69.5758,-11.1093 69.9496,-11.9894 70.2102,-12.886 70.3595,-13.7965 70.3997,-14.7186 70.3334,-15.6497 70.1636,-16.5873 69.8937,-17.5287 69.5276,-18.4713 69.0691,-19.4127 68.5225,-20.3503 67.8923,-21.2814 67.1831,-22.2035 66.3996,-23.114 65.5464,-24.0106 64.6285,-24.8907 63.6504,-25.7519 62.617,-26.5918 61.5329,-27.4082 60.4024,-28.1988 59.2299,-28.9615 58.0197,-29.6941 56.7755,-30.3946 55.5012,-31.0612 54.2002,-31.692 52.8757,-32.2853 51.5309,-32.8394 50.1684,-33.3528 48.7908,-33.8241 47.4003,-34.2521 45.9989,-34.6355 44.5886,-34.9734 43.1708,-35.2647 41.7472,-35.5087 40.3189,-35.7047 38.8872,-35.8521 37.4531,-35.9507 36.0175,-36 34.5815,-36 33.146,-35.9507 31.7119,-35.8521 30.2801,-35.7047 28.8519,-35.5087 27.4282,-35.2647 26.0105,-34.9734 24.6001,-34.6355 23.1988,-34.2521 21.8083,-33.8241 20.4306,-33.3528 19.0681,-32.8394 17.7233,-32.2853 16.3989,-31.692 15.0979,-31.0612 13.8236,-30.3946 12.5794,-29.6941 11.3691,-28.9615 10.1967,-28.1988 9.0662,-27.4082 7.982,-26.5918 6.9486,-25.7519 5.9706,-24.8907 5.0526,-24.0106 4.1995,-23.114 3.4159,-22.2035 2.7067,-21.2814 2.0765,-20.3503 1.53,-19.4127 1.0715,-18.4713 .7053,-17.5287 .4355,-16.5873 .2657,-15.6497 .1993,-14.7186 .2395,-13.7965 .3888,-12.886 .6495,-11.9894 1.0232,-11.1093 1.5112,-10.2481 2.1141,-9.4082 2.8321,-8.5918 3.6647,-7.8012 4.6109,-7.0385 5.6689,-6.3059 6.8365,-5.6054 8.1108,-4.9388 9.4884,-4.308 10.9651,-3.7147 12.5362,-3.1606 14.1966,-2.6472 15.9404,-2.1759 17.7614,-1.7479 19.6528,-1.3645 21.6074,-1.0266 23.6176,-.7353 25.6755,-.4913 27.7728,-.2953 29.901,-.1479 32.0515,-.0493 34.2154,0 36.3837,0 38.5476,-.0493\"/>\n",
       "<text text-anchor=\"middle\" x=\"35.2995\" y=\"-14.3\" font-family=\"Times,serif\" font-size=\"14.00\" fill=\"#000000\">start</text>\n",
       "</g>\n",
       "<!-- preprocess -->\n",
       "<g id=\"node2\" class=\"node\">\n",
       "<title>preprocess</title>\n",
       "<ellipse fill=\"none\" stroke=\"#000000\" cx=\"168.9935\" cy=\"-18\" rx=\"62.2891\" ry=\"18\"/>\n",
       "<text text-anchor=\"middle\" x=\"168.9935\" y=\"-14.3\" font-family=\"Times,serif\" font-size=\"14.00\" fill=\"#000000\">preprocess</text>\n",
       "</g>\n",
       "<!-- _start&#45;&gt;preprocess -->\n",
       "<g id=\"edge1\" class=\"edge\">\n",
       "<title>_start&#45;&gt;preprocess</title>\n",
       "<path fill=\"none\" stroke=\"#000000\" d=\"M69.729,-18C77.9676,-18 87.0729,-18 96.3281,-18\"/>\n",
       "<polygon fill=\"#000000\" stroke=\"#000000\" points=\"96.3959,-21.5001 106.3959,-18 96.3958,-14.5001 96.3959,-21.5001\"/>\n",
       "</g>\n",
       "<!-- model_on_demand_server -->\n",
       "<g id=\"node3\" class=\"node\">\n",
       "<title>model_on_demand_server</title>\n",
       "<ellipse fill=\"none\" stroke=\"#000000\" cx=\"399.3263\" cy=\"-18\" rx=\"131.8766\" ry=\"18\"/>\n",
       "<text text-anchor=\"middle\" x=\"399.3263\" y=\"-14.3\" font-family=\"Times,serif\" font-size=\"14.00\" fill=\"#000000\">model_on_demand_server</text>\n",
       "</g>\n",
       "<!-- preprocess&#45;&gt;model_on_demand_server -->\n",
       "<g id=\"edge2\" class=\"edge\">\n",
       "<title>preprocess&#45;&gt;model_on_demand_server</title>\n",
       "<path fill=\"none\" stroke=\"#000000\" d=\"M231.6287,-18C239.759,-18 248.3338,-18 257.1316,-18\"/>\n",
       "<polygon fill=\"#000000\" stroke=\"#000000\" points=\"257.1477,-21.5001 267.1477,-18 257.1476,-14.5001 257.1477,-21.5001\"/>\n",
       "</g>\n",
       "<!-- postprocess -->\n",
       "<g id=\"node4\" class=\"node\">\n",
       "<title>postprocess</title>\n",
       "<ellipse fill=\"none\" stroke=\"#000000\" cx=\"634.2086\" cy=\"-18\" rx=\"66.8882\" ry=\"18\"/>\n",
       "<text text-anchor=\"middle\" x=\"634.2086\" y=\"-14.3\" font-family=\"Times,serif\" font-size=\"14.00\" fill=\"#000000\">postprocess</text>\n",
       "</g>\n",
       "<!-- model_on_demand_server&#45;&gt;postprocess -->\n",
       "<g id=\"edge3\" class=\"edge\">\n",
       "<title>model_on_demand_server&#45;&gt;postprocess</title>\n",
       "<path fill=\"none\" stroke=\"#000000\" d=\"M531.5275,-18C540.1824,-18 548.7287,-18 556.9743,-18\"/>\n",
       "<polygon fill=\"#000000\" stroke=\"#000000\" points=\"557.2434,-21.5001 567.2433,-18 557.2433,-14.5001 557.2434,-21.5001\"/>\n",
       "</g>\n",
       "</g>\n",
       "</svg>\n"
      ],
      "text/plain": [
       "<graphviz.dot.Digraph at 0x7f2c801610d0>"
      ]
     },
     "execution_count": 76,
     "metadata": {},
     "output_type": "execute_result"
    }
   ],
   "source": [
    "# Create the function:\n",
    "serving_function = mlrun.code_to_function(\n",
    "    name=\"model-on-demand-serving\", \n",
    "    kind=\"serving\", \n",
    "    image=\"mlrun/mlrun\",\n",
    ")\n",
    "\n",
    "# Set the topology and get the graph object:\n",
    "graph = serving_function.set_topology(\"flow\", engine=\"async\")\n",
    "\n",
    "# Build the serving graph:\n",
    "graph.to(handler=\"preprocess\", name=\"preprocess\")\\\n",
    "     .to(class_name=\"ModelOnDemandServer\", name=\"model_on_demand_server\")\\\n",
    "     .to(handler=\"postprocess\", name=\"postprocess\").respond()\n",
    "\n",
    "# Plot to graph:\n",
    "graph.plot(rankdir='LR')"
   ]
  },
  {
   "cell_type": "markdown",
   "metadata": {},
   "source": [
    "## Test Via Mock Server"
   ]
  },
  {
   "cell_type": "code",
   "execution_count": 77,
   "metadata": {},
   "outputs": [],
   "source": [
    "# Create our server:\n",
    "server = serving_function.to_mock_server()"
   ]
  },
  {
   "cell_type": "code",
   "execution_count": 78,
   "metadata": {},
   "outputs": [
    {
     "name": "stdout",
     "output_type": "stream",
     "text": [
      "Loading model...\n",
      "> 2022-06-16 14:05:06,698 [error] Pushing error to error stream: name 'keras' is not defined\n",
      "Traceback (most recent call last):\n",
      "  File \"/User/.pythonlibs/jupyter-vivek/lib/python3.7/site-packages/storey/flow.py\", line 167, in _do_and_recover\n",
      "    return await self._do(event)\n",
      "  File \"/User/.pythonlibs/jupyter-vivek/lib/python3.7/site-packages/storey/flow.py\", line 363, in _do\n",
      "    fn_result = await self._call(element)\n",
      "  File \"/User/.pythonlibs/jupyter-vivek/lib/python3.7/site-packages/storey/flow.py\", line 350, in _call\n",
      "    res = self._fn(element)\n",
      "  File \"/User/.pythonlibs/jupyter-vivek/lib/python3.7/site-packages/mlrun/serving/v2_serving.py\", line 249, in do_event\n",
      "    raise exc\n",
      "  File \"/User/.pythonlibs/jupyter-vivek/lib/python3.7/site-packages/mlrun/serving/v2_serving.py\", line 244, in do_event\n",
      "    outputs = self.predict(request)\n",
      "  File \"/tmp/tmpqt4rz572-model-on-demand-serving.py\", line 79, in predict\n",
      "    model=keras.models.load_model(tmp.name)\n",
      "NameError: name 'keras' is not defined\n",
      "\n",
      "> 2022-06-16 14:05:06,702 [error] run error, Traceback (most recent call last):\n",
      "  File \"/User/.pythonlibs/jupyter-vivek/lib/python3.7/site-packages/mlrun/serving/server.py\", line 262, in run\n",
      "    response = self.graph.run(event, **(extra_args or {}))\n",
      "  File \"/User/.pythonlibs/jupyter-vivek/lib/python3.7/site-packages/mlrun/serving/states.py\", line 1119, in run\n",
      "    return resp.await_result()\n",
      "  File \"/User/.pythonlibs/jupyter-vivek/lib/python3.7/site-packages/storey/sources.py\", line 39, in await_result\n",
      "    raise copy.copy(result)\n",
      "  File \"/User/.pythonlibs/jupyter-vivek/lib/python3.7/site-packages/storey/flow.py\", line 167, in _do_and_recover\n",
      "    return await self._do(event)\n",
      "  File \"/User/.pythonlibs/jupyter-vivek/lib/python3.7/site-packages/storey/flow.py\", line 363, in _do\n",
      "    fn_result = await self._call(element)\n",
      "  File \"/User/.pythonlibs/jupyter-vivek/lib/python3.7/site-packages/storey/flow.py\", line 350, in _call\n",
      "    res = self._fn(element)\n",
      "  File \"/User/.pythonlibs/jupyter-vivek/lib/python3.7/site-packages/mlrun/serving/v2_serving.py\", line 249, in do_event\n",
      "    raise exc\n",
      "  File \"/User/.pythonlibs/jupyter-vivek/lib/python3.7/site-packages/mlrun/serving/v2_serving.py\", line 244, in do_event\n",
      "    outputs = self.predict(request)\n",
      "  File \"/tmp/tmpqt4rz572-model-on-demand-serving.py\", line 79, in predict\n",
      "    model=keras.models.load_model(tmp.name)\n",
      "NameError: name 'keras' is not defined\n",
      "\n"
     ]
    },
    {
     "ename": "RuntimeError",
     "evalue": "failed (400): NameError: name 'keras' is not defined",
     "output_type": "error",
     "traceback": [
      "\u001b[0;31m---------------------------------------------------------------------------\u001b[0m",
      "\u001b[0;31mRuntimeError\u001b[0m                              Traceback (most recent call last)",
      "\u001b[0;32m<ipython-input-78-f504c4b7679f>\u001b[0m in \u001b[0;36m<module>\u001b[0;34m\u001b[0m\n\u001b[1;32m      2\u001b[0m \u001b[0mtests\u001b[0m \u001b[0;34m=\u001b[0m \u001b[0;36m5\u001b[0m  \u001b[0;31m# Amount of events to test\u001b[0m\u001b[0;34m\u001b[0m\u001b[0;34m\u001b[0m\u001b[0m\n\u001b[1;32m      3\u001b[0m \u001b[0mevents\u001b[0m \u001b[0;34m=\u001b[0m\u001b[0;34m[\u001b[0m\u001b[0;34m{\u001b[0m\u001b[0;34m'models'\u001b[0m\u001b[0;34m:\u001b[0m\u001b[0mmodels\u001b[0m\u001b[0;34m,\u001b[0m\u001b[0;34m'inputs'\u001b[0m\u001b[0;34m:\u001b[0m \u001b[0;34m{\u001b[0m\u001b[0;34m\"A\"\u001b[0m\u001b[0;34m:\u001b[0m \u001b[0;34m{\u001b[0m\u001b[0;34m\"data\"\u001b[0m\u001b[0;34m:\u001b[0m \u001b[0;34m[\u001b[0m\u001b[0;34m{\u001b[0m\u001b[0;34m\"ts\"\u001b[0m\u001b[0;34m:\u001b[0m \u001b[0;36m1577836800.0\u001b[0m\u001b[0;34m,\u001b[0m \u001b[0;34m\"val\"\u001b[0m\u001b[0;34m:\u001b[0m \u001b[0;36m61.0\u001b[0m\u001b[0;34m}\u001b[0m\u001b[0;34m,\u001b[0m \u001b[0;34m{\u001b[0m\u001b[0;34m\"ts\"\u001b[0m\u001b[0;34m:\u001b[0m \u001b[0;36m1577837100.0\u001b[0m\u001b[0;34m,\u001b[0m \u001b[0;34m\"val\"\u001b[0m\u001b[0;34m:\u001b[0m \u001b[0;36m16.0\u001b[0m\u001b[0;34m}\u001b[0m\u001b[0;34m,\u001b[0m \u001b[0;34m{\u001b[0m\u001b[0;34m\"ts\"\u001b[0m\u001b[0;34m:\u001b[0m \u001b[0;36m1577837400.0\u001b[0m\u001b[0;34m,\u001b[0m \u001b[0;34m\"val\"\u001b[0m\u001b[0;34m:\u001b[0m \u001b[0;36m12.0\u001b[0m\u001b[0;34m}\u001b[0m\u001b[0;34m,\u001b[0m \u001b[0;34m{\u001b[0m\u001b[0;34m\"ts\"\u001b[0m\u001b[0;34m:\u001b[0m \u001b[0;36m1577837700.0\u001b[0m\u001b[0;34m,\u001b[0m \u001b[0;34m\"val\"\u001b[0m\u001b[0;34m:\u001b[0m \u001b[0;36m26.0\u001b[0m\u001b[0;34m}\u001b[0m\u001b[0;34m,\u001b[0m \u001b[0;34m{\u001b[0m\u001b[0;34m\"ts\"\u001b[0m\u001b[0;34m:\u001b[0m \u001b[0;36m1577838000.0\u001b[0m\u001b[0;34m,\u001b[0m \u001b[0;34m\"val\"\u001b[0m\u001b[0;34m:\u001b[0m \u001b[0;36m47.0\u001b[0m\u001b[0;34m}\u001b[0m\u001b[0;34m,\u001b[0m \u001b[0;34m{\u001b[0m\u001b[0;34m\"ts\"\u001b[0m\u001b[0;34m:\u001b[0m \u001b[0;36m1577838300.0\u001b[0m\u001b[0;34m,\u001b[0m \u001b[0;34m\"val\"\u001b[0m\u001b[0;34m:\u001b[0m \u001b[0;36m54.0\u001b[0m\u001b[0;34m}\u001b[0m\u001b[0;34m,\u001b[0m \u001b[0;34m{\u001b[0m\u001b[0;34m\"ts\"\u001b[0m\u001b[0;34m:\u001b[0m \u001b[0;36m1577838600.0\u001b[0m\u001b[0;34m,\u001b[0m \u001b[0;34m\"val\"\u001b[0m\u001b[0;34m:\u001b[0m \u001b[0;36m18.0\u001b[0m\u001b[0;34m}\u001b[0m\u001b[0;34m,\u001b[0m \u001b[0;34m{\u001b[0m\u001b[0;34m\"ts\"\u001b[0m\u001b[0;34m:\u001b[0m \u001b[0;36m1577838900.0\u001b[0m\u001b[0;34m,\u001b[0m \u001b[0;34m\"val\"\u001b[0m\u001b[0;34m:\u001b[0m \u001b[0;36m87.0\u001b[0m\u001b[0;34m}\u001b[0m\u001b[0;34m,\u001b[0m \u001b[0;34m{\u001b[0m\u001b[0;34m\"ts\"\u001b[0m\u001b[0;34m:\u001b[0m \u001b[0;36m1577839200.0\u001b[0m\u001b[0;34m,\u001b[0m \u001b[0;34m\"val\"\u001b[0m\u001b[0;34m:\u001b[0m \u001b[0;36m93.0\u001b[0m\u001b[0;34m}\u001b[0m\u001b[0;34m,\u001b[0m \u001b[0;34m{\u001b[0m\u001b[0;34m\"ts\"\u001b[0m\u001b[0;34m:\u001b[0m \u001b[0;36m1577839800.0\u001b[0m\u001b[0;34m,\u001b[0m \u001b[0;34m\"val\"\u001b[0m\u001b[0;34m:\u001b[0m \u001b[0;36m72.0\u001b[0m\u001b[0;34m}\u001b[0m\u001b[0;34m,\u001b[0m \u001b[0;34m{\u001b[0m\u001b[0;34m\"ts\"\u001b[0m\u001b[0;34m:\u001b[0m \u001b[0;36m1577840100.0\u001b[0m\u001b[0;34m,\u001b[0m \u001b[0;34m\"val\"\u001b[0m\u001b[0;34m:\u001b[0m \u001b[0;36m73.0\u001b[0m\u001b[0;34m}\u001b[0m\u001b[0;34m,\u001b[0m \u001b[0;34m{\u001b[0m\u001b[0;34m\"ts\"\u001b[0m\u001b[0;34m:\u001b[0m \u001b[0;36m1577840400.0\u001b[0m\u001b[0;34m,\u001b[0m \u001b[0;34m\"val\"\u001b[0m\u001b[0;34m:\u001b[0m \u001b[0;36m54.0\u001b[0m\u001b[0;34m}\u001b[0m\u001b[0;34m,\u001b[0m \u001b[0;34m{\u001b[0m\u001b[0;34m\"ts\"\u001b[0m\u001b[0;34m:\u001b[0m \u001b[0;36m1577840700.0\u001b[0m\u001b[0;34m,\u001b[0m \u001b[0;34m\"val\"\u001b[0m\u001b[0;34m:\u001b[0m \u001b[0;36m64.0\u001b[0m\u001b[0;34m}\u001b[0m\u001b[0;34m,\u001b[0m \u001b[0;34m{\u001b[0m\u001b[0;34m\"ts\"\u001b[0m\u001b[0;34m:\u001b[0m \u001b[0;36m1577841000.0\u001b[0m\u001b[0;34m,\u001b[0m \u001b[0;34m\"val\"\u001b[0m\u001b[0;34m:\u001b[0m \u001b[0;36m17.0\u001b[0m\u001b[0;34m}\u001b[0m\u001b[0;34m,\u001b[0m \u001b[0;34m{\u001b[0m\u001b[0;34m\"ts\"\u001b[0m\u001b[0;34m:\u001b[0m \u001b[0;36m1577841600.0\u001b[0m\u001b[0;34m,\u001b[0m \u001b[0;34m\"val\"\u001b[0m\u001b[0;34m:\u001b[0m \u001b[0;36m2.0\u001b[0m\u001b[0;34m}\u001b[0m\u001b[0;34m,\u001b[0m \u001b[0;34m{\u001b[0m\u001b[0;34m\"ts\"\u001b[0m\u001b[0;34m:\u001b[0m \u001b[0;36m1577841900.0\u001b[0m\u001b[0;34m,\u001b[0m \u001b[0;34m\"val\"\u001b[0m\u001b[0;34m:\u001b[0m \u001b[0;36m41.0\u001b[0m\u001b[0;34m}\u001b[0m\u001b[0;34m,\u001b[0m \u001b[0;34m{\u001b[0m\u001b[0;34m\"ts\"\u001b[0m\u001b[0;34m:\u001b[0m \u001b[0;36m1577842200.0\u001b[0m\u001b[0;34m,\u001b[0m \u001b[0;34m\"val\"\u001b[0m\u001b[0;34m:\u001b[0m \u001b[0;36m82.0\u001b[0m\u001b[0;34m}\u001b[0m\u001b[0;34m,\u001b[0m \u001b[0;34m{\u001b[0m\u001b[0;34m\"ts\"\u001b[0m\u001b[0;34m:\u001b[0m \u001b[0;36m1577842800.0\u001b[0m\u001b[0;34m,\u001b[0m \u001b[0;34m\"val\"\u001b[0m\u001b[0;34m:\u001b[0m \u001b[0;36m99.0\u001b[0m\u001b[0;34m}\u001b[0m\u001b[0;34m,\u001b[0m \u001b[0;34m{\u001b[0m\u001b[0;34m\"ts\"\u001b[0m\u001b[0;34m:\u001b[0m \u001b[0;36m1577843100.0\u001b[0m\u001b[0;34m,\u001b[0m \u001b[0;34m\"val\"\u001b[0m\u001b[0;34m:\u001b[0m \u001b[0;36m56.0\u001b[0m\u001b[0;34m}\u001b[0m\u001b[0;34m,\u001b[0m \u001b[0;34m{\u001b[0m\u001b[0;34m\"ts\"\u001b[0m\u001b[0;34m:\u001b[0m \u001b[0;36m1577843400.0\u001b[0m\u001b[0;34m,\u001b[0m \u001b[0;34m\"val\"\u001b[0m\u001b[0;34m:\u001b[0m \u001b[0;36m8.0\u001b[0m\u001b[0;34m}\u001b[0m\u001b[0;34m,\u001b[0m \u001b[0;34m{\u001b[0m\u001b[0;34m\"ts\"\u001b[0m\u001b[0;34m:\u001b[0m \u001b[0;36m1577843700.0\u001b[0m\u001b[0;34m,\u001b[0m \u001b[0;34m\"val\"\u001b[0m\u001b[0;34m:\u001b[0m \u001b[0;36m49.0\u001b[0m\u001b[0;34m}\u001b[0m\u001b[0;34m,\u001b[0m \u001b[0;34m{\u001b[0m\u001b[0;34m\"ts\"\u001b[0m\u001b[0;34m:\u001b[0m \u001b[0;36m1577844000.0\u001b[0m\u001b[0;34m,\u001b[0m \u001b[0;34m\"val\"\u001b[0m\u001b[0;34m:\u001b[0m \u001b[0;36m83.0\u001b[0m\u001b[0;34m}\u001b[0m\u001b[0;34m,\u001b[0m \u001b[0;34m{\u001b[0m\u001b[0;34m\"ts\"\u001b[0m\u001b[0;34m:\u001b[0m \u001b[0;36m1577844300.0\u001b[0m\u001b[0;34m,\u001b[0m \u001b[0;34m\"val\"\u001b[0m\u001b[0;34m:\u001b[0m \u001b[0;36m58.0\u001b[0m\u001b[0;34m}\u001b[0m\u001b[0;34m,\u001b[0m \u001b[0;34m{\u001b[0m\u001b[0;34m\"ts\"\u001b[0m\u001b[0;34m:\u001b[0m \u001b[0;36m1577844900.0\u001b[0m\u001b[0;34m,\u001b[0m \u001b[0;34m\"val\"\u001b[0m\u001b[0;34m:\u001b[0m \u001b[0;36m23.0\u001b[0m\u001b[0;34m}\u001b[0m\u001b[0;34m,\u001b[0m \u001b[0;34m{\u001b[0m\u001b[0;34m\"ts\"\u001b[0m\u001b[0;34m:\u001b[0m \u001b[0;36m1577845500.0\u001b[0m\u001b[0;34m,\u001b[0m \u001b[0;34m\"val\"\u001b[0m\u001b[0;34m:\u001b[0m \u001b[0;36m97.0\u001b[0m\u001b[0;34m}\u001b[0m\u001b[0;34m,\u001b[0m \u001b[0;34m{\u001b[0m\u001b[0;34m\"ts\"\u001b[0m\u001b[0;34m:\u001b[0m \u001b[0;36m1577845800.0\u001b[0m\u001b[0;34m,\u001b[0m \u001b[0;34m\"val\"\u001b[0m\u001b[0;34m:\u001b[0m \u001b[0;36m3.0\u001b[0m\u001b[0;34m}\u001b[0m\u001b[0;34m,\u001b[0m \u001b[0;34m{\u001b[0m\u001b[0;34m\"ts\"\u001b[0m\u001b[0;34m:\u001b[0m \u001b[0;36m1577846100.0\u001b[0m\u001b[0;34m,\u001b[0m \u001b[0;34m\"val\"\u001b[0m\u001b[0;34m:\u001b[0m \u001b[0;36m39.0\u001b[0m\u001b[0;34m}\u001b[0m\u001b[0;34m,\u001b[0m \u001b[0;34m{\u001b[0m\u001b[0;34m\"ts\"\u001b[0m\u001b[0;34m:\u001b[0m \u001b[0;36m1577846400.0\u001b[0m\u001b[0;34m,\u001b[0m \u001b[0;34m\"val\"\u001b[0m\u001b[0;34m:\u001b[0m \u001b[0;36m6.0\u001b[0m\u001b[0;34m}\u001b[0m\u001b[0;34m,\u001b[0m \u001b[0;34m{\u001b[0m\u001b[0;34m\"ts\"\u001b[0m\u001b[0;34m:\u001b[0m \u001b[0;36m1577846700.0\u001b[0m\u001b[0;34m,\u001b[0m \u001b[0;34m\"val\"\u001b[0m\u001b[0;34m:\u001b[0m \u001b[0;36m4.0\u001b[0m\u001b[0;34m}\u001b[0m\u001b[0;34m,\u001b[0m \u001b[0;34m{\u001b[0m\u001b[0;34m\"ts\"\u001b[0m\u001b[0;34m:\u001b[0m \u001b[0;36m1577847000.0\u001b[0m\u001b[0;34m,\u001b[0m \u001b[0;34m\"val\"\u001b[0m\u001b[0;34m:\u001b[0m \u001b[0;36m42.0\u001b[0m\u001b[0;34m}\u001b[0m\u001b[0;34m,\u001b[0m \u001b[0;34m{\u001b[0m\u001b[0;34m\"ts\"\u001b[0m\u001b[0;34m:\u001b[0m \u001b[0;36m1577847300.0\u001b[0m\u001b[0;34m,\u001b[0m \u001b[0;34m\"val\"\u001b[0m\u001b[0;34m:\u001b[0m \u001b[0;36m46.0\u001b[0m\u001b[0;34m}\u001b[0m\u001b[0;34m,\u001b[0m \u001b[0;34m{\u001b[0m\u001b[0;34m\"ts\"\u001b[0m\u001b[0;34m:\u001b[0m \u001b[0;36m1577847600.0\u001b[0m\u001b[0;34m,\u001b[0m \u001b[0;34m\"val\"\u001b[0m\u001b[0;34m:\u001b[0m \u001b[0;36m44.0\u001b[0m\u001b[0;34m}\u001b[0m\u001b[0;34m,\u001b[0m \u001b[0;34m{\u001b[0m\u001b[0;34m\"ts\"\u001b[0m\u001b[0;34m:\u001b[0m \u001b[0;36m1577848200.0\u001b[0m\u001b[0;34m,\u001b[0m \u001b[0;34m\"val\"\u001b[0m\u001b[0;34m:\u001b[0m \u001b[0;36m67.0\u001b[0m\u001b[0;34m}\u001b[0m\u001b[0;34m,\u001b[0m \u001b[0;34m{\u001b[0m\u001b[0;34m\"ts\"\u001b[0m\u001b[0;34m:\u001b[0m \u001b[0;36m1577848500.0\u001b[0m\u001b[0;34m,\u001b[0m \u001b[0;34m\"val\"\u001b[0m\u001b[0;34m:\u001b[0m \u001b[0;36m67.0\u001b[0m\u001b[0;34m}\u001b[0m\u001b[0;34m,\u001b[0m \u001b[0;34m{\u001b[0m\u001b[0;34m\"ts\"\u001b[0m\u001b[0;34m:\u001b[0m \u001b[0;36m1577848800.0\u001b[0m\u001b[0;34m,\u001b[0m \u001b[0;34m\"val\"\u001b[0m\u001b[0;34m:\u001b[0m \u001b[0;36m87.0\u001b[0m\u001b[0;34m}\u001b[0m\u001b[0;34m,\u001b[0m \u001b[0;34m{\u001b[0m\u001b[0;34m\"ts\"\u001b[0m\u001b[0;34m:\u001b[0m \u001b[0;36m1577849100.0\u001b[0m\u001b[0;34m,\u001b[0m \u001b[0;34m\"val\"\u001b[0m\u001b[0;34m:\u001b[0m \u001b[0;36m61.0\u001b[0m\u001b[0;34m}\u001b[0m\u001b[0;34m,\u001b[0m \u001b[0;34m{\u001b[0m\u001b[0;34m\"ts\"\u001b[0m\u001b[0;34m:\u001b[0m \u001b[0;36m1577849400.0\u001b[0m\u001b[0;34m,\u001b[0m \u001b[0;34m\"val\"\u001b[0m\u001b[0;34m:\u001b[0m \u001b[0;36m61.0\u001b[0m\u001b[0;34m}\u001b[0m\u001b[0;34m,\u001b[0m \u001b[0;34m{\u001b[0m\u001b[0;34m\"ts\"\u001b[0m\u001b[0;34m:\u001b[0m \u001b[0;36m1577849700.0\u001b[0m\u001b[0;34m,\u001b[0m \u001b[0;34m\"val\"\u001b[0m\u001b[0;34m:\u001b[0m \u001b[0;36m89.0\u001b[0m\u001b[0;34m}\u001b[0m\u001b[0;34m,\u001b[0m \u001b[0;34m{\u001b[0m\u001b[0;34m\"ts\"\u001b[0m\u001b[0;34m:\u001b[0m \u001b[0;36m1577850000.0\u001b[0m\u001b[0;34m,\u001b[0m \u001b[0;34m\"val\"\u001b[0m\u001b[0;34m:\u001b[0m \u001b[0;36m28.0\u001b[0m\u001b[0;34m}\u001b[0m\u001b[0;34m,\u001b[0m \u001b[0;34m{\u001b[0m\u001b[0;34m\"ts\"\u001b[0m\u001b[0;34m:\u001b[0m \u001b[0;36m1577850900.0\u001b[0m\u001b[0;34m,\u001b[0m \u001b[0;34m\"val\"\u001b[0m\u001b[0;34m:\u001b[0m \u001b[0;36m10.0\u001b[0m\u001b[0;34m}\u001b[0m\u001b[0;34m,\u001b[0m \u001b[0;34m{\u001b[0m\u001b[0;34m\"ts\"\u001b[0m\u001b[0;34m:\u001b[0m \u001b[0;36m1577851200.0\u001b[0m\u001b[0;34m,\u001b[0m \u001b[0;34m\"val\"\u001b[0m\u001b[0;34m:\u001b[0m \u001b[0;36m72.0\u001b[0m\u001b[0;34m}\u001b[0m\u001b[0;34m,\u001b[0m \u001b[0;34m{\u001b[0m\u001b[0;34m\"ts\"\u001b[0m\u001b[0;34m:\u001b[0m \u001b[0;36m1577851800.0\u001b[0m\u001b[0;34m,\u001b[0m \u001b[0;34m\"val\"\u001b[0m\u001b[0;34m:\u001b[0m \u001b[0;36m35.0\u001b[0m\u001b[0;34m}\u001b[0m\u001b[0;34m,\u001b[0m \u001b[0;34m{\u001b[0m\u001b[0;34m\"ts\"\u001b[0m\u001b[0;34m:\u001b[0m \u001b[0;36m1577852100.0\u001b[0m\u001b[0;34m,\u001b[0m \u001b[0;34m\"val\"\u001b[0m\u001b[0;34m:\u001b[0m \u001b[0;36m79.0\u001b[0m\u001b[0;34m}\u001b[0m\u001b[0;34m,\u001b[0m \u001b[0;34m{\u001b[0m\u001b[0;34m\"ts\"\u001b[0m\u001b[0;34m:\u001b[0m \u001b[0;36m1577852400.0\u001b[0m\u001b[0;34m,\u001b[0m \u001b[0;34m\"val\"\u001b[0m\u001b[0;34m:\u001b[0m \u001b[0;36m63.0\u001b[0m\u001b[0;34m}\u001b[0m\u001b[0;34m,\u001b[0m \u001b[0;34m{\u001b[0m\u001b[0;34m\"ts\"\u001b[0m\u001b[0;34m:\u001b[0m \u001b[0;36m1577852700.0\u001b[0m\u001b[0;34m,\u001b[0m \u001b[0;34m\"val\"\u001b[0m\u001b[0;34m:\u001b[0m \u001b[0;36m57.0\u001b[0m\u001b[0;34m}\u001b[0m\u001b[0;34m,\u001b[0m \u001b[0;34m{\u001b[0m\u001b[0;34m\"ts\"\u001b[0m\u001b[0;34m:\u001b[0m \u001b[0;36m1577853000.0\u001b[0m\u001b[0;34m,\u001b[0m \u001b[0;34m\"val\"\u001b[0m\u001b[0;34m:\u001b[0m \u001b[0;36m46.0\u001b[0m\u001b[0;34m}\u001b[0m\u001b[0;34m,\u001b[0m \u001b[0;34m{\u001b[0m\u001b[0;34m\"ts\"\u001b[0m\u001b[0;34m:\u001b[0m \u001b[0;36m1577853300.0\u001b[0m\u001b[0;34m,\u001b[0m \u001b[0;34m\"val\"\u001b[0m\u001b[0;34m:\u001b[0m \u001b[0;36m23.0\u001b[0m\u001b[0;34m}\u001b[0m\u001b[0;34m,\u001b[0m \u001b[0;34m{\u001b[0m\u001b[0;34m\"ts\"\u001b[0m\u001b[0;34m:\u001b[0m \u001b[0;36m1577853600.0\u001b[0m\u001b[0;34m,\u001b[0m \u001b[0;34m\"val\"\u001b[0m\u001b[0;34m:\u001b[0m \u001b[0;36m21.0\u001b[0m\u001b[0;34m}\u001b[0m\u001b[0;34m,\u001b[0m \u001b[0;34m{\u001b[0m\u001b[0;34m\"ts\"\u001b[0m\u001b[0;34m:\u001b[0m \u001b[0;36m1577853900.0\u001b[0m\u001b[0;34m,\u001b[0m \u001b[0;34m\"val\"\u001b[0m\u001b[0;34m:\u001b[0m \u001b[0;36m43.0\u001b[0m\u001b[0;34m}\u001b[0m\u001b[0;34m,\u001b[0m \u001b[0;34m{\u001b[0m\u001b[0;34m\"ts\"\u001b[0m\u001b[0;34m:\u001b[0m \u001b[0;36m1577854200.0\u001b[0m\u001b[0;34m,\u001b[0m \u001b[0;34m\"val\"\u001b[0m\u001b[0;34m:\u001b[0m \u001b[0;36m86.0\u001b[0m\u001b[0;34m}\u001b[0m\u001b[0;34m,\u001b[0m \u001b[0;34m{\u001b[0m\u001b[0;34m\"ts\"\u001b[0m\u001b[0;34m:\u001b[0m \u001b[0;36m1577854500.0\u001b[0m\u001b[0;34m,\u001b[0m \u001b[0;34m\"val\"\u001b[0m\u001b[0;34m:\u001b[0m \u001b[0;36m33.0\u001b[0m\u001b[0;34m}\u001b[0m\u001b[0;34m,\u001b[0m \u001b[0;34m{\u001b[0m\u001b[0;34m\"ts\"\u001b[0m\u001b[0;34m:\u001b[0m \u001b[0;36m1577854800.0\u001b[0m\u001b[0;34m,\u001b[0m \u001b[0;34m\"val\"\u001b[0m\u001b[0;34m:\u001b[0m \u001b[0;36m47.0\u001b[0m\u001b[0;34m}\u001b[0m\u001b[0;34m,\u001b[0m \u001b[0;34m{\u001b[0m\u001b[0;34m\"ts\"\u001b[0m\u001b[0;34m:\u001b[0m \u001b[0;36m1577855100.0\u001b[0m\u001b[0;34m,\u001b[0m \u001b[0;34m\"val\"\u001b[0m\u001b[0;34m:\u001b[0m \u001b[0;36m32.0\u001b[0m\u001b[0;34m}\u001b[0m\u001b[0;34m,\u001b[0m \u001b[0;34m{\u001b[0m\u001b[0;34m\"ts\"\u001b[0m\u001b[0;34m:\u001b[0m \u001b[0;36m1577855400.0\u001b[0m\u001b[0;34m,\u001b[0m \u001b[0;34m\"val\"\u001b[0m\u001b[0;34m:\u001b[0m \u001b[0;36m57.0\u001b[0m\u001b[0;34m}\u001b[0m\u001b[0;34m,\u001b[0m \u001b[0;34m{\u001b[0m\u001b[0;34m\"ts\"\u001b[0m\u001b[0;34m:\u001b[0m \u001b[0;36m1577856300.0\u001b[0m\u001b[0;34m,\u001b[0m \u001b[0;34m\"val\"\u001b[0m\u001b[0;34m:\u001b[0m \u001b[0;36m77.0\u001b[0m\u001b[0;34m}\u001b[0m\u001b[0;34m,\u001b[0m \u001b[0;34m{\u001b[0m\u001b[0;34m\"ts\"\u001b[0m\u001b[0;34m:\u001b[0m \u001b[0;36m1577856900.0\u001b[0m\u001b[0;34m,\u001b[0m \u001b[0;34m\"val\"\u001b[0m\u001b[0;34m:\u001b[0m \u001b[0;36m90.0\u001b[0m\u001b[0;34m}\u001b[0m\u001b[0;34m,\u001b[0m \u001b[0;34m{\u001b[0m\u001b[0;34m\"ts\"\u001b[0m\u001b[0;34m:\u001b[0m \u001b[0;36m1577857200.0\u001b[0m\u001b[0;34m,\u001b[0m \u001b[0;34m\"val\"\u001b[0m\u001b[0;34m:\u001b[0m \u001b[0;36m86.0\u001b[0m\u001b[0;34m}\u001b[0m\u001b[0;34m,\u001b[0m \u001b[0;34m{\u001b[0m\u001b[0;34m\"ts\"\u001b[0m\u001b[0;34m:\u001b[0m \u001b[0;36m1577857500.0\u001b[0m\u001b[0;34m,\u001b[0m \u001b[0;34m\"val\"\u001b[0m\u001b[0;34m:\u001b[0m \u001b[0;36m70.0\u001b[0m\u001b[0;34m}\u001b[0m\u001b[0;34m,\u001b[0m \u001b[0;34m{\u001b[0m\u001b[0;34m\"ts\"\u001b[0m\u001b[0;34m:\u001b[0m \u001b[0;36m1577857800.0\u001b[0m\u001b[0;34m,\u001b[0m \u001b[0;34m\"val\"\u001b[0m\u001b[0;34m:\u001b[0m \u001b[0;36m97.0\u001b[0m\u001b[0;34m}\u001b[0m\u001b[0;34m,\u001b[0m \u001b[0;34m{\u001b[0m\u001b[0;34m\"ts\"\u001b[0m\u001b[0;34m:\u001b[0m \u001b[0;36m1577858400.0\u001b[0m\u001b[0;34m,\u001b[0m \u001b[0;34m\"val\"\u001b[0m\u001b[0;34m:\u001b[0m \u001b[0;36m23.0\u001b[0m\u001b[0;34m}\u001b[0m\u001b[0;34m,\u001b[0m \u001b[0;34m{\u001b[0m\u001b[0;34m\"ts\"\u001b[0m\u001b[0;34m:\u001b[0m \u001b[0;36m1577859000.0\u001b[0m\u001b[0;34m,\u001b[0m \u001b[0;34m\"val\"\u001b[0m\u001b[0;34m:\u001b[0m \u001b[0;36m69.0\u001b[0m\u001b[0;34m}\u001b[0m\u001b[0;34m,\u001b[0m \u001b[0;34m{\u001b[0m\u001b[0;34m\"ts\"\u001b[0m\u001b[0;34m:\u001b[0m \u001b[0;36m1577859300.0\u001b[0m\u001b[0;34m,\u001b[0m \u001b[0;34m\"val\"\u001b[0m\u001b[0;34m:\u001b[0m \u001b[0;36m6.0\u001b[0m\u001b[0;34m}\u001b[0m\u001b[0;34m,\u001b[0m \u001b[0;34m{\u001b[0m\u001b[0;34m\"ts\"\u001b[0m\u001b[0;34m:\u001b[0m \u001b[0;36m1577859600.0\u001b[0m\u001b[0;34m,\u001b[0m \u001b[0;34m\"val\"\u001b[0m\u001b[0;34m:\u001b[0m \u001b[0;36m70.0\u001b[0m\u001b[0;34m}\u001b[0m\u001b[0;34m,\u001b[0m \u001b[0;34m{\u001b[0m\u001b[0;34m\"ts\"\u001b[0m\u001b[0;34m:\u001b[0m \u001b[0;36m1577860200.0\u001b[0m\u001b[0;34m,\u001b[0m \u001b[0;34m\"val\"\u001b[0m\u001b[0;34m:\u001b[0m \u001b[0;36m97.0\u001b[0m\u001b[0;34m}\u001b[0m\u001b[0;34m,\u001b[0m \u001b[0;34m{\u001b[0m\u001b[0;34m\"ts\"\u001b[0m\u001b[0;34m:\u001b[0m \u001b[0;36m1577860500.0\u001b[0m\u001b[0;34m,\u001b[0m \u001b[0;34m\"val\"\u001b[0m\u001b[0;34m:\u001b[0m \u001b[0;36m34.0\u001b[0m\u001b[0;34m}\u001b[0m\u001b[0;34m,\u001b[0m \u001b[0;34m{\u001b[0m\u001b[0;34m\"ts\"\u001b[0m\u001b[0;34m:\u001b[0m \u001b[0;36m1577860800.0\u001b[0m\u001b[0;34m,\u001b[0m \u001b[0;34m\"val\"\u001b[0m\u001b[0;34m:\u001b[0m \u001b[0;36m95.0\u001b[0m\u001b[0;34m}\u001b[0m\u001b[0;34m,\u001b[0m \u001b[0;34m{\u001b[0m\u001b[0;34m\"ts\"\u001b[0m\u001b[0;34m:\u001b[0m \u001b[0;36m1577861100.0\u001b[0m\u001b[0;34m,\u001b[0m \u001b[0;34m\"val\"\u001b[0m\u001b[0;34m:\u001b[0m \u001b[0;36m64.0\u001b[0m\u001b[0;34m}\u001b[0m\u001b[0;34m,\u001b[0m \u001b[0;34m{\u001b[0m\u001b[0;34m\"ts\"\u001b[0m\u001b[0;34m:\u001b[0m \u001b[0;36m1577861400.0\u001b[0m\u001b[0;34m,\u001b[0m \u001b[0;34m\"val\"\u001b[0m\u001b[0;34m:\u001b[0m \u001b[0;36m4.0\u001b[0m\u001b[0;34m}\u001b[0m\u001b[0;34m,\u001b[0m \u001b[0;34m{\u001b[0m\u001b[0;34m\"ts\"\u001b[0m\u001b[0;34m:\u001b[0m \u001b[0;36m1577861700.0\u001b[0m\u001b[0;34m,\u001b[0m \u001b[0;34m\"val\"\u001b[0m\u001b[0;34m:\u001b[0m \u001b[0;36m71.0\u001b[0m\u001b[0;34m}\u001b[0m\u001b[0;34m,\u001b[0m \u001b[0;34m{\u001b[0m\u001b[0;34m\"ts\"\u001b[0m\u001b[0;34m:\u001b[0m \u001b[0;36m1577862000.0\u001b[0m\u001b[0;34m,\u001b[0m \u001b[0;34m\"val\"\u001b[0m\u001b[0;34m:\u001b[0m \u001b[0;36m77.0\u001b[0m\u001b[0;34m}\u001b[0m\u001b[0;34m,\u001b[0m \u001b[0;34m{\u001b[0m\u001b[0;34m\"ts\"\u001b[0m\u001b[0;34m:\u001b[0m \u001b[0;36m1577862600.0\u001b[0m\u001b[0;34m,\u001b[0m \u001b[0;34m\"val\"\u001b[0m\u001b[0;34m:\u001b[0m \u001b[0;36m78.0\u001b[0m\u001b[0;34m}\u001b[0m\u001b[0;34m,\u001b[0m \u001b[0;34m{\u001b[0m\u001b[0;34m\"ts\"\u001b[0m\u001b[0;34m:\u001b[0m \u001b[0;36m1577862900.0\u001b[0m\u001b[0;34m,\u001b[0m \u001b[0;34m\"val\"\u001b[0m\u001b[0;34m:\u001b[0m \u001b[0;36m43.0\u001b[0m\u001b[0;34m}\u001b[0m\u001b[0;34m,\u001b[0m \u001b[0;34m{\u001b[0m\u001b[0;34m\"ts\"\u001b[0m\u001b[0;34m:\u001b[0m \u001b[0;36m1577863800.0\u001b[0m\u001b[0;34m,\u001b[0m \u001b[0;34m\"val\"\u001b[0m\u001b[0;34m:\u001b[0m \u001b[0;36m95.0\u001b[0m\u001b[0;34m}\u001b[0m\u001b[0;34m,\u001b[0m \u001b[0;34m{\u001b[0m\u001b[0;34m\"ts\"\u001b[0m\u001b[0;34m:\u001b[0m \u001b[0;36m1577864100.0\u001b[0m\u001b[0;34m,\u001b[0m \u001b[0;34m\"val\"\u001b[0m\u001b[0;34m:\u001b[0m \u001b[0;36m79.0\u001b[0m\u001b[0;34m}\u001b[0m\u001b[0;34m,\u001b[0m \u001b[0;34m{\u001b[0m\u001b[0;34m\"ts\"\u001b[0m\u001b[0;34m:\u001b[0m \u001b[0;36m1577864400.0\u001b[0m\u001b[0;34m,\u001b[0m \u001b[0;34m\"val\"\u001b[0m\u001b[0;34m:\u001b[0m \u001b[0;36m63.0\u001b[0m\u001b[0;34m}\u001b[0m\u001b[0;34m,\u001b[0m \u001b[0;34m{\u001b[0m\u001b[0;34m\"ts\"\u001b[0m\u001b[0;34m:\u001b[0m \u001b[0;36m1577865000.0\u001b[0m\u001b[0;34m,\u001b[0m \u001b[0;34m\"val\"\u001b[0m\u001b[0;34m:\u001b[0m \u001b[0;36m72.0\u001b[0m\u001b[0;34m}\u001b[0m\u001b[0;34m,\u001b[0m \u001b[0;34m{\u001b[0m\u001b[0;34m\"ts\"\u001b[0m\u001b[0;34m:\u001b[0m \u001b[0;36m1577865300.0\u001b[0m\u001b[0;34m,\u001b[0m \u001b[0;34m\"val\"\u001b[0m\u001b[0;34m:\u001b[0m \u001b[0;36m69.0\u001b[0m\u001b[0;34m}\u001b[0m\u001b[0;34m,\u001b[0m \u001b[0;34m{\u001b[0m\u001b[0;34m\"ts\"\u001b[0m\u001b[0;34m:\u001b[0m \u001b[0;36m1577865600.0\u001b[0m\u001b[0;34m,\u001b[0m \u001b[0;34m\"val\"\u001b[0m\u001b[0;34m:\u001b[0m \u001b[0;36m16.0\u001b[0m\u001b[0;34m}\u001b[0m\u001b[0;34m,\u001b[0m \u001b[0;34m{\u001b[0m\u001b[0;34m\"ts\"\u001b[0m\u001b[0;34m:\u001b[0m \u001b[0;36m1577865900.0\u001b[0m\u001b[0;34m,\u001b[0m \u001b[0;34m\"val\"\u001b[0m\u001b[0;34m:\u001b[0m \u001b[0;36m8.0\u001b[0m\u001b[0;34m}\u001b[0m\u001b[0;34m,\u001b[0m \u001b[0;34m{\u001b[0m\u001b[0;34m\"ts\"\u001b[0m\u001b[0;34m:\u001b[0m \u001b[0;36m1577866500.0\u001b[0m\u001b[0;34m,\u001b[0m \u001b[0;34m\"val\"\u001b[0m\u001b[0;34m:\u001b[0m \u001b[0;36m28.0\u001b[0m\u001b[0;34m}\u001b[0m\u001b[0;34m,\u001b[0m \u001b[0;34m{\u001b[0m\u001b[0;34m\"ts\"\u001b[0m\u001b[0;34m:\u001b[0m \u001b[0;36m1577866800.0\u001b[0m\u001b[0;34m,\u001b[0m \u001b[0;34m\"val\"\u001b[0m\u001b[0;34m:\u001b[0m \u001b[0;36m93.0\u001b[0m\u001b[0;34m}\u001b[0m\u001b[0;34m,\u001b[0m \u001b[0;34m{\u001b[0m\u001b[0;34m\"ts\"\u001b[0m\u001b[0;34m:\u001b[0m \u001b[0;36m1577867100.0\u001b[0m\u001b[0;34m,\u001b[0m \u001b[0;34m\"val\"\u001b[0m\u001b[0;34m:\u001b[0m \u001b[0;36m58.0\u001b[0m\u001b[0;34m}\u001b[0m\u001b[0;34m,\u001b[0m \u001b[0;34m{\u001b[0m\u001b[0;34m\"ts\"\u001b[0m\u001b[0;34m:\u001b[0m \u001b[0;36m1577867400.0\u001b[0m\u001b[0;34m,\u001b[0m \u001b[0;34m\"val\"\u001b[0m\u001b[0;34m:\u001b[0m \u001b[0;36m53.0\u001b[0m\u001b[0;34m}\u001b[0m\u001b[0;34m,\u001b[0m \u001b[0;34m{\u001b[0m\u001b[0;34m\"ts\"\u001b[0m\u001b[0;34m:\u001b[0m \u001b[0;36m1577868000.0\u001b[0m\u001b[0;34m,\u001b[0m \u001b[0;34m\"val\"\u001b[0m\u001b[0;34m:\u001b[0m \u001b[0;36m96.0\u001b[0m\u001b[0;34m}\u001b[0m\u001b[0;34m,\u001b[0m \u001b[0;34m{\u001b[0m\u001b[0;34m\"ts\"\u001b[0m\u001b[0;34m:\u001b[0m \u001b[0;36m1577868300.0\u001b[0m\u001b[0;34m,\u001b[0m \u001b[0;34m\"val\"\u001b[0m\u001b[0;34m:\u001b[0m \u001b[0;36m91.0\u001b[0m\u001b[0;34m}\u001b[0m\u001b[0;34m,\u001b[0m \u001b[0;34m{\u001b[0m\u001b[0;34m\"ts\"\u001b[0m\u001b[0;34m:\u001b[0m \u001b[0;36m1577868600.0\u001b[0m\u001b[0;34m,\u001b[0m \u001b[0;34m\"val\"\u001b[0m\u001b[0;34m:\u001b[0m \u001b[0;36m43.0\u001b[0m\u001b[0;34m}\u001b[0m\u001b[0;34m,\u001b[0m \u001b[0;34m{\u001b[0m\u001b[0;34m\"ts\"\u001b[0m\u001b[0;34m:\u001b[0m \u001b[0;36m1577868900.0\u001b[0m\u001b[0;34m,\u001b[0m \u001b[0;34m\"val\"\u001b[0m\u001b[0;34m:\u001b[0m \u001b[0;36m69.0\u001b[0m\u001b[0;34m}\u001b[0m\u001b[0;34m,\u001b[0m \u001b[0;34m{\u001b[0m\u001b[0;34m\"ts\"\u001b[0m\u001b[0;34m:\u001b[0m \u001b[0;36m1577869200.0\u001b[0m\u001b[0;34m,\u001b[0m \u001b[0;34m\"val\"\u001b[0m\u001b[0;34m:\u001b[0m \u001b[0;36m3.0\u001b[0m\u001b[0;34m}\u001b[0m\u001b[0;34m,\u001b[0m \u001b[0;34m{\u001b[0m\u001b[0;34m\"ts\"\u001b[0m\u001b[0;34m:\u001b[0m \u001b[0;36m1577869800.0\u001b[0m\u001b[0;34m,\u001b[0m \u001b[0;34m\"val\"\u001b[0m\u001b[0;34m:\u001b[0m \u001b[0;36m90.0\u001b[0m\u001b[0;34m}\u001b[0m\u001b[0;34m,\u001b[0m \u001b[0;34m{\u001b[0m\u001b[0;34m\"ts\"\u001b[0m\u001b[0;34m:\u001b[0m \u001b[0;36m1577870100.0\u001b[0m\u001b[0;34m,\u001b[0m \u001b[0;34m\"val\"\u001b[0m\u001b[0;34m:\u001b[0m \u001b[0;36m50.0\u001b[0m\u001b[0;34m}\u001b[0m\u001b[0;34m,\u001b[0m \u001b[0;34m{\u001b[0m\u001b[0;34m\"ts\"\u001b[0m\u001b[0;34m:\u001b[0m \u001b[0;36m1577870400.0\u001b[0m\u001b[0;34m,\u001b[0m \u001b[0;34m\"val\"\u001b[0m\u001b[0;34m:\u001b[0m \u001b[0;36m2.0\u001b[0m\u001b[0;34m}\u001b[0m\u001b[0;34m,\u001b[0m \u001b[0;34m{\u001b[0m\u001b[0;34m\"ts\"\u001b[0m\u001b[0;34m:\u001b[0m \u001b[0;36m1577871300.0\u001b[0m\u001b[0;34m,\u001b[0m \u001b[0;34m\"val\"\u001b[0m\u001b[0;34m:\u001b[0m \u001b[0;36m74.0\u001b[0m\u001b[0;34m}\u001b[0m\u001b[0;34m,\u001b[0m \u001b[0;34m{\u001b[0m\u001b[0;34m\"ts\"\u001b[0m\u001b[0;34m:\u001b[0m \u001b[0;36m1577871600.0\u001b[0m\u001b[0;34m,\u001b[0m \u001b[0;34m\"val\"\u001b[0m\u001b[0;34m:\u001b[0m \u001b[0;36m41.0\u001b[0m\u001b[0;34m}\u001b[0m\u001b[0;34m,\u001b[0m \u001b[0;34m{\u001b[0m\u001b[0;34m\"ts\"\u001b[0m\u001b[0;34m:\u001b[0m \u001b[0;36m1577871900.0\u001b[0m\u001b[0;34m,\u001b[0m \u001b[0;34m\"val\"\u001b[0m\u001b[0;34m:\u001b[0m \u001b[0;36m81.0\u001b[0m\u001b[0;34m}\u001b[0m\u001b[0;34m,\u001b[0m \u001b[0;34m{\u001b[0m\u001b[0;34m\"ts\"\u001b[0m\u001b[0;34m:\u001b[0m \u001b[0;36m1577872200.0\u001b[0m\u001b[0;34m,\u001b[0m \u001b[0;34m\"val\"\u001b[0m\u001b[0;34m:\u001b[0m \u001b[0;36m37.0\u001b[0m\u001b[0;34m}\u001b[0m\u001b[0;34m,\u001b[0m \u001b[0;34m{\u001b[0m\u001b[0;34m\"ts\"\u001b[0m\u001b[0;34m:\u001b[0m \u001b[0;36m1577872800.0\u001b[0m\u001b[0;34m,\u001b[0m \u001b[0;34m\"val\"\u001b[0m\u001b[0;34m:\u001b[0m \u001b[0;36m79.0\u001b[0m\u001b[0;34m}\u001b[0m\u001b[0;34m,\u001b[0m \u001b[0;34m{\u001b[0m\u001b[0;34m\"ts\"\u001b[0m\u001b[0;34m:\u001b[0m \u001b[0;36m1577873100.0\u001b[0m\u001b[0;34m,\u001b[0m \u001b[0;34m\"val\"\u001b[0m\u001b[0;34m:\u001b[0m \u001b[0;36m46.0\u001b[0m\u001b[0;34m}\u001b[0m\u001b[0;34m,\u001b[0m \u001b[0;34m{\u001b[0m\u001b[0;34m\"ts\"\u001b[0m\u001b[0;34m:\u001b[0m \u001b[0;36m1577873400.0\u001b[0m\u001b[0;34m,\u001b[0m \u001b[0;34m\"val\"\u001b[0m\u001b[0;34m:\u001b[0m \u001b[0;36m80.0\u001b[0m\u001b[0;34m}\u001b[0m\u001b[0;34m,\u001b[0m \u001b[0;34m{\u001b[0m\u001b[0;34m\"ts\"\u001b[0m\u001b[0;34m:\u001b[0m \u001b[0;36m1577873700.0\u001b[0m\u001b[0;34m,\u001b[0m \u001b[0;34m\"val\"\u001b[0m\u001b[0;34m:\u001b[0m \u001b[0;36m30.0\u001b[0m\u001b[0;34m}\u001b[0m\u001b[0;34m,\u001b[0m \u001b[0;34m{\u001b[0m\u001b[0;34m\"ts\"\u001b[0m\u001b[0;34m:\u001b[0m \u001b[0;36m1577874000.0\u001b[0m\u001b[0;34m,\u001b[0m \u001b[0;34m\"val\"\u001b[0m\u001b[0;34m:\u001b[0m \u001b[0;36m57.0\u001b[0m\u001b[0;34m}\u001b[0m\u001b[0;34m,\u001b[0m \u001b[0;34m{\u001b[0m\u001b[0;34m\"ts\"\u001b[0m\u001b[0;34m:\u001b[0m \u001b[0;36m1577874300.0\u001b[0m\u001b[0;34m,\u001b[0m \u001b[0;34m\"val\"\u001b[0m\u001b[0;34m:\u001b[0m \u001b[0;36m39.0\u001b[0m\u001b[0;34m}\u001b[0m\u001b[0;34m,\u001b[0m \u001b[0;34m{\u001b[0m\u001b[0;34m\"ts\"\u001b[0m\u001b[0;34m:\u001b[0m \u001b[0;36m1577874600.0\u001b[0m\u001b[0;34m,\u001b[0m \u001b[0;34m\"val\"\u001b[0m\u001b[0;34m:\u001b[0m \u001b[0;36m6.0\u001b[0m\u001b[0;34m}\u001b[0m\u001b[0;34m,\u001b[0m \u001b[0;34m{\u001b[0m\u001b[0;34m\"ts\"\u001b[0m\u001b[0;34m:\u001b[0m \u001b[0;36m1577874900.0\u001b[0m\u001b[0;34m,\u001b[0m \u001b[0;34m\"val\"\u001b[0m\u001b[0;34m:\u001b[0m \u001b[0;36m25.0\u001b[0m\u001b[0;34m}\u001b[0m\u001b[0;34m,\u001b[0m \u001b[0;34m{\u001b[0m\u001b[0;34m\"ts\"\u001b[0m\u001b[0;34m:\u001b[0m \u001b[0;36m1577875500.0\u001b[0m\u001b[0;34m,\u001b[0m \u001b[0;34m\"val\"\u001b[0m\u001b[0;34m:\u001b[0m \u001b[0;36m15.0\u001b[0m\u001b[0;34m}\u001b[0m\u001b[0;34m,\u001b[0m \u001b[0;34m{\u001b[0m\u001b[0;34m\"ts\"\u001b[0m\u001b[0;34m:\u001b[0m \u001b[0;36m1577876100.0\u001b[0m\u001b[0;34m,\u001b[0m \u001b[0;34m\"val\"\u001b[0m\u001b[0;34m:\u001b[0m \u001b[0;36m66.0\u001b[0m\u001b[0;34m}\u001b[0m\u001b[0;34m,\u001b[0m \u001b[0;34m{\u001b[0m\u001b[0;34m\"ts\"\u001b[0m\u001b[0;34m:\u001b[0m \u001b[0;36m1577876700.0\u001b[0m\u001b[0;34m,\u001b[0m \u001b[0;34m\"val\"\u001b[0m\u001b[0;34m:\u001b[0m \u001b[0;36m48.0\u001b[0m\u001b[0;34m}\u001b[0m\u001b[0;34m,\u001b[0m \u001b[0;34m{\u001b[0m\u001b[0;34m\"ts\"\u001b[0m\u001b[0;34m:\u001b[0m \u001b[0;36m1577877000.0\u001b[0m\u001b[0;34m,\u001b[0m \u001b[0;34m\"val\"\u001b[0m\u001b[0;34m:\u001b[0m \u001b[0;36m64.0\u001b[0m\u001b[0;34m}\u001b[0m\u001b[0;34m,\u001b[0m \u001b[0;34m{\u001b[0m\u001b[0;34m\"ts\"\u001b[0m\u001b[0;34m:\u001b[0m \u001b[0;36m1577877300.0\u001b[0m\u001b[0;34m,\u001b[0m \u001b[0;34m\"val\"\u001b[0m\u001b[0;34m:\u001b[0m \u001b[0;36m24.0\u001b[0m\u001b[0;34m}\u001b[0m\u001b[0;34m,\u001b[0m \u001b[0;34m{\u001b[0m\u001b[0;34m\"ts\"\u001b[0m\u001b[0;34m:\u001b[0m \u001b[0;36m1577877600.0\u001b[0m\u001b[0;34m,\u001b[0m \u001b[0;34m\"val\"\u001b[0m\u001b[0;34m:\u001b[0m \u001b[0;36m18.0\u001b[0m\u001b[0;34m}\u001b[0m\u001b[0;34m,\u001b[0m \u001b[0;34m{\u001b[0m\u001b[0;34m\"ts\"\u001b[0m\u001b[0;34m:\u001b[0m \u001b[0;36m1577877900.0\u001b[0m\u001b[0;34m,\u001b[0m \u001b[0;34m\"val\"\u001b[0m\u001b[0;34m:\u001b[0m \u001b[0;36m41.0\u001b[0m\u001b[0;34m}\u001b[0m\u001b[0;34m,\u001b[0m \u001b[0;34m{\u001b[0m\u001b[0;34m\"ts\"\u001b[0m\u001b[0;34m:\u001b[0m \u001b[0;36m1577878500.0\u001b[0m\u001b[0;34m,\u001b[0m \u001b[0;34m\"val\"\u001b[0m\u001b[0;34m:\u001b[0m \u001b[0;36m5.0\u001b[0m\u001b[0;34m}\u001b[0m\u001b[0;34m,\u001b[0m \u001b[0;34m{\u001b[0m\u001b[0;34m\"ts\"\u001b[0m\u001b[0;34m:\u001b[0m \u001b[0;36m1577878800.0\u001b[0m\u001b[0;34m,\u001b[0m \u001b[0;34m\"val\"\u001b[0m\u001b[0;34m:\u001b[0m \u001b[0;36m85.0\u001b[0m\u001b[0;34m}\u001b[0m\u001b[0;34m,\u001b[0m \u001b[0;34m{\u001b[0m\u001b[0;34m\"ts\"\u001b[0m\u001b[0;34m:\u001b[0m \u001b[0;36m1577879100.0\u001b[0m\u001b[0;34m,\u001b[0m \u001b[0;34m\"val\"\u001b[0m\u001b[0;34m:\u001b[0m \u001b[0;36m81.0\u001b[0m\u001b[0;34m}\u001b[0m\u001b[0;34m,\u001b[0m \u001b[0;34m{\u001b[0m\u001b[0;34m\"ts\"\u001b[0m\u001b[0;34m:\u001b[0m \u001b[0;36m1577879400.0\u001b[0m\u001b[0;34m,\u001b[0m \u001b[0;34m\"val\"\u001b[0m\u001b[0;34m:\u001b[0m \u001b[0;36m4.0\u001b[0m\u001b[0;34m}\u001b[0m\u001b[0;34m,\u001b[0m \u001b[0;34m{\u001b[0m\u001b[0;34m\"ts\"\u001b[0m\u001b[0;34m:\u001b[0m \u001b[0;36m1577880000.0\u001b[0m\u001b[0;34m,\u001b[0m \u001b[0;34m\"val\"\u001b[0m\u001b[0;34m:\u001b[0m \u001b[0;36m31.0\u001b[0m\u001b[0;34m}\u001b[0m\u001b[0;34m,\u001b[0m \u001b[0;34m{\u001b[0m\u001b[0;34m\"ts\"\u001b[0m\u001b[0;34m:\u001b[0m \u001b[0;36m1577880300.0\u001b[0m\u001b[0;34m,\u001b[0m \u001b[0;34m\"val\"\u001b[0m\u001b[0;34m:\u001b[0m \u001b[0;36m28.0\u001b[0m\u001b[0;34m}\u001b[0m\u001b[0;34m,\u001b[0m \u001b[0;34m{\u001b[0m\u001b[0;34m\"ts\"\u001b[0m\u001b[0;34m:\u001b[0m \u001b[0;36m1577880600.0\u001b[0m\u001b[0;34m,\u001b[0m \u001b[0;34m\"val\"\u001b[0m\u001b[0;34m:\u001b[0m \u001b[0;36m30.0\u001b[0m\u001b[0;34m}\u001b[0m\u001b[0;34m,\u001b[0m \u001b[0;34m{\u001b[0m\u001b[0;34m\"ts\"\u001b[0m\u001b[0;34m:\u001b[0m \u001b[0;36m1577880900.0\u001b[0m\u001b[0;34m,\u001b[0m \u001b[0;34m\"val\"\u001b[0m\u001b[0;34m:\u001b[0m \u001b[0;36m20.0\u001b[0m\u001b[0;34m}\u001b[0m\u001b[0;34m,\u001b[0m \u001b[0;34m{\u001b[0m\u001b[0;34m\"ts\"\u001b[0m\u001b[0;34m:\u001b[0m \u001b[0;36m1577881200.0\u001b[0m\u001b[0;34m,\u001b[0m \u001b[0;34m\"val\"\u001b[0m\u001b[0;34m:\u001b[0m \u001b[0;36m24.0\u001b[0m\u001b[0;34m}\u001b[0m\u001b[0;34m,\u001b[0m \u001b[0;34m{\u001b[0m\u001b[0;34m\"ts\"\u001b[0m\u001b[0;34m:\u001b[0m \u001b[0;36m1577881500.0\u001b[0m\u001b[0;34m,\u001b[0m \u001b[0;34m\"val\"\u001b[0m\u001b[0;34m:\u001b[0m \u001b[0;36m35.0\u001b[0m\u001b[0;34m}\u001b[0m\u001b[0;34m]\u001b[0m\u001b[0;34m}\u001b[0m\u001b[0;34m,\u001b[0m \u001b[0;34m\"B\"\u001b[0m\u001b[0;34m:\u001b[0m \u001b[0;34m{\u001b[0m\u001b[0;34m\"data\"\u001b[0m\u001b[0;34m:\u001b[0m \u001b[0;34m[\u001b[0m\u001b[0;34m{\u001b[0m\u001b[0;34m\"ts\"\u001b[0m\u001b[0;34m:\u001b[0m \u001b[0;36m1577837100.0\u001b[0m\u001b[0;34m,\u001b[0m \u001b[0;34m\"val\"\u001b[0m\u001b[0;34m:\u001b[0m \u001b[0;36m36.0\u001b[0m\u001b[0;34m}\u001b[0m\u001b[0;34m,\u001b[0m \u001b[0;34m{\u001b[0m\u001b[0;34m\"ts\"\u001b[0m\u001b[0;34m:\u001b[0m \u001b[0;36m1577837400.0\u001b[0m\u001b[0;34m,\u001b[0m \u001b[0;34m\"val\"\u001b[0m\u001b[0;34m:\u001b[0m \u001b[0;36m5.0\u001b[0m\u001b[0;34m}\u001b[0m\u001b[0;34m,\u001b[0m \u001b[0;34m{\u001b[0m\u001b[0;34m\"ts\"\u001b[0m\u001b[0;34m:\u001b[0m \u001b[0;36m1577837700.0\u001b[0m\u001b[0;34m,\u001b[0m \u001b[0;34m\"val\"\u001b[0m\u001b[0;34m:\u001b[0m \u001b[0;36m2.0\u001b[0m\u001b[0;34m}\u001b[0m\u001b[0;34m,\u001b[0m \u001b[0;34m{\u001b[0m\u001b[0;34m\"ts\"\u001b[0m\u001b[0;34m:\u001b[0m \u001b[0;36m1577838000.0\u001b[0m\u001b[0;34m,\u001b[0m \u001b[0;34m\"val\"\u001b[0m\u001b[0;34m:\u001b[0m \u001b[0;36m22.0\u001b[0m\u001b[0;34m}\u001b[0m\u001b[0;34m,\u001b[0m \u001b[0;34m{\u001b[0m\u001b[0;34m\"ts\"\u001b[0m\u001b[0;34m:\u001b[0m \u001b[0;36m1577838300.0\u001b[0m\u001b[0;34m,\u001b[0m \u001b[0;34m\"val\"\u001b[0m\u001b[0;34m:\u001b[0m \u001b[0;36m83.0\u001b[0m\u001b[0;34m}\u001b[0m\u001b[0;34m,\u001b[0m \u001b[0;34m{\u001b[0m\u001b[0;34m\"ts\"\u001b[0m\u001b[0;34m:\u001b[0m \u001b[0;36m1577838600.0\u001b[0m\u001b[0;34m,\u001b[0m \u001b[0;34m\"val\"\u001b[0m\u001b[0;34m:\u001b[0m \u001b[0;36m4.0\u001b[0m\u001b[0;34m}\u001b[0m\u001b[0;34m,\u001b[0m \u001b[0;34m{\u001b[0m\u001b[0;34m\"ts\"\u001b[0m\u001b[0;34m:\u001b[0m \u001b[0;36m1577838900.0\u001b[0m\u001b[0;34m,\u001b[0m \u001b[0;34m\"val\"\u001b[0m\u001b[0;34m:\u001b[0m \u001b[0;36m92.0\u001b[0m\u001b[0;34m}\u001b[0m\u001b[0;34m,\u001b[0m \u001b[0;34m{\u001b[0m\u001b[0;34m\"ts\"\u001b[0m\u001b[0;34m:\u001b[0m \u001b[0;36m1577839200.0\u001b[0m\u001b[0;34m,\u001b[0m \u001b[0;34m\"val\"\u001b[0m\u001b[0;34m:\u001b[0m \u001b[0;36m6.0\u001b[0m\u001b[0;34m}\u001b[0m\u001b[0;34m,\u001b[0m \u001b[0;34m{\u001b[0m\u001b[0;34m\"ts\"\u001b[0m\u001b[0;34m:\u001b[0m \u001b[0;36m1577839500.0\u001b[0m\u001b[0;34m,\u001b[0m \u001b[0;34m\"val\"\u001b[0m\u001b[0;34m:\u001b[0m \u001b[0;36m7.0\u001b[0m\u001b[0;34m}\u001b[0m\u001b[0;34m,\u001b[0m \u001b[0;34m{\u001b[0m\u001b[0;34m\"ts\"\u001b[0m\u001b[0;34m:\u001b[0m \u001b[0;36m1577839800.0\u001b[0m\u001b[0;34m,\u001b[0m \u001b[0;34m\"val\"\u001b[0m\u001b[0;34m:\u001b[0m \u001b[0;36m76.0\u001b[0m\u001b[0;34m}\u001b[0m\u001b[0;34m,\u001b[0m \u001b[0;34m{\u001b[0m\u001b[0;34m\"ts\"\u001b[0m\u001b[0;34m:\u001b[0m \u001b[0;36m1577840400.0\u001b[0m\u001b[0;34m,\u001b[0m \u001b[0;34m\"val\"\u001b[0m\u001b[0;34m:\u001b[0m \u001b[0;36m6.0\u001b[0m\u001b[0;34m}\u001b[0m\u001b[0;34m,\u001b[0m \u001b[0;34m{\u001b[0m\u001b[0;34m\"ts\"\u001b[0m\u001b[0;34m:\u001b[0m \u001b[0;36m1577840700.0\u001b[0m\u001b[0;34m,\u001b[0m \u001b[0;34m\"val\"\u001b[0m\u001b[0;34m:\u001b[0m \u001b[0;36m30.0\u001b[0m\u001b[0;34m}\u001b[0m\u001b[0;34m,\u001b[0m \u001b[0;34m{\u001b[0m\u001b[0;34m\"ts\"\u001b[0m\u001b[0;34m:\u001b[0m \u001b[0;36m1577841000.0\u001b[0m\u001b[0;34m,\u001b[0m \u001b[0;34m\"val\"\u001b[0m\u001b[0;34m:\u001b[0m \u001b[0;36m15.0\u001b[0m\u001b[0;34m}\u001b[0m\u001b[0;34m,\u001b[0m \u001b[0;34m{\u001b[0m\u001b[0;34m\"ts\"\u001b[0m\u001b[0;34m:\u001b[0m \u001b[0;36m1577841300.0\u001b[0m\u001b[0;34m,\u001b[0m \u001b[0;34m\"val\"\u001b[0m\u001b[0;34m:\u001b[0m \u001b[0;36m21.0\u001b[0m\u001b[0;34m}\u001b[0m\u001b[0;34m,\u001b[0m \u001b[0;34m{\u001b[0m\u001b[0;34m\"ts\"\u001b[0m\u001b[0;34m:\u001b[0m \u001b[0;36m1577841600.0\u001b[0m\u001b[0;34m,\u001b[0m \u001b[0;34m\"val\"\u001b[0m\u001b[0;34m:\u001b[0m \u001b[0;36m51.0\u001b[0m\u001b[0;34m}\u001b[0m\u001b[0;34m,\u001b[0m \u001b[0;34m{\u001b[0m\u001b[0;34m\"ts\"\u001b[0m\u001b[0;34m:\u001b[0m \u001b[0;36m1577841900.0\u001b[0m\u001b[0;34m,\u001b[0m \u001b[0;34m\"val\"\u001b[0m\u001b[0;34m:\u001b[0m \u001b[0;36m69.0\u001b[0m\u001b[0;34m}\u001b[0m\u001b[0;34m,\u001b[0m \u001b[0;34m{\u001b[0m\u001b[0;34m\"ts\"\u001b[0m\u001b[0;34m:\u001b[0m \u001b[0;36m1577842200.0\u001b[0m\u001b[0;34m,\u001b[0m \u001b[0;34m\"val\"\u001b[0m\u001b[0;34m:\u001b[0m \u001b[0;36m19.0\u001b[0m\u001b[0;34m}\u001b[0m\u001b[0;34m,\u001b[0m \u001b[0;34m{\u001b[0m\u001b[0;34m\"ts\"\u001b[0m\u001b[0;34m:\u001b[0m \u001b[0;36m1577842500.0\u001b[0m\u001b[0;34m,\u001b[0m \u001b[0;34m\"val\"\u001b[0m\u001b[0;34m:\u001b[0m \u001b[0;36m94.0\u001b[0m\u001b[0;34m}\u001b[0m\u001b[0;34m,\u001b[0m \u001b[0;34m{\u001b[0m\u001b[0;34m\"ts\"\u001b[0m\u001b[0;34m:\u001b[0m \u001b[0;36m1577842800.0\u001b[0m\u001b[0;34m,\u001b[0m \u001b[0;34m\"val\"\u001b[0m\u001b[0;34m:\u001b[0m \u001b[0;36m75.0\u001b[0m\u001b[0;34m}\u001b[0m\u001b[0;34m,\u001b[0m \u001b[0;34m{\u001b[0m\u001b[0;34m\"ts\"\u001b[0m\u001b[0;34m:\u001b[0m \u001b[0;36m1577843100.0\u001b[0m\u001b[0;34m,\u001b[0m \u001b[0;34m\"val\"\u001b[0m\u001b[0;34m:\u001b[0m \u001b[0;36m93.0\u001b[0m\u001b[0;34m}\u001b[0m\u001b[0;34m,\u001b[0m \u001b[0;34m{\u001b[0m\u001b[0;34m\"ts\"\u001b[0m\u001b[0;34m:\u001b[0m \u001b[0;36m1577843700.0\u001b[0m\u001b[0;34m,\u001b[0m \u001b[0;34m\"val\"\u001b[0m\u001b[0;34m:\u001b[0m \u001b[0;36m1.0\u001b[0m\u001b[0;34m}\u001b[0m\u001b[0;34m,\u001b[0m \u001b[0;34m{\u001b[0m\u001b[0;34m\"ts\"\u001b[0m\u001b[0;34m:\u001b[0m \u001b[0;36m1577844000.0\u001b[0m\u001b[0;34m,\u001b[0m \u001b[0;34m\"val\"\u001b[0m\u001b[0;34m:\u001b[0m \u001b[0;36m71.0\u001b[0m\u001b[0;34m}\u001b[0m\u001b[0;34m,\u001b[0m \u001b[0;34m{\u001b[0m\u001b[0;34m\"ts\"\u001b[0m\u001b[0;34m:\u001b[0m \u001b[0;36m1577844600.0\u001b[0m\u001b[0;34m,\u001b[0m \u001b[0;34m\"val\"\u001b[0m\u001b[0;34m:\u001b[0m \u001b[0;36m77.0\u001b[0m\u001b[0;34m}\u001b[0m\u001b[0;34m,\u001b[0m \u001b[0;34m{\u001b[0m\u001b[0;34m\"ts\"\u001b[0m\u001b[0;34m:\u001b[0m \u001b[0;36m1577844900.0\u001b[0m\u001b[0;34m,\u001b[0m \u001b[0;34m\"val\"\u001b[0m\u001b[0;34m:\u001b[0m \u001b[0;36m84.0\u001b[0m\u001b[0;34m}\u001b[0m\u001b[0;34m,\u001b[0m \u001b[0;34m{\u001b[0m\u001b[0;34m\"ts\"\u001b[0m\u001b[0;34m:\u001b[0m \u001b[0;36m1577845200.0\u001b[0m\u001b[0;34m,\u001b[0m \u001b[0;34m\"val\"\u001b[0m\u001b[0;34m:\u001b[0m \u001b[0;36m40.0\u001b[0m\u001b[0;34m}\u001b[0m\u001b[0;34m,\u001b[0m \u001b[0;34m{\u001b[0m\u001b[0;34m\"ts\"\u001b[0m\u001b[0;34m:\u001b[0m \u001b[0;36m1577845500.0\u001b[0m\u001b[0;34m,\u001b[0m \u001b[0;34m\"val\"\u001b[0m\u001b[0;34m:\u001b[0m \u001b[0;36m51.0\u001b[0m\u001b[0;34m}\u001b[0m\u001b[0;34m,\u001b[0m \u001b[0;34m{\u001b[0m\u001b[0;34m\"ts\"\u001b[0m\u001b[0;34m:\u001b[0m \u001b[0;36m1577845800.0\u001b[0m\u001b[0;34m,\u001b[0m \u001b[0;34m\"val\"\u001b[0m\u001b[0;34m:\u001b[0m \u001b[0;36m35.0\u001b[0m\u001b[0;34m}\u001b[0m\u001b[0;34m,\u001b[0m \u001b[0;34m{\u001b[0m\u001b[0;34m\"ts\"\u001b[0m\u001b[0;34m:\u001b[0m \u001b[0;36m1577846100.0\u001b[0m\u001b[0;34m,\u001b[0m \u001b[0;34m\"val\"\u001b[0m\u001b[0;34m:\u001b[0m \u001b[0;36m42.0\u001b[0m\u001b[0;34m}\u001b[0m\u001b[0;34m,\u001b[0m \u001b[0;34m{\u001b[0m\u001b[0;34m\"ts\"\u001b[0m\u001b[0;34m:\u001b[0m \u001b[0;36m1577846400.0\u001b[0m\u001b[0;34m,\u001b[0m \u001b[0;34m\"val\"\u001b[0m\u001b[0;34m:\u001b[0m \u001b[0;36m59.0\u001b[0m\u001b[0;34m}\u001b[0m\u001b[0;34m,\u001b[0m \u001b[0;34m{\u001b[0m\u001b[0;34m\"ts\"\u001b[0m\u001b[0;34m:\u001b[0m \u001b[0;36m1577847000.0\u001b[0m\u001b[0;34m,\u001b[0m \u001b[0;34m\"val\"\u001b[0m\u001b[0;34m:\u001b[0m \u001b[0;36m99.0\u001b[0m\u001b[0;34m}\u001b[0m\u001b[0;34m,\u001b[0m \u001b[0;34m{\u001b[0m\u001b[0;34m\"ts\"\u001b[0m\u001b[0;34m:\u001b[0m \u001b[0;36m1577847600.0\u001b[0m\u001b[0;34m,\u001b[0m \u001b[0;34m\"val\"\u001b[0m\u001b[0;34m:\u001b[0m \u001b[0;36m23.0\u001b[0m\u001b[0;34m}\u001b[0m\u001b[0;34m,\u001b[0m \u001b[0;34m{\u001b[0m\u001b[0;34m\"ts\"\u001b[0m\u001b[0;34m:\u001b[0m \u001b[0;36m1577847900.0\u001b[0m\u001b[0;34m,\u001b[0m \u001b[0;34m\"val\"\u001b[0m\u001b[0;34m:\u001b[0m \u001b[0;36m59.0\u001b[0m\u001b[0;34m}\u001b[0m\u001b[0;34m,\u001b[0m \u001b[0;34m{\u001b[0m\u001b[0;34m\"ts\"\u001b[0m\u001b[0;34m:\u001b[0m \u001b[0;36m1577848200.0\u001b[0m\u001b[0;34m,\u001b[0m \u001b[0;34m\"val\"\u001b[0m\u001b[0;34m:\u001b[0m \u001b[0;36m68.0\u001b[0m\u001b[0;34m}\u001b[0m\u001b[0;34m,\u001b[0m \u001b[0;34m{\u001b[0m\u001b[0;34m\"ts\"\u001b[0m\u001b[0;34m:\u001b[0m \u001b[0;36m1577848500.0\u001b[0m\u001b[0;34m,\u001b[0m \u001b[0;34m\"val\"\u001b[0m\u001b[0;34m:\u001b[0m \u001b[0;36m78.0\u001b[0m\u001b[0;34m}\u001b[0m\u001b[0;34m,\u001b[0m \u001b[0;34m{\u001b[0m\u001b[0;34m\"ts\"\u001b[0m\u001b[0;34m:\u001b[0m \u001b[0;36m1577849100.0\u001b[0m\u001b[0;34m,\u001b[0m \u001b[0;34m\"val\"\u001b[0m\u001b[0;34m:\u001b[0m \u001b[0;36m43.0\u001b[0m\u001b[0;34m}\u001b[0m\u001b[0;34m,\u001b[0m \u001b[0;34m{\u001b[0m\u001b[0;34m\"ts\"\u001b[0m\u001b[0;34m:\u001b[0m \u001b[0;36m1577849400.0\u001b[0m\u001b[0;34m,\u001b[0m \u001b[0;34m\"val\"\u001b[0m\u001b[0;34m:\u001b[0m \u001b[0;36m13.0\u001b[0m\u001b[0;34m}\u001b[0m\u001b[0;34m,\u001b[0m \u001b[0;34m{\u001b[0m\u001b[0;34m\"ts\"\u001b[0m\u001b[0;34m:\u001b[0m \u001b[0;36m1577850000.0\u001b[0m\u001b[0;34m,\u001b[0m \u001b[0;34m\"val\"\u001b[0m\u001b[0;34m:\u001b[0m \u001b[0;36m14.0\u001b[0m\u001b[0;34m}\u001b[0m\u001b[0;34m,\u001b[0m \u001b[0;34m{\u001b[0m\u001b[0;34m\"ts\"\u001b[0m\u001b[0;34m:\u001b[0m \u001b[0;36m1577850300.0\u001b[0m\u001b[0;34m,\u001b[0m \u001b[0;34m\"val\"\u001b[0m\u001b[0;34m:\u001b[0m \u001b[0;36m32.0\u001b[0m\u001b[0;34m}\u001b[0m\u001b[0;34m,\u001b[0m \u001b[0;34m{\u001b[0m\u001b[0;34m\"ts\"\u001b[0m\u001b[0;34m:\u001b[0m \u001b[0;36m1577850600.0\u001b[0m\u001b[0;34m,\u001b[0m \u001b[0;34m\"val\"\u001b[0m\u001b[0;34m:\u001b[0m \u001b[0;36m38.0\u001b[0m\u001b[0;34m}\u001b[0m\u001b[0;34m,\u001b[0m \u001b[0;34m{\u001b[0m\u001b[0;34m\"ts\"\u001b[0m\u001b[0;34m:\u001b[0m \u001b[0;36m1577850900.0\u001b[0m\u001b[0;34m,\u001b[0m \u001b[0;34m\"val\"\u001b[0m\u001b[0;34m:\u001b[0m \u001b[0;36m96.0\u001b[0m\u001b[0;34m}\u001b[0m\u001b[0;34m,\u001b[0m \u001b[0;34m{\u001b[0m\u001b[0;34m\"ts\"\u001b[0m\u001b[0;34m:\u001b[0m \u001b[0;36m1577851200.0\u001b[0m\u001b[0;34m,\u001b[0m \u001b[0;34m\"val\"\u001b[0m\u001b[0;34m:\u001b[0m \u001b[0;36m75.0\u001b[0m\u001b[0;34m}\u001b[0m\u001b[0;34m,\u001b[0m \u001b[0;34m{\u001b[0m\u001b[0;34m\"ts\"\u001b[0m\u001b[0;34m:\u001b[0m \u001b[0;36m1577851800.0\u001b[0m\u001b[0;34m,\u001b[0m \u001b[0;34m\"val\"\u001b[0m\u001b[0;34m:\u001b[0m \u001b[0;36m89.0\u001b[0m\u001b[0;34m}\u001b[0m\u001b[0;34m,\u001b[0m \u001b[0;34m{\u001b[0m\u001b[0;34m\"ts\"\u001b[0m\u001b[0;34m:\u001b[0m \u001b[0;36m1577852100.0\u001b[0m\u001b[0;34m,\u001b[0m \u001b[0;34m\"val\"\u001b[0m\u001b[0;34m:\u001b[0m \u001b[0;36m73.0\u001b[0m\u001b[0;34m}\u001b[0m\u001b[0;34m,\u001b[0m \u001b[0;34m{\u001b[0m\u001b[0;34m\"ts\"\u001b[0m\u001b[0;34m:\u001b[0m \u001b[0;36m1577852400.0\u001b[0m\u001b[0;34m,\u001b[0m \u001b[0;34m\"val\"\u001b[0m\u001b[0;34m:\u001b[0m \u001b[0;36m12.0\u001b[0m\u001b[0;34m}\u001b[0m\u001b[0;34m,\u001b[0m \u001b[0;34m{\u001b[0m\u001b[0;34m\"ts\"\u001b[0m\u001b[0;34m:\u001b[0m \u001b[0;36m1577852700.0\u001b[0m\u001b[0;34m,\u001b[0m \u001b[0;34m\"val\"\u001b[0m\u001b[0;34m:\u001b[0m \u001b[0;36m6.0\u001b[0m\u001b[0;34m}\u001b[0m\u001b[0;34m,\u001b[0m \u001b[0;34m{\u001b[0m\u001b[0;34m\"ts\"\u001b[0m\u001b[0;34m:\u001b[0m \u001b[0;36m1577853000.0\u001b[0m\u001b[0;34m,\u001b[0m \u001b[0;34m\"val\"\u001b[0m\u001b[0;34m:\u001b[0m \u001b[0;36m25.0\u001b[0m\u001b[0;34m}\u001b[0m\u001b[0;34m,\u001b[0m \u001b[0;34m{\u001b[0m\u001b[0;34m\"ts\"\u001b[0m\u001b[0;34m:\u001b[0m \u001b[0;36m1577853600.0\u001b[0m\u001b[0;34m,\u001b[0m \u001b[0;34m\"val\"\u001b[0m\u001b[0;34m:\u001b[0m \u001b[0;36m13.0\u001b[0m\u001b[0;34m}\u001b[0m\u001b[0;34m,\u001b[0m \u001b[0;34m{\u001b[0m\u001b[0;34m\"ts\"\u001b[0m\u001b[0;34m:\u001b[0m \u001b[0;36m1577853900.0\u001b[0m\u001b[0;34m,\u001b[0m \u001b[0;34m\"val\"\u001b[0m\u001b[0;34m:\u001b[0m \u001b[0;36m59.0\u001b[0m\u001b[0;34m}\u001b[0m\u001b[0;34m,\u001b[0m \u001b[0;34m{\u001b[0m\u001b[0;34m\"ts\"\u001b[0m\u001b[0;34m:\u001b[0m \u001b[0;36m1577854800.0\u001b[0m\u001b[0;34m,\u001b[0m \u001b[0;34m\"val\"\u001b[0m\u001b[0;34m:\u001b[0m \u001b[0;36m27.0\u001b[0m\u001b[0;34m}\u001b[0m\u001b[0;34m,\u001b[0m \u001b[0;34m{\u001b[0m\u001b[0;34m\"ts\"\u001b[0m\u001b[0;34m:\u001b[0m \u001b[0;36m1577855100.0\u001b[0m\u001b[0;34m,\u001b[0m \u001b[0;34m\"val\"\u001b[0m\u001b[0;34m:\u001b[0m \u001b[0;36m30.0\u001b[0m\u001b[0;34m}\u001b[0m\u001b[0;34m,\u001b[0m \u001b[0;34m{\u001b[0m\u001b[0;34m\"ts\"\u001b[0m\u001b[0;34m:\u001b[0m \u001b[0;36m1577855700.0\u001b[0m\u001b[0;34m,\u001b[0m \u001b[0;34m\"val\"\u001b[0m\u001b[0;34m:\u001b[0m \u001b[0;36m42.0\u001b[0m\u001b[0;34m}\u001b[0m\u001b[0;34m,\u001b[0m \u001b[0;34m{\u001b[0m\u001b[0;34m\"ts\"\u001b[0m\u001b[0;34m:\u001b[0m \u001b[0;36m1577856000.0\u001b[0m\u001b[0;34m,\u001b[0m \u001b[0;34m\"val\"\u001b[0m\u001b[0;34m:\u001b[0m \u001b[0;36m30.0\u001b[0m\u001b[0;34m}\u001b[0m\u001b[0;34m,\u001b[0m \u001b[0;34m{\u001b[0m\u001b[0;34m\"ts\"\u001b[0m\u001b[0;34m:\u001b[0m \u001b[0;36m1577856300.0\u001b[0m\u001b[0;34m,\u001b[0m \u001b[0;34m\"val\"\u001b[0m\u001b[0;34m:\u001b[0m \u001b[0;36m28.0\u001b[0m\u001b[0;34m}\u001b[0m\u001b[0;34m,\u001b[0m \u001b[0;34m{\u001b[0m\u001b[0;34m\"ts\"\u001b[0m\u001b[0;34m:\u001b[0m \u001b[0;36m1577856600.0\u001b[0m\u001b[0;34m,\u001b[0m \u001b[0;34m\"val\"\u001b[0m\u001b[0;34m:\u001b[0m \u001b[0;36m37.0\u001b[0m\u001b[0;34m}\u001b[0m\u001b[0;34m,\u001b[0m \u001b[0;34m{\u001b[0m\u001b[0;34m\"ts\"\u001b[0m\u001b[0;34m:\u001b[0m \u001b[0;36m1577857800.0\u001b[0m\u001b[0;34m,\u001b[0m \u001b[0;34m\"val\"\u001b[0m\u001b[0;34m:\u001b[0m \u001b[0;36m20.0\u001b[0m\u001b[0;34m}\u001b[0m\u001b[0;34m,\u001b[0m \u001b[0;34m{\u001b[0m\u001b[0;34m\"ts\"\u001b[0m\u001b[0;34m:\u001b[0m \u001b[0;36m1577858100.0\u001b[0m\u001b[0;34m,\u001b[0m \u001b[0;34m\"val\"\u001b[0m\u001b[0;34m:\u001b[0m \u001b[0;36m82.0\u001b[0m\u001b[0;34m}\u001b[0m\u001b[0;34m,\u001b[0m \u001b[0;34m{\u001b[0m\u001b[0;34m\"ts\"\u001b[0m\u001b[0;34m:\u001b[0m \u001b[0;36m1577858400.0\u001b[0m\u001b[0;34m,\u001b[0m \u001b[0;34m\"val\"\u001b[0m\u001b[0;34m:\u001b[0m \u001b[0;36m37.0\u001b[0m\u001b[0;34m}\u001b[0m\u001b[0;34m,\u001b[0m \u001b[0;34m{\u001b[0m\u001b[0;34m\"ts\"\u001b[0m\u001b[0;34m:\u001b[0m \u001b[0;36m1577858700.0\u001b[0m\u001b[0;34m,\u001b[0m \u001b[0;34m\"val\"\u001b[0m\u001b[0;34m:\u001b[0m \u001b[0;36m95.0\u001b[0m\u001b[0;34m}\u001b[0m\u001b[0;34m,\u001b[0m \u001b[0;34m{\u001b[0m\u001b[0;34m\"ts\"\u001b[0m\u001b[0;34m:\u001b[0m \u001b[0;36m1577859000.0\u001b[0m\u001b[0;34m,\u001b[0m \u001b[0;34m\"val\"\u001b[0m\u001b[0;34m:\u001b[0m \u001b[0;36m27.0\u001b[0m\u001b[0;34m}\u001b[0m\u001b[0;34m,\u001b[0m \u001b[0;34m{\u001b[0m\u001b[0;34m\"ts\"\u001b[0m\u001b[0;34m:\u001b[0m \u001b[0;36m1577859300.0\u001b[0m\u001b[0;34m,\u001b[0m \u001b[0;34m\"val\"\u001b[0m\u001b[0;34m:\u001b[0m \u001b[0;36m90.0\u001b[0m\u001b[0;34m}\u001b[0m\u001b[0;34m,\u001b[0m \u001b[0;34m{\u001b[0m\u001b[0;34m\"ts\"\u001b[0m\u001b[0;34m:\u001b[0m \u001b[0;36m1577859600.0\u001b[0m\u001b[0;34m,\u001b[0m \u001b[0;34m\"val\"\u001b[0m\u001b[0;34m:\u001b[0m \u001b[0;36m43.0\u001b[0m\u001b[0;34m}\u001b[0m\u001b[0;34m,\u001b[0m \u001b[0;34m{\u001b[0m\u001b[0;34m\"ts\"\u001b[0m\u001b[0;34m:\u001b[0m \u001b[0;36m1577859900.0\u001b[0m\u001b[0;34m,\u001b[0m \u001b[0;34m\"val\"\u001b[0m\u001b[0;34m:\u001b[0m \u001b[0;36m11.0\u001b[0m\u001b[0;34m}\u001b[0m\u001b[0;34m,\u001b[0m \u001b[0;34m{\u001b[0m\u001b[0;34m\"ts\"\u001b[0m\u001b[0;34m:\u001b[0m \u001b[0;36m1577860200.0\u001b[0m\u001b[0;34m,\u001b[0m \u001b[0;34m\"val\"\u001b[0m\u001b[0;34m:\u001b[0m \u001b[0;36m85.0\u001b[0m\u001b[0;34m}\u001b[0m\u001b[0;34m,\u001b[0m \u001b[0;34m{\u001b[0m\u001b[0;34m\"ts\"\u001b[0m\u001b[0;34m:\u001b[0m \u001b[0;36m1577860500.0\u001b[0m\u001b[0;34m,\u001b[0m \u001b[0;34m\"val\"\u001b[0m\u001b[0;34m:\u001b[0m \u001b[0;36m13.0\u001b[0m\u001b[0;34m}\u001b[0m\u001b[0;34m,\u001b[0m \u001b[0;34m{\u001b[0m\u001b[0;34m\"ts\"\u001b[0m\u001b[0;34m:\u001b[0m \u001b[0;36m1577861100.0\u001b[0m\u001b[0;34m,\u001b[0m \u001b[0;34m\"val\"\u001b[0m\u001b[0;34m:\u001b[0m \u001b[0;36m72.0\u001b[0m\u001b[0;34m}\u001b[0m\u001b[0;34m,\u001b[0m \u001b[0;34m{\u001b[0m\u001b[0;34m\"ts\"\u001b[0m\u001b[0;34m:\u001b[0m \u001b[0;36m1577861400.0\u001b[0m\u001b[0;34m,\u001b[0m \u001b[0;34m\"val\"\u001b[0m\u001b[0;34m:\u001b[0m \u001b[0;36m65.0\u001b[0m\u001b[0;34m}\u001b[0m\u001b[0;34m,\u001b[0m \u001b[0;34m{\u001b[0m\u001b[0;34m\"ts\"\u001b[0m\u001b[0;34m:\u001b[0m \u001b[0;36m1577861700.0\u001b[0m\u001b[0;34m,\u001b[0m \u001b[0;34m\"val\"\u001b[0m\u001b[0;34m:\u001b[0m \u001b[0;36m65.0\u001b[0m\u001b[0;34m}\u001b[0m\u001b[0;34m,\u001b[0m \u001b[0;34m{\u001b[0m\u001b[0;34m\"ts\"\u001b[0m\u001b[0;34m:\u001b[0m \u001b[0;36m1577862000.0\u001b[0m\u001b[0;34m,\u001b[0m \u001b[0;34m\"val\"\u001b[0m\u001b[0;34m:\u001b[0m \u001b[0;36m27.0\u001b[0m\u001b[0;34m}\u001b[0m\u001b[0;34m,\u001b[0m \u001b[0;34m{\u001b[0m\u001b[0;34m\"ts\"\u001b[0m\u001b[0;34m:\u001b[0m \u001b[0;36m1577862300.0\u001b[0m\u001b[0;34m,\u001b[0m \u001b[0;34m\"val\"\u001b[0m\u001b[0;34m:\u001b[0m \u001b[0;36m55.0\u001b[0m\u001b[0;34m}\u001b[0m\u001b[0;34m,\u001b[0m \u001b[0;34m{\u001b[0m\u001b[0;34m\"ts\"\u001b[0m\u001b[0;34m:\u001b[0m \u001b[0;36m1577862600.0\u001b[0m\u001b[0;34m,\u001b[0m \u001b[0;34m\"val\"\u001b[0m\u001b[0;34m:\u001b[0m \u001b[0;36m18.0\u001b[0m\u001b[0;34m}\u001b[0m\u001b[0;34m,\u001b[0m \u001b[0;34m{\u001b[0m\u001b[0;34m\"ts\"\u001b[0m\u001b[0;34m:\u001b[0m \u001b[0;36m1577863200.0\u001b[0m\u001b[0;34m,\u001b[0m \u001b[0;34m\"val\"\u001b[0m\u001b[0;34m:\u001b[0m \u001b[0;36m32.0\u001b[0m\u001b[0;34m}\u001b[0m\u001b[0;34m,\u001b[0m \u001b[0;34m{\u001b[0m\u001b[0;34m\"ts\"\u001b[0m\u001b[0;34m:\u001b[0m \u001b[0;36m1577863500.0\u001b[0m\u001b[0;34m,\u001b[0m \u001b[0;34m\"val\"\u001b[0m\u001b[0;34m:\u001b[0m \u001b[0;36m63.0\u001b[0m\u001b[0;34m}\u001b[0m\u001b[0;34m,\u001b[0m \u001b[0;34m{\u001b[0m\u001b[0;34m\"ts\"\u001b[0m\u001b[0;34m:\u001b[0m \u001b[0;36m1577863800.0\u001b[0m\u001b[0;34m,\u001b[0m \u001b[0;34m\"val\"\u001b[0m\u001b[0;34m:\u001b[0m \u001b[0;36m10.0\u001b[0m\u001b[0;34m}\u001b[0m\u001b[0;34m,\u001b[0m \u001b[0;34m{\u001b[0m\u001b[0;34m\"ts\"\u001b[0m\u001b[0;34m:\u001b[0m \u001b[0;36m1577864100.0\u001b[0m\u001b[0;34m,\u001b[0m \u001b[0;34m\"val\"\u001b[0m\u001b[0;34m:\u001b[0m \u001b[0;36m20.0\u001b[0m\u001b[0;34m}\u001b[0m\u001b[0;34m,\u001b[0m \u001b[0;34m{\u001b[0m\u001b[0;34m\"ts\"\u001b[0m\u001b[0;34m:\u001b[0m \u001b[0;36m1577864400.0\u001b[0m\u001b[0;34m,\u001b[0m \u001b[0;34m\"val\"\u001b[0m\u001b[0;34m:\u001b[0m \u001b[0;36m17.0\u001b[0m\u001b[0;34m}\u001b[0m\u001b[0;34m,\u001b[0m \u001b[0;34m{\u001b[0m\u001b[0;34m\"ts\"\u001b[0m\u001b[0;34m:\u001b[0m \u001b[0;36m1577864700.0\u001b[0m\u001b[0;34m,\u001b[0m \u001b[0;34m\"val\"\u001b[0m\u001b[0;34m:\u001b[0m \u001b[0;36m65.0\u001b[0m\u001b[0;34m}\u001b[0m\u001b[0;34m,\u001b[0m \u001b[0;34m{\u001b[0m\u001b[0;34m\"ts\"\u001b[0m\u001b[0;34m:\u001b[0m \u001b[0;36m1577865000.0\u001b[0m\u001b[0;34m,\u001b[0m \u001b[0;34m\"val\"\u001b[0m\u001b[0;34m:\u001b[0m \u001b[0;36m21.0\u001b[0m\u001b[0;34m}\u001b[0m\u001b[0;34m,\u001b[0m \u001b[0;34m{\u001b[0m\u001b[0;34m\"ts\"\u001b[0m\u001b[0;34m:\u001b[0m \u001b[0;36m1577865300.0\u001b[0m\u001b[0;34m,\u001b[0m \u001b[0;34m\"val\"\u001b[0m\u001b[0;34m:\u001b[0m \u001b[0;36m66.0\u001b[0m\u001b[0;34m}\u001b[0m\u001b[0;34m,\u001b[0m \u001b[0;34m{\u001b[0m\u001b[0;34m\"ts\"\u001b[0m\u001b[0;34m:\u001b[0m \u001b[0;36m1577865600.0\u001b[0m\u001b[0;34m,\u001b[0m \u001b[0;34m\"val\"\u001b[0m\u001b[0;34m:\u001b[0m \u001b[0;36m95.0\u001b[0m\u001b[0;34m}\u001b[0m\u001b[0;34m,\u001b[0m \u001b[0;34m{\u001b[0m\u001b[0;34m\"ts\"\u001b[0m\u001b[0;34m:\u001b[0m \u001b[0;36m1577865900.0\u001b[0m\u001b[0;34m,\u001b[0m \u001b[0;34m\"val\"\u001b[0m\u001b[0;34m:\u001b[0m \u001b[0;36m37.0\u001b[0m\u001b[0;34m}\u001b[0m\u001b[0;34m,\u001b[0m \u001b[0;34m{\u001b[0m\u001b[0;34m\"ts\"\u001b[0m\u001b[0;34m:\u001b[0m \u001b[0;36m1577866200.0\u001b[0m\u001b[0;34m,\u001b[0m \u001b[0;34m\"val\"\u001b[0m\u001b[0;34m:\u001b[0m \u001b[0;36m50.0\u001b[0m\u001b[0;34m}\u001b[0m\u001b[0;34m,\u001b[0m \u001b[0;34m{\u001b[0m\u001b[0;34m\"ts\"\u001b[0m\u001b[0;34m:\u001b[0m \u001b[0;36m1577866500.0\u001b[0m\u001b[0;34m,\u001b[0m \u001b[0;34m\"val\"\u001b[0m\u001b[0;34m:\u001b[0m \u001b[0;36m14.0\u001b[0m\u001b[0;34m}\u001b[0m\u001b[0;34m,\u001b[0m \u001b[0;34m{\u001b[0m\u001b[0;34m\"ts\"\u001b[0m\u001b[0;34m:\u001b[0m \u001b[0;36m1577867100.0\u001b[0m\u001b[0;34m,\u001b[0m \u001b[0;34m\"val\"\u001b[0m\u001b[0;34m:\u001b[0m \u001b[0;36m1.0\u001b[0m\u001b[0;34m}\u001b[0m\u001b[0;34m,\u001b[0m \u001b[0;34m{\u001b[0m\u001b[0;34m\"ts\"\u001b[0m\u001b[0;34m:\u001b[0m \u001b[0;36m1577867400.0\u001b[0m\u001b[0;34m,\u001b[0m \u001b[0;34m\"val\"\u001b[0m\u001b[0;34m:\u001b[0m \u001b[0;36m26.0\u001b[0m\u001b[0;34m}\u001b[0m\u001b[0;34m,\u001b[0m \u001b[0;34m{\u001b[0m\u001b[0;34m\"ts\"\u001b[0m\u001b[0;34m:\u001b[0m \u001b[0;36m1577867700.0\u001b[0m\u001b[0;34m,\u001b[0m \u001b[0;34m\"val\"\u001b[0m\u001b[0;34m:\u001b[0m \u001b[0;36m45.0\u001b[0m\u001b[0;34m}\u001b[0m\u001b[0;34m,\u001b[0m \u001b[0;34m{\u001b[0m\u001b[0;34m\"ts\"\u001b[0m\u001b[0;34m:\u001b[0m \u001b[0;36m1577868000.0\u001b[0m\u001b[0;34m,\u001b[0m \u001b[0;34m\"val\"\u001b[0m\u001b[0;34m:\u001b[0m \u001b[0;36m29.0\u001b[0m\u001b[0;34m}\u001b[0m\u001b[0;34m,\u001b[0m \u001b[0;34m{\u001b[0m\u001b[0;34m\"ts\"\u001b[0m\u001b[0;34m:\u001b[0m \u001b[0;36m1577868300.0\u001b[0m\u001b[0;34m,\u001b[0m \u001b[0;34m\"val\"\u001b[0m\u001b[0;34m:\u001b[0m \u001b[0;36m94.0\u001b[0m\u001b[0;34m}\u001b[0m\u001b[0;34m,\u001b[0m \u001b[0;34m{\u001b[0m\u001b[0;34m\"ts\"\u001b[0m\u001b[0;34m:\u001b[0m \u001b[0;36m1577868600.0\u001b[0m\u001b[0;34m,\u001b[0m \u001b[0;34m\"val\"\u001b[0m\u001b[0;34m:\u001b[0m \u001b[0;36m85.0\u001b[0m\u001b[0;34m}\u001b[0m\u001b[0;34m,\u001b[0m \u001b[0;34m{\u001b[0m\u001b[0;34m\"ts\"\u001b[0m\u001b[0;34m:\u001b[0m \u001b[0;36m1577868900.0\u001b[0m\u001b[0;34m,\u001b[0m \u001b[0;34m\"val\"\u001b[0m\u001b[0;34m:\u001b[0m \u001b[0;36m65.0\u001b[0m\u001b[0;34m}\u001b[0m\u001b[0;34m,\u001b[0m \u001b[0;34m{\u001b[0m\u001b[0;34m\"ts\"\u001b[0m\u001b[0;34m:\u001b[0m \u001b[0;36m1577869200.0\u001b[0m\u001b[0;34m,\u001b[0m \u001b[0;34m\"val\"\u001b[0m\u001b[0;34m:\u001b[0m \u001b[0;36m13.0\u001b[0m\u001b[0;34m}\u001b[0m\u001b[0;34m,\u001b[0m \u001b[0;34m{\u001b[0m\u001b[0;34m\"ts\"\u001b[0m\u001b[0;34m:\u001b[0m \u001b[0;36m1577869800.0\u001b[0m\u001b[0;34m,\u001b[0m \u001b[0;34m\"val\"\u001b[0m\u001b[0;34m:\u001b[0m \u001b[0;36m53.0\u001b[0m\u001b[0;34m}\u001b[0m\u001b[0;34m,\u001b[0m \u001b[0;34m{\u001b[0m\u001b[0;34m\"ts\"\u001b[0m\u001b[0;34m:\u001b[0m \u001b[0;36m1577870100.0\u001b[0m\u001b[0;34m,\u001b[0m \u001b[0;34m\"val\"\u001b[0m\u001b[0;34m:\u001b[0m \u001b[0;36m82.0\u001b[0m\u001b[0;34m}\u001b[0m\u001b[0;34m,\u001b[0m \u001b[0;34m{\u001b[0m\u001b[0;34m\"ts\"\u001b[0m\u001b[0;34m:\u001b[0m \u001b[0;36m1577870400.0\u001b[0m\u001b[0;34m,\u001b[0m \u001b[0;34m\"val\"\u001b[0m\u001b[0;34m:\u001b[0m \u001b[0;36m14.0\u001b[0m\u001b[0;34m}\u001b[0m\u001b[0;34m,\u001b[0m \u001b[0;34m{\u001b[0m\u001b[0;34m\"ts\"\u001b[0m\u001b[0;34m:\u001b[0m \u001b[0;36m1577870700.0\u001b[0m\u001b[0;34m,\u001b[0m \u001b[0;34m\"val\"\u001b[0m\u001b[0;34m:\u001b[0m \u001b[0;36m47.0\u001b[0m\u001b[0;34m}\u001b[0m\u001b[0;34m,\u001b[0m \u001b[0;34m{\u001b[0m\u001b[0;34m\"ts\"\u001b[0m\u001b[0;34m:\u001b[0m \u001b[0;36m1577871000.0\u001b[0m\u001b[0;34m,\u001b[0m \u001b[0;34m\"val\"\u001b[0m\u001b[0;34m:\u001b[0m \u001b[0;36m55.0\u001b[0m\u001b[0;34m}\u001b[0m\u001b[0;34m,\u001b[0m \u001b[0;34m{\u001b[0m\u001b[0;34m\"ts\"\u001b[0m\u001b[0;34m:\u001b[0m \u001b[0;36m1577871300.0\u001b[0m\u001b[0;34m,\u001b[0m \u001b[0;34m\"val\"\u001b[0m\u001b[0;34m:\u001b[0m \u001b[0;36m1.0\u001b[0m\u001b[0;34m}\u001b[0m\u001b[0;34m,\u001b[0m \u001b[0;34m{\u001b[0m\u001b[0;34m\"ts\"\u001b[0m\u001b[0;34m:\u001b[0m \u001b[0;36m1577871600.0\u001b[0m\u001b[0;34m,\u001b[0m \u001b[0;34m\"val\"\u001b[0m\u001b[0;34m:\u001b[0m \u001b[0;36m28.0\u001b[0m\u001b[0;34m}\u001b[0m\u001b[0;34m,\u001b[0m \u001b[0;34m{\u001b[0m\u001b[0;34m\"ts\"\u001b[0m\u001b[0;34m:\u001b[0m \u001b[0;36m1577871900.0\u001b[0m\u001b[0;34m,\u001b[0m \u001b[0;34m\"val\"\u001b[0m\u001b[0;34m:\u001b[0m \u001b[0;36m67.0\u001b[0m\u001b[0;34m}\u001b[0m\u001b[0;34m,\u001b[0m \u001b[0;34m{\u001b[0m\u001b[0;34m\"ts\"\u001b[0m\u001b[0;34m:\u001b[0m \u001b[0;36m1577873100.0\u001b[0m\u001b[0;34m,\u001b[0m \u001b[0;34m\"val\"\u001b[0m\u001b[0;34m:\u001b[0m \u001b[0;36m20.0\u001b[0m\u001b[0;34m}\u001b[0m\u001b[0;34m,\u001b[0m \u001b[0;34m{\u001b[0m\u001b[0;34m\"ts\"\u001b[0m\u001b[0;34m:\u001b[0m \u001b[0;36m1577873400.0\u001b[0m\u001b[0;34m,\u001b[0m \u001b[0;34m\"val\"\u001b[0m\u001b[0;34m:\u001b[0m \u001b[0;36m57.0\u001b[0m\u001b[0;34m}\u001b[0m\u001b[0;34m,\u001b[0m \u001b[0;34m{\u001b[0m\u001b[0;34m\"ts\"\u001b[0m\u001b[0;34m:\u001b[0m \u001b[0;36m1577873700.0\u001b[0m\u001b[0;34m,\u001b[0m \u001b[0;34m\"val\"\u001b[0m\u001b[0;34m:\u001b[0m \u001b[0;36m41.0\u001b[0m\u001b[0;34m}\u001b[0m\u001b[0;34m,\u001b[0m \u001b[0;34m{\u001b[0m\u001b[0;34m\"ts\"\u001b[0m\u001b[0;34m:\u001b[0m \u001b[0;36m1577874000.0\u001b[0m\u001b[0;34m,\u001b[0m \u001b[0;34m\"val\"\u001b[0m\u001b[0;34m:\u001b[0m \u001b[0;36m44.0\u001b[0m\u001b[0;34m}\u001b[0m\u001b[0;34m,\u001b[0m \u001b[0;34m{\u001b[0m\u001b[0;34m\"ts\"\u001b[0m\u001b[0;34m:\u001b[0m \u001b[0;36m1577874300.0\u001b[0m\u001b[0;34m,\u001b[0m \u001b[0;34m\"val\"\u001b[0m\u001b[0;34m:\u001b[0m \u001b[0;36m78.0\u001b[0m\u001b[0;34m}\u001b[0m\u001b[0;34m,\u001b[0m \u001b[0;34m{\u001b[0m\u001b[0;34m\"ts\"\u001b[0m\u001b[0;34m:\u001b[0m \u001b[0;36m1577874600.0\u001b[0m\u001b[0;34m,\u001b[0m \u001b[0;34m\"val\"\u001b[0m\u001b[0;34m:\u001b[0m \u001b[0;36m4.0\u001b[0m\u001b[0;34m}\u001b[0m\u001b[0;34m,\u001b[0m \u001b[0;34m{\u001b[0m\u001b[0;34m\"ts\"\u001b[0m\u001b[0;34m:\u001b[0m \u001b[0;36m1577874900.0\u001b[0m\u001b[0;34m,\u001b[0m \u001b[0;34m\"val\"\u001b[0m\u001b[0;34m:\u001b[0m \u001b[0;36m60.0\u001b[0m\u001b[0;34m}\u001b[0m\u001b[0;34m,\u001b[0m \u001b[0;34m{\u001b[0m\u001b[0;34m\"ts\"\u001b[0m\u001b[0;34m:\u001b[0m \u001b[0;36m1577875500.0\u001b[0m\u001b[0;34m,\u001b[0m \u001b[0;34m\"val\"\u001b[0m\u001b[0;34m:\u001b[0m \u001b[0;36m34.0\u001b[0m\u001b[0;34m}\u001b[0m\u001b[0;34m,\u001b[0m \u001b[0;34m{\u001b[0m\u001b[0;34m\"ts\"\u001b[0m\u001b[0;34m:\u001b[0m \u001b[0;36m1577876100.0\u001b[0m\u001b[0;34m,\u001b[0m \u001b[0;34m\"val\"\u001b[0m\u001b[0;34m:\u001b[0m \u001b[0;36m32.0\u001b[0m\u001b[0;34m}\u001b[0m\u001b[0;34m,\u001b[0m \u001b[0;34m{\u001b[0m\u001b[0;34m\"ts\"\u001b[0m\u001b[0;34m:\u001b[0m \u001b[0;36m1577876400.0\u001b[0m\u001b[0;34m,\u001b[0m \u001b[0;34m\"val\"\u001b[0m\u001b[0;34m:\u001b[0m \u001b[0;36m84.0\u001b[0m\u001b[0;34m}\u001b[0m\u001b[0;34m,\u001b[0m \u001b[0;34m{\u001b[0m\u001b[0;34m\"ts\"\u001b[0m\u001b[0;34m:\u001b[0m \u001b[0;36m1577877300.0\u001b[0m\u001b[0;34m,\u001b[0m \u001b[0;34m\"val\"\u001b[0m\u001b[0;34m:\u001b[0m \u001b[0;36m24.0\u001b[0m\u001b[0;34m}\u001b[0m\u001b[0;34m,\u001b[0m \u001b[0;34m{\u001b[0m\u001b[0;34m\"ts\"\u001b[0m\u001b[0;34m:\u001b[0m \u001b[0;36m1577877600.0\u001b[0m\u001b[0;34m,\u001b[0m \u001b[0;34m\"val\"\u001b[0m\u001b[0;34m:\u001b[0m \u001b[0;36m96.0\u001b[0m\u001b[0;34m}\u001b[0m\u001b[0;34m,\u001b[0m \u001b[0;34m{\u001b[0m\u001b[0;34m\"ts\"\u001b[0m\u001b[0;34m:\u001b[0m \u001b[0;36m1577878200.0\u001b[0m\u001b[0;34m,\u001b[0m \u001b[0;34m\"val\"\u001b[0m\u001b[0;34m:\u001b[0m \u001b[0;36m32.0\u001b[0m\u001b[0;34m}\u001b[0m\u001b[0;34m,\u001b[0m \u001b[0;34m{\u001b[0m\u001b[0;34m\"ts\"\u001b[0m\u001b[0;34m:\u001b[0m \u001b[0;36m1577878500.0\u001b[0m\u001b[0;34m,\u001b[0m \u001b[0;34m\"val\"\u001b[0m\u001b[0;34m:\u001b[0m \u001b[0;36m64.0\u001b[0m\u001b[0;34m}\u001b[0m\u001b[0;34m,\u001b[0m \u001b[0;34m{\u001b[0m\u001b[0;34m\"ts\"\u001b[0m\u001b[0;34m:\u001b[0m \u001b[0;36m1577878800.0\u001b[0m\u001b[0;34m,\u001b[0m \u001b[0;34m\"val\"\u001b[0m\u001b[0;34m:\u001b[0m \u001b[0;36m56.0\u001b[0m\u001b[0;34m}\u001b[0m\u001b[0;34m,\u001b[0m \u001b[0;34m{\u001b[0m\u001b[0;34m\"ts\"\u001b[0m\u001b[0;34m:\u001b[0m \u001b[0;36m1577879100.0\u001b[0m\u001b[0;34m,\u001b[0m \u001b[0;34m\"val\"\u001b[0m\u001b[0;34m:\u001b[0m \u001b[0;36m84.0\u001b[0m\u001b[0;34m}\u001b[0m\u001b[0;34m,\u001b[0m \u001b[0;34m{\u001b[0m\u001b[0;34m\"ts\"\u001b[0m\u001b[0;34m:\u001b[0m \u001b[0;36m1577879400.0\u001b[0m\u001b[0;34m,\u001b[0m \u001b[0;34m\"val\"\u001b[0m\u001b[0;34m:\u001b[0m \u001b[0;36m49.0\u001b[0m\u001b[0;34m}\u001b[0m\u001b[0;34m,\u001b[0m \u001b[0;34m{\u001b[0m\u001b[0;34m\"ts\"\u001b[0m\u001b[0;34m:\u001b[0m \u001b[0;36m1577879700.0\u001b[0m\u001b[0;34m,\u001b[0m \u001b[0;34m\"val\"\u001b[0m\u001b[0;34m:\u001b[0m \u001b[0;36m6.0\u001b[0m\u001b[0;34m}\u001b[0m\u001b[0;34m,\u001b[0m \u001b[0;34m{\u001b[0m\u001b[0;34m\"ts\"\u001b[0m\u001b[0;34m:\u001b[0m \u001b[0;36m1577880300.0\u001b[0m\u001b[0;34m,\u001b[0m \u001b[0;34m\"val\"\u001b[0m\u001b[0;34m:\u001b[0m \u001b[0;36m73.0\u001b[0m\u001b[0;34m}\u001b[0m\u001b[0;34m,\u001b[0m \u001b[0;34m{\u001b[0m\u001b[0;34m\"ts\"\u001b[0m\u001b[0;34m:\u001b[0m \u001b[0;36m1577880900.0\u001b[0m\u001b[0;34m,\u001b[0m \u001b[0;34m\"val\"\u001b[0m\u001b[0;34m:\u001b[0m \u001b[0;36m60.0\u001b[0m\u001b[0;34m}\u001b[0m\u001b[0;34m,\u001b[0m \u001b[0;34m{\u001b[0m\u001b[0;34m\"ts\"\u001b[0m\u001b[0;34m:\u001b[0m \u001b[0;36m1577881200.0\u001b[0m\u001b[0;34m,\u001b[0m \u001b[0;34m\"val\"\u001b[0m\u001b[0;34m:\u001b[0m \u001b[0;36m27.0\u001b[0m\u001b[0;34m}\u001b[0m\u001b[0;34m,\u001b[0m \u001b[0;34m{\u001b[0m\u001b[0;34m\"ts\"\u001b[0m\u001b[0;34m:\u001b[0m \u001b[0;36m1577881500.0\u001b[0m\u001b[0;34m,\u001b[0m \u001b[0;34m\"val\"\u001b[0m\u001b[0;34m:\u001b[0m \u001b[0;36m0.0\u001b[0m\u001b[0;34m}\u001b[0m\u001b[0;34m]\u001b[0m\u001b[0;34m}\u001b[0m\u001b[0;34m,\u001b[0m \u001b[0;34m\"C\"\u001b[0m\u001b[0;34m:\u001b[0m \u001b[0;34m{\u001b[0m\u001b[0;34m\"data\"\u001b[0m\u001b[0;34m:\u001b[0m \u001b[0;34m[\u001b[0m\u001b[0;34m{\u001b[0m\u001b[0;34m\"ts\"\u001b[0m\u001b[0;34m:\u001b[0m \u001b[0;36m1577837100.0\u001b[0m\u001b[0;34m,\u001b[0m \u001b[0;34m\"val\"\u001b[0m\u001b[0;34m:\u001b[0m \u001b[0;36m53.0\u001b[0m\u001b[0;34m}\u001b[0m\u001b[0;34m,\u001b[0m \u001b[0;34m{\u001b[0m\u001b[0;34m\"ts\"\u001b[0m\u001b[0;34m:\u001b[0m \u001b[0;36m1577837400.0\u001b[0m\u001b[0;34m,\u001b[0m \u001b[0;34m\"val\"\u001b[0m\u001b[0;34m:\u001b[0m \u001b[0;36m32.0\u001b[0m\u001b[0;34m}\u001b[0m\u001b[0;34m,\u001b[0m \u001b[0;34m{\u001b[0m\u001b[0;34m\"ts\"\u001b[0m\u001b[0;34m:\u001b[0m \u001b[0;36m1577837700.0\u001b[0m\u001b[0;34m,\u001b[0m \u001b[0;34m\"val\"\u001b[0m\u001b[0;34m:\u001b[0m \u001b[0;36m66.0\u001b[0m\u001b[0;34m}\u001b[0m\u001b[0;34m,\u001b[0m \u001b[0;34m{\u001b[0m\u001b[0;34m\"ts\"\u001b[0m\u001b[0;34m:\u001b[0m \u001b[0;36m1577838000.0\u001b[0m\u001b[0;34m,\u001b[0m \u001b[0;34m\"val\"\u001b[0m\u001b[0;34m:\u001b[0m \u001b[0;36m63.0\u001b[0m\u001b[0;34m}\u001b[0m\u001b[0;34m,\u001b[0m \u001b[0;34m{\u001b[0m\u001b[0;34m\"ts\"\u001b[0m\u001b[0;34m:\u001b[0m \u001b[0;36m1577838300.0\u001b[0m\u001b[0;34m,\u001b[0m \u001b[0;34m\"val\"\u001b[0m\u001b[0;34m:\u001b[0m \u001b[0;36m45.0\u001b[0m\u001b[0;34m}\u001b[0m\u001b[0;34m,\u001b[0m \u001b[0;34m{\u001b[0m\u001b[0;34m\"ts\"\u001b[0m\u001b[0;34m:\u001b[0m \u001b[0;36m1577838600.0\u001b[0m\u001b[0;34m,\u001b[0m \u001b[0;34m\"val\"\u001b[0m\u001b[0;34m:\u001b[0m \u001b[0;36m91.0\u001b[0m\u001b[0;34m}\u001b[0m\u001b[0;34m,\u001b[0m \u001b[0;34m{\u001b[0m\u001b[0;34m\"ts\"\u001b[0m\u001b[0;34m:\u001b[0m \u001b[0;36m1577838900.0\u001b[0m\u001b[0;34m,\u001b[0m \u001b[0;34m\"val\"\u001b[0m\u001b[0;34m:\u001b[0m \u001b[0;36m40.0\u001b[0m\u001b[0;34m}\u001b[0m\u001b[0;34m,\u001b[0m \u001b[0;34m{\u001b[0m\u001b[0;34m\"ts\"\u001b[0m\u001b[0;34m:\u001b[0m \u001b[0;36m1577839500.0\u001b[0m\u001b[0;34m,\u001b[0m \u001b[0;34m\"val\"\u001b[0m\u001b[0;34m:\u001b[0m \u001b[0;36m76.0\u001b[0m\u001b[0;34m}\u001b[0m\u001b[0;34m,\u001b[0m \u001b[0;34m{\u001b[0m\u001b[0;34m\"ts\"\u001b[0m\u001b[0;34m:\u001b[0m \u001b[0;36m1577839800.0\u001b[0m\u001b[0;34m,\u001b[0m \u001b[0;34m\"val\"\u001b[0m\u001b[0;34m:\u001b[0m \u001b[0;36m69.0\u001b[0m\u001b[0;34m}\u001b[0m\u001b[0;34m,\u001b[0m \u001b[0;34m{\u001b[0m\u001b[0;34m\"ts\"\u001b[0m\u001b[0;34m:\u001b[0m \u001b[0;36m1577840100.0\u001b[0m\u001b[0;34m,\u001b[0m \u001b[0;34m\"val\"\u001b[0m\u001b[0;34m:\u001b[0m \u001b[0;36m66.0\u001b[0m\u001b[0;34m}\u001b[0m\u001b[0;34m,\u001b[0m \u001b[0;34m{\u001b[0m\u001b[0;34m\"ts\"\u001b[0m\u001b[0;34m:\u001b[0m \u001b[0;36m1577840700.0\u001b[0m\u001b[0;34m,\u001b[0m \u001b[0;34m\"val\"\u001b[0m\u001b[0;34m:\u001b[0m \u001b[0;36m44.0\u001b[0m\u001b[0;34m}\u001b[0m\u001b[0;34m,\u001b[0m \u001b[0;34m{\u001b[0m\u001b[0;34m\"ts\"\u001b[0m\u001b[0;34m:\u001b[0m \u001b[0;36m1577841000.0\u001b[0m\u001b[0;34m,\u001b[0m \u001b[0;34m\"val\"\u001b[0m\u001b[0;34m:\u001b[0m \u001b[0;36m13.0\u001b[0m\u001b[0;34m}\u001b[0m\u001b[0;34m,\u001b[0m \u001b[0;34m{\u001b[0m\u001b[0;34m\"ts\"\u001b[0m\u001b[0;34m:\u001b[0m \u001b[0;36m1577841300.0\u001b[0m\u001b[0;34m,\u001b[0m \u001b[0;34m\"val\"\u001b[0m\u001b[0;34m:\u001b[0m \u001b[0;36m23.0\u001b[0m\u001b[0;34m}\u001b[0m\u001b[0;34m,\u001b[0m \u001b[0;34m{\u001b[0m\u001b[0;34m\"ts\"\u001b[0m\u001b[0;34m:\u001b[0m \u001b[0;36m1577841600.0\u001b[0m\u001b[0;34m,\u001b[0m \u001b[0;34m\"val\"\u001b[0m\u001b[0;34m:\u001b[0m \u001b[0;36m28.0\u001b[0m\u001b[0;34m}\u001b[0m\u001b[0;34m,\u001b[0m \u001b[0;34m{\u001b[0m\u001b[0;34m\"ts\"\u001b[0m\u001b[0;34m:\u001b[0m \u001b[0;36m1577841900.0\u001b[0m\u001b[0;34m,\u001b[0m \u001b[0;34m\"val\"\u001b[0m\u001b[0;34m:\u001b[0m \u001b[0;36m46.0\u001b[0m\u001b[0;34m}\u001b[0m\u001b[0;34m,\u001b[0m \u001b[0;34m{\u001b[0m\u001b[0;34m\"ts\"\u001b[0m\u001b[0;34m:\u001b[0m \u001b[0;36m1577842200.0\u001b[0m\u001b[0;34m,\u001b[0m \u001b[0;34m\"val\"\u001b[0m\u001b[0;34m:\u001b[0m \u001b[0;36m54.0\u001b[0m\u001b[0;34m}\u001b[0m\u001b[0;34m,\u001b[0m \u001b[0;34m{\u001b[0m\u001b[0;34m\"ts\"\u001b[0m\u001b[0;34m:\u001b[0m \u001b[0;36m1577842500.0\u001b[0m\u001b[0;34m,\u001b[0m \u001b[0;34m\"val\"\u001b[0m\u001b[0;34m:\u001b[0m \u001b[0;36m75.0\u001b[0m\u001b[0;34m}\u001b[0m\u001b[0;34m,\u001b[0m \u001b[0;34m{\u001b[0m\u001b[0;34m\"ts\"\u001b[0m\u001b[0;34m:\u001b[0m \u001b[0;36m1577842800.0\u001b[0m\u001b[0;34m,\u001b[0m \u001b[0;34m\"val\"\u001b[0m\u001b[0;34m:\u001b[0m \u001b[0;36m90.0\u001b[0m\u001b[0;34m}\u001b[0m\u001b[0;34m,\u001b[0m \u001b[0;34m{\u001b[0m\u001b[0;34m\"ts\"\u001b[0m\u001b[0;34m:\u001b[0m \u001b[0;36m1577843100.0\u001b[0m\u001b[0;34m,\u001b[0m \u001b[0;34m\"val\"\u001b[0m\u001b[0;34m:\u001b[0m \u001b[0;36m35.0\u001b[0m\u001b[0;34m}\u001b[0m\u001b[0;34m,\u001b[0m \u001b[0;34m{\u001b[0m\u001b[0;34m\"ts\"\u001b[0m\u001b[0;34m:\u001b[0m \u001b[0;36m1577843700.0\u001b[0m\u001b[0;34m,\u001b[0m \u001b[0;34m\"val\"\u001b[0m\u001b[0;34m:\u001b[0m \u001b[0;36m39.0\u001b[0m\u001b[0;34m}\u001b[0m\u001b[0;34m,\u001b[0m \u001b[0;34m{\u001b[0m\u001b[0;34m\"ts\"\u001b[0m\u001b[0;34m:\u001b[0m \u001b[0;36m1577844000.0\u001b[0m\u001b[0;34m,\u001b[0m \u001b[0;34m\"val\"\u001b[0m\u001b[0;34m:\u001b[0m \u001b[0;36m72.0\u001b[0m\u001b[0;34m}\u001b[0m\u001b[0;34m,\u001b[0m \u001b[0;34m{\u001b[0m\u001b[0;34m\"ts\"\u001b[0m\u001b[0;34m:\u001b[0m \u001b[0;36m1577844300.0\u001b[0m\u001b[0;34m,\u001b[0m \u001b[0;34m\"val\"\u001b[0m\u001b[0;34m:\u001b[0m \u001b[0;36m92.0\u001b[0m\u001b[0;34m}\u001b[0m\u001b[0;34m,\u001b[0m \u001b[0;34m{\u001b[0m\u001b[0;34m\"ts\"\u001b[0m\u001b[0;34m:\u001b[0m \u001b[0;36m1577845500.0\u001b[0m\u001b[0;34m,\u001b[0m \u001b[0;34m\"val\"\u001b[0m\u001b[0;34m:\u001b[0m \u001b[0;36m17.0\u001b[0m\u001b[0;34m}\u001b[0m\u001b[0;34m,\u001b[0m \u001b[0;34m{\u001b[0m\u001b[0;34m\"ts\"\u001b[0m\u001b[0;34m:\u001b[0m \u001b[0;36m1577845800.0\u001b[0m\u001b[0;34m,\u001b[0m \u001b[0;34m\"val\"\u001b[0m\u001b[0;34m:\u001b[0m \u001b[0;36m84.0\u001b[0m\u001b[0;34m}\u001b[0m\u001b[0;34m,\u001b[0m \u001b[0;34m{\u001b[0m\u001b[0;34m\"ts\"\u001b[0m\u001b[0;34m:\u001b[0m \u001b[0;36m1577846100.0\u001b[0m\u001b[0;34m,\u001b[0m \u001b[0;34m\"val\"\u001b[0m\u001b[0;34m:\u001b[0m \u001b[0;36m9.0\u001b[0m\u001b[0;34m}\u001b[0m\u001b[0;34m,\u001b[0m \u001b[0;34m{\u001b[0m\u001b[0;34m\"ts\"\u001b[0m\u001b[0;34m:\u001b[0m \u001b[0;36m1577846400.0\u001b[0m\u001b[0;34m,\u001b[0m \u001b[0;34m\"val\"\u001b[0m\u001b[0;34m:\u001b[0m \u001b[0;36m73.0\u001b[0m\u001b[0;34m}\u001b[0m\u001b[0;34m,\u001b[0m \u001b[0;34m{\u001b[0m\u001b[0;34m\"ts\"\u001b[0m\u001b[0;34m:\u001b[0m \u001b[0;36m1577846700.0\u001b[0m\u001b[0;34m,\u001b[0m \u001b[0;34m\"val\"\u001b[0m\u001b[0;34m:\u001b[0m \u001b[0;36m29.0\u001b[0m\u001b[0;34m}\u001b[0m\u001b[0;34m,\u001b[0m \u001b[0;34m{\u001b[0m\u001b[0;34m\"ts\"\u001b[0m\u001b[0;34m:\u001b[0m \u001b[0;36m1577847300.0\u001b[0m\u001b[0;34m,\u001b[0m \u001b[0;34m\"val\"\u001b[0m\u001b[0;34m:\u001b[0m \u001b[0;36m12.0\u001b[0m\u001b[0;34m}\u001b[0m\u001b[0;34m,\u001b[0m \u001b[0;34m{\u001b[0m\u001b[0;34m\"ts\"\u001b[0m\u001b[0;34m:\u001b[0m \u001b[0;36m1577847600.0\u001b[0m\u001b[0;34m,\u001b[0m \u001b[0;34m\"val\"\u001b[0m\u001b[0;34m:\u001b[0m \u001b[0;36m12.0\u001b[0m\u001b[0;34m}\u001b[0m\u001b[0;34m,\u001b[0m \u001b[0;34m{\u001b[0m\u001b[0;34m\"ts\"\u001b[0m\u001b[0;34m:\u001b[0m \u001b[0;36m1577847900.0\u001b[0m\u001b[0;34m,\u001b[0m \u001b[0;34m\"val\"\u001b[0m\u001b[0;34m:\u001b[0m \u001b[0;36m66.0\u001b[0m\u001b[0;34m}\u001b[0m\u001b[0;34m,\u001b[0m \u001b[0;34m{\u001b[0m\u001b[0;34m\"ts\"\u001b[0m\u001b[0;34m:\u001b[0m \u001b[0;36m1577848500.0\u001b[0m\u001b[0;34m,\u001b[0m \u001b[0;34m\"val\"\u001b[0m\u001b[0;34m:\u001b[0m \u001b[0;36m86.0\u001b[0m\u001b[0;34m}\u001b[0m\u001b[0;34m,\u001b[0m \u001b[0;34m{\u001b[0m\u001b[0;34m\"ts\"\u001b[0m\u001b[0;34m:\u001b[0m \u001b[0;36m1577849100.0\u001b[0m\u001b[0;34m,\u001b[0m \u001b[0;34m\"val\"\u001b[0m\u001b[0;34m:\u001b[0m \u001b[0;36m11.0\u001b[0m\u001b[0;34m}\u001b[0m\u001b[0;34m,\u001b[0m \u001b[0;34m{\u001b[0m\u001b[0;34m\"ts\"\u001b[0m\u001b[0;34m:\u001b[0m \u001b[0;36m1577849400.0\u001b[0m\u001b[0;34m,\u001b[0m \u001b[0;34m\"val\"\u001b[0m\u001b[0;34m:\u001b[0m \u001b[0;36m72.0\u001b[0m\u001b[0;34m}\u001b[0m\u001b[0;34m,\u001b[0m \u001b[0;34m{\u001b[0m\u001b[0;34m\"ts\"\u001b[0m\u001b[0;34m:\u001b[0m \u001b[0;36m1577849700.0\u001b[0m\u001b[0;34m,\u001b[0m \u001b[0;34m\"val\"\u001b[0m\u001b[0;34m:\u001b[0m \u001b[0;36m6.0\u001b[0m\u001b[0;34m}\u001b[0m\u001b[0;34m,\u001b[0m \u001b[0;34m{\u001b[0m\u001b[0;34m\"ts\"\u001b[0m\u001b[0;34m:\u001b[0m \u001b[0;36m1577850000.0\u001b[0m\u001b[0;34m,\u001b[0m \u001b[0;34m\"val\"\u001b[0m\u001b[0;34m:\u001b[0m \u001b[0;36m99.0\u001b[0m\u001b[0;34m}\u001b[0m\u001b[0;34m,\u001b[0m \u001b[0;34m{\u001b[0m\u001b[0;34m\"ts\"\u001b[0m\u001b[0;34m:\u001b[0m \u001b[0;36m1577850600.0\u001b[0m\u001b[0;34m,\u001b[0m \u001b[0;34m\"val\"\u001b[0m\u001b[0;34m:\u001b[0m \u001b[0;36m52.0\u001b[0m\u001b[0;34m}\u001b[0m\u001b[0;34m,\u001b[0m \u001b[0;34m{\u001b[0m\u001b[0;34m\"ts\"\u001b[0m\u001b[0;34m:\u001b[0m \u001b[0;36m1577850900.0\u001b[0m\u001b[0;34m,\u001b[0m \u001b[0;34m\"val\"\u001b[0m\u001b[0;34m:\u001b[0m \u001b[0;36m41.0\u001b[0m\u001b[0;34m}\u001b[0m\u001b[0;34m,\u001b[0m \u001b[0;34m{\u001b[0m\u001b[0;34m\"ts\"\u001b[0m\u001b[0;34m:\u001b[0m \u001b[0;36m1577851200.0\u001b[0m\u001b[0;34m,\u001b[0m \u001b[0;34m\"val\"\u001b[0m\u001b[0;34m:\u001b[0m \u001b[0;36m10.0\u001b[0m\u001b[0;34m}\u001b[0m\u001b[0;34m,\u001b[0m \u001b[0;34m{\u001b[0m\u001b[0;34m\"ts\"\u001b[0m\u001b[0;34m:\u001b[0m \u001b[0;36m1577851500.0\u001b[0m\u001b[0;34m,\u001b[0m \u001b[0;34m\"val\"\u001b[0m\u001b[0;34m:\u001b[0m \u001b[0;36m93.0\u001b[0m\u001b[0;34m}\u001b[0m\u001b[0;34m,\u001b[0m \u001b[0;34m{\u001b[0m\u001b[0;34m\"ts\"\u001b[0m\u001b[0;34m:\u001b[0m \u001b[0;36m1577851800.0\u001b[0m\u001b[0;34m,\u001b[0m \u001b[0;34m\"val\"\u001b[0m\u001b[0;34m:\u001b[0m \u001b[0;36m85.0\u001b[0m\u001b[0;34m}\u001b[0m\u001b[0;34m,\u001b[0m \u001b[0;34m{\u001b[0m\u001b[0;34m\"ts\"\u001b[0m\u001b[0;34m:\u001b[0m \u001b[0;36m1577852100.0\u001b[0m\u001b[0;34m,\u001b[0m \u001b[0;34m\"val\"\u001b[0m\u001b[0;34m:\u001b[0m \u001b[0;36m7.0\u001b[0m\u001b[0;34m}\u001b[0m\u001b[0;34m,\u001b[0m \u001b[0;34m{\u001b[0m\u001b[0;34m\"ts\"\u001b[0m\u001b[0;34m:\u001b[0m \u001b[0;36m1577852700.0\u001b[0m\u001b[0;34m,\u001b[0m \u001b[0;34m\"val\"\u001b[0m\u001b[0;34m:\u001b[0m \u001b[0;36m19.0\u001b[0m\u001b[0;34m}\u001b[0m\u001b[0;34m,\u001b[0m \u001b[0;34m{\u001b[0m\u001b[0;34m\"ts\"\u001b[0m\u001b[0;34m:\u001b[0m \u001b[0;36m1577853000.0\u001b[0m\u001b[0;34m,\u001b[0m \u001b[0;34m\"val\"\u001b[0m\u001b[0;34m:\u001b[0m \u001b[0;36m74.0\u001b[0m\u001b[0;34m}\u001b[0m\u001b[0;34m,\u001b[0m \u001b[0;34m{\u001b[0m\u001b[0;34m\"ts\"\u001b[0m\u001b[0;34m:\u001b[0m \u001b[0;36m1577853600.0\u001b[0m\u001b[0;34m,\u001b[0m \u001b[0;34m\"val\"\u001b[0m\u001b[0;34m:\u001b[0m \u001b[0;36m24.0\u001b[0m\u001b[0;34m}\u001b[0m\u001b[0;34m,\u001b[0m \u001b[0;34m{\u001b[0m\u001b[0;34m\"ts\"\u001b[0m\u001b[0;34m:\u001b[0m \u001b[0;36m1577853900.0\u001b[0m\u001b[0;34m,\u001b[0m \u001b[0;34m\"val\"\u001b[0m\u001b[0;34m:\u001b[0m \u001b[0;36m42.0\u001b[0m\u001b[0;34m}\u001b[0m\u001b[0;34m,\u001b[0m \u001b[0;34m{\u001b[0m\u001b[0;34m\"ts\"\u001b[0m\u001b[0;34m:\u001b[0m \u001b[0;36m1577854200.0\u001b[0m\u001b[0;34m,\u001b[0m \u001b[0;34m\"val\"\u001b[0m\u001b[0;34m:\u001b[0m \u001b[0;36m28.0\u001b[0m\u001b[0;34m}\u001b[0m\u001b[0;34m,\u001b[0m \u001b[0;34m{\u001b[0m\u001b[0;34m\"ts\"\u001b[0m\u001b[0;34m:\u001b[0m \u001b[0;36m1577854500.0\u001b[0m\u001b[0;34m,\u001b[0m \u001b[0;34m\"val\"\u001b[0m\u001b[0;34m:\u001b[0m \u001b[0;36m69.0\u001b[0m\u001b[0;34m}\u001b[0m\u001b[0;34m,\u001b[0m \u001b[0;34m{\u001b[0m\u001b[0;34m\"ts\"\u001b[0m\u001b[0;34m:\u001b[0m \u001b[0;36m1577854800.0\u001b[0m\u001b[0;34m,\u001b[0m \u001b[0;34m\"val\"\u001b[0m\u001b[0;34m:\u001b[0m \u001b[0;36m85.0\u001b[0m\u001b[0;34m}\u001b[0m\u001b[0;34m,\u001b[0m \u001b[0;34m{\u001b[0m\u001b[0;34m\"ts\"\u001b[0m\u001b[0;34m:\u001b[0m \u001b[0;36m1577855100.0\u001b[0m\u001b[0;34m,\u001b[0m \u001b[0;34m\"val\"\u001b[0m\u001b[0;34m:\u001b[0m \u001b[0;36m1.0\u001b[0m\u001b[0;34m}\u001b[0m\u001b[0;34m,\u001b[0m \u001b[0;34m{\u001b[0m\u001b[0;34m\"ts\"\u001b[0m\u001b[0;34m:\u001b[0m \u001b[0;36m1577855400.0\u001b[0m\u001b[0;34m,\u001b[0m \u001b[0;34m\"val\"\u001b[0m\u001b[0;34m:\u001b[0m \u001b[0;36m91.0\u001b[0m\u001b[0;34m}\u001b[0m\u001b[0;34m,\u001b[0m \u001b[0;34m{\u001b[0m\u001b[0;34m\"ts\"\u001b[0m\u001b[0;34m:\u001b[0m \u001b[0;36m1577855700.0\u001b[0m\u001b[0;34m,\u001b[0m \u001b[0;34m\"val\"\u001b[0m\u001b[0;34m:\u001b[0m \u001b[0;36m55.0\u001b[0m\u001b[0;34m}\u001b[0m\u001b[0;34m,\u001b[0m \u001b[0;34m{\u001b[0m\u001b[0;34m\"ts\"\u001b[0m\u001b[0;34m:\u001b[0m \u001b[0;36m1577856000.0\u001b[0m\u001b[0;34m,\u001b[0m \u001b[0;34m\"val\"\u001b[0m\u001b[0;34m:\u001b[0m \u001b[0;36m67.0\u001b[0m\u001b[0;34m}\u001b[0m\u001b[0;34m,\u001b[0m \u001b[0;34m{\u001b[0m\u001b[0;34m\"ts\"\u001b[0m\u001b[0;34m:\u001b[0m \u001b[0;36m1577856300.0\u001b[0m\u001b[0;34m,\u001b[0m \u001b[0;34m\"val\"\u001b[0m\u001b[0;34m:\u001b[0m \u001b[0;36m75.0\u001b[0m\u001b[0;34m}\u001b[0m\u001b[0;34m,\u001b[0m \u001b[0;34m{\u001b[0m\u001b[0;34m\"ts\"\u001b[0m\u001b[0;34m:\u001b[0m \u001b[0;36m1577856600.0\u001b[0m\u001b[0;34m,\u001b[0m \u001b[0;34m\"val\"\u001b[0m\u001b[0;34m:\u001b[0m \u001b[0;36m21.0\u001b[0m\u001b[0;34m}\u001b[0m\u001b[0;34m,\u001b[0m \u001b[0;34m{\u001b[0m\u001b[0;34m\"ts\"\u001b[0m\u001b[0;34m:\u001b[0m \u001b[0;36m1577856900.0\u001b[0m\u001b[0;34m,\u001b[0m \u001b[0;34m\"val\"\u001b[0m\u001b[0;34m:\u001b[0m \u001b[0;36m33.0\u001b[0m\u001b[0;34m}\u001b[0m\u001b[0;34m,\u001b[0m \u001b[0;34m{\u001b[0m\u001b[0;34m\"ts\"\u001b[0m\u001b[0;34m:\u001b[0m \u001b[0;36m1577857200.0\u001b[0m\u001b[0;34m,\u001b[0m \u001b[0;34m\"val\"\u001b[0m\u001b[0;34m:\u001b[0m \u001b[0;36m93.0\u001b[0m\u001b[0;34m}\u001b[0m\u001b[0;34m,\u001b[0m \u001b[0;34m{\u001b[0m\u001b[0;34m\"ts\"\u001b[0m\u001b[0;34m:\u001b[0m \u001b[0;36m1577857500.0\u001b[0m\u001b[0;34m,\u001b[0m \u001b[0;34m\"val\"\u001b[0m\u001b[0;34m:\u001b[0m \u001b[0;36m16.0\u001b[0m\u001b[0;34m}\u001b[0m\u001b[0;34m,\u001b[0m \u001b[0;34m{\u001b[0m\u001b[0;34m\"ts\"\u001b[0m\u001b[0;34m:\u001b[0m \u001b[0;36m1577858100.0\u001b[0m\u001b[0;34m,\u001b[0m \u001b[0;34m\"val\"\u001b[0m\u001b[0;34m:\u001b[0m \u001b[0;36m91.0\u001b[0m\u001b[0;34m}\u001b[0m\u001b[0;34m,\u001b[0m \u001b[0;34m{\u001b[0m\u001b[0;34m\"ts\"\u001b[0m\u001b[0;34m:\u001b[0m \u001b[0;36m1577858700.0\u001b[0m\u001b[0;34m,\u001b[0m \u001b[0;34m\"val\"\u001b[0m\u001b[0;34m:\u001b[0m \u001b[0;36m63.0\u001b[0m\u001b[0;34m}\u001b[0m\u001b[0;34m,\u001b[0m \u001b[0;34m{\u001b[0m\u001b[0;34m\"ts\"\u001b[0m\u001b[0;34m:\u001b[0m \u001b[0;36m1577859000.0\u001b[0m\u001b[0;34m,\u001b[0m \u001b[0;34m\"val\"\u001b[0m\u001b[0;34m:\u001b[0m \u001b[0;36m63.0\u001b[0m\u001b[0;34m}\u001b[0m\u001b[0;34m,\u001b[0m \u001b[0;34m{\u001b[0m\u001b[0;34m\"ts\"\u001b[0m\u001b[0;34m:\u001b[0m \u001b[0;36m1577859300.0\u001b[0m\u001b[0;34m,\u001b[0m \u001b[0;34m\"val\"\u001b[0m\u001b[0;34m:\u001b[0m \u001b[0;36m33.0\u001b[0m\u001b[0;34m}\u001b[0m\u001b[0;34m,\u001b[0m \u001b[0;34m{\u001b[0m\u001b[0;34m\"ts\"\u001b[0m\u001b[0;34m:\u001b[0m \u001b[0;36m1577859900.0\u001b[0m\u001b[0;34m,\u001b[0m \u001b[0;34m\"val\"\u001b[0m\u001b[0;34m:\u001b[0m \u001b[0;36m7.0\u001b[0m\u001b[0;34m}\u001b[0m\u001b[0;34m,\u001b[0m \u001b[0;34m{\u001b[0m\u001b[0;34m\"ts\"\u001b[0m\u001b[0;34m:\u001b[0m \u001b[0;36m1577860200.0\u001b[0m\u001b[0;34m,\u001b[0m \u001b[0;34m\"val\"\u001b[0m\u001b[0;34m:\u001b[0m \u001b[0;36m68.0\u001b[0m\u001b[0;34m}\u001b[0m\u001b[0;34m,\u001b[0m \u001b[0;34m{\u001b[0m\u001b[0;34m\"ts\"\u001b[0m\u001b[0;34m:\u001b[0m \u001b[0;36m1577860500.0\u001b[0m\u001b[0;34m,\u001b[0m \u001b[0;34m\"val\"\u001b[0m\u001b[0;34m:\u001b[0m \u001b[0;36m71.0\u001b[0m\u001b[0;34m}\u001b[0m\u001b[0;34m,\u001b[0m \u001b[0;34m{\u001b[0m\u001b[0;34m\"ts\"\u001b[0m\u001b[0;34m:\u001b[0m \u001b[0;36m1577860800.0\u001b[0m\u001b[0;34m,\u001b[0m \u001b[0;34m\"val\"\u001b[0m\u001b[0;34m:\u001b[0m \u001b[0;36m61.0\u001b[0m\u001b[0;34m}\u001b[0m\u001b[0;34m,\u001b[0m \u001b[0;34m{\u001b[0m\u001b[0;34m\"ts\"\u001b[0m\u001b[0;34m:\u001b[0m \u001b[0;36m1577861400.0\u001b[0m\u001b[0;34m,\u001b[0m \u001b[0;34m\"val\"\u001b[0m\u001b[0;34m:\u001b[0m \u001b[0;36m82.0\u001b[0m\u001b[0;34m}\u001b[0m\u001b[0;34m,\u001b[0m \u001b[0;34m{\u001b[0m\u001b[0;34m\"ts\"\u001b[0m\u001b[0;34m:\u001b[0m \u001b[0;36m1577861700.0\u001b[0m\u001b[0;34m,\u001b[0m \u001b[0;34m\"val\"\u001b[0m\u001b[0;34m:\u001b[0m \u001b[0;36m51.0\u001b[0m\u001b[0;34m}\u001b[0m\u001b[0;34m,\u001b[0m \u001b[0;34m{\u001b[0m\u001b[0;34m\"ts\"\u001b[0m\u001b[0;34m:\u001b[0m \u001b[0;36m1577862000.0\u001b[0m\u001b[0;34m,\u001b[0m \u001b[0;34m\"val\"\u001b[0m\u001b[0;34m:\u001b[0m \u001b[0;36m62.0\u001b[0m\u001b[0;34m}\u001b[0m\u001b[0;34m,\u001b[0m \u001b[0;34m{\u001b[0m\u001b[0;34m\"ts\"\u001b[0m\u001b[0;34m:\u001b[0m \u001b[0;36m1577862300.0\u001b[0m\u001b[0;34m,\u001b[0m \u001b[0;34m\"val\"\u001b[0m\u001b[0;34m:\u001b[0m \u001b[0;36m17.0\u001b[0m\u001b[0;34m}\u001b[0m\u001b[0;34m,\u001b[0m \u001b[0;34m{\u001b[0m\u001b[0;34m\"ts\"\u001b[0m\u001b[0;34m:\u001b[0m \u001b[0;36m1577862600.0\u001b[0m\u001b[0;34m,\u001b[0m \u001b[0;34m\"val\"\u001b[0m\u001b[0;34m:\u001b[0m \u001b[0;36m14.0\u001b[0m\u001b[0;34m}\u001b[0m\u001b[0;34m,\u001b[0m \u001b[0;34m{\u001b[0m\u001b[0;34m\"ts\"\u001b[0m\u001b[0;34m:\u001b[0m \u001b[0;36m1577862900.0\u001b[0m\u001b[0;34m,\u001b[0m \u001b[0;34m\"val\"\u001b[0m\u001b[0;34m:\u001b[0m \u001b[0;36m78.0\u001b[0m\u001b[0;34m}\u001b[0m\u001b[0;34m,\u001b[0m \u001b[0;34m{\u001b[0m\u001b[0;34m\"ts\"\u001b[0m\u001b[0;34m:\u001b[0m \u001b[0;36m1577863500.0\u001b[0m\u001b[0;34m,\u001b[0m \u001b[0;34m\"val\"\u001b[0m\u001b[0;34m:\u001b[0m \u001b[0;36m31.0\u001b[0m\u001b[0;34m}\u001b[0m\u001b[0;34m,\u001b[0m \u001b[0;34m{\u001b[0m\u001b[0;34m\"ts\"\u001b[0m\u001b[0;34m:\u001b[0m \u001b[0;36m1577863800.0\u001b[0m\u001b[0;34m,\u001b[0m \u001b[0;34m\"val\"\u001b[0m\u001b[0;34m:\u001b[0m \u001b[0;36m30.0\u001b[0m\u001b[0;34m}\u001b[0m\u001b[0;34m,\u001b[0m \u001b[0;34m{\u001b[0m\u001b[0;34m\"ts\"\u001b[0m\u001b[0;34m:\u001b[0m \u001b[0;36m1577864400.0\u001b[0m\u001b[0;34m,\u001b[0m \u001b[0;34m\"val\"\u001b[0m\u001b[0;34m:\u001b[0m \u001b[0;36m73.0\u001b[0m\u001b[0;34m}\u001b[0m\u001b[0;34m,\u001b[0m \u001b[0;34m{\u001b[0m\u001b[0;34m\"ts\"\u001b[0m\u001b[0;34m:\u001b[0m \u001b[0;36m1577864700.0\u001b[0m\u001b[0;34m,\u001b[0m \u001b[0;34m\"val\"\u001b[0m\u001b[0;34m:\u001b[0m \u001b[0;36m34.0\u001b[0m\u001b[0;34m}\u001b[0m\u001b[0;34m,\u001b[0m \u001b[0;34m{\u001b[0m\u001b[0;34m\"ts\"\u001b[0m\u001b[0;34m:\u001b[0m \u001b[0;36m1577865000.0\u001b[0m\u001b[0;34m,\u001b[0m \u001b[0;34m\"val\"\u001b[0m\u001b[0;34m:\u001b[0m \u001b[0;36m22.0\u001b[0m\u001b[0;34m}\u001b[0m\u001b[0;34m,\u001b[0m \u001b[0;34m{\u001b[0m\u001b[0;34m\"ts\"\u001b[0m\u001b[0;34m:\u001b[0m \u001b[0;36m1577865300.0\u001b[0m\u001b[0;34m,\u001b[0m \u001b[0;34m\"val\"\u001b[0m\u001b[0;34m:\u001b[0m \u001b[0;36m60.0\u001b[0m\u001b[0;34m}\u001b[0m\u001b[0;34m,\u001b[0m \u001b[0;34m{\u001b[0m\u001b[0;34m\"ts\"\u001b[0m\u001b[0;34m:\u001b[0m \u001b[0;36m1577865600.0\u001b[0m\u001b[0;34m,\u001b[0m \u001b[0;34m\"val\"\u001b[0m\u001b[0;34m:\u001b[0m \u001b[0;36m17.0\u001b[0m\u001b[0;34m}\u001b[0m\u001b[0;34m,\u001b[0m \u001b[0;34m{\u001b[0m\u001b[0;34m\"ts\"\u001b[0m\u001b[0;34m:\u001b[0m \u001b[0;36m1577865900.0\u001b[0m\u001b[0;34m,\u001b[0m \u001b[0;34m\"val\"\u001b[0m\u001b[0;34m:\u001b[0m \u001b[0;36m78.0\u001b[0m\u001b[0;34m}\u001b[0m\u001b[0;34m,\u001b[0m \u001b[0;34m{\u001b[0m\u001b[0;34m\"ts\"\u001b[0m\u001b[0;34m:\u001b[0m \u001b[0;36m1577866200.0\u001b[0m\u001b[0;34m,\u001b[0m \u001b[0;34m\"val\"\u001b[0m\u001b[0;34m:\u001b[0m \u001b[0;36m65.0\u001b[0m\u001b[0;34m}\u001b[0m\u001b[0;34m,\u001b[0m \u001b[0;34m{\u001b[0m\u001b[0;34m\"ts\"\u001b[0m\u001b[0;34m:\u001b[0m \u001b[0;36m1577866500.0\u001b[0m\u001b[0;34m,\u001b[0m \u001b[0;34m\"val\"\u001b[0m\u001b[0;34m:\u001b[0m \u001b[0;36m98.0\u001b[0m\u001b[0;34m}\u001b[0m\u001b[0;34m,\u001b[0m \u001b[0;34m{\u001b[0m\u001b[0;34m\"ts\"\u001b[0m\u001b[0;34m:\u001b[0m \u001b[0;36m1577866800.0\u001b[0m\u001b[0;34m,\u001b[0m \u001b[0;34m\"val\"\u001b[0m\u001b[0;34m:\u001b[0m \u001b[0;36m10.0\u001b[0m\u001b[0;34m}\u001b[0m\u001b[0;34m,\u001b[0m \u001b[0;34m{\u001b[0m\u001b[0;34m\"ts\"\u001b[0m\u001b[0;34m:\u001b[0m \u001b[0;36m1577867700.0\u001b[0m\u001b[0;34m,\u001b[0m \u001b[0;34m\"val\"\u001b[0m\u001b[0;34m:\u001b[0m \u001b[0;36m58.0\u001b[0m\u001b[0;34m}\u001b[0m\u001b[0;34m,\u001b[0m \u001b[0;34m{\u001b[0m\u001b[0;34m\"ts\"\u001b[0m\u001b[0;34m:\u001b[0m \u001b[0;36m1577868000.0\u001b[0m\u001b[0;34m,\u001b[0m \u001b[0;34m\"val\"\u001b[0m\u001b[0;34m:\u001b[0m \u001b[0;36m75.0\u001b[0m\u001b[0;34m}\u001b[0m\u001b[0;34m,\u001b[0m \u001b[0;34m{\u001b[0m\u001b[0;34m\"ts\"\u001b[0m\u001b[0;34m:\u001b[0m \u001b[0;36m1577868300.0\u001b[0m\u001b[0;34m,\u001b[0m \u001b[0;34m\"val\"\u001b[0m\u001b[0;34m:\u001b[0m \u001b[0;36m70.0\u001b[0m\u001b[0;34m}\u001b[0m\u001b[0;34m,\u001b[0m \u001b[0;34m{\u001b[0m\u001b[0;34m\"ts\"\u001b[0m\u001b[0;34m:\u001b[0m \u001b[0;36m1577868900.0\u001b[0m\u001b[0;34m,\u001b[0m \u001b[0;34m\"val\"\u001b[0m\u001b[0;34m:\u001b[0m \u001b[0;36m71.0\u001b[0m\u001b[0;34m}\u001b[0m\u001b[0;34m,\u001b[0m \u001b[0;34m{\u001b[0m\u001b[0;34m\"ts\"\u001b[0m\u001b[0;34m:\u001b[0m \u001b[0;36m1577869200.0\u001b[0m\u001b[0;34m,\u001b[0m \u001b[0;34m\"val\"\u001b[0m\u001b[0;34m:\u001b[0m \u001b[0;36m90.0\u001b[0m\u001b[0;34m}\u001b[0m\u001b[0;34m,\u001b[0m \u001b[0;34m{\u001b[0m\u001b[0;34m\"ts\"\u001b[0m\u001b[0;34m:\u001b[0m \u001b[0;36m1577869800.0\u001b[0m\u001b[0;34m,\u001b[0m \u001b[0;34m\"val\"\u001b[0m\u001b[0;34m:\u001b[0m \u001b[0;36m32.0\u001b[0m\u001b[0;34m}\u001b[0m\u001b[0;34m,\u001b[0m \u001b[0;34m{\u001b[0m\u001b[0;34m\"ts\"\u001b[0m\u001b[0;34m:\u001b[0m \u001b[0;36m1577870100.0\u001b[0m\u001b[0;34m,\u001b[0m \u001b[0;34m\"val\"\u001b[0m\u001b[0;34m:\u001b[0m \u001b[0;36m63.0\u001b[0m\u001b[0;34m}\u001b[0m\u001b[0;34m,\u001b[0m \u001b[0;34m{\u001b[0m\u001b[0;34m\"ts\"\u001b[0m\u001b[0;34m:\u001b[0m \u001b[0;36m1577870400.0\u001b[0m\u001b[0;34m,\u001b[0m \u001b[0;34m\"val\"\u001b[0m\u001b[0;34m:\u001b[0m \u001b[0;36m94.0\u001b[0m\u001b[0;34m}\u001b[0m\u001b[0;34m,\u001b[0m \u001b[0;34m{\u001b[0m\u001b[0;34m\"ts\"\u001b[0m\u001b[0;34m:\u001b[0m \u001b[0;36m1577870700.0\u001b[0m\u001b[0;34m,\u001b[0m \u001b[0;34m\"val\"\u001b[0m\u001b[0;34m:\u001b[0m \u001b[0;36m96.0\u001b[0m\u001b[0;34m}\u001b[0m\u001b[0;34m,\u001b[0m \u001b[0;34m{\u001b[0m\u001b[0;34m\"ts\"\u001b[0m\u001b[0;34m:\u001b[0m \u001b[0;36m1577871300.0\u001b[0m\u001b[0;34m,\u001b[0m \u001b[0;34m\"val\"\u001b[0m\u001b[0;34m:\u001b[0m \u001b[0;36m86.0\u001b[0m\u001b[0;34m}\u001b[0m\u001b[0;34m,\u001b[0m \u001b[0;34m{\u001b[0m\u001b[0;34m\"ts\"\u001b[0m\u001b[0;34m:\u001b[0m \u001b[0;36m1577871600.0\u001b[0m\u001b[0;34m,\u001b[0m \u001b[0;34m\"val\"\u001b[0m\u001b[0;34m:\u001b[0m \u001b[0;36m12.0\u001b[0m\u001b[0;34m}\u001b[0m\u001b[0;34m,\u001b[0m \u001b[0;34m{\u001b[0m\u001b[0;34m\"ts\"\u001b[0m\u001b[0;34m:\u001b[0m \u001b[0;36m1577871900.0\u001b[0m\u001b[0;34m,\u001b[0m \u001b[0;34m\"val\"\u001b[0m\u001b[0;34m:\u001b[0m \u001b[0;36m13.0\u001b[0m\u001b[0;34m}\u001b[0m\u001b[0;34m,\u001b[0m \u001b[0;34m{\u001b[0m\u001b[0;34m\"ts\"\u001b[0m\u001b[0;34m:\u001b[0m \u001b[0;36m1577872200.0\u001b[0m\u001b[0;34m,\u001b[0m \u001b[0;34m\"val\"\u001b[0m\u001b[0;34m:\u001b[0m \u001b[0;36m14.0\u001b[0m\u001b[0;34m}\u001b[0m\u001b[0;34m,\u001b[0m \u001b[0;34m{\u001b[0m\u001b[0;34m\"ts\"\u001b[0m\u001b[0;34m:\u001b[0m \u001b[0;36m1577872500.0\u001b[0m\u001b[0;34m,\u001b[0m \u001b[0;34m\"val\"\u001b[0m\u001b[0;34m:\u001b[0m \u001b[0;36m84.0\u001b[0m\u001b[0;34m}\u001b[0m\u001b[0;34m,\u001b[0m \u001b[0;34m{\u001b[0m\u001b[0;34m\"ts\"\u001b[0m\u001b[0;34m:\u001b[0m \u001b[0;36m1577873400.0\u001b[0m\u001b[0;34m,\u001b[0m \u001b[0;34m\"val\"\u001b[0m\u001b[0;34m:\u001b[0m \u001b[0;36m4.0\u001b[0m\u001b[0;34m}\u001b[0m\u001b[0;34m,\u001b[0m \u001b[0;34m{\u001b[0m\u001b[0;34m\"ts\"\u001b[0m\u001b[0;34m:\u001b[0m \u001b[0;36m1577873700.0\u001b[0m\u001b[0;34m,\u001b[0m \u001b[0;34m\"val\"\u001b[0m\u001b[0;34m:\u001b[0m \u001b[0;36m72.0\u001b[0m\u001b[0;34m}\u001b[0m\u001b[0;34m,\u001b[0m \u001b[0;34m{\u001b[0m\u001b[0;34m\"ts\"\u001b[0m\u001b[0;34m:\u001b[0m \u001b[0;36m1577874300.0\u001b[0m\u001b[0;34m,\u001b[0m \u001b[0;34m\"val\"\u001b[0m\u001b[0;34m:\u001b[0m \u001b[0;36m3.0\u001b[0m\u001b[0;34m}\u001b[0m\u001b[0;34m,\u001b[0m \u001b[0;34m{\u001b[0m\u001b[0;34m\"ts\"\u001b[0m\u001b[0;34m:\u001b[0m \u001b[0;36m1577874600.0\u001b[0m\u001b[0;34m,\u001b[0m \u001b[0;34m\"val\"\u001b[0m\u001b[0;34m:\u001b[0m \u001b[0;36m45.0\u001b[0m\u001b[0;34m}\u001b[0m\u001b[0;34m,\u001b[0m \u001b[0;34m{\u001b[0m\u001b[0;34m\"ts\"\u001b[0m\u001b[0;34m:\u001b[0m \u001b[0;36m1577875200.0\u001b[0m\u001b[0;34m,\u001b[0m \u001b[0;34m\"val\"\u001b[0m\u001b[0;34m:\u001b[0m \u001b[0;36m89.0\u001b[0m\u001b[0;34m}\u001b[0m\u001b[0;34m,\u001b[0m \u001b[0;34m{\u001b[0m\u001b[0;34m\"ts\"\u001b[0m\u001b[0;34m:\u001b[0m \u001b[0;36m1577875500.0\u001b[0m\u001b[0;34m,\u001b[0m \u001b[0;34m\"val\"\u001b[0m\u001b[0;34m:\u001b[0m \u001b[0;36m48.0\u001b[0m\u001b[0;34m}\u001b[0m\u001b[0;34m,\u001b[0m \u001b[0;34m{\u001b[0m\u001b[0;34m\"ts\"\u001b[0m\u001b[0;34m:\u001b[0m \u001b[0;36m1577875800.0\u001b[0m\u001b[0;34m,\u001b[0m \u001b[0;34m\"val\"\u001b[0m\u001b[0;34m:\u001b[0m \u001b[0;36m76.0\u001b[0m\u001b[0;34m}\u001b[0m\u001b[0;34m,\u001b[0m \u001b[0;34m{\u001b[0m\u001b[0;34m\"ts\"\u001b[0m\u001b[0;34m:\u001b[0m \u001b[0;36m1577876100.0\u001b[0m\u001b[0;34m,\u001b[0m \u001b[0;34m\"val\"\u001b[0m\u001b[0;34m:\u001b[0m \u001b[0;36m37.0\u001b[0m\u001b[0;34m}\u001b[0m\u001b[0;34m,\u001b[0m \u001b[0;34m{\u001b[0m\u001b[0;34m\"ts\"\u001b[0m\u001b[0;34m:\u001b[0m \u001b[0;36m1577876400.0\u001b[0m\u001b[0;34m,\u001b[0m \u001b[0;34m\"val\"\u001b[0m\u001b[0;34m:\u001b[0m \u001b[0;36m53.0\u001b[0m\u001b[0;34m}\u001b[0m\u001b[0;34m,\u001b[0m \u001b[0;34m{\u001b[0m\u001b[0;34m\"ts\"\u001b[0m\u001b[0;34m:\u001b[0m \u001b[0;36m1577876700.0\u001b[0m\u001b[0;34m,\u001b[0m \u001b[0;34m\"val\"\u001b[0m\u001b[0;34m:\u001b[0m \u001b[0;36m45.0\u001b[0m\u001b[0;34m}\u001b[0m\u001b[0;34m,\u001b[0m \u001b[0;34m{\u001b[0m\u001b[0;34m\"ts\"\u001b[0m\u001b[0;34m:\u001b[0m \u001b[0;36m1577877000.0\u001b[0m\u001b[0;34m,\u001b[0m \u001b[0;34m\"val\"\u001b[0m\u001b[0;34m:\u001b[0m \u001b[0;36m3.0\u001b[0m\u001b[0;34m}\u001b[0m\u001b[0;34m,\u001b[0m \u001b[0;34m{\u001b[0m\u001b[0;34m\"ts\"\u001b[0m\u001b[0;34m:\u001b[0m \u001b[0;36m1577877300.0\u001b[0m\u001b[0;34m,\u001b[0m \u001b[0;34m\"val\"\u001b[0m\u001b[0;34m:\u001b[0m \u001b[0;36m85.0\u001b[0m\u001b[0;34m}\u001b[0m\u001b[0;34m,\u001b[0m \u001b[0;34m{\u001b[0m\u001b[0;34m\"ts\"\u001b[0m\u001b[0;34m:\u001b[0m \u001b[0;36m1577877600.0\u001b[0m\u001b[0;34m,\u001b[0m \u001b[0;34m\"val\"\u001b[0m\u001b[0;34m:\u001b[0m \u001b[0;36m11.0\u001b[0m\u001b[0;34m}\u001b[0m\u001b[0;34m,\u001b[0m \u001b[0;34m{\u001b[0m\u001b[0;34m\"ts\"\u001b[0m\u001b[0;34m:\u001b[0m \u001b[0;36m1577877900.0\u001b[0m\u001b[0;34m,\u001b[0m \u001b[0;34m\"val\"\u001b[0m\u001b[0;34m:\u001b[0m \u001b[0;36m82.0\u001b[0m\u001b[0;34m}\u001b[0m\u001b[0;34m,\u001b[0m \u001b[0;34m{\u001b[0m\u001b[0;34m\"ts\"\u001b[0m\u001b[0;34m:\u001b[0m \u001b[0;36m1577878800.0\u001b[0m\u001b[0;34m,\u001b[0m \u001b[0;34m\"val\"\u001b[0m\u001b[0;34m:\u001b[0m \u001b[0;36m72.0\u001b[0m\u001b[0;34m}\u001b[0m\u001b[0;34m,\u001b[0m \u001b[0;34m{\u001b[0m\u001b[0;34m\"ts\"\u001b[0m\u001b[0;34m:\u001b[0m \u001b[0;36m1577879100.0\u001b[0m\u001b[0;34m,\u001b[0m \u001b[0;34m\"val\"\u001b[0m\u001b[0;34m:\u001b[0m \u001b[0;36m58.0\u001b[0m\u001b[0;34m}\u001b[0m\u001b[0;34m,\u001b[0m \u001b[0;34m{\u001b[0m\u001b[0;34m\"ts\"\u001b[0m\u001b[0;34m:\u001b[0m \u001b[0;36m1577879400.0\u001b[0m\u001b[0;34m,\u001b[0m \u001b[0;34m\"val\"\u001b[0m\u001b[0;34m:\u001b[0m \u001b[0;36m34.0\u001b[0m\u001b[0;34m}\u001b[0m\u001b[0;34m,\u001b[0m \u001b[0;34m{\u001b[0m\u001b[0;34m\"ts\"\u001b[0m\u001b[0;34m:\u001b[0m \u001b[0;36m1577879700.0\u001b[0m\u001b[0;34m,\u001b[0m \u001b[0;34m\"val\"\u001b[0m\u001b[0;34m:\u001b[0m \u001b[0;36m64.0\u001b[0m\u001b[0;34m}\u001b[0m\u001b[0;34m,\u001b[0m \u001b[0;34m{\u001b[0m\u001b[0;34m\"ts\"\u001b[0m\u001b[0;34m:\u001b[0m \u001b[0;36m1577880000.0\u001b[0m\u001b[0;34m,\u001b[0m \u001b[0;34m\"val\"\u001b[0m\u001b[0;34m:\u001b[0m \u001b[0;36m45.0\u001b[0m\u001b[0;34m}\u001b[0m\u001b[0;34m,\u001b[0m \u001b[0;34m{\u001b[0m\u001b[0;34m\"ts\"\u001b[0m\u001b[0;34m:\u001b[0m \u001b[0;36m1577880300.0\u001b[0m\u001b[0;34m,\u001b[0m \u001b[0;34m\"val\"\u001b[0m\u001b[0;34m:\u001b[0m \u001b[0;36m48.0\u001b[0m\u001b[0;34m}\u001b[0m\u001b[0;34m,\u001b[0m \u001b[0;34m{\u001b[0m\u001b[0;34m\"ts\"\u001b[0m\u001b[0;34m:\u001b[0m \u001b[0;36m1577880600.0\u001b[0m\u001b[0;34m,\u001b[0m \u001b[0;34m\"val\"\u001b[0m\u001b[0;34m:\u001b[0m \u001b[0;36m90.0\u001b[0m\u001b[0;34m}\u001b[0m\u001b[0;34m,\u001b[0m \u001b[0;34m{\u001b[0m\u001b[0;34m\"ts\"\u001b[0m\u001b[0;34m:\u001b[0m \u001b[0;36m1577880900.0\u001b[0m\u001b[0;34m,\u001b[0m \u001b[0;34m\"val\"\u001b[0m\u001b[0;34m:\u001b[0m \u001b[0;36m89.0\u001b[0m\u001b[0;34m}\u001b[0m\u001b[0;34m,\u001b[0m \u001b[0;34m{\u001b[0m\u001b[0;34m\"ts\"\u001b[0m\u001b[0;34m:\u001b[0m \u001b[0;36m1577881200.0\u001b[0m\u001b[0;34m,\u001b[0m \u001b[0;34m\"val\"\u001b[0m\u001b[0;34m:\u001b[0m \u001b[0;36m58.0\u001b[0m\u001b[0;34m}\u001b[0m\u001b[0;34m,\u001b[0m \u001b[0;34m{\u001b[0m\u001b[0;34m\"ts\"\u001b[0m\u001b[0;34m:\u001b[0m \u001b[0;36m1577881500.0\u001b[0m\u001b[0;34m,\u001b[0m \u001b[0;34m\"val\"\u001b[0m\u001b[0;34m:\u001b[0m \u001b[0;36m79.0\u001b[0m\u001b[0;34m}\u001b[0m\u001b[0;34m]\u001b[0m\u001b[0;34m}\u001b[0m\u001b[0;34m}\u001b[0m\u001b[0;34m}\u001b[0m\u001b[0;34m]\u001b[0m\u001b[0;34m\u001b[0m\u001b[0;34m\u001b[0m\u001b[0m\n\u001b[0;32m----> 4\u001b[0;31m \u001b[0mresponse\u001b[0m \u001b[0;34m=\u001b[0m \u001b[0mserver\u001b[0m\u001b[0;34m.\u001b[0m\u001b[0mtest\u001b[0m\u001b[0;34m(\u001b[0m\u001b[0mpath\u001b[0m\u001b[0;34m=\u001b[0m\u001b[0;34m'/predict'\u001b[0m\u001b[0;34m,\u001b[0m \u001b[0mbody\u001b[0m\u001b[0;34m=\u001b[0m\u001b[0;34m{\u001b[0m\u001b[0;34m'inputs'\u001b[0m\u001b[0;34m:\u001b[0m\u001b[0mevents\u001b[0m\u001b[0;34m}\u001b[0m\u001b[0;34m)\u001b[0m\u001b[0;34m\u001b[0m\u001b[0;34m\u001b[0m\u001b[0m\n\u001b[0m\u001b[1;32m      5\u001b[0m \u001b[0mprint\u001b[0m\u001b[0;34m(\u001b[0m\u001b[0;34mf\"Response: {response}\"\u001b[0m\u001b[0;34m)\u001b[0m\u001b[0;34m\u001b[0m\u001b[0;34m\u001b[0m\u001b[0m\n\u001b[1;32m      6\u001b[0m \u001b[0mprint\u001b[0m\u001b[0;34m(\u001b[0m\u001b[0;34m)\u001b[0m\u001b[0;34m\u001b[0m\u001b[0;34m\u001b[0m\u001b[0m\n",
      "\u001b[0;32m~/.pythonlibs/jupyter-vivek/lib/python3.7/site-packages/mlrun/serving/server.py\u001b[0m in \u001b[0;36mtest\u001b[0;34m(self, path, body, method, headers, content_type, silent, get_body, event_id, trigger, offset, time)\u001b[0m\n\u001b[1;32m    230\u001b[0m         \u001b[0mresp\u001b[0m \u001b[0;34m=\u001b[0m \u001b[0mself\u001b[0m\u001b[0;34m.\u001b[0m\u001b[0mrun\u001b[0m\u001b[0;34m(\u001b[0m\u001b[0mevent\u001b[0m\u001b[0;34m,\u001b[0m \u001b[0mget_body\u001b[0m\u001b[0;34m=\u001b[0m\u001b[0mget_body\u001b[0m\u001b[0;34m)\u001b[0m\u001b[0;34m\u001b[0m\u001b[0;34m\u001b[0m\u001b[0m\n\u001b[1;32m    231\u001b[0m         \u001b[0;32mif\u001b[0m \u001b[0mhasattr\u001b[0m\u001b[0;34m(\u001b[0m\u001b[0mresp\u001b[0m\u001b[0;34m,\u001b[0m \u001b[0;34m\"status_code\"\u001b[0m\u001b[0;34m)\u001b[0m \u001b[0;32mand\u001b[0m \u001b[0mresp\u001b[0m\u001b[0;34m.\u001b[0m\u001b[0mstatus_code\u001b[0m \u001b[0;34m>=\u001b[0m \u001b[0;36m300\u001b[0m \u001b[0;32mand\u001b[0m \u001b[0;32mnot\u001b[0m \u001b[0msilent\u001b[0m\u001b[0;34m:\u001b[0m\u001b[0;34m\u001b[0m\u001b[0;34m\u001b[0m\u001b[0m\n\u001b[0;32m--> 232\u001b[0;31m             \u001b[0;32mraise\u001b[0m \u001b[0mRuntimeError\u001b[0m\u001b[0;34m(\u001b[0m\u001b[0;34mf\"failed ({resp.status_code}): {resp.body}\"\u001b[0m\u001b[0;34m)\u001b[0m\u001b[0;34m\u001b[0m\u001b[0;34m\u001b[0m\u001b[0m\n\u001b[0m\u001b[1;32m    233\u001b[0m         \u001b[0;32mreturn\u001b[0m \u001b[0mresp\u001b[0m\u001b[0;34m\u001b[0m\u001b[0;34m\u001b[0m\u001b[0m\n\u001b[1;32m    234\u001b[0m \u001b[0;34m\u001b[0m\u001b[0m\n",
      "\u001b[0;31mRuntimeError\u001b[0m: failed (400): NameError: name 'keras' is not defined"
     ]
    }
   ],
   "source": [
    "# Setup the events:\n",
    "tests = 5  # Amount of events to test\n",
    "events =[{'models':models,'inputs': {\"A\": {\"data\": [{\"ts\": 1577836800.0, \"val\": 61.0}, {\"ts\": 1577837100.0, \"val\": 16.0}, {\"ts\": 1577837400.0, \"val\": 12.0}, {\"ts\": 1577837700.0, \"val\": 26.0}, {\"ts\": 1577838000.0, \"val\": 47.0}, {\"ts\": 1577838300.0, \"val\": 54.0}, {\"ts\": 1577838600.0, \"val\": 18.0}, {\"ts\": 1577838900.0, \"val\": 87.0}, {\"ts\": 1577839200.0, \"val\": 93.0}, {\"ts\": 1577839800.0, \"val\": 72.0}, {\"ts\": 1577840100.0, \"val\": 73.0}, {\"ts\": 1577840400.0, \"val\": 54.0}, {\"ts\": 1577840700.0, \"val\": 64.0}, {\"ts\": 1577841000.0, \"val\": 17.0}, {\"ts\": 1577841600.0, \"val\": 2.0}, {\"ts\": 1577841900.0, \"val\": 41.0}, {\"ts\": 1577842200.0, \"val\": 82.0}, {\"ts\": 1577842800.0, \"val\": 99.0}, {\"ts\": 1577843100.0, \"val\": 56.0}, {\"ts\": 1577843400.0, \"val\": 8.0}, {\"ts\": 1577843700.0, \"val\": 49.0}, {\"ts\": 1577844000.0, \"val\": 83.0}, {\"ts\": 1577844300.0, \"val\": 58.0}, {\"ts\": 1577844900.0, \"val\": 23.0}, {\"ts\": 1577845500.0, \"val\": 97.0}, {\"ts\": 1577845800.0, \"val\": 3.0}, {\"ts\": 1577846100.0, \"val\": 39.0}, {\"ts\": 1577846400.0, \"val\": 6.0}, {\"ts\": 1577846700.0, \"val\": 4.0}, {\"ts\": 1577847000.0, \"val\": 42.0}, {\"ts\": 1577847300.0, \"val\": 46.0}, {\"ts\": 1577847600.0, \"val\": 44.0}, {\"ts\": 1577848200.0, \"val\": 67.0}, {\"ts\": 1577848500.0, \"val\": 67.0}, {\"ts\": 1577848800.0, \"val\": 87.0}, {\"ts\": 1577849100.0, \"val\": 61.0}, {\"ts\": 1577849400.0, \"val\": 61.0}, {\"ts\": 1577849700.0, \"val\": 89.0}, {\"ts\": 1577850000.0, \"val\": 28.0}, {\"ts\": 1577850900.0, \"val\": 10.0}, {\"ts\": 1577851200.0, \"val\": 72.0}, {\"ts\": 1577851800.0, \"val\": 35.0}, {\"ts\": 1577852100.0, \"val\": 79.0}, {\"ts\": 1577852400.0, \"val\": 63.0}, {\"ts\": 1577852700.0, \"val\": 57.0}, {\"ts\": 1577853000.0, \"val\": 46.0}, {\"ts\": 1577853300.0, \"val\": 23.0}, {\"ts\": 1577853600.0, \"val\": 21.0}, {\"ts\": 1577853900.0, \"val\": 43.0}, {\"ts\": 1577854200.0, \"val\": 86.0}, {\"ts\": 1577854500.0, \"val\": 33.0}, {\"ts\": 1577854800.0, \"val\": 47.0}, {\"ts\": 1577855100.0, \"val\": 32.0}, {\"ts\": 1577855400.0, \"val\": 57.0}, {\"ts\": 1577856300.0, \"val\": 77.0}, {\"ts\": 1577856900.0, \"val\": 90.0}, {\"ts\": 1577857200.0, \"val\": 86.0}, {\"ts\": 1577857500.0, \"val\": 70.0}, {\"ts\": 1577857800.0, \"val\": 97.0}, {\"ts\": 1577858400.0, \"val\": 23.0}, {\"ts\": 1577859000.0, \"val\": 69.0}, {\"ts\": 1577859300.0, \"val\": 6.0}, {\"ts\": 1577859600.0, \"val\": 70.0}, {\"ts\": 1577860200.0, \"val\": 97.0}, {\"ts\": 1577860500.0, \"val\": 34.0}, {\"ts\": 1577860800.0, \"val\": 95.0}, {\"ts\": 1577861100.0, \"val\": 64.0}, {\"ts\": 1577861400.0, \"val\": 4.0}, {\"ts\": 1577861700.0, \"val\": 71.0}, {\"ts\": 1577862000.0, \"val\": 77.0}, {\"ts\": 1577862600.0, \"val\": 78.0}, {\"ts\": 1577862900.0, \"val\": 43.0}, {\"ts\": 1577863800.0, \"val\": 95.0}, {\"ts\": 1577864100.0, \"val\": 79.0}, {\"ts\": 1577864400.0, \"val\": 63.0}, {\"ts\": 1577865000.0, \"val\": 72.0}, {\"ts\": 1577865300.0, \"val\": 69.0}, {\"ts\": 1577865600.0, \"val\": 16.0}, {\"ts\": 1577865900.0, \"val\": 8.0}, {\"ts\": 1577866500.0, \"val\": 28.0}, {\"ts\": 1577866800.0, \"val\": 93.0}, {\"ts\": 1577867100.0, \"val\": 58.0}, {\"ts\": 1577867400.0, \"val\": 53.0}, {\"ts\": 1577868000.0, \"val\": 96.0}, {\"ts\": 1577868300.0, \"val\": 91.0}, {\"ts\": 1577868600.0, \"val\": 43.0}, {\"ts\": 1577868900.0, \"val\": 69.0}, {\"ts\": 1577869200.0, \"val\": 3.0}, {\"ts\": 1577869800.0, \"val\": 90.0}, {\"ts\": 1577870100.0, \"val\": 50.0}, {\"ts\": 1577870400.0, \"val\": 2.0}, {\"ts\": 1577871300.0, \"val\": 74.0}, {\"ts\": 1577871600.0, \"val\": 41.0}, {\"ts\": 1577871900.0, \"val\": 81.0}, {\"ts\": 1577872200.0, \"val\": 37.0}, {\"ts\": 1577872800.0, \"val\": 79.0}, {\"ts\": 1577873100.0, \"val\": 46.0}, {\"ts\": 1577873400.0, \"val\": 80.0}, {\"ts\": 1577873700.0, \"val\": 30.0}, {\"ts\": 1577874000.0, \"val\": 57.0}, {\"ts\": 1577874300.0, \"val\": 39.0}, {\"ts\": 1577874600.0, \"val\": 6.0}, {\"ts\": 1577874900.0, \"val\": 25.0}, {\"ts\": 1577875500.0, \"val\": 15.0}, {\"ts\": 1577876100.0, \"val\": 66.0}, {\"ts\": 1577876700.0, \"val\": 48.0}, {\"ts\": 1577877000.0, \"val\": 64.0}, {\"ts\": 1577877300.0, \"val\": 24.0}, {\"ts\": 1577877600.0, \"val\": 18.0}, {\"ts\": 1577877900.0, \"val\": 41.0}, {\"ts\": 1577878500.0, \"val\": 5.0}, {\"ts\": 1577878800.0, \"val\": 85.0}, {\"ts\": 1577879100.0, \"val\": 81.0}, {\"ts\": 1577879400.0, \"val\": 4.0}, {\"ts\": 1577880000.0, \"val\": 31.0}, {\"ts\": 1577880300.0, \"val\": 28.0}, {\"ts\": 1577880600.0, \"val\": 30.0}, {\"ts\": 1577880900.0, \"val\": 20.0}, {\"ts\": 1577881200.0, \"val\": 24.0}, {\"ts\": 1577881500.0, \"val\": 35.0}]}, \"B\": {\"data\": [{\"ts\": 1577837100.0, \"val\": 36.0}, {\"ts\": 1577837400.0, \"val\": 5.0}, {\"ts\": 1577837700.0, \"val\": 2.0}, {\"ts\": 1577838000.0, \"val\": 22.0}, {\"ts\": 1577838300.0, \"val\": 83.0}, {\"ts\": 1577838600.0, \"val\": 4.0}, {\"ts\": 1577838900.0, \"val\": 92.0}, {\"ts\": 1577839200.0, \"val\": 6.0}, {\"ts\": 1577839500.0, \"val\": 7.0}, {\"ts\": 1577839800.0, \"val\": 76.0}, {\"ts\": 1577840400.0, \"val\": 6.0}, {\"ts\": 1577840700.0, \"val\": 30.0}, {\"ts\": 1577841000.0, \"val\": 15.0}, {\"ts\": 1577841300.0, \"val\": 21.0}, {\"ts\": 1577841600.0, \"val\": 51.0}, {\"ts\": 1577841900.0, \"val\": 69.0}, {\"ts\": 1577842200.0, \"val\": 19.0}, {\"ts\": 1577842500.0, \"val\": 94.0}, {\"ts\": 1577842800.0, \"val\": 75.0}, {\"ts\": 1577843100.0, \"val\": 93.0}, {\"ts\": 1577843700.0, \"val\": 1.0}, {\"ts\": 1577844000.0, \"val\": 71.0}, {\"ts\": 1577844600.0, \"val\": 77.0}, {\"ts\": 1577844900.0, \"val\": 84.0}, {\"ts\": 1577845200.0, \"val\": 40.0}, {\"ts\": 1577845500.0, \"val\": 51.0}, {\"ts\": 1577845800.0, \"val\": 35.0}, {\"ts\": 1577846100.0, \"val\": 42.0}, {\"ts\": 1577846400.0, \"val\": 59.0}, {\"ts\": 1577847000.0, \"val\": 99.0}, {\"ts\": 1577847600.0, \"val\": 23.0}, {\"ts\": 1577847900.0, \"val\": 59.0}, {\"ts\": 1577848200.0, \"val\": 68.0}, {\"ts\": 1577848500.0, \"val\": 78.0}, {\"ts\": 1577849100.0, \"val\": 43.0}, {\"ts\": 1577849400.0, \"val\": 13.0}, {\"ts\": 1577850000.0, \"val\": 14.0}, {\"ts\": 1577850300.0, \"val\": 32.0}, {\"ts\": 1577850600.0, \"val\": 38.0}, {\"ts\": 1577850900.0, \"val\": 96.0}, {\"ts\": 1577851200.0, \"val\": 75.0}, {\"ts\": 1577851800.0, \"val\": 89.0}, {\"ts\": 1577852100.0, \"val\": 73.0}, {\"ts\": 1577852400.0, \"val\": 12.0}, {\"ts\": 1577852700.0, \"val\": 6.0}, {\"ts\": 1577853000.0, \"val\": 25.0}, {\"ts\": 1577853600.0, \"val\": 13.0}, {\"ts\": 1577853900.0, \"val\": 59.0}, {\"ts\": 1577854800.0, \"val\": 27.0}, {\"ts\": 1577855100.0, \"val\": 30.0}, {\"ts\": 1577855700.0, \"val\": 42.0}, {\"ts\": 1577856000.0, \"val\": 30.0}, {\"ts\": 1577856300.0, \"val\": 28.0}, {\"ts\": 1577856600.0, \"val\": 37.0}, {\"ts\": 1577857800.0, \"val\": 20.0}, {\"ts\": 1577858100.0, \"val\": 82.0}, {\"ts\": 1577858400.0, \"val\": 37.0}, {\"ts\": 1577858700.0, \"val\": 95.0}, {\"ts\": 1577859000.0, \"val\": 27.0}, {\"ts\": 1577859300.0, \"val\": 90.0}, {\"ts\": 1577859600.0, \"val\": 43.0}, {\"ts\": 1577859900.0, \"val\": 11.0}, {\"ts\": 1577860200.0, \"val\": 85.0}, {\"ts\": 1577860500.0, \"val\": 13.0}, {\"ts\": 1577861100.0, \"val\": 72.0}, {\"ts\": 1577861400.0, \"val\": 65.0}, {\"ts\": 1577861700.0, \"val\": 65.0}, {\"ts\": 1577862000.0, \"val\": 27.0}, {\"ts\": 1577862300.0, \"val\": 55.0}, {\"ts\": 1577862600.0, \"val\": 18.0}, {\"ts\": 1577863200.0, \"val\": 32.0}, {\"ts\": 1577863500.0, \"val\": 63.0}, {\"ts\": 1577863800.0, \"val\": 10.0}, {\"ts\": 1577864100.0, \"val\": 20.0}, {\"ts\": 1577864400.0, \"val\": 17.0}, {\"ts\": 1577864700.0, \"val\": 65.0}, {\"ts\": 1577865000.0, \"val\": 21.0}, {\"ts\": 1577865300.0, \"val\": 66.0}, {\"ts\": 1577865600.0, \"val\": 95.0}, {\"ts\": 1577865900.0, \"val\": 37.0}, {\"ts\": 1577866200.0, \"val\": 50.0}, {\"ts\": 1577866500.0, \"val\": 14.0}, {\"ts\": 1577867100.0, \"val\": 1.0}, {\"ts\": 1577867400.0, \"val\": 26.0}, {\"ts\": 1577867700.0, \"val\": 45.0}, {\"ts\": 1577868000.0, \"val\": 29.0}, {\"ts\": 1577868300.0, \"val\": 94.0}, {\"ts\": 1577868600.0, \"val\": 85.0}, {\"ts\": 1577868900.0, \"val\": 65.0}, {\"ts\": 1577869200.0, \"val\": 13.0}, {\"ts\": 1577869800.0, \"val\": 53.0}, {\"ts\": 1577870100.0, \"val\": 82.0}, {\"ts\": 1577870400.0, \"val\": 14.0}, {\"ts\": 1577870700.0, \"val\": 47.0}, {\"ts\": 1577871000.0, \"val\": 55.0}, {\"ts\": 1577871300.0, \"val\": 1.0}, {\"ts\": 1577871600.0, \"val\": 28.0}, {\"ts\": 1577871900.0, \"val\": 67.0}, {\"ts\": 1577873100.0, \"val\": 20.0}, {\"ts\": 1577873400.0, \"val\": 57.0}, {\"ts\": 1577873700.0, \"val\": 41.0}, {\"ts\": 1577874000.0, \"val\": 44.0}, {\"ts\": 1577874300.0, \"val\": 78.0}, {\"ts\": 1577874600.0, \"val\": 4.0}, {\"ts\": 1577874900.0, \"val\": 60.0}, {\"ts\": 1577875500.0, \"val\": 34.0}, {\"ts\": 1577876100.0, \"val\": 32.0}, {\"ts\": 1577876400.0, \"val\": 84.0}, {\"ts\": 1577877300.0, \"val\": 24.0}, {\"ts\": 1577877600.0, \"val\": 96.0}, {\"ts\": 1577878200.0, \"val\": 32.0}, {\"ts\": 1577878500.0, \"val\": 64.0}, {\"ts\": 1577878800.0, \"val\": 56.0}, {\"ts\": 1577879100.0, \"val\": 84.0}, {\"ts\": 1577879400.0, \"val\": 49.0}, {\"ts\": 1577879700.0, \"val\": 6.0}, {\"ts\": 1577880300.0, \"val\": 73.0}, {\"ts\": 1577880900.0, \"val\": 60.0}, {\"ts\": 1577881200.0, \"val\": 27.0}, {\"ts\": 1577881500.0, \"val\": 0.0}]}, \"C\": {\"data\": [{\"ts\": 1577837100.0, \"val\": 53.0}, {\"ts\": 1577837400.0, \"val\": 32.0}, {\"ts\": 1577837700.0, \"val\": 66.0}, {\"ts\": 1577838000.0, \"val\": 63.0}, {\"ts\": 1577838300.0, \"val\": 45.0}, {\"ts\": 1577838600.0, \"val\": 91.0}, {\"ts\": 1577838900.0, \"val\": 40.0}, {\"ts\": 1577839500.0, \"val\": 76.0}, {\"ts\": 1577839800.0, \"val\": 69.0}, {\"ts\": 1577840100.0, \"val\": 66.0}, {\"ts\": 1577840700.0, \"val\": 44.0}, {\"ts\": 1577841000.0, \"val\": 13.0}, {\"ts\": 1577841300.0, \"val\": 23.0}, {\"ts\": 1577841600.0, \"val\": 28.0}, {\"ts\": 1577841900.0, \"val\": 46.0}, {\"ts\": 1577842200.0, \"val\": 54.0}, {\"ts\": 1577842500.0, \"val\": 75.0}, {\"ts\": 1577842800.0, \"val\": 90.0}, {\"ts\": 1577843100.0, \"val\": 35.0}, {\"ts\": 1577843700.0, \"val\": 39.0}, {\"ts\": 1577844000.0, \"val\": 72.0}, {\"ts\": 1577844300.0, \"val\": 92.0}, {\"ts\": 1577845500.0, \"val\": 17.0}, {\"ts\": 1577845800.0, \"val\": 84.0}, {\"ts\": 1577846100.0, \"val\": 9.0}, {\"ts\": 1577846400.0, \"val\": 73.0}, {\"ts\": 1577846700.0, \"val\": 29.0}, {\"ts\": 1577847300.0, \"val\": 12.0}, {\"ts\": 1577847600.0, \"val\": 12.0}, {\"ts\": 1577847900.0, \"val\": 66.0}, {\"ts\": 1577848500.0, \"val\": 86.0}, {\"ts\": 1577849100.0, \"val\": 11.0}, {\"ts\": 1577849400.0, \"val\": 72.0}, {\"ts\": 1577849700.0, \"val\": 6.0}, {\"ts\": 1577850000.0, \"val\": 99.0}, {\"ts\": 1577850600.0, \"val\": 52.0}, {\"ts\": 1577850900.0, \"val\": 41.0}, {\"ts\": 1577851200.0, \"val\": 10.0}, {\"ts\": 1577851500.0, \"val\": 93.0}, {\"ts\": 1577851800.0, \"val\": 85.0}, {\"ts\": 1577852100.0, \"val\": 7.0}, {\"ts\": 1577852700.0, \"val\": 19.0}, {\"ts\": 1577853000.0, \"val\": 74.0}, {\"ts\": 1577853600.0, \"val\": 24.0}, {\"ts\": 1577853900.0, \"val\": 42.0}, {\"ts\": 1577854200.0, \"val\": 28.0}, {\"ts\": 1577854500.0, \"val\": 69.0}, {\"ts\": 1577854800.0, \"val\": 85.0}, {\"ts\": 1577855100.0, \"val\": 1.0}, {\"ts\": 1577855400.0, \"val\": 91.0}, {\"ts\": 1577855700.0, \"val\": 55.0}, {\"ts\": 1577856000.0, \"val\": 67.0}, {\"ts\": 1577856300.0, \"val\": 75.0}, {\"ts\": 1577856600.0, \"val\": 21.0}, {\"ts\": 1577856900.0, \"val\": 33.0}, {\"ts\": 1577857200.0, \"val\": 93.0}, {\"ts\": 1577857500.0, \"val\": 16.0}, {\"ts\": 1577858100.0, \"val\": 91.0}, {\"ts\": 1577858700.0, \"val\": 63.0}, {\"ts\": 1577859000.0, \"val\": 63.0}, {\"ts\": 1577859300.0, \"val\": 33.0}, {\"ts\": 1577859900.0, \"val\": 7.0}, {\"ts\": 1577860200.0, \"val\": 68.0}, {\"ts\": 1577860500.0, \"val\": 71.0}, {\"ts\": 1577860800.0, \"val\": 61.0}, {\"ts\": 1577861400.0, \"val\": 82.0}, {\"ts\": 1577861700.0, \"val\": 51.0}, {\"ts\": 1577862000.0, \"val\": 62.0}, {\"ts\": 1577862300.0, \"val\": 17.0}, {\"ts\": 1577862600.0, \"val\": 14.0}, {\"ts\": 1577862900.0, \"val\": 78.0}, {\"ts\": 1577863500.0, \"val\": 31.0}, {\"ts\": 1577863800.0, \"val\": 30.0}, {\"ts\": 1577864400.0, \"val\": 73.0}, {\"ts\": 1577864700.0, \"val\": 34.0}, {\"ts\": 1577865000.0, \"val\": 22.0}, {\"ts\": 1577865300.0, \"val\": 60.0}, {\"ts\": 1577865600.0, \"val\": 17.0}, {\"ts\": 1577865900.0, \"val\": 78.0}, {\"ts\": 1577866200.0, \"val\": 65.0}, {\"ts\": 1577866500.0, \"val\": 98.0}, {\"ts\": 1577866800.0, \"val\": 10.0}, {\"ts\": 1577867700.0, \"val\": 58.0}, {\"ts\": 1577868000.0, \"val\": 75.0}, {\"ts\": 1577868300.0, \"val\": 70.0}, {\"ts\": 1577868900.0, \"val\": 71.0}, {\"ts\": 1577869200.0, \"val\": 90.0}, {\"ts\": 1577869800.0, \"val\": 32.0}, {\"ts\": 1577870100.0, \"val\": 63.0}, {\"ts\": 1577870400.0, \"val\": 94.0}, {\"ts\": 1577870700.0, \"val\": 96.0}, {\"ts\": 1577871300.0, \"val\": 86.0}, {\"ts\": 1577871600.0, \"val\": 12.0}, {\"ts\": 1577871900.0, \"val\": 13.0}, {\"ts\": 1577872200.0, \"val\": 14.0}, {\"ts\": 1577872500.0, \"val\": 84.0}, {\"ts\": 1577873400.0, \"val\": 4.0}, {\"ts\": 1577873700.0, \"val\": 72.0}, {\"ts\": 1577874300.0, \"val\": 3.0}, {\"ts\": 1577874600.0, \"val\": 45.0}, {\"ts\": 1577875200.0, \"val\": 89.0}, {\"ts\": 1577875500.0, \"val\": 48.0}, {\"ts\": 1577875800.0, \"val\": 76.0}, {\"ts\": 1577876100.0, \"val\": 37.0}, {\"ts\": 1577876400.0, \"val\": 53.0}, {\"ts\": 1577876700.0, \"val\": 45.0}, {\"ts\": 1577877000.0, \"val\": 3.0}, {\"ts\": 1577877300.0, \"val\": 85.0}, {\"ts\": 1577877600.0, \"val\": 11.0}, {\"ts\": 1577877900.0, \"val\": 82.0}, {\"ts\": 1577878800.0, \"val\": 72.0}, {\"ts\": 1577879100.0, \"val\": 58.0}, {\"ts\": 1577879400.0, \"val\": 34.0}, {\"ts\": 1577879700.0, \"val\": 64.0}, {\"ts\": 1577880000.0, \"val\": 45.0}, {\"ts\": 1577880300.0, \"val\": 48.0}, {\"ts\": 1577880600.0, \"val\": 90.0}, {\"ts\": 1577880900.0, \"val\": 89.0}, {\"ts\": 1577881200.0, \"val\": 58.0}, {\"ts\": 1577881500.0, \"val\": 79.0}]}}}]\n",
    "response = server.test(path='/predict', body={'inputs':events})\n",
    "print(f\"Response: {response}\")\n",
    "print()"
   ]
  },
  {
   "cell_type": "markdown",
   "metadata": {},
   "source": [
    "## Deploy"
   ]
  },
  {
   "cell_type": "code",
   "execution_count": 1,
   "metadata": {},
   "outputs": [
    {
     "ename": "NameError",
     "evalue": "name 'serving_function' is not defined",
     "output_type": "error",
     "traceback": [
      "\u001b[0;31m---------------------------------------------------------------------------\u001b[0m",
      "\u001b[0;31mNameError\u001b[0m                                 Traceback (most recent call last)",
      "\u001b[0;32m<ipython-input-1-de4b060a1382>\u001b[0m in \u001b[0;36m<module>\u001b[0;34m\u001b[0m\n\u001b[1;32m      1\u001b[0m \u001b[0;31m# Mount it:\u001b[0m\u001b[0;34m\u001b[0m\u001b[0;34m\u001b[0m\u001b[0;34m\u001b[0m\u001b[0m\n\u001b[0;32m----> 2\u001b[0;31m \u001b[0mserving_function\u001b[0m\u001b[0;34m.\u001b[0m\u001b[0mapply\u001b[0m\u001b[0;34m(\u001b[0m\u001b[0mmlrun\u001b[0m\u001b[0;34m.\u001b[0m\u001b[0mplatforms\u001b[0m\u001b[0;34m.\u001b[0m\u001b[0mauto_mount\u001b[0m\u001b[0;34m(\u001b[0m\u001b[0;34m)\u001b[0m\u001b[0;34m)\u001b[0m\u001b[0;34m\u001b[0m\u001b[0;34m\u001b[0m\u001b[0m\n\u001b[0m\u001b[1;32m      3\u001b[0m \u001b[0;34m\u001b[0m\u001b[0m\n\u001b[1;32m      4\u001b[0m \u001b[0;31m# Deploy it:\u001b[0m\u001b[0;34m\u001b[0m\u001b[0;34m\u001b[0m\u001b[0;34m\u001b[0m\u001b[0m\n\u001b[1;32m      5\u001b[0m \u001b[0mserving_function\u001b[0m\u001b[0;34m.\u001b[0m\u001b[0mdeploy\u001b[0m\u001b[0;34m(\u001b[0m\u001b[0;34m)\u001b[0m\u001b[0;34m\u001b[0m\u001b[0;34m\u001b[0m\u001b[0m\n",
      "\u001b[0;31mNameError\u001b[0m: name 'serving_function' is not defined"
     ]
    }
   ],
   "source": [
    "# Mount it:\n",
    "serving_function.apply(mlrun.platforms.auto_mount())\n",
    "\n",
    "# Deploy it:\n",
    "serving_function.deploy()"
   ]
  },
  {
   "cell_type": "code",
   "execution_count": null,
   "metadata": {},
   "outputs": [],
   "source": [
    "# Setup the events:\n",
    "tests = 5  # Amount of events to test\n",
    "events = [\n",
    "    {\n",
    "        EventKeys.MODEL_NAME: list(models.keys())[model],\n",
    "        EventKeys.MODEL_UID: list(models.values())[model],\n",
    "        EventKeys.INPUTS: np.random.random((3,5)).tolist()\n",
    "    } for model in np.random.randint(len(models), size=tests)\n",
    "]\n",
    "\n",
    "# Run the events thorugh the serving graph:\n",
    "for i, event in enumerate(events, 1):\n",
    "    print(f\"Test {i}:\")\n",
    "    response = serving_function.invoke(path='/predict', body=event)\n",
    "    print(f\"Response: {response}\")\n",
    "    print()"
   ]
  },
  {
   "cell_type": "code",
   "execution_count": null,
   "metadata": {},
   "outputs": [],
   "source": []
  },
  {
   "cell_type": "code",
   "execution_count": null,
   "metadata": {},
   "outputs": [],
   "source": []
  }
 ],
 "metadata": {
  "kernelspec": {
   "display_name": "Python 3",
   "language": "python",
   "name": "python3"
  },
  "language_info": {
   "codemirror_mode": {
    "name": "ipython",
    "version": 3
   },
   "file_extension": ".py",
   "mimetype": "text/x-python",
   "name": "python",
   "nbconvert_exporter": "python",
   "pygments_lexer": "ipython3",
   "version": "3.7.6"
  }
 },
 "nbformat": 4,
 "nbformat_minor": 4
}
