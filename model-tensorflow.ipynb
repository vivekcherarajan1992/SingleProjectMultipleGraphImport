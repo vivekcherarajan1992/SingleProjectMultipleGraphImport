{
 "cells": [
  {
   "cell_type": "code",
   "execution_count": 1,
   "metadata": {},
   "outputs": [],
   "source": [
    "import mlrun"
   ]
  },
  {
   "cell_type": "code",
   "execution_count": 2,
   "metadata": {},
   "outputs": [],
   "source": [
    "from pickle import dumps"
   ]
  },
  {
   "cell_type": "code",
   "execution_count": 3,
   "metadata": {},
   "outputs": [],
   "source": [
    "import numpy as np\n",
    "import tensorflow as tf\n",
    "from tensorflow import keras"
   ]
  },
  {
   "cell_type": "code",
   "execution_count": 4,
   "metadata": {},
   "outputs": [
    {
     "name": "stdout",
     "output_type": "stream",
     "text": [
      "> 2022-06-13 11:26:35,120 [info] loaded project tensorflow-test from MLRun DB\n"
     ]
    }
   ],
   "source": [
    "project = mlrun.get_or_create_project('tensorflow-test','./')"
   ]
  },
  {
   "cell_type": "code",
   "execution_count": 5,
   "metadata": {},
   "outputs": [],
   "source": [
    "# mlrun: start-code"
   ]
  },
  {
   "cell_type": "code",
   "execution_count": 6,
   "metadata": {},
   "outputs": [],
   "source": [
    "from pickle import dumps\n",
    "import numpy as np\n",
    "import tensorflow as tf\n",
    "from tensorflow import keras\n",
    "import shutil\n",
    "import mlrun"
   ]
  },
  {
   "cell_type": "code",
   "execution_count": 7,
   "metadata": {},
   "outputs": [],
   "source": [
    "def train_model(context:mlrun.MLClientCtx):\n",
    "    # Create a simple model.\n",
    "    inputs = keras.Input(shape=(32,))\n",
    "    outputs = keras.layers.Dense(1)(inputs)\n",
    "    model = keras.Model(inputs, outputs)\n",
    "    model.compile(optimizer=\"adam\", loss=\"mean_squared_error\")\n",
    "    \n",
    "    # Train the model.\n",
    "    test_input = np.random.random((128, 32))\n",
    "    test_target = np.random.random((128, 1))\n",
    "    model.fit(test_input, test_target)\n",
    "\n",
    "    # Calling `save('my_model')` creates a SavedModel folder `my_model`.\n",
    "    model.save(\"test_model/my_model.h5\") # save as H5 \n",
    "    model.save(\"test_model/my_model\") #save as a file\n",
    "    \n",
    "    # Create tensorflow object \n",
    "    reconstructed_model = keras.models.load_model(\"test_model/my_model\") # create a model python object\n",
    "    \n",
    "    # Saved as PKL file\n",
    "    context.log_model('model_pkl',body=dumps(reconstructed_model),model_file='model.pkl')\n",
    "    \n",
    "    # Saved as H5 file\n",
    "    context.log_model('model_H5',model_file='test_model/my_model.h5')\n",
    "    \n",
    "    # Saved as ZIP file\n",
    "    shutil.make_archive('./test_model/model_ZIP', 'zip', './test_model/my_model')\n",
    "    context.log_model('model_ZIP',model_file='./test_model/model_ZIP.zip')"
   ]
  },
  {
   "cell_type": "code",
   "execution_count": 8,
   "metadata": {},
   "outputs": [],
   "source": [
    "# mlrun: end-code"
   ]
  },
  {
   "cell_type": "code",
   "execution_count": 9,
   "metadata": {},
   "outputs": [],
   "source": [
    "train_func = mlrun.code_to_function('train',kind='job').apply(mlrun.auto_mount())"
   ]
  },
  {
   "cell_type": "code",
   "execution_count": 10,
   "metadata": {},
   "outputs": [],
   "source": [
    "train_func.spec.build.base_image='mlrun/mlrun'"
   ]
  },
  {
   "cell_type": "code",
   "execution_count": 11,
   "metadata": {},
   "outputs": [],
   "source": [
    "train_func.spec.build.commands=['pip install tensorflow']"
   ]
  },
  {
   "cell_type": "code",
   "execution_count": 12,
   "metadata": {},
   "outputs": [
    {
     "name": "stdout",
     "output_type": "stream",
     "text": [
      "> 2022-06-13 11:26:53,401 [info] starting run train-train_model uid=7145bc35dd50442bbe864f144228d2a6 DB=http://mlrun-api:8080\n",
      "4/4 [==============================] - 0s 1ms/step - loss: 0.4927\n",
      "INFO:tensorflow:Assets written to: test_model/my_model/assets\n",
      "INFO:tensorflow:Assets written to: ram://a70889eb-4b0b-4ca5-a5ef-2d46e40b692f/assets\n"
     ]
    },
    {
     "data": {
      "text/html": [
       "<style>\n",
       ".dictlist {\n",
       "  background-color: #4EC64B;\n",
       "  text-align: center;\n",
       "  margin: 4px;\n",
       "  border-radius: 3px; padding: 0px 3px 1px 3px; display: inline-block;}\n",
       ".artifact {\n",
       "  cursor: pointer;\n",
       "  background-color: #4EC64B;\n",
       "  text-align: left;\n",
       "  margin: 4px; border-radius: 3px; padding: 0px 3px 1px 3px; display: inline-block;\n",
       "}\n",
       "div.block.hidden {\n",
       "  display: none;\n",
       "}\n",
       ".clickable {\n",
       "  cursor: pointer;\n",
       "}\n",
       ".ellipsis {\n",
       "  display: inline-block;\n",
       "  max-width: 60px;\n",
       "  white-space: nowrap;\n",
       "  overflow: hidden;\n",
       "  text-overflow: ellipsis;\n",
       "}\n",
       ".master-wrapper {\n",
       "  display: flex;\n",
       "  flex-flow: row nowrap;\n",
       "  justify-content: flex-start;\n",
       "  align-items: stretch;\n",
       "}\n",
       ".master-tbl {\n",
       "  flex: 3\n",
       "}\n",
       ".master-wrapper > div {\n",
       "  margin: 4px;\n",
       "  padding: 10px;\n",
       "}\n",
       "iframe.fileview {\n",
       "  border: 0 none;\n",
       "  height: 100%;\n",
       "  width: 100%;\n",
       "  white-space: pre-wrap;\n",
       "}\n",
       ".pane-header-title {\n",
       "  width: 80%;\n",
       "  font-weight: 500;\n",
       "}\n",
       ".pane-header {\n",
       "  line-height: 1;\n",
       "  background-color: #4EC64B;\n",
       "  padding: 3px;\n",
       "}\n",
       ".pane-header .close {\n",
       "  font-size: 20px;\n",
       "  font-weight: 700;\n",
       "  float: right;\n",
       "  margin-top: -5px;\n",
       "}\n",
       ".master-wrapper .right-pane {\n",
       "  border: 1px inset silver;\n",
       "  width: 40%;\n",
       "  min-height: 300px;\n",
       "  flex: 3\n",
       "  min-width: 500px;\n",
       "}\n",
       ".master-wrapper * {\n",
       "  box-sizing: border-box;\n",
       "}\n",
       "</style><script>\n",
       "function copyToClipboard(fld) {\n",
       "    if (document.queryCommandSupported && document.queryCommandSupported('copy')) {\n",
       "        var textarea = document.createElement('textarea');\n",
       "        textarea.textContent = fld.innerHTML;\n",
       "        textarea.style.position = 'fixed';\n",
       "        document.body.appendChild(textarea);\n",
       "        textarea.select();\n",
       "\n",
       "        try {\n",
       "            return document.execCommand('copy'); // Security exception may be thrown by some browsers.\n",
       "        } catch (ex) {\n",
       "\n",
       "        } finally {\n",
       "            document.body.removeChild(textarea);\n",
       "        }\n",
       "    }\n",
       "}\n",
       "function expandPanel(el) {\n",
       "  const panelName = \"#\" + el.getAttribute('paneName');\n",
       "  console.log(el.title);\n",
       "\n",
       "  document.querySelector(panelName + \"-title\").innerHTML = el.title\n",
       "  iframe = document.querySelector(panelName + \"-body\");\n",
       "\n",
       "  const tblcss = `<style> body { font-family: Arial, Helvetica, sans-serif;}\n",
       "    #csv { margin-bottom: 15px; }\n",
       "    #csv table { border-collapse: collapse;}\n",
       "    #csv table td { padding: 4px 8px; border: 1px solid silver;} </style>`;\n",
       "\n",
       "  function csvToHtmlTable(str) {\n",
       "    return '<div id=\"csv\"><table><tr><td>' +  str.replace(/[\\n\\r]+$/g, '').replace(/[\\n\\r]+/g, '</td></tr><tr><td>')\n",
       "      .replace(/,/g, '</td><td>') + '</td></tr></table></div>';\n",
       "  }\n",
       "\n",
       "  function reqListener () {\n",
       "    if (el.title.endsWith(\".csv\")) {\n",
       "      iframe.setAttribute(\"srcdoc\", tblcss + csvToHtmlTable(this.responseText));\n",
       "    } else {\n",
       "      iframe.setAttribute(\"srcdoc\", this.responseText);\n",
       "    }\n",
       "    console.log(this.responseText);\n",
       "  }\n",
       "\n",
       "  const oReq = new XMLHttpRequest();\n",
       "  oReq.addEventListener(\"load\", reqListener);\n",
       "  oReq.open(\"GET\", el.title);\n",
       "  oReq.send();\n",
       "\n",
       "\n",
       "  //iframe.src = el.title;\n",
       "  const resultPane = document.querySelector(panelName + \"-pane\");\n",
       "  if (resultPane.classList.contains(\"hidden\")) {\n",
       "    resultPane.classList.remove(\"hidden\");\n",
       "  }\n",
       "}\n",
       "function closePanel(el) {\n",
       "  const panelName = \"#\" + el.getAttribute('paneName')\n",
       "  const resultPane = document.querySelector(panelName + \"-pane\");\n",
       "  if (!resultPane.classList.contains(\"hidden\")) {\n",
       "    resultPane.classList.add(\"hidden\");\n",
       "  }\n",
       "}\n",
       "\n",
       "</script>\n",
       "<div class=\"master-wrapper\">\n",
       "  <div class=\"block master-tbl\"><div>\n",
       "<style scoped>\n",
       "    .dataframe tbody tr th:only-of-type {\n",
       "        vertical-align: middle;\n",
       "    }\n",
       "\n",
       "    .dataframe tbody tr th {\n",
       "        vertical-align: top;\n",
       "    }\n",
       "\n",
       "    .dataframe thead th {\n",
       "        text-align: right;\n",
       "    }\n",
       "</style>\n",
       "<table border=\"1\" class=\"dataframe\">\n",
       "  <thead>\n",
       "    <tr style=\"text-align: right;\">\n",
       "      <th>project</th>\n",
       "      <th>uid</th>\n",
       "      <th>iter</th>\n",
       "      <th>start</th>\n",
       "      <th>state</th>\n",
       "      <th>name</th>\n",
       "      <th>labels</th>\n",
       "      <th>inputs</th>\n",
       "      <th>parameters</th>\n",
       "      <th>results</th>\n",
       "      <th>artifacts</th>\n",
       "    </tr>\n",
       "  </thead>\n",
       "  <tbody>\n",
       "    <tr>\n",
       "      <td>tensorflow-test</td>\n",
       "      <td><div title=\"7145bc35dd50442bbe864f144228d2a6\"><a href=\"https://dashboard.default-tenant.app.cust-cs-3-2-3.iguazio-cd2.com/mlprojects/tensorflow-test/jobs/monitor/7145bc35dd50442bbe864f144228d2a6/overview\" target=\"_blank\" >...4228d2a6</a></div></td>\n",
       "      <td>0</td>\n",
       "      <td>Jun 13 11:26:53</td>\n",
       "      <td>completed</td>\n",
       "      <td>train-train_model</td>\n",
       "      <td><div class=\"dictlist\">v3io_user=Gilad</div><div class=\"dictlist\">kind=</div><div class=\"dictlist\">owner=Gilad</div><div class=\"dictlist\">host=jupyter-gilad-59c46d65ff-tdllr</div></td>\n",
       "      <td></td>\n",
       "      <td></td>\n",
       "      <td></td>\n",
       "      <td><div title=\"v3io:///projects/tensorflow-test/artifacts/\">model_pkl</div><div title=\"v3io:///projects/tensorflow-test/artifacts/\">model_H5</div><div title=\"v3io:///projects/tensorflow-test/artifacts/\">model_ZIP</div></td>\n",
       "    </tr>\n",
       "  </tbody>\n",
       "</table>\n",
       "</div></div>\n",
       "  <div id=\"resultef66b660-pane\" class=\"right-pane block hidden\">\n",
       "    <div class=\"pane-header\">\n",
       "      <span id=\"resultef66b660-title\" class=\"pane-header-title\">Title</span>\n",
       "      <span onclick=\"closePanel(this)\" paneName=\"resultef66b660\" class=\"close clickable\">&times;</span>\n",
       "    </div>\n",
       "    <iframe class=\"fileview\" id=\"resultef66b660-body\"></iframe>\n",
       "  </div>\n",
       "</div>\n"
      ],
      "text/plain": [
       "<IPython.core.display.HTML object>"
      ]
     },
     "metadata": {},
     "output_type": "display_data"
    },
    {
     "name": "stdout",
     "output_type": "stream",
     "text": [
      "\n"
     ]
    },
    {
     "data": {
      "text/html": [
       "<b> > to track results use the .show() or .logs() methods  or <a href=\"https://dashboard.default-tenant.app.cust-cs-3-2-3.iguazio-cd2.com/mlprojects/tensorflow-test/jobs/monitor/7145bc35dd50442bbe864f144228d2a6/overview\" target=\"_blank\">click here</a> to open in UI</b>"
      ],
      "text/plain": [
       "<IPython.core.display.HTML object>"
      ]
     },
     "metadata": {},
     "output_type": "display_data"
    },
    {
     "name": "stdout",
     "output_type": "stream",
     "text": [
      "> 2022-06-13 11:26:55,689 [info] run executed, status=completed\n"
     ]
    }
   ],
   "source": [
    "train_func_run = train_func.run(handler='train_model',local=True)"
   ]
  },
  {
   "cell_type": "code",
   "execution_count": 13,
   "metadata": {
    "collapsed": true,
    "jupyter": {
     "outputs_hidden": true
    }
   },
   "outputs": [
    {
     "name": "stdout",
     "output_type": "stream",
     "text": [
      "> 2022-06-13 11:26:55,787 [info] Started building image: .mlrun/func-tensorflow-test-train:latest\n",
      "\u001b[36mINFO\u001b[0m[0003] Retrieving image manifest datanode-registry.iguazio-platform.app.cust-cs-3-2-3.iguazio-cd2.com:80/quay.io/mlrun/mlrun:1.1.0-rc2 \n",
      "\u001b[36mINFO\u001b[0m[0003] Retrieving image datanode-registry.iguazio-platform.app.cust-cs-3-2-3.iguazio-cd2.com:80/quay.io/mlrun/mlrun:1.1.0-rc2 from registry datanode-registry.iguazio-platform.app.cust-cs-3-2-3.iguazio-cd2.com:80 \n",
      "\u001b[36mINFO\u001b[0m[0003] Built cross stage deps: map[]                \n",
      "\u001b[36mINFO\u001b[0m[0003] Retrieving image manifest datanode-registry.iguazio-platform.app.cust-cs-3-2-3.iguazio-cd2.com:80/quay.io/mlrun/mlrun:1.1.0-rc2 \n",
      "\u001b[36mINFO\u001b[0m[0003] Returning cached image manifest              \n",
      "\u001b[36mINFO\u001b[0m[0003] Executing 0 build triggers                   \n",
      "\u001b[36mINFO\u001b[0m[0003] Unpacking rootfs as cmd RUN pip install tensorflow requires it. \n",
      "\u001b[36mINFO\u001b[0m[0022] RUN pip install tensorflow                   \n",
      "\u001b[36mINFO\u001b[0m[0022] Taking snapshot of full filesystem...        \n",
      "\u001b[36mINFO\u001b[0m[0050] cmd: /bin/sh                                 \n",
      "\u001b[36mINFO\u001b[0m[0050] args: [-c pip install tensorflow]            \n",
      "\u001b[36mINFO\u001b[0m[0050] Running: [/bin/sh -c pip install tensorflow] \n",
      "Collecting tensorflow\n",
      "  Downloading tensorflow-2.9.1-cp37-cp37m-manylinux_2_17_x86_64.manylinux2014_x86_64.whl (511.7 MB)\n",
      "     ━━━━━━━━━━━━━━━━━━━━━━━━━━━━━━━━━━━━━ 511.7/511.7 MB 134.1 MB/s eta 0:00:00\n",
      "Collecting tensorboard<2.10,>=2.9\n",
      "  Downloading tensorboard-2.9.1-py3-none-any.whl (5.8 MB)\n",
      "     ━━━━━━━━━━━━━━━━━━━━━━━━━━━━━━━━━━━━━━━━ 5.8/5.8 MB 133.7 MB/s eta 0:00:00\n",
      "Requirement already satisfied: wrapt>=1.11.0 in /usr/local/lib/python3.7/site-packages (from tensorflow) (1.14.1)\n",
      "Collecting astunparse>=1.6.0\n",
      "  Downloading astunparse-1.6.3-py2.py3-none-any.whl (12 kB)\n",
      "Collecting gast<=0.4.0,>=0.2.1\n",
      "  Downloading gast-0.4.0-py3-none-any.whl (9.8 kB)\n",
      "Requirement already satisfied: setuptools in /usr/local/lib/python3.7/site-packages (from tensorflow) (57.4.0)\n",
      "Collecting keras<2.10.0,>=2.9.0rc0\n",
      "  Downloading keras-2.9.0-py2.py3-none-any.whl (1.6 MB)\n",
      "     ━━━━━━━━━━━━━━━━━━━━━━━━━━━━━━━━━━━━━━━━ 1.6/1.6 MB 147.5 MB/s eta 0:00:00\n",
      "Requirement already satisfied: packaging in /usr/local/lib/python3.7/site-packages (from tensorflow) (21.3)\n",
      "Collecting tensorflow-io-gcs-filesystem>=0.23.1\n",
      "  Downloading tensorflow_io_gcs_filesystem-0.26.0-cp37-cp37m-manylinux_2_12_x86_64.manylinux2010_x86_64.whl (2.4 MB)\n",
      "     ━━━━━━━━━━━━━━━━━━━━━━━━━━━━━━━━━━━━━━━━ 2.4/2.4 MB 179.9 MB/s eta 0:00:00\n",
      "Collecting tensorflow-estimator<2.10.0,>=2.9.0rc0\n",
      "  Downloading tensorflow_estimator-2.9.0-py2.py3-none-any.whl (438 kB)\n",
      "     ━━━━━━━━━━━━━━━━━━━━━━━━━━━━━━━━━━━━━ 438.7/438.7 KB 288.6 MB/s eta 0:00:00\n",
      "Collecting flatbuffers<2,>=1.12\n",
      "  Downloading flatbuffers-1.12-py2.py3-none-any.whl (15 kB)\n",
      "Requirement already satisfied: six>=1.12.0 in /usr/local/lib/python3.7/site-packages (from tensorflow) (1.16.0)\n",
      "Requirement already satisfied: numpy>=1.20 in /usr/local/lib/python3.7/site-packages (from tensorflow) (1.21.6)\n",
      "Collecting h5py>=2.9.0\n",
      "  Downloading h5py-3.7.0-cp37-cp37m-manylinux_2_12_x86_64.manylinux2010_x86_64.whl (4.1 MB)\n",
      "     ━━━━━━━━━━━━━━━━━━━━━━━━━━━━━━━━━━━━━━━━ 4.1/4.1 MB 152.2 MB/s eta 0:00:00\n",
      "Requirement already satisfied: termcolor>=1.1.0 in /usr/local/lib/python3.7/site-packages (from tensorflow) (1.1.0)\n",
      "Collecting opt-einsum>=2.3.2\n",
      "  Downloading opt_einsum-3.3.0-py3-none-any.whl (65 kB)\n",
      "     ━━━━━━━━━━━━━━━━━━━━━━━━━━━━━━━━━━━━━━━ 65.5/65.5 KB 223.7 MB/s eta 0:00:00\n",
      "Collecting protobuf<3.20,>=3.9.2\n",
      "  Downloading protobuf-3.19.4-cp37-cp37m-manylinux_2_17_x86_64.manylinux2014_x86_64.whl (1.1 MB)\n",
      "     ━━━━━━━━━━━━━━━━━━━━━━━━━━━━━━━━━━━━━━━━ 1.1/1.1 MB 233.8 MB/s eta 0:00:00\n",
      "Requirement already satisfied: typing-extensions>=3.6.6 in /usr/local/lib/python3.7/site-packages (from tensorflow) (3.10.0.2)\n",
      "Collecting keras-preprocessing>=1.1.1\n",
      "  Downloading Keras_Preprocessing-1.1.2-py2.py3-none-any.whl (42 kB)\n",
      "     ━━━━━━━━━━━━━━━━━━━━━━━━━━━━━━━━━━━━━━━ 42.6/42.6 KB 197.7 MB/s eta 0:00:00\n",
      "Collecting libclang>=13.0.0\n",
      "  Downloading libclang-14.0.1-py2.py3-none-manylinux1_x86_64.whl (14.5 MB)\n",
      "     ━━━━━━━━━━━━━━━━━━━━━━━━━━━━━━━━━━━━━━━ 14.5/14.5 MB 135.4 MB/s eta 0:00:00\n",
      "Requirement already satisfied: grpcio<2.0,>=1.24.3 in /usr/local/lib/python3.7/site-packages (from tensorflow) (1.41.1)\n",
      "Requirement already satisfied: absl-py>=1.0.0 in /usr/local/lib/python3.7/site-packages (from tensorflow) (1.0.0)\n",
      "Collecting google-pasta>=0.1.1\n",
      "  Downloading google_pasta-0.2.0-py3-none-any.whl (57 kB)\n",
      "     ━━━━━━━━━━━━━━━━━━━━━━━━━━━━━━━━━━━━━━━ 57.5/57.5 KB 217.6 MB/s eta 0:00:00\n",
      "Requirement already satisfied: wheel<1.0,>=0.23.0 in /usr/local/lib/python3.7/site-packages (from astunparse>=1.6.0->tensorflow) (0.37.0)\n",
      "Requirement already satisfied: requests<3,>=2.21.0 in /usr/local/lib/python3.7/site-packages (from tensorboard<2.10,>=2.9->tensorflow) (2.27.1)\n",
      "Collecting google-auth-oauthlib<0.5,>=0.4.1\n",
      "  Downloading google_auth_oauthlib-0.4.6-py2.py3-none-any.whl (18 kB)\n",
      "Collecting werkzeug>=1.0.1\n",
      "  Downloading Werkzeug-2.1.2-py3-none-any.whl (224 kB)\n",
      "     ━━━━━━━━━━━━━━━━━━━━━━━━━━━━━━━━━━━━━ 224.9/224.9 KB 271.0 MB/s eta 0:00:00\n",
      "Collecting tensorboard-plugin-wit>=1.6.0\n",
      "  Downloading tensorboard_plugin_wit-1.8.1-py3-none-any.whl (781 kB)\n",
      "     ━━━━━━━━━━━━━━━━━━━━━━━━━━━━━━━━━━━━━ 781.3/781.3 KB 197.2 MB/s eta 0:00:00\n",
      "Collecting markdown>=2.6.8\n",
      "  Downloading Markdown-3.3.7-py3-none-any.whl (97 kB)\n",
      "     ━━━━━━━━━━━━━━━━━━━━━━━━━━━━━━━━━━━━━━━ 97.8/97.8 KB 204.8 MB/s eta 0:00:00\n",
      "Requirement already satisfied: google-auth<3,>=1.6.3 in /usr/local/lib/python3.7/site-packages (from tensorboard<2.10,>=2.9->tensorflow) (1.35.0)\n",
      "Collecting tensorboard-data-server<0.7.0,>=0.6.0\n",
      "  Downloading tensorboard_data_server-0.6.1-py3-none-manylinux2010_x86_64.whl (4.9 MB)\n",
      "     ━━━━━━━━━━━━━━━━━━━━━━━━━━━━━━━━━━━━━━━━ 4.9/4.9 MB 139.0 MB/s eta 0:00:00\n",
      "Requirement already satisfied: pyparsing!=3.0.5,>=2.0.2 in /usr/local/lib/python3.7/site-packages (from packaging->tensorflow) (3.0.8)\n",
      "Requirement already satisfied: pyasn1-modules>=0.2.1 in /usr/local/lib/python3.7/site-packages (from google-auth<3,>=1.6.3->tensorboard<2.10,>=2.9->tensorflow) (0.2.8)\n",
      "Requirement already satisfied: rsa<5,>=3.1.4 in /usr/local/lib/python3.7/site-packages (from google-auth<3,>=1.6.3->tensorboard<2.10,>=2.9->tensorflow) (4.8)\n",
      "Requirement already satisfied: cachetools<5.0,>=2.0.0 in /usr/local/lib/python3.7/site-packages (from google-auth<3,>=1.6.3->tensorboard<2.10,>=2.9->tensorflow) (4.2.4)\n",
      "Requirement already satisfied: requests-oauthlib>=0.7.0 in /usr/local/lib/python3.7/site-packages (from google-auth-oauthlib<0.5,>=0.4.1->tensorboard<2.10,>=2.9->tensorflow) (1.3.1)\n",
      "Requirement already satisfied: importlib-metadata>=4.4 in /usr/local/lib/python3.7/site-packages (from markdown>=2.6.8->tensorboard<2.10,>=2.9->tensorflow) (4.11.3)\n",
      "Requirement already satisfied: charset-normalizer~=2.0.0 in /usr/local/lib/python3.7/site-packages (from requests<3,>=2.21.0->tensorboard<2.10,>=2.9->tensorflow) (2.0.12)\n",
      "Requirement already satisfied: urllib3<1.27,>=1.21.1 in /usr/local/lib/python3.7/site-packages (from requests<3,>=2.21.0->tensorboard<2.10,>=2.9->tensorflow) (1.26.9)\n",
      "Requirement already satisfied: certifi>=2017.4.17 in /usr/local/lib/python3.7/site-packages (from requests<3,>=2.21.0->tensorboard<2.10,>=2.9->tensorflow) (2021.10.8)\n",
      "Requirement already satisfied: idna<4,>=2.5 in /usr/local/lib/python3.7/site-packages (from requests<3,>=2.21.0->tensorboard<2.10,>=2.9->tensorflow) (3.3)\n",
      "Requirement already satisfied: zipp>=0.5 in /usr/local/lib/python3.7/site-packages (from importlib-metadata>=4.4->markdown>=2.6.8->tensorboard<2.10,>=2.9->tensorflow) (3.8.0)\n",
      "Requirement already satisfied: pyasn1<0.5.0,>=0.4.6 in /usr/local/lib/python3.7/site-packages (from pyasn1-modules>=0.2.1->google-auth<3,>=1.6.3->tensorboard<2.10,>=2.9->tensorflow) (0.4.8)\n",
      "Requirement already satisfied: oauthlib>=3.0.0 in /usr/local/lib/python3.7/site-packages (from requests-oauthlib>=0.7.0->google-auth-oauthlib<0.5,>=0.4.1->tensorboard<2.10,>=2.9->tensorflow) (3.2.0)\n",
      "Installing collected packages: tensorboard-plugin-wit, libclang, keras, flatbuffers, werkzeug, tensorflow-io-gcs-filesystem, tensorflow-estimator, tensorboard-data-server, protobuf, opt-einsum, keras-preprocessing, h5py, google-pasta, gast, astunparse, markdown, google-auth-oauthlib, tensorboard, tensorflow\n",
      "  Attempting uninstall: protobuf\n",
      "    Found existing installation: protobuf 3.20.1\n",
      "    Uninstalling protobuf-3.20.1:\n",
      "      Successfully uninstalled protobuf-3.20.1\n",
      "  Attempting uninstall: google-auth-oauthlib\n",
      "    Found existing installation: google-auth-oauthlib 0.5.1\n",
      "    Uninstalling google-auth-oauthlib-0.5.1:\n",
      "      Successfully uninstalled google-auth-oauthlib-0.5.1\n",
      "Successfully installed astunparse-1.6.3 flatbuffers-1.12 gast-0.4.0 google-auth-oauthlib-0.4.6 google-pasta-0.2.0 h5py-3.7.0 keras-2.9.0 keras-preprocessing-1.1.2 libclang-14.0.1 markdown-3.3.7 opt-einsum-3.3.0 protobuf-3.19.4 tensorboard-2.9.1 tensorboard-data-server-0.6.1 tensorboard-plugin-wit-1.8.1 tensorflow-2.9.1 tensorflow-estimator-2.9.0 tensorflow-io-gcs-filesystem-0.26.0 werkzeug-2.1.2\n",
      "WARNING: Running pip as the 'root' user can result in broken permissions and conflicting behaviour with the system package manager. It is recommended to use a virtual environment instead: https://pip.pypa.io/warnings/venv\n",
      "WARNING: You are using pip version 22.0.3; however, version 22.1.2 is available.\n",
      "You should consider upgrading via the '/usr/local/bin/python -m pip install --upgrade pip' command.\n",
      "\u001b[36mINFO\u001b[0m[0077] Taking snapshot of full filesystem...        \n",
      "\u001b[36mINFO\u001b[0m[0118] Pushing image to docker-registry.default-tenant.app.cust-cs-3-2-3.iguazio-cd2.com:80/mlrun/func-tensorflow-test-train:latest \n",
      "\u001b[36mINFO\u001b[0m[0121] Pushed image to 1 destinations               \n",
      "\n"
     ]
    },
    {
     "data": {
      "text/plain": [
       "True"
      ]
     },
     "execution_count": 13,
     "metadata": {},
     "output_type": "execute_result"
    }
   ],
   "source": [
    "train_func.deploy()"
   ]
  },
  {
   "cell_type": "code",
   "execution_count": 14,
   "metadata": {},
   "outputs": [
    {
     "name": "stdout",
     "output_type": "stream",
     "text": [
      "> 2022-06-13 11:29:01,606 [info] starting run train-train_model uid=1d48e4afb88545828169c14b171790db DB=http://mlrun-api:8080\n",
      "> 2022-06-13 11:29:01,909 [info] Job is running in the background, pod: train-train-model-wmt57\n",
      "2022-06-13 11:29:25.589090: W tensorflow/stream_executor/platform/default/dso_loader.cc:64] Could not load dynamic library 'libcudart.so.11.0'; dlerror: libcudart.so.11.0: cannot open shared object file: No such file or directory\n",
      "2022-06-13 11:29:25.589128: I tensorflow/stream_executor/cuda/cudart_stub.cc:29] Ignore above cudart dlerror if you do not have a GPU set up on your machine.\n",
      "2022-06-13 11:29:28.653655: W tensorflow/stream_executor/platform/default/dso_loader.cc:64] Could not load dynamic library 'libcuda.so.1'; dlerror: libcuda.so.1: cannot open shared object file: No such file or directory\n",
      "2022-06-13 11:29:28.653694: W tensorflow/stream_executor/cuda/cuda_driver.cc:269] failed call to cuInit: UNKNOWN ERROR (303)\n",
      "2022-06-13 11:29:28.653714: I tensorflow/stream_executor/cuda/cuda_diagnostics.cc:156] kernel driver does not appear to be running on this host (train-train-model-wmt57): /proc/driver/nvidia/version does not exist\n",
      "2022-06-13 11:29:28.653949: I tensorflow/core/platform/cpu_feature_guard.cc:193] This TensorFlow binary is optimized with oneAPI Deep Neural Network Library (oneDNN) to use the following CPU instructions in performance-critical operations:  AVX2 AVX512F FMA\n",
      "To enable them in other operations, rebuild TensorFlow with the appropriate compiler flags.\n",
      "4/4 [==============================] - 0s 1ms/step - loss: 0.2523\n",
      "> 2022-06-13 11:29:29,885 [info] run executed, status=completed\n",
      "final state: completed\n"
     ]
    },
    {
     "data": {
      "text/html": [
       "<style>\n",
       ".dictlist {\n",
       "  background-color: #4EC64B;\n",
       "  text-align: center;\n",
       "  margin: 4px;\n",
       "  border-radius: 3px; padding: 0px 3px 1px 3px; display: inline-block;}\n",
       ".artifact {\n",
       "  cursor: pointer;\n",
       "  background-color: #4EC64B;\n",
       "  text-align: left;\n",
       "  margin: 4px; border-radius: 3px; padding: 0px 3px 1px 3px; display: inline-block;\n",
       "}\n",
       "div.block.hidden {\n",
       "  display: none;\n",
       "}\n",
       ".clickable {\n",
       "  cursor: pointer;\n",
       "}\n",
       ".ellipsis {\n",
       "  display: inline-block;\n",
       "  max-width: 60px;\n",
       "  white-space: nowrap;\n",
       "  overflow: hidden;\n",
       "  text-overflow: ellipsis;\n",
       "}\n",
       ".master-wrapper {\n",
       "  display: flex;\n",
       "  flex-flow: row nowrap;\n",
       "  justify-content: flex-start;\n",
       "  align-items: stretch;\n",
       "}\n",
       ".master-tbl {\n",
       "  flex: 3\n",
       "}\n",
       ".master-wrapper > div {\n",
       "  margin: 4px;\n",
       "  padding: 10px;\n",
       "}\n",
       "iframe.fileview {\n",
       "  border: 0 none;\n",
       "  height: 100%;\n",
       "  width: 100%;\n",
       "  white-space: pre-wrap;\n",
       "}\n",
       ".pane-header-title {\n",
       "  width: 80%;\n",
       "  font-weight: 500;\n",
       "}\n",
       ".pane-header {\n",
       "  line-height: 1;\n",
       "  background-color: #4EC64B;\n",
       "  padding: 3px;\n",
       "}\n",
       ".pane-header .close {\n",
       "  font-size: 20px;\n",
       "  font-weight: 700;\n",
       "  float: right;\n",
       "  margin-top: -5px;\n",
       "}\n",
       ".master-wrapper .right-pane {\n",
       "  border: 1px inset silver;\n",
       "  width: 40%;\n",
       "  min-height: 300px;\n",
       "  flex: 3\n",
       "  min-width: 500px;\n",
       "}\n",
       ".master-wrapper * {\n",
       "  box-sizing: border-box;\n",
       "}\n",
       "</style><script>\n",
       "function copyToClipboard(fld) {\n",
       "    if (document.queryCommandSupported && document.queryCommandSupported('copy')) {\n",
       "        var textarea = document.createElement('textarea');\n",
       "        textarea.textContent = fld.innerHTML;\n",
       "        textarea.style.position = 'fixed';\n",
       "        document.body.appendChild(textarea);\n",
       "        textarea.select();\n",
       "\n",
       "        try {\n",
       "            return document.execCommand('copy'); // Security exception may be thrown by some browsers.\n",
       "        } catch (ex) {\n",
       "\n",
       "        } finally {\n",
       "            document.body.removeChild(textarea);\n",
       "        }\n",
       "    }\n",
       "}\n",
       "function expandPanel(el) {\n",
       "  const panelName = \"#\" + el.getAttribute('paneName');\n",
       "  console.log(el.title);\n",
       "\n",
       "  document.querySelector(panelName + \"-title\").innerHTML = el.title\n",
       "  iframe = document.querySelector(panelName + \"-body\");\n",
       "\n",
       "  const tblcss = `<style> body { font-family: Arial, Helvetica, sans-serif;}\n",
       "    #csv { margin-bottom: 15px; }\n",
       "    #csv table { border-collapse: collapse;}\n",
       "    #csv table td { padding: 4px 8px; border: 1px solid silver;} </style>`;\n",
       "\n",
       "  function csvToHtmlTable(str) {\n",
       "    return '<div id=\"csv\"><table><tr><td>' +  str.replace(/[\\n\\r]+$/g, '').replace(/[\\n\\r]+/g, '</td></tr><tr><td>')\n",
       "      .replace(/,/g, '</td><td>') + '</td></tr></table></div>';\n",
       "  }\n",
       "\n",
       "  function reqListener () {\n",
       "    if (el.title.endsWith(\".csv\")) {\n",
       "      iframe.setAttribute(\"srcdoc\", tblcss + csvToHtmlTable(this.responseText));\n",
       "    } else {\n",
       "      iframe.setAttribute(\"srcdoc\", this.responseText);\n",
       "    }\n",
       "    console.log(this.responseText);\n",
       "  }\n",
       "\n",
       "  const oReq = new XMLHttpRequest();\n",
       "  oReq.addEventListener(\"load\", reqListener);\n",
       "  oReq.open(\"GET\", el.title);\n",
       "  oReq.send();\n",
       "\n",
       "\n",
       "  //iframe.src = el.title;\n",
       "  const resultPane = document.querySelector(panelName + \"-pane\");\n",
       "  if (resultPane.classList.contains(\"hidden\")) {\n",
       "    resultPane.classList.remove(\"hidden\");\n",
       "  }\n",
       "}\n",
       "function closePanel(el) {\n",
       "  const panelName = \"#\" + el.getAttribute('paneName')\n",
       "  const resultPane = document.querySelector(panelName + \"-pane\");\n",
       "  if (!resultPane.classList.contains(\"hidden\")) {\n",
       "    resultPane.classList.add(\"hidden\");\n",
       "  }\n",
       "}\n",
       "\n",
       "</script>\n",
       "<div class=\"master-wrapper\">\n",
       "  <div class=\"block master-tbl\"><div>\n",
       "<style scoped>\n",
       "    .dataframe tbody tr th:only-of-type {\n",
       "        vertical-align: middle;\n",
       "    }\n",
       "\n",
       "    .dataframe tbody tr th {\n",
       "        vertical-align: top;\n",
       "    }\n",
       "\n",
       "    .dataframe thead th {\n",
       "        text-align: right;\n",
       "    }\n",
       "</style>\n",
       "<table border=\"1\" class=\"dataframe\">\n",
       "  <thead>\n",
       "    <tr style=\"text-align: right;\">\n",
       "      <th>project</th>\n",
       "      <th>uid</th>\n",
       "      <th>iter</th>\n",
       "      <th>start</th>\n",
       "      <th>state</th>\n",
       "      <th>name</th>\n",
       "      <th>labels</th>\n",
       "      <th>inputs</th>\n",
       "      <th>parameters</th>\n",
       "      <th>results</th>\n",
       "      <th>artifacts</th>\n",
       "    </tr>\n",
       "  </thead>\n",
       "  <tbody>\n",
       "    <tr>\n",
       "      <td>tensorflow-test</td>\n",
       "      <td><div title=\"1d48e4afb88545828169c14b171790db\"><a href=\"https://dashboard.default-tenant.app.cust-cs-3-2-3.iguazio-cd2.com/mlprojects/tensorflow-test/jobs/monitor/1d48e4afb88545828169c14b171790db/overview\" target=\"_blank\" >...171790db</a></div></td>\n",
       "      <td>0</td>\n",
       "      <td>Jun 13 11:29:25</td>\n",
       "      <td>completed</td>\n",
       "      <td>train-train_model</td>\n",
       "      <td><div class=\"dictlist\">v3io_user=Gilad</div><div class=\"dictlist\">kind=job</div><div class=\"dictlist\">owner=Gilad</div><div class=\"dictlist\">mlrun/client_version=1.1.0-rc2</div><div class=\"dictlist\">host=train-train-model-wmt57</div></td>\n",
       "      <td></td>\n",
       "      <td></td>\n",
       "      <td></td>\n",
       "      <td><div title=\"v3io:///projects/tensorflow-test/artifacts/\">model_pkl</div><div title=\"v3io:///projects/tensorflow-test/artifacts/\">model_H5</div><div title=\"v3io:///projects/tensorflow-test/artifacts/\">model_ZIP</div></td>\n",
       "    </tr>\n",
       "  </tbody>\n",
       "</table>\n",
       "</div></div>\n",
       "  <div id=\"resultf7b41da6-pane\" class=\"right-pane block hidden\">\n",
       "    <div class=\"pane-header\">\n",
       "      <span id=\"resultf7b41da6-title\" class=\"pane-header-title\">Title</span>\n",
       "      <span onclick=\"closePanel(this)\" paneName=\"resultf7b41da6\" class=\"close clickable\">&times;</span>\n",
       "    </div>\n",
       "    <iframe class=\"fileview\" id=\"resultf7b41da6-body\"></iframe>\n",
       "  </div>\n",
       "</div>\n"
      ],
      "text/plain": [
       "<IPython.core.display.HTML object>"
      ]
     },
     "metadata": {},
     "output_type": "display_data"
    },
    {
     "name": "stdout",
     "output_type": "stream",
     "text": [
      "\n"
     ]
    },
    {
     "data": {
      "text/html": [
       "<b> > to track results use the .show() or .logs() methods  or <a href=\"https://dashboard.default-tenant.app.cust-cs-3-2-3.iguazio-cd2.com/mlprojects/tensorflow-test/jobs/monitor/1d48e4afb88545828169c14b171790db/overview\" target=\"_blank\">click here</a> to open in UI</b>"
      ],
      "text/plain": [
       "<IPython.core.display.HTML object>"
      ]
     },
     "metadata": {},
     "output_type": "display_data"
    },
    {
     "name": "stdout",
     "output_type": "stream",
     "text": [
      "> 2022-06-13 11:29:31,388 [info] run executed, status=completed\n"
     ]
    }
   ],
   "source": [
    "train_func_run = train_func.run(handler='train_model')"
   ]
  },
  {
   "cell_type": "code",
   "execution_count": 16,
   "metadata": {},
   "outputs": [
    {
     "data": {
      "text/plain": [
       "{'model_pkl': 'store://artifacts/tensorflow-test/train-train_model_model_pkl:1d48e4afb88545828169c14b171790db',\n",
       " 'model_H5': 'store://artifacts/tensorflow-test/train-train_model_model_H5:1d48e4afb88545828169c14b171790db',\n",
       " 'model_ZIP': 'store://artifacts/tensorflow-test/train-train_model_model_ZIP:1d48e4afb88545828169c14b171790db'}"
      ]
     },
     "execution_count": 16,
     "metadata": {},
     "output_type": "execute_result"
    }
   ],
   "source": [
    "train_func_run.outputs"
   ]
  },
  {
   "cell_type": "code",
   "execution_count": 18,
   "metadata": {},
   "outputs": [],
   "source": [
    "# Convert testing values to list\n",
    "test_input = np.random.random((128, 32))\n",
    "test_input_list = test_input.tolist()"
   ]
  },
  {
   "cell_type": "markdown",
   "metadata": {},
   "source": [
    "#### Serving fucntion - PKL model"
   ]
  },
  {
   "cell_type": "code",
   "execution_count": 21,
   "metadata": {},
   "outputs": [],
   "source": [
    "fn_pkl = mlrun.code_to_function('serving_pkl',kind='serving',image='mlrun/mlrun',filename='/User/test_model/simple-serving.ipynb').apply(mlrun.auto_mount())"
   ]
  },
  {
   "cell_type": "code",
   "execution_count": 22,
   "metadata": {},
   "outputs": [
    {
     "name": "stdout",
     "output_type": "stream",
     "text": [
      "> 2022-06-13 11:32:11,368 [info] Starting remote function deploy\n",
      "2022-06-13 11:32:11  (info) Deploying function\n",
      "2022-06-13 11:32:11  (info) Building\n",
      "2022-06-13 11:32:11  (info) Staging files and preparing base images\n",
      "2022-06-13 11:32:11  (info) Building processor image\n",
      "2022-06-13 11:32:13  (info) Build complete\n",
      "2022-06-13 11:32:24  (info) Function deploy complete\n",
      "> 2022-06-13 11:32:24,571 [info] successfully deployed function: {'internal_invocation_urls': ['nuclio-tensorflow-test-serving-pkl.default-tenant.svc.cluster.local:8080'], 'external_invocation_urls': ['tensorflow-test-serving-pkl-tensorflow-test.default-tenant.app.cust-cs-3-2-3.iguazio-cd2.com/']}\n"
     ]
    },
    {
     "data": {
      "text/plain": [
       "'http://tensorflow-test-serving-pkl-tensorflow-test.default-tenant.app.cust-cs-3-2-3.iguazio-cd2.com/'"
      ]
     },
     "execution_count": 22,
     "metadata": {},
     "output_type": "execute_result"
    }
   ],
   "source": [
    "fn_pkl.spec.build.commands = ['pip install tensorflow']\n",
    "fn_pkl.spec.default_class = 'LGBMModel'\n",
    "fn_pkl.add_model('model', model_path=train_func_run.outputs['model_pkl'])\n",
    "fn_pkl.deploy()"
   ]
  },
  {
   "cell_type": "code",
   "execution_count": 23,
   "metadata": {
    "collapsed": true,
    "jupyter": {
     "outputs_hidden": true
    }
   },
   "outputs": [
    {
     "name": "stdout",
     "output_type": "stream",
     "text": [
      "> 2022-06-13 11:32:24,633 [info] invoking function: {'method': 'POST', 'path': 'http://nuclio-tensorflow-test-serving-pkl.default-tenant.svc.cluster.local:8080/'}\n"
     ]
    },
    {
     "data": {
      "text/plain": [
       "{'id': 'dcf32233-0b56-4a03-859c-1158f184b275',\n",
       " 'model_name': 'model',\n",
       " 'outputs': [[0.6457709074020386],\n",
       "  [0.3505076766014099],\n",
       "  [0.7336713671684265],\n",
       "  [-0.002282093046233058],\n",
       "  [-0.3707636296749115],\n",
       "  [0.7299971580505371],\n",
       "  [0.7980213165283203],\n",
       "  [0.6002212166786194],\n",
       "  [1.0577343702316284],\n",
       "  [0.3635205924510956],\n",
       "  [0.5699422359466553],\n",
       "  [0.5187493562698364],\n",
       "  [0.9299994707107544],\n",
       "  [0.2857763171195984],\n",
       "  [0.7161521911621094],\n",
       "  [1.2379575967788696],\n",
       "  [0.389924019575119],\n",
       "  [1.1203181743621826],\n",
       "  [0.8205033540725708],\n",
       "  [1.1069856882095337],\n",
       "  [0.939710259437561],\n",
       "  [-0.3353555500507355],\n",
       "  [0.8677443861961365],\n",
       "  [1.3439304828643799],\n",
       "  [0.005220246501266956],\n",
       "  [0.4797010123729706],\n",
       "  [-0.0459219254553318],\n",
       "  [0.9018067121505737],\n",
       "  [0.31900596618652344],\n",
       "  [0.09733134508132935],\n",
       "  [0.6943255662918091],\n",
       "  [1.178907871246338],\n",
       "  [0.4861893355846405],\n",
       "  [0.6909226179122925],\n",
       "  [0.6074321269989014],\n",
       "  [-0.04522663727402687],\n",
       "  [-0.0888424962759018],\n",
       "  [0.06282749772071838],\n",
       "  [1.022066354751587],\n",
       "  [0.4035913050174713],\n",
       "  [0.38849732279777527],\n",
       "  [0.6257267594337463],\n",
       "  [0.7273190021514893],\n",
       "  [0.30668002367019653],\n",
       "  [1.3572585582733154],\n",
       "  [0.2948707044124603],\n",
       "  [0.428440123796463],\n",
       "  [0.924976646900177],\n",
       "  [0.6661264896392822],\n",
       "  [0.4662508964538574],\n",
       "  [0.4457259178161621],\n",
       "  [0.6983940601348877],\n",
       "  [1.0165815353393555],\n",
       "  [0.7715440392494202],\n",
       "  [-0.3155553340911865],\n",
       "  [0.5896295309066772],\n",
       "  [0.6440035104751587],\n",
       "  [0.7320380210876465],\n",
       "  [1.0909045934677124],\n",
       "  [0.30626168847084045],\n",
       "  [0.8524744510650635],\n",
       "  [0.5447901487350464],\n",
       "  [0.5927708148956299],\n",
       "  [-0.0016774411778897047],\n",
       "  [1.0034531354904175],\n",
       "  [0.23378273844718933],\n",
       "  [0.5755340456962585],\n",
       "  [0.6443306803703308],\n",
       "  [1.1279067993164062],\n",
       "  [0.589059591293335],\n",
       "  [0.7548123598098755],\n",
       "  [0.09896358847618103],\n",
       "  [0.8888430595397949],\n",
       "  [0.3620958924293518],\n",
       "  [0.7638389468193054],\n",
       "  [0.14616863429546356],\n",
       "  [0.5219932794570923],\n",
       "  [1.1999708414077759],\n",
       "  [0.5197250843048096],\n",
       "  [0.1143551617860794],\n",
       "  [0.0815071314573288],\n",
       "  [0.852230429649353],\n",
       "  [0.312305748462677],\n",
       "  [0.9849207997322083],\n",
       "  [1.1180375814437866],\n",
       "  [0.6330550909042358],\n",
       "  [0.8838075995445251],\n",
       "  [1.0708016157150269],\n",
       "  [0.11420072615146637],\n",
       "  [0.40256959199905396],\n",
       "  [0.5330849885940552],\n",
       "  [0.9115957617759705],\n",
       "  [0.8775051832199097],\n",
       "  [0.3741350769996643],\n",
       "  [0.4934847354888916],\n",
       "  [0.8344286680221558],\n",
       "  [0.15368300676345825],\n",
       "  [0.49583449959754944],\n",
       "  [0.05313647910952568],\n",
       "  [0.7777106165885925],\n",
       "  [0.3835674226284027],\n",
       "  [0.5535188913345337],\n",
       "  [0.8036455512046814],\n",
       "  [0.8763389587402344],\n",
       "  [-0.46941104531288147],\n",
       "  [0.8176236152648926],\n",
       "  [0.601636528968811],\n",
       "  [-0.07092197239398956],\n",
       "  [0.8365180492401123],\n",
       "  [0.019656574353575706],\n",
       "  [0.915076732635498],\n",
       "  [-0.18568788468837738],\n",
       "  [-0.011060717515647411],\n",
       "  [0.5188364386558533],\n",
       "  [-0.34367886185646057],\n",
       "  [0.9384796023368835],\n",
       "  [0.12061896920204163],\n",
       "  [0.8956427574157715],\n",
       "  [0.5180106163024902],\n",
       "  [1.0702428817749023],\n",
       "  [0.5775721669197083],\n",
       "  [-0.3525656461715698],\n",
       "  [-0.01650048978626728],\n",
       "  [0.40023064613342285],\n",
       "  [0.8018451929092407],\n",
       "  [0.7687817811965942],\n",
       "  [-0.05158362165093422],\n",
       "  [1.1599304676055908]]}"
      ]
     },
     "execution_count": 23,
     "metadata": {},
     "output_type": "execute_result"
    }
   ],
   "source": [
    "my_data = {\"inputs\":test_input_list}\n",
    "fn_pkl.invoke('/',my_data)"
   ]
  },
  {
   "cell_type": "markdown",
   "metadata": {},
   "source": [
    "#### Serving fucntion - H5 model"
   ]
  },
  {
   "cell_type": "code",
   "execution_count": 24,
   "metadata": {},
   "outputs": [],
   "source": [
    "fn_h5 = mlrun.code_to_function('serving_H5',kind='serving',image='mlrun/mlrun',filename='/User/test_model/serving-h5.ipynb').apply(mlrun.auto_mount())"
   ]
  },
  {
   "cell_type": "code",
   "execution_count": 25,
   "metadata": {},
   "outputs": [
    {
     "name": "stdout",
     "output_type": "stream",
     "text": [
      "> 2022-06-13 11:32:34,041 [info] Starting remote function deploy\n",
      "2022-06-13 11:32:34  (info) Deploying function\n",
      "2022-06-13 11:32:34  (info) Building\n",
      "2022-06-13 11:32:34  (info) Staging files and preparing base images\n",
      "2022-06-13 11:32:34  (info) Building processor image\n",
      "2022-06-13 11:32:35  (info) Build complete\n",
      "2022-06-13 11:32:46  (info) Function deploy complete\n",
      "> 2022-06-13 11:32:47,374 [info] successfully deployed function: {'internal_invocation_urls': ['nuclio-tensorflow-test-serving-h5.default-tenant.svc.cluster.local:8080'], 'external_invocation_urls': ['tensorflow-test-serving-h5-tensorflow-test.default-tenant.app.cust-cs-3-2-3.iguazio-cd2.com/']}\n"
     ]
    },
    {
     "data": {
      "text/plain": [
       "'http://tensorflow-test-serving-h5-tensorflow-test.default-tenant.app.cust-cs-3-2-3.iguazio-cd2.com/'"
      ]
     },
     "execution_count": 25,
     "metadata": {},
     "output_type": "execute_result"
    }
   ],
   "source": [
    "fn_h5.spec.build.commands = ['pip install tensorflow']\n",
    "fn_h5.spec.default_class = 'H5Server'\n",
    "fn_h5.add_model('model_h5', model_path=train_func_run.outputs['model_H5'])\n",
    "fn_h5.deploy()"
   ]
  },
  {
   "cell_type": "code",
   "execution_count": 26,
   "metadata": {
    "collapsed": true,
    "jupyter": {
     "outputs_hidden": true
    }
   },
   "outputs": [
    {
     "name": "stdout",
     "output_type": "stream",
     "text": [
      "> 2022-06-13 11:32:47,445 [info] invoking function: {'method': 'POST', 'path': 'http://nuclio-tensorflow-test-serving-h5.default-tenant.svc.cluster.local:8080/'}\n"
     ]
    },
    {
     "data": {
      "text/plain": [
       "{'id': '8527e232-0f3c-40fc-8847-d3a7224b2cf1',\n",
       " 'model_name': 'model_h5',\n",
       " 'outputs': [[0.6457709074020386],\n",
       "  [0.3505076766014099],\n",
       "  [0.7336713671684265],\n",
       "  [-0.002282093046233058],\n",
       "  [-0.3707636296749115],\n",
       "  [0.7299971580505371],\n",
       "  [0.7980213165283203],\n",
       "  [0.6002212166786194],\n",
       "  [1.0577343702316284],\n",
       "  [0.3635205924510956],\n",
       "  [0.5699422359466553],\n",
       "  [0.5187493562698364],\n",
       "  [0.9299994707107544],\n",
       "  [0.2857763171195984],\n",
       "  [0.7161521911621094],\n",
       "  [1.2379575967788696],\n",
       "  [0.389924019575119],\n",
       "  [1.1203181743621826],\n",
       "  [0.8205033540725708],\n",
       "  [1.1069856882095337],\n",
       "  [0.939710259437561],\n",
       "  [-0.3353555500507355],\n",
       "  [0.8677443861961365],\n",
       "  [1.3439304828643799],\n",
       "  [0.005220246501266956],\n",
       "  [0.4797010123729706],\n",
       "  [-0.0459219254553318],\n",
       "  [0.9018067121505737],\n",
       "  [0.31900596618652344],\n",
       "  [0.09733134508132935],\n",
       "  [0.6943255662918091],\n",
       "  [1.178907871246338],\n",
       "  [0.4861893355846405],\n",
       "  [0.6909226179122925],\n",
       "  [0.6074321269989014],\n",
       "  [-0.04522663727402687],\n",
       "  [-0.0888424962759018],\n",
       "  [0.06282749772071838],\n",
       "  [1.022066354751587],\n",
       "  [0.4035913050174713],\n",
       "  [0.38849732279777527],\n",
       "  [0.6257267594337463],\n",
       "  [0.7273190021514893],\n",
       "  [0.30668002367019653],\n",
       "  [1.3572585582733154],\n",
       "  [0.2948707044124603],\n",
       "  [0.428440123796463],\n",
       "  [0.924976646900177],\n",
       "  [0.6661264896392822],\n",
       "  [0.4662508964538574],\n",
       "  [0.4457259178161621],\n",
       "  [0.6983940601348877],\n",
       "  [1.0165815353393555],\n",
       "  [0.7715440392494202],\n",
       "  [-0.3155553340911865],\n",
       "  [0.5896295309066772],\n",
       "  [0.6440035104751587],\n",
       "  [0.7320380210876465],\n",
       "  [1.0909045934677124],\n",
       "  [0.30626168847084045],\n",
       "  [0.8524744510650635],\n",
       "  [0.5447901487350464],\n",
       "  [0.5927708148956299],\n",
       "  [-0.0016774411778897047],\n",
       "  [1.0034531354904175],\n",
       "  [0.23378273844718933],\n",
       "  [0.5755340456962585],\n",
       "  [0.6443306803703308],\n",
       "  [1.1279067993164062],\n",
       "  [0.589059591293335],\n",
       "  [0.7548123598098755],\n",
       "  [0.09896358847618103],\n",
       "  [0.8888430595397949],\n",
       "  [0.3620958924293518],\n",
       "  [0.7638389468193054],\n",
       "  [0.14616863429546356],\n",
       "  [0.5219932794570923],\n",
       "  [1.1999708414077759],\n",
       "  [0.5197250843048096],\n",
       "  [0.1143551617860794],\n",
       "  [0.0815071314573288],\n",
       "  [0.852230429649353],\n",
       "  [0.312305748462677],\n",
       "  [0.9849207997322083],\n",
       "  [1.1180375814437866],\n",
       "  [0.6330550909042358],\n",
       "  [0.8838075995445251],\n",
       "  [1.0708016157150269],\n",
       "  [0.11420072615146637],\n",
       "  [0.40256959199905396],\n",
       "  [0.5330849885940552],\n",
       "  [0.9115957617759705],\n",
       "  [0.8775051832199097],\n",
       "  [0.3741350769996643],\n",
       "  [0.4934847354888916],\n",
       "  [0.8344286680221558],\n",
       "  [0.15368300676345825],\n",
       "  [0.49583449959754944],\n",
       "  [0.05313647910952568],\n",
       "  [0.7777106165885925],\n",
       "  [0.3835674226284027],\n",
       "  [0.5535188913345337],\n",
       "  [0.8036455512046814],\n",
       "  [0.8763389587402344],\n",
       "  [-0.46941104531288147],\n",
       "  [0.8176236152648926],\n",
       "  [0.601636528968811],\n",
       "  [-0.07092197239398956],\n",
       "  [0.8365180492401123],\n",
       "  [0.019656574353575706],\n",
       "  [0.915076732635498],\n",
       "  [-0.18568788468837738],\n",
       "  [-0.011060717515647411],\n",
       "  [0.5188364386558533],\n",
       "  [-0.34367886185646057],\n",
       "  [0.9384796023368835],\n",
       "  [0.12061896920204163],\n",
       "  [0.8956427574157715],\n",
       "  [0.5180106163024902],\n",
       "  [1.0702428817749023],\n",
       "  [0.5775721669197083],\n",
       "  [-0.3525656461715698],\n",
       "  [-0.01650048978626728],\n",
       "  [0.40023064613342285],\n",
       "  [0.8018451929092407],\n",
       "  [0.7687817811965942],\n",
       "  [-0.05158362165093422],\n",
       "  [1.1599304676055908]]}"
      ]
     },
     "execution_count": 26,
     "metadata": {},
     "output_type": "execute_result"
    }
   ],
   "source": [
    "my_data = {\"inputs\":test_input_list}\n",
    "fn_h5.invoke('/',my_data)"
   ]
  },
  {
   "cell_type": "markdown",
   "metadata": {},
   "source": [
    "#### Serving fucntion - Zip file"
   ]
  },
  {
   "cell_type": "code",
   "execution_count": 27,
   "metadata": {},
   "outputs": [],
   "source": [
    "fn_zip = mlrun.code_to_function('serving_ZIP',kind='serving',image='mlrun/mlrun',filename='/User/test_model/serving-zip.ipynb').apply(mlrun.auto_mount())"
   ]
  },
  {
   "cell_type": "code",
   "execution_count": 28,
   "metadata": {},
   "outputs": [
    {
     "name": "stdout",
     "output_type": "stream",
     "text": [
      "> 2022-06-13 11:32:56,659 [info] Starting remote function deploy\n",
      "2022-06-13 11:32:56  (info) Deploying function\n",
      "2022-06-13 11:32:56  (info) Building\n",
      "2022-06-13 11:32:56  (info) Staging files and preparing base images\n",
      "2022-06-13 11:32:56  (info) Building processor image\n",
      "2022-06-13 11:32:58  (info) Build complete\n",
      "2022-06-13 11:33:09  (info) Function deploy complete\n",
      "> 2022-06-13 11:33:09,921 [info] successfully deployed function: {'internal_invocation_urls': ['nuclio-tensorflow-test-serving-zip.default-tenant.svc.cluster.local:8080'], 'external_invocation_urls': ['tensorflow-test-serving-zip-tensorflow-test.default-tenant.app.cust-cs-3-2-3.iguazio-cd2.com/']}\n"
     ]
    },
    {
     "data": {
      "text/plain": [
       "'http://tensorflow-test-serving-zip-tensorflow-test.default-tenant.app.cust-cs-3-2-3.iguazio-cd2.com/'"
      ]
     },
     "execution_count": 28,
     "metadata": {},
     "output_type": "execute_result"
    }
   ],
   "source": [
    "fn_zip.spec.build.commands = ['pip install tensorflow']\n",
    "fn_zip.spec.default_class = 'ZIPServer'\n",
    "fn_zip.add_model('model_zip', model_path=train_func_run.outputs['model_ZIP'])\n",
    "fn_zip.deploy()"
   ]
  },
  {
   "cell_type": "code",
   "execution_count": 29,
   "metadata": {},
   "outputs": [
    {
     "name": "stdout",
     "output_type": "stream",
     "text": [
      "> 2022-06-13 11:33:09,983 [info] invoking function: {'method': 'POST', 'path': 'http://nuclio-tensorflow-test-serving-h5.default-tenant.svc.cluster.local:8080/'}\n"
     ]
    },
    {
     "data": {
      "text/plain": [
       "{'id': 'e55bf67e-e700-4128-8e9d-d863de4b57ab',\n",
       " 'model_name': 'model_h5',\n",
       " 'outputs': [[0.6457709074020386],\n",
       "  [0.3505076766014099],\n",
       "  [0.7336713671684265],\n",
       "  [-0.002282093046233058],\n",
       "  [-0.3707636296749115],\n",
       "  [0.7299971580505371],\n",
       "  [0.7980213165283203],\n",
       "  [0.6002212166786194],\n",
       "  [1.0577343702316284],\n",
       "  [0.3635205924510956],\n",
       "  [0.5699422359466553],\n",
       "  [0.5187493562698364],\n",
       "  [0.9299994707107544],\n",
       "  [0.2857763171195984],\n",
       "  [0.7161521911621094],\n",
       "  [1.2379575967788696],\n",
       "  [0.389924019575119],\n",
       "  [1.1203181743621826],\n",
       "  [0.8205033540725708],\n",
       "  [1.1069856882095337],\n",
       "  [0.939710259437561],\n",
       "  [-0.3353555500507355],\n",
       "  [0.8677443861961365],\n",
       "  [1.3439304828643799],\n",
       "  [0.005220246501266956],\n",
       "  [0.4797010123729706],\n",
       "  [-0.0459219254553318],\n",
       "  [0.9018067121505737],\n",
       "  [0.31900596618652344],\n",
       "  [0.09733134508132935],\n",
       "  [0.6943255662918091],\n",
       "  [1.178907871246338],\n",
       "  [0.4861893355846405],\n",
       "  [0.6909226179122925],\n",
       "  [0.6074321269989014],\n",
       "  [-0.04522663727402687],\n",
       "  [-0.0888424962759018],\n",
       "  [0.06282749772071838],\n",
       "  [1.022066354751587],\n",
       "  [0.4035913050174713],\n",
       "  [0.38849732279777527],\n",
       "  [0.6257267594337463],\n",
       "  [0.7273190021514893],\n",
       "  [0.30668002367019653],\n",
       "  [1.3572585582733154],\n",
       "  [0.2948707044124603],\n",
       "  [0.428440123796463],\n",
       "  [0.924976646900177],\n",
       "  [0.6661264896392822],\n",
       "  [0.4662508964538574],\n",
       "  [0.4457259178161621],\n",
       "  [0.6983940601348877],\n",
       "  [1.0165815353393555],\n",
       "  [0.7715440392494202],\n",
       "  [-0.3155553340911865],\n",
       "  [0.5896295309066772],\n",
       "  [0.6440035104751587],\n",
       "  [0.7320380210876465],\n",
       "  [1.0909045934677124],\n",
       "  [0.30626168847084045],\n",
       "  [0.8524744510650635],\n",
       "  [0.5447901487350464],\n",
       "  [0.5927708148956299],\n",
       "  [-0.0016774411778897047],\n",
       "  [1.0034531354904175],\n",
       "  [0.23378273844718933],\n",
       "  [0.5755340456962585],\n",
       "  [0.6443306803703308],\n",
       "  [1.1279067993164062],\n",
       "  [0.589059591293335],\n",
       "  [0.7548123598098755],\n",
       "  [0.09896358847618103],\n",
       "  [0.8888430595397949],\n",
       "  [0.3620958924293518],\n",
       "  [0.7638389468193054],\n",
       "  [0.14616863429546356],\n",
       "  [0.5219932794570923],\n",
       "  [1.1999708414077759],\n",
       "  [0.5197250843048096],\n",
       "  [0.1143551617860794],\n",
       "  [0.0815071314573288],\n",
       "  [0.852230429649353],\n",
       "  [0.312305748462677],\n",
       "  [0.9849207997322083],\n",
       "  [1.1180375814437866],\n",
       "  [0.6330550909042358],\n",
       "  [0.8838075995445251],\n",
       "  [1.0708016157150269],\n",
       "  [0.11420072615146637],\n",
       "  [0.40256959199905396],\n",
       "  [0.5330849885940552],\n",
       "  [0.9115957617759705],\n",
       "  [0.8775051832199097],\n",
       "  [0.3741350769996643],\n",
       "  [0.4934847354888916],\n",
       "  [0.8344286680221558],\n",
       "  [0.15368300676345825],\n",
       "  [0.49583449959754944],\n",
       "  [0.05313647910952568],\n",
       "  [0.7777106165885925],\n",
       "  [0.3835674226284027],\n",
       "  [0.5535188913345337],\n",
       "  [0.8036455512046814],\n",
       "  [0.8763389587402344],\n",
       "  [-0.46941104531288147],\n",
       "  [0.8176236152648926],\n",
       "  [0.601636528968811],\n",
       "  [-0.07092197239398956],\n",
       "  [0.8365180492401123],\n",
       "  [0.019656574353575706],\n",
       "  [0.915076732635498],\n",
       "  [-0.18568788468837738],\n",
       "  [-0.011060717515647411],\n",
       "  [0.5188364386558533],\n",
       "  [-0.34367886185646057],\n",
       "  [0.9384796023368835],\n",
       "  [0.12061896920204163],\n",
       "  [0.8956427574157715],\n",
       "  [0.5180106163024902],\n",
       "  [1.0702428817749023],\n",
       "  [0.5775721669197083],\n",
       "  [-0.3525656461715698],\n",
       "  [-0.01650048978626728],\n",
       "  [0.40023064613342285],\n",
       "  [0.8018451929092407],\n",
       "  [0.7687817811965942],\n",
       "  [-0.05158362165093422],\n",
       "  [1.1599304676055908]]}"
      ]
     },
     "execution_count": 29,
     "metadata": {},
     "output_type": "execute_result"
    }
   ],
   "source": [
    "my_data = {\"inputs\":test_input_list}\n",
    "fn_h5.invoke('/',my_data)"
   ]
  },
  {
   "cell_type": "code",
   "execution_count": null,
   "metadata": {},
   "outputs": [],
   "source": []
  }
 ],
 "metadata": {
  "kernelspec": {
   "display_name": "Python [conda env:root] *",
   "language": "python",
   "name": "conda-root-py"
  },
  "language_info": {
   "codemirror_mode": {
    "name": "ipython",
    "version": 3
   },
   "file_extension": ".py",
   "mimetype": "text/x-python",
   "name": "python",
   "nbconvert_exporter": "python",
   "pygments_lexer": "ipython3",
   "version": "3.7.6"
  }
 },
 "nbformat": 4,
 "nbformat_minor": 4
}
