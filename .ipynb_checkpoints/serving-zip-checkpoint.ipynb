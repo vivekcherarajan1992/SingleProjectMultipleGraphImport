{
 "cells": [
  {
   "cell_type": "code",
   "execution_count": 1,
   "metadata": {},
   "outputs": [],
   "source": [
    "import mlrun\n",
    "import os\n",
    "import tempfile\n",
    "from zipfile import ZipFile\n",
    "from tensorflow import keras\n",
    "\n",
    "import numpy as np\n",
    "from cloudpickle import load"
   ]
  },
  {
   "cell_type": "code",
   "execution_count": 2,
   "metadata": {},
   "outputs": [],
   "source": [
    "\n",
    "class ZIPServer(mlrun.serving.V2ModelServer):\n",
    "    def load(self):\n",
    "        tmp = tempfile.TemporaryDirectory()\n",
    "        model_file, extra_data = self.get_model('.zip')\n",
    "        model_file = ZipFile(model_file, 'r')\n",
    "        model_file.extractall(tmp.name)\n",
    "        self.model = keras.models.load_model(tmp.name)\n",
    "\n",
    "    def predict(self, body):\n",
    "        try:\n",
    "            feats = np.asarray(body['inputs'])\n",
    "            result = self.model.predict(feats)\n",
    "            return result.tolist()\n",
    "        except Exception as e:\n",
    "            raise Exception(\"Failed to predict %s\" % e)\n"
   ]
  }
 ],
 "metadata": {
  "kernelspec": {
   "display_name": "Python 3",
   "language": "python",
   "name": "python3"
  },
  "language_info": {
   "codemirror_mode": {
    "name": "ipython",
    "version": 3
   },
   "file_extension": ".py",
   "mimetype": "text/x-python",
   "name": "python",
   "nbconvert_exporter": "python",
   "pygments_lexer": "ipython3",
   "version": "3.7.6"
  }
 },
 "nbformat": 4,
 "nbformat_minor": 4
}
