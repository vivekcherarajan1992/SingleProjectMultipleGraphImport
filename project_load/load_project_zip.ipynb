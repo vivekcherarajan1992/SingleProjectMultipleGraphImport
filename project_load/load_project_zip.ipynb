{
 "cells": [
  {
   "cell_type": "code",
   "execution_count": 36,
   "metadata": {},
   "outputs": [],
   "source": [
    "import mlrun\n",
    "from mlrun.projects import load_project"
   ]
  },
  {
   "cell_type": "code",
   "execution_count": 37,
   "metadata": {},
   "outputs": [
    {
     "name": "stdout",
     "output_type": "stream",
     "text": [
      "{'kind': 'project', 'metadata': {'name': 'myproj'}, 'spec': {'functions': [{'url': 'train_ad_model.yaml', 'name': 'train_ad_model'}, {'url': 'serving_ad_model.yaml', 'name': 'serving_ad_model'}], 'workflows': [], 'artifacts': [], 'source': 'project.zip', 'origin_url': 'project.zip', 'desired_state': 'online'}}\n"
     ]
    }
   ],
   "source": [
    "project = load_project(context='./myproject',name=\"myproj\", url=\"project.zip\")\n",
    "print(project)"
   ]
  },
  {
   "cell_type": "code",
   "execution_count": 15,
   "metadata": {},
   "outputs": [],
   "source": [
    "# project.set_sour+ce( 'User/vivek/SingleProjectMultipleGraphImport/admodel_manual_logging/ad_model_project.zip',pull_at_runtime=False)"
   ]
  },
  {
   "cell_type": "code",
   "execution_count": 38,
   "metadata": {},
   "outputs": [
    {
     "name": "stdout",
     "output_type": "stream",
     "text": [
      "kind: project\n",
      "metadata:\n",
      "  name: myproj\n",
      "spec:\n",
      "  functions:\n",
      "  - url: train_ad_model.yaml\n",
      "    name: train_ad_model\n",
      "  - url: serving_ad_model.yaml\n",
      "    name: serving_ad_model\n",
      "  workflows: []\n",
      "  artifacts: []\n",
      "  source: project.zip\n",
      "  origin_url: project.zip\n",
      "  desired_state: online\n",
      "\n"
     ]
    }
   ],
   "source": [
    "print(project.to_yaml())"
   ]
  },
  {
   "cell_type": "code",
   "execution_count": 34,
   "metadata": {},
   "outputs": [
    {
     "name": "stdout",
     "output_type": "stream",
     "text": [
      "kind: job\n",
      "metadata:\n",
      "  name: train-model\n",
      "  tag: ''\n",
      "  hash: 9867afd375d4026a2f56da967777a5c0c3e738b7\n",
      "  project: myproj\n",
      "  categories: []\n",
      "  credentials:\n",
      "    access_key: 29408760-f83f-4a63-b546-18082ec6a0a6\n",
      "spec:\n",
      "  command: ''\n",
      "  args: []\n",
      "  image: mlrun/ml-models\n",
      "  build:\n",
      "    functionSourceCode: aW1wb3J0IG1scnVuCmltcG9ydCBqc29uCmltcG9ydCBqb2JsaWIKaW1wb3J0IHNodXRpbAppbXBvcnQgbnVtcHkgYXMgbnAKaW1wb3J0IHBhbmRhcyBhcyBwZApmcm9tIHBhdGhsaWIgaW1wb3J0IFBhdGgKIyBpbXBvcnQgZHVtbXlfYWQKCiMgZHVtbXlfYWQ9bWxydW4uZnVuY3Rpb25fdG9fbW9kdWxlKCcuL2R1bW15X2FkLnB5JykKZHVtbXlfYWQ9bWxydW4uZnVuY3Rpb25fdG9fbW9kdWxlKCcvVXNlci92aXZlay9TaW5nbGVQcm9qZWN0TXVsdGlwbGVHcmFwaEltcG9ydC9hZG1vZGVsX21hbnVhbF9sb2dnaW5nL2R1bW15X2FkLnB5JykKICAgICAgICAgICAgICAgICAgICAgICAgICAgICAgICAgIApkZWYgdHJhaW5fYWRfbW9kZWwoY29udGV4dDptbHJ1bi5NTENsaWVudEN0eCxpbnNpZ2h0cGFrX25hbWUsaW5zdGFuY2VfaWQ6c3RyKToKICAgIG1vZGVsX2Rpcj1QYXRoKCcuL21vZGVsJykKICAgIGRmID0gcGQuRGF0YUZyYW1lKG5wLnJhbmRvbS5yYW5kaW50KDAsMTAwLHNpemU9KDE1MCwgMykpLAogICAgICAgICAgICAgICAgICAgICAgY29sdW1ucz1saXN0KCdBQkMnKSwKICAgICAgICAgICAgICAgICAgICAgIGluZGV4ID0gcGQuZGF0ZV9yYW5nZSgnMjAyMC0wMS0wMScsIHBlcmlvZHM9MTUwLCBmcmVxPSc1VCcpKQogICAgZm9yIGNvbCBpbiBkZjoKICAgICAgICBkZi5sb2NbZGYuc2FtcGxlKGZyYWM9MC4yKS5pbmRleCwgY29sXSA9IG5wLm5hbgogICAgZGZfanNvbiA9IGR1bW15X2FkLk1vZGVsSGVscGVyLmNvbnZlcnRfZGZfdG9fanNvbihkZikKICAgIG1vZGVsID0gZHVtbXlfYWQuRHVtbXlBRCgpCiAgICBtb2RlbC50cmFpbl9tb2RlbChkZl9qc29uKQogICAgbW9kZWwuZXhwb3J0X21vZGVsKCcuJykKICAgIAogICAgIyBTYXZlZCBhcyBaSVAgZmlsZQogICAgbW9kZWxfa2V5PWYne2luc2lnaHRwYWtfbmFtZX1fe2luc3RhbmNlX2lkfScKICAgIG1vZGVsX3N0YXRlX2tleT1mJ3tpbnNpZ2h0cGFrX25hbWV9X3N0YXRlX3tpbnN0YW5jZV9pZH0nCiAgICBzaHV0aWwubWFrZV9hcmNoaXZlKCcuL21vZGVsL2FkX21vZGVsX3ppcCcsICd6aXAnLCAnLi9tb2RlbC9hZF9tb2RlbCcpCiAgICBjb250ZXh0LmxvZ19tb2RlbChrZXk9bW9kZWxfa2V5LG1vZGVsX2ZpbGU9Jy4vbW9kZWwvYWRfbW9kZWxfemlwLnppcCcpCiAgICAKICAgICMgbG9nIGpvYmxpYiBtb2RlbAogICAgY29udGV4dC5sb2dfbW9kZWwoa2V5PW1vZGVsX3N0YXRlX2tleSxtb2RlbF9kaXI9Jy4vbW9kZWwnLG1vZGVsX2ZpbGU9J2FkX3N0YXRlLmpvYmxpYicpCiAgICAKICAgICMgZGVsZXRlIG1vZGVsIGZvbGRlcgogICAgaWYgbW9kZWxfZGlyLmV4aXN0cygpIGFuZCBtb2RlbF9kaXIuaXNfZGlyKCk6CiAgICAgICAgc2h1dGlsLnJtdHJlZShtb2RlbF9kaXIp\n",
      "    commands: []\n",
      "    code_origin: https://github.com/vivekcherarajan1992/SingleProjectMultipleGraphImport.git#de7b1e64ebf310fed1d5c5130c406069a911e550\n",
      "    origin_filename: training.py\n",
      "  entry_points:\n",
      "    train_ad_model:\n",
      "      name: train_ad_model\n",
      "      doc: ''\n",
      "      parameters:\n",
      "      - name: context\n",
      "        type: MLClientCtx\n",
      "        default: ''\n",
      "      - name: insightpak_name\n",
      "        default: ''\n",
      "      - name: instance_id\n",
      "        type: str\n",
      "        default: ''\n",
      "      outputs:\n",
      "      - default: ''\n",
      "      lineno: 13\n",
      "  description: ''\n",
      "  default_handler: ''\n",
      "  disable_auto_mount: true\n",
      "  volumes: []\n",
      "  volume_mounts: []\n",
      "  env:\n",
      "  - name: V3IO_API\n",
      "    value: v3io-webapi.default-tenant.svc:8081\n",
      "  - name: V3IO_USERNAME\n",
      "    value: vivek\n",
      "  - name: V3IO_ACCESS_KEY\n",
      "    value: 29408760-f83f-4a63-b546-18082ec6a0a6\n",
      "  - name: V3IO_FRAMESD\n",
      "    value: framesd:8081\n",
      "  priority_class_name: igz-workload-medium\n",
      "  preemption_mode: prevent\n",
      "  affinity: null\n",
      "  tolerations: null\n",
      "status:\n",
      "  state: ready\n",
      "verbose: false\n",
      "\n"
     ]
    }
   ],
   "source": [
    "fn = project.get_function(\"train_ad_model\")\n",
    "print(fn.to_yaml())"
   ]
  },
  {
   "cell_type": "code",
   "execution_count": 32,
   "metadata": {},
   "outputs": [
    {
     "data": {
      "text/plain": [
       "BuildStatus(ready=True, outputs={'image': 'mlrun/ml-models'})"
      ]
     },
     "execution_count": 32,
     "metadata": {},
     "output_type": "execute_result"
    }
   ],
   "source": [
    "project.build_function(\"train_ad_model\")"
   ]
  },
  {
   "cell_type": "code",
   "execution_count": 33,
   "metadata": {},
   "outputs": [
    {
     "name": "stdout",
     "output_type": "stream",
     "text": [
      "> 2022-06-21 08:55:08,993 [info] starting run train-model uid=a94f6f119a414ad8879d276f1edb6250 DB=http://mlrun-api:8080\n",
      "> 2022-06-21 08:55:09,178 [info] Job is running in the background, pod: train-model-9lkgh\n",
      "> 2022-06-21 08:55:12,571 [info] handler was not provided running main (training.py)\n",
      "> 2022-06-21 08:55:15,630 [error] exec error - Traceback (most recent call last):\n",
      "  File \"training.py\", line 11, in <module>\n",
      "    dummy_ad=mlrun.function_to_module('/User/vivek/SingleProjectMultipleGraphImport/admodel_manual_logging/dummy_ad.py')\n",
      "  File \"/mlrun/mlrun/run.py\", line 240, in function_to_module\n",
      "    spec.loader.exec_module(mod)\n",
      "  File \"<frozen importlib._bootstrap_external>\", line 724, in exec_module\n",
      "  File \"<frozen importlib._bootstrap_external>\", line 859, in get_code\n",
      "  File \"<frozen importlib._bootstrap_external>\", line 916, in get_data\n",
      "FileNotFoundError: [Errno 2] No such file or directory: '/User/vivek/SingleProjectMultipleGraphImport/admodel_manual_logging/dummy_ad.py'\n",
      "\n",
      "> 2022-06-21 08:55:15,692 [info] run executed, status=error\n",
      "runtime error: Traceback (most recent call last):\n",
      "  File \"training.py\", line 11, in <module>\n",
      "    dummy_ad=mlrun.function_to_module('/User/vivek/SingleProjectMultipleGraphImport/admodel_manual_logging/dummy_ad.py')\n",
      "  File \"/mlrun/mlrun/run.py\", line 240, in function_to_module\n",
      "    spec.loader.exec_module(mod)\n",
      "  File \"<frozen importlib._bootstrap_external>\", line 724, in exec_module\n",
      "  File \"<frozen importlib._bootstrap_external>\", line 859, in get_code\n",
      "  File \"<frozen importlib._bootstrap_external>\", line 916, in get_data\n",
      "FileNotFoundError: [Errno 2] No such file or directory: '/User/vivek/SingleProjectMultipleGraphImport/admodel_manual_logging/dummy_ad.py'\n",
      "\n",
      "Traceback (most recent call last):\n",
      "  File \"training.py\", line 11, in <module>\n",
      "    dummy_ad=mlrun.function_to_module('/User/vivek/SingleProjectMultipleGraphImport/admodel_manual_logging/dummy_ad.py')\n",
      "  File \"/mlrun/mlrun/run.py\", line 240, in function_to_module\n",
      "    spec.loader.exec_module(mod)\n",
      "  File \"<frozen importlib._bootstrap_external>\", line 724, in exec_module\n",
      "  File \"<frozen importlib._bootstrap_external>\", line 859, in get_code\n",
      "  File \"<frozen importlib._bootstrap_external>\", line 916, in get_data\n",
      "FileNotFoundError: [Errno 2] No such file or directory: '/User/vivek/SingleProjectMultipleGraphImport/admodel_manual_logging/dummy_ad.py'\n",
      "\n",
      "final state: error\n"
     ]
    },
    {
     "data": {
      "text/html": [
       "<style>\n",
       ".dictlist {\n",
       "  background-color: #4EC64B;\n",
       "  text-align: center;\n",
       "  margin: 4px;\n",
       "  border-radius: 3px; padding: 0px 3px 1px 3px; display: inline-block;}\n",
       ".artifact {\n",
       "  cursor: pointer;\n",
       "  background-color: #4EC64B;\n",
       "  text-align: left;\n",
       "  margin: 4px; border-radius: 3px; padding: 0px 3px 1px 3px; display: inline-block;\n",
       "}\n",
       "div.block.hidden {\n",
       "  display: none;\n",
       "}\n",
       ".clickable {\n",
       "  cursor: pointer;\n",
       "}\n",
       ".ellipsis {\n",
       "  display: inline-block;\n",
       "  max-width: 60px;\n",
       "  white-space: nowrap;\n",
       "  overflow: hidden;\n",
       "  text-overflow: ellipsis;\n",
       "}\n",
       ".master-wrapper {\n",
       "  display: flex;\n",
       "  flex-flow: row nowrap;\n",
       "  justify-content: flex-start;\n",
       "  align-items: stretch;\n",
       "}\n",
       ".master-tbl {\n",
       "  flex: 3\n",
       "}\n",
       ".master-wrapper > div {\n",
       "  margin: 4px;\n",
       "  padding: 10px;\n",
       "}\n",
       "iframe.fileview {\n",
       "  border: 0 none;\n",
       "  height: 100%;\n",
       "  width: 100%;\n",
       "  white-space: pre-wrap;\n",
       "}\n",
       ".pane-header-title {\n",
       "  width: 80%;\n",
       "  font-weight: 500;\n",
       "}\n",
       ".pane-header {\n",
       "  line-height: 1;\n",
       "  background-color: #4EC64B;\n",
       "  padding: 3px;\n",
       "}\n",
       ".pane-header .close {\n",
       "  font-size: 20px;\n",
       "  font-weight: 700;\n",
       "  float: right;\n",
       "  margin-top: -5px;\n",
       "}\n",
       ".master-wrapper .right-pane {\n",
       "  border: 1px inset silver;\n",
       "  width: 40%;\n",
       "  min-height: 300px;\n",
       "  flex: 3\n",
       "  min-width: 500px;\n",
       "}\n",
       ".master-wrapper * {\n",
       "  box-sizing: border-box;\n",
       "}\n",
       "</style><script>\n",
       "function copyToClipboard(fld) {\n",
       "    if (document.queryCommandSupported && document.queryCommandSupported('copy')) {\n",
       "        var textarea = document.createElement('textarea');\n",
       "        textarea.textContent = fld.innerHTML;\n",
       "        textarea.style.position = 'fixed';\n",
       "        document.body.appendChild(textarea);\n",
       "        textarea.select();\n",
       "\n",
       "        try {\n",
       "            return document.execCommand('copy'); // Security exception may be thrown by some browsers.\n",
       "        } catch (ex) {\n",
       "\n",
       "        } finally {\n",
       "            document.body.removeChild(textarea);\n",
       "        }\n",
       "    }\n",
       "}\n",
       "function expandPanel(el) {\n",
       "  const panelName = \"#\" + el.getAttribute('paneName');\n",
       "  console.log(el.title);\n",
       "\n",
       "  document.querySelector(panelName + \"-title\").innerHTML = el.title\n",
       "  iframe = document.querySelector(panelName + \"-body\");\n",
       "\n",
       "  const tblcss = `<style> body { font-family: Arial, Helvetica, sans-serif;}\n",
       "    #csv { margin-bottom: 15px; }\n",
       "    #csv table { border-collapse: collapse;}\n",
       "    #csv table td { padding: 4px 8px; border: 1px solid silver;} </style>`;\n",
       "\n",
       "  function csvToHtmlTable(str) {\n",
       "    return '<div id=\"csv\"><table><tr><td>' +  str.replace(/[\\n\\r]+$/g, '').replace(/[\\n\\r]+/g, '</td></tr><tr><td>')\n",
       "      .replace(/,/g, '</td><td>') + '</td></tr></table></div>';\n",
       "  }\n",
       "\n",
       "  function reqListener () {\n",
       "    if (el.title.endsWith(\".csv\")) {\n",
       "      iframe.setAttribute(\"srcdoc\", tblcss + csvToHtmlTable(this.responseText));\n",
       "    } else {\n",
       "      iframe.setAttribute(\"srcdoc\", this.responseText);\n",
       "    }\n",
       "    console.log(this.responseText);\n",
       "  }\n",
       "\n",
       "  const oReq = new XMLHttpRequest();\n",
       "  oReq.addEventListener(\"load\", reqListener);\n",
       "  oReq.open(\"GET\", el.title);\n",
       "  oReq.send();\n",
       "\n",
       "\n",
       "  //iframe.src = el.title;\n",
       "  const resultPane = document.querySelector(panelName + \"-pane\");\n",
       "  if (resultPane.classList.contains(\"hidden\")) {\n",
       "    resultPane.classList.remove(\"hidden\");\n",
       "  }\n",
       "}\n",
       "function closePanel(el) {\n",
       "  const panelName = \"#\" + el.getAttribute('paneName')\n",
       "  const resultPane = document.querySelector(panelName + \"-pane\");\n",
       "  if (!resultPane.classList.contains(\"hidden\")) {\n",
       "    resultPane.classList.add(\"hidden\");\n",
       "  }\n",
       "}\n",
       "\n",
       "</script>\n",
       "<div class=\"master-wrapper\">\n",
       "  <div class=\"block master-tbl\"><div>\n",
       "<style scoped>\n",
       "    .dataframe tbody tr th:only-of-type {\n",
       "        vertical-align: middle;\n",
       "    }\n",
       "\n",
       "    .dataframe tbody tr th {\n",
       "        vertical-align: top;\n",
       "    }\n",
       "\n",
       "    .dataframe thead th {\n",
       "        text-align: right;\n",
       "    }\n",
       "</style>\n",
       "<table border=\"1\" class=\"dataframe\">\n",
       "  <thead>\n",
       "    <tr style=\"text-align: right;\">\n",
       "      <th>project</th>\n",
       "      <th>uid</th>\n",
       "      <th>iter</th>\n",
       "      <th>start</th>\n",
       "      <th>state</th>\n",
       "      <th>name</th>\n",
       "      <th>labels</th>\n",
       "      <th>inputs</th>\n",
       "      <th>parameters</th>\n",
       "      <th>results</th>\n",
       "      <th>artifacts</th>\n",
       "    </tr>\n",
       "  </thead>\n",
       "  <tbody>\n",
       "    <tr>\n",
       "      <td>myproj</td>\n",
       "      <td><div title=\"a94f6f119a414ad8879d276f1edb6250\"><a href=\"https://dashboard.default-tenant.app.bh-eks-demo4.aws.bentlyconnect.com/mlprojects/myproj/jobs/monitor/a94f6f119a414ad8879d276f1edb6250/overview\" target=\"_blank\" >...1edb6250</a></div></td>\n",
       "      <td>0</td>\n",
       "      <td>Jun 21 08:55:12</td>\n",
       "      <td><div style=\"color: red;\" title=\"Traceback (most recent call last):\\n  File \"training.py\", line 11, in <module>\\n    dummy_ad=mlrun.function_to_module('/User/vivek/SingleProjectMultipleGraphImport/admodel_manual_logging/dummy_ad.py')\\n  File \"/mlrun/mlrun/run.py\", line 240, in function_to_module\\n    spec.loader.exec_module(mod)\\n  File \"<frozen importlib._bootstrap_external>\", line 724, in exec_module\\n  File \"<frozen importlib._bootstrap_external>\", line 859, in get_code\\n  File \"<frozen importlib._bootstrap_external>\", line 916, in get_data\\nFileNotFoundError: [Errno 2] No such file or directory: '/User/vivek/SingleProjectMultipleGraphImport/admodel_manual_logging/dummy_ad.py'\\n\">error</div></td>\n",
       "      <td>train-model</td>\n",
       "      <td><div class=\"dictlist\">v3io_user=vivek</div><div class=\"dictlist\">kind=job</div><div class=\"dictlist\">owner=vivek</div><div class=\"dictlist\">mlrun/client_version=1.0.2</div></td>\n",
       "      <td></td>\n",
       "      <td></td>\n",
       "      <td></td>\n",
       "      <td></td>\n",
       "    </tr>\n",
       "  </tbody>\n",
       "</table>\n",
       "</div></div>\n",
       "  <div id=\"result64cab6b4-pane\" class=\"right-pane block hidden\">\n",
       "    <div class=\"pane-header\">\n",
       "      <span id=\"result64cab6b4-title\" class=\"pane-header-title\">Title</span>\n",
       "      <span onclick=\"closePanel(this)\" paneName=\"result64cab6b4\" class=\"close clickable\">&times;</span>\n",
       "    </div>\n",
       "    <iframe class=\"fileview\" id=\"result64cab6b4-body\"></iframe>\n",
       "  </div>\n",
       "</div>\n"
      ],
      "text/plain": [
       "<IPython.core.display.HTML object>"
      ]
     },
     "metadata": {},
     "output_type": "display_data"
    },
    {
     "name": "stdout",
     "output_type": "stream",
     "text": [
      "\n"
     ]
    },
    {
     "data": {
      "text/html": [
       "<b> > to track results use the .show() or .logs() methods  or <a href=\"https://dashboard.default-tenant.app.bh-eks-demo4.aws.bentlyconnect.com/mlprojects/myproj/jobs/monitor/a94f6f119a414ad8879d276f1edb6250/overview\" target=\"_blank\">click here</a> to open in UI</b>"
      ],
      "text/plain": [
       "<IPython.core.display.HTML object>"
      ]
     },
     "metadata": {},
     "output_type": "display_data"
    },
    {
     "name": "stdout",
     "output_type": "stream",
     "text": [
      "> 2022-06-21 08:55:18,506 [info] run executed, status=error\n",
      "runtime error: Traceback (most recent call last):\n",
      "  File \"training.py\", line 11, in <module>\n",
      "    dummy_ad=mlrun.function_to_module('/User/vivek/SingleProjectMultipleGraphImport/admodel_manual_logging/dummy_ad.py')\n",
      "  File \"/mlrun/mlrun/run.py\", line 240, in function_to_module\n",
      "    spec.loader.exec_module(mod)\n",
      "  File \"<frozen importlib._bootstrap_external>\", line 724, in exec_module\n",
      "  File \"<frozen importlib._bootstrap_external>\", line 859, in get_code\n",
      "  File \"<frozen importlib._bootstrap_external>\", line 916, in get_data\n",
      "FileNotFoundError: [Errno 2] No such file or directory: '/User/vivek/SingleProjectMultipleGraphImport/admodel_manual_logging/dummy_ad.py'\n",
      "\n"
     ]
    },
    {
     "ename": "RunError",
     "evalue": "Traceback (most recent call last):\n  File \"training.py\", line 11, in <module>\n    dummy_ad=mlrun.function_to_module('/User/vivek/SingleProjectMultipleGraphImport/admodel_manual_logging/dummy_ad.py')\n  File \"/mlrun/mlrun/run.py\", line 240, in function_to_module\n    spec.loader.exec_module(mod)\n  File \"<frozen importlib._bootstrap_external>\", line 724, in exec_module\n  File \"<frozen importlib._bootstrap_external>\", line 859, in get_code\n  File \"<frozen importlib._bootstrap_external>\", line 916, in get_data\nFileNotFoundError: [Errno 2] No such file or directory: '/User/vivek/SingleProjectMultipleGraphImport/admodel_manual_logging/dummy_ad.py'\n",
     "output_type": "error",
     "traceback": [
      "\u001b[0;31m---------------------------------------------------------------------------\u001b[0m",
      "\u001b[0;31mRunError\u001b[0m                                  Traceback (most recent call last)",
      "\u001b[0;32m<ipython-input-33-e807e2429923>\u001b[0m in \u001b[0;36m<module>\u001b[0;34m\u001b[0m\n\u001b[0;32m----> 1\u001b[0;31m \u001b[0mrun\u001b[0m \u001b[0;34m=\u001b[0m \u001b[0mproject\u001b[0m\u001b[0;34m.\u001b[0m\u001b[0mrun_function\u001b[0m\u001b[0;34m(\u001b[0m\u001b[0;34m\"train_ad_model\"\u001b[0m\u001b[0;34m)\u001b[0m\u001b[0;34m\u001b[0m\u001b[0;34m\u001b[0m\u001b[0m\n\u001b[0m",
      "\u001b[0;32m~/.pythonlibs/jupyter-vivek/lib/python3.7/site-packages/mlrun/projects/project.py\u001b[0m in \u001b[0;36mrun_function\u001b[0;34m(self, function, handler, name, params, hyperparams, hyper_param_options, inputs, outputs, workdir, labels, base_task, watch, local, verbose, selector, auto_build)\u001b[0m\n\u001b[1;32m   1961\u001b[0m             \u001b[0mselector\u001b[0m\u001b[0;34m=\u001b[0m\u001b[0mselector\u001b[0m\u001b[0;34m,\u001b[0m\u001b[0;34m\u001b[0m\u001b[0;34m\u001b[0m\u001b[0m\n\u001b[1;32m   1962\u001b[0m             \u001b[0mproject_object\u001b[0m\u001b[0;34m=\u001b[0m\u001b[0mself\u001b[0m\u001b[0;34m,\u001b[0m\u001b[0;34m\u001b[0m\u001b[0;34m\u001b[0m\u001b[0m\n\u001b[0;32m-> 1963\u001b[0;31m             \u001b[0mauto_build\u001b[0m\u001b[0;34m=\u001b[0m\u001b[0mauto_build\u001b[0m\u001b[0;34m,\u001b[0m\u001b[0;34m\u001b[0m\u001b[0;34m\u001b[0m\u001b[0m\n\u001b[0m\u001b[1;32m   1964\u001b[0m         )\n\u001b[1;32m   1965\u001b[0m \u001b[0;34m\u001b[0m\u001b[0m\n",
      "\u001b[0;32m~/.pythonlibs/jupyter-vivek/lib/python3.7/site-packages/mlrun/projects/operations.py\u001b[0m in \u001b[0;36mrun_function\u001b[0;34m(function, handler, name, params, hyperparams, hyper_param_options, inputs, outputs, workdir, labels, base_task, watch, local, verbose, selector, project_object, auto_build)\u001b[0m\n\u001b[1;32m    149\u001b[0m             \u001b[0mlocal\u001b[0m\u001b[0;34m=\u001b[0m\u001b[0mlocal\u001b[0m\u001b[0;34m,\u001b[0m\u001b[0;34m\u001b[0m\u001b[0;34m\u001b[0m\u001b[0m\n\u001b[1;32m    150\u001b[0m             \u001b[0martifact_path\u001b[0m\u001b[0;34m=\u001b[0m\u001b[0mpipeline_context\u001b[0m\u001b[0;34m.\u001b[0m\u001b[0mworkflow_artifact_path\u001b[0m\u001b[0;34m,\u001b[0m\u001b[0;34m\u001b[0m\u001b[0;34m\u001b[0m\u001b[0m\n\u001b[0;32m--> 151\u001b[0;31m             \u001b[0mauto_build\u001b[0m\u001b[0;34m=\u001b[0m\u001b[0mauto_build\u001b[0m\u001b[0;34m,\u001b[0m\u001b[0;34m\u001b[0m\u001b[0;34m\u001b[0m\u001b[0m\n\u001b[0m\u001b[1;32m    152\u001b[0m         )\n\u001b[1;32m    153\u001b[0m         \u001b[0;32mif\u001b[0m \u001b[0mrun_result\u001b[0m\u001b[0;34m:\u001b[0m\u001b[0;34m\u001b[0m\u001b[0;34m\u001b[0m\u001b[0m\n",
      "\u001b[0;32m~/.pythonlibs/jupyter-vivek/lib/python3.7/site-packages/mlrun/runtimes/base.py\u001b[0m in \u001b[0;36mrun\u001b[0;34m(self, runspec, handler, name, project, params, inputs, out_path, workdir, artifact_path, watch, schedule, hyperparams, hyper_param_options, verbose, scrape_metrics, local, local_code_path, auto_build)\u001b[0m\n\u001b[1;32m    407\u001b[0m         \u001b[0;31m# execute the job remotely (to a k8s cluster via the API service)\u001b[0m\u001b[0;34m\u001b[0m\u001b[0;34m\u001b[0m\u001b[0;34m\u001b[0m\u001b[0m\n\u001b[1;32m    408\u001b[0m         \u001b[0;32mif\u001b[0m \u001b[0mself\u001b[0m\u001b[0;34m.\u001b[0m\u001b[0m_use_remote_api\u001b[0m\u001b[0;34m(\u001b[0m\u001b[0;34m)\u001b[0m\u001b[0;34m:\u001b[0m\u001b[0;34m\u001b[0m\u001b[0;34m\u001b[0m\u001b[0m\n\u001b[0;32m--> 409\u001b[0;31m             \u001b[0;32mreturn\u001b[0m \u001b[0mself\u001b[0m\u001b[0;34m.\u001b[0m\u001b[0m_submit_job\u001b[0m\u001b[0;34m(\u001b[0m\u001b[0mrun\u001b[0m\u001b[0;34m,\u001b[0m \u001b[0mschedule\u001b[0m\u001b[0;34m,\u001b[0m \u001b[0mdb\u001b[0m\u001b[0;34m,\u001b[0m \u001b[0mwatch\u001b[0m\u001b[0;34m)\u001b[0m\u001b[0;34m\u001b[0m\u001b[0;34m\u001b[0m\u001b[0m\n\u001b[0m\u001b[1;32m    410\u001b[0m \u001b[0;34m\u001b[0m\u001b[0m\n\u001b[1;32m    411\u001b[0m         \u001b[0;32melif\u001b[0m \u001b[0mself\u001b[0m\u001b[0;34m.\u001b[0m\u001b[0m_is_remote\u001b[0m \u001b[0;32mand\u001b[0m \u001b[0;32mnot\u001b[0m \u001b[0mself\u001b[0m\u001b[0;34m.\u001b[0m\u001b[0m_is_api_server\u001b[0m \u001b[0;32mand\u001b[0m \u001b[0;32mnot\u001b[0m \u001b[0mself\u001b[0m\u001b[0;34m.\u001b[0m\u001b[0mkfp\u001b[0m\u001b[0;34m:\u001b[0m\u001b[0;34m\u001b[0m\u001b[0;34m\u001b[0m\u001b[0m\n",
      "\u001b[0;32m~/.pythonlibs/jupyter-vivek/lib/python3.7/site-packages/mlrun/runtimes/base.py\u001b[0m in \u001b[0;36m_submit_job\u001b[0;34m(self, runspec, schedule, db, watch)\u001b[0m\n\u001b[1;32m    684\u001b[0m                 \u001b[0mresult\u001b[0m \u001b[0;34m=\u001b[0m \u001b[0mself\u001b[0m\u001b[0;34m.\u001b[0m\u001b[0m_update_run_state\u001b[0m\u001b[0;34m(\u001b[0m\u001b[0mtask\u001b[0m\u001b[0;34m=\u001b[0m\u001b[0mrunspec\u001b[0m\u001b[0;34m,\u001b[0m \u001b[0merr\u001b[0m\u001b[0;34m=\u001b[0m\u001b[0merr\u001b[0m\u001b[0;34m)\u001b[0m\u001b[0;34m\u001b[0m\u001b[0;34m\u001b[0m\u001b[0m\n\u001b[1;32m    685\u001b[0m             \u001b[0;32mreturn\u001b[0m \u001b[0mself\u001b[0m\u001b[0;34m.\u001b[0m\u001b[0m_wrap_run_result\u001b[0m\u001b[0;34m(\u001b[0m\u001b[0mresult\u001b[0m\u001b[0;34m,\u001b[0m \u001b[0mrunspec\u001b[0m\u001b[0;34m,\u001b[0m \u001b[0mschedule\u001b[0m\u001b[0;34m=\u001b[0m\u001b[0mschedule\u001b[0m\u001b[0;34m,\u001b[0m \u001b[0merr\u001b[0m\u001b[0;34m=\u001b[0m\u001b[0merr\u001b[0m\u001b[0;34m)\u001b[0m\u001b[0;34m\u001b[0m\u001b[0;34m\u001b[0m\u001b[0m\n\u001b[0;32m--> 686\u001b[0;31m         \u001b[0;32mreturn\u001b[0m \u001b[0mself\u001b[0m\u001b[0;34m.\u001b[0m\u001b[0m_wrap_run_result\u001b[0m\u001b[0;34m(\u001b[0m\u001b[0mresp\u001b[0m\u001b[0;34m,\u001b[0m \u001b[0mrunspec\u001b[0m\u001b[0;34m,\u001b[0m \u001b[0mschedule\u001b[0m\u001b[0;34m=\u001b[0m\u001b[0mschedule\u001b[0m\u001b[0;34m)\u001b[0m\u001b[0;34m\u001b[0m\u001b[0;34m\u001b[0m\u001b[0m\n\u001b[0m\u001b[1;32m    687\u001b[0m \u001b[0;34m\u001b[0m\u001b[0m\n\u001b[1;32m    688\u001b[0m     \u001b[0;32mdef\u001b[0m \u001b[0m_store_function\u001b[0m\u001b[0;34m(\u001b[0m\u001b[0mself\u001b[0m\u001b[0;34m,\u001b[0m \u001b[0mrunspec\u001b[0m\u001b[0;34m,\u001b[0m \u001b[0mmeta\u001b[0m\u001b[0;34m,\u001b[0m \u001b[0mdb\u001b[0m\u001b[0;34m)\u001b[0m\u001b[0;34m:\u001b[0m\u001b[0;34m\u001b[0m\u001b[0;34m\u001b[0m\u001b[0m\n",
      "\u001b[0;32m~/.pythonlibs/jupyter-vivek/lib/python3.7/site-packages/mlrun/runtimes/base.py\u001b[0m in \u001b[0;36m_wrap_run_result\u001b[0;34m(self, result, runspec, schedule, err)\u001b[0m\n\u001b[1;32m    497\u001b[0m                 \u001b[0;32mif\u001b[0m \u001b[0mself\u001b[0m\u001b[0;34m.\u001b[0m\u001b[0m_is_remote\u001b[0m \u001b[0;32mand\u001b[0m \u001b[0;32mnot\u001b[0m \u001b[0mself\u001b[0m\u001b[0;34m.\u001b[0m\u001b[0mis_child\u001b[0m\u001b[0;34m:\u001b[0m\u001b[0;34m\u001b[0m\u001b[0;34m\u001b[0m\u001b[0m\n\u001b[1;32m    498\u001b[0m                     \u001b[0mprint\u001b[0m\u001b[0;34m(\u001b[0m\u001b[0;34mf\"runtime error: {run.status.error}\"\u001b[0m\u001b[0;34m)\u001b[0m\u001b[0;34m\u001b[0m\u001b[0;34m\u001b[0m\u001b[0m\n\u001b[0;32m--> 499\u001b[0;31m                 \u001b[0;32mraise\u001b[0m \u001b[0mRunError\u001b[0m\u001b[0;34m(\u001b[0m\u001b[0mrun\u001b[0m\u001b[0;34m.\u001b[0m\u001b[0mstatus\u001b[0m\u001b[0;34m.\u001b[0m\u001b[0merror\u001b[0m\u001b[0;34m)\u001b[0m\u001b[0;34m\u001b[0m\u001b[0;34m\u001b[0m\u001b[0m\n\u001b[0m\u001b[1;32m    500\u001b[0m             \u001b[0;32mreturn\u001b[0m \u001b[0mrun\u001b[0m\u001b[0;34m\u001b[0m\u001b[0;34m\u001b[0m\u001b[0m\n\u001b[1;32m    501\u001b[0m \u001b[0;34m\u001b[0m\u001b[0m\n",
      "\u001b[0;31mRunError\u001b[0m: Traceback (most recent call last):\n  File \"training.py\", line 11, in <module>\n    dummy_ad=mlrun.function_to_module('/User/vivek/SingleProjectMultipleGraphImport/admodel_manual_logging/dummy_ad.py')\n  File \"/mlrun/mlrun/run.py\", line 240, in function_to_module\n    spec.loader.exec_module(mod)\n  File \"<frozen importlib._bootstrap_external>\", line 724, in exec_module\n  File \"<frozen importlib._bootstrap_external>\", line 859, in get_code\n  File \"<frozen importlib._bootstrap_external>\", line 916, in get_data\nFileNotFoundError: [Errno 2] No such file or directory: '/User/vivek/SingleProjectMultipleGraphImport/admodel_manual_logging/dummy_ad.py'\n"
     ]
    }
   ],
   "source": [
    "run = project.run_function(\"train_ad_model\",handler=\"\")"
   ]
  },
  {
   "cell_type": "code",
   "execution_count": null,
   "metadata": {},
   "outputs": [],
   "source": []
  }
 ],
 "metadata": {
  "kernelspec": {
   "display_name": "Python 3",
   "language": "python",
   "name": "python3"
  },
  "language_info": {
   "codemirror_mode": {
    "name": "ipython",
    "version": 3
   },
   "file_extension": ".py",
   "mimetype": "text/x-python",
   "name": "python",
   "nbconvert_exporter": "python",
   "pygments_lexer": "ipython3",
   "version": "3.7.6"
  }
 },
 "nbformat": 4,
 "nbformat_minor": 4
}
